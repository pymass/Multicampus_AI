{
 "cells": [
  {
   "cell_type": "code",
   "execution_count": 2,
   "metadata": {},
   "outputs": [],
   "source": [
    "from pandas import Series, DataFrame\n",
    "import pandas as pd\n",
    "import numpy as np"
   ]
  },
  {
   "cell_type": "code",
   "execution_count": 5,
   "metadata": {},
   "outputs": [
    {
     "name": "stdout",
     "output_type": "stream",
     "text": [
      "0    1\n",
      "1    2\n",
      "2    3\n",
      "3    4\n",
      "4    5\n",
      "dtype: int64\n"
     ]
    }
   ],
   "source": [
    "list_data = [1,2,3,4,5]\n",
    "example_obj = Series(data = list_data)\n",
    "print(example_obj)"
   ]
  },
  {
   "cell_type": "code",
   "execution_count": 9,
   "metadata": {},
   "outputs": [
    {
     "name": "stdout",
     "output_type": "stream",
     "text": [
      "a    1\n",
      "b    2\n",
      "c    3\n",
      "d    4\n",
      "e    5\n",
      "dtype: int64\n",
      "\n",
      "Index(['a', 'b', 'c', 'd', 'e'], dtype='object')\n",
      "[1 2 3 4 5]\n",
      "\n",
      "<class 'numpy.ndarray'>\n"
     ]
    }
   ],
   "source": [
    "list_data = [1,2,3,4,5]\n",
    "list_name = [\"a\",\"b\",\"c\",\"d\",\"e\"]\n",
    "example_obj = Series(data = list_data, index = list_name)\n",
    "print(example_obj)\n",
    "\n",
    "print()\n",
    "\n",
    "print(example_obj.index)\n",
    "print(example_obj.values)\n",
    "\n",
    "print()\n",
    "print(type(example_obj.values))"
   ]
  },
  {
   "cell_type": "code",
   "execution_count": 20,
   "metadata": {},
   "outputs": [
    {
     "name": "stdout",
     "output_type": "stream",
     "text": [
      "a    1.0\n",
      "b    2.0\n",
      "c    3.0\n",
      "d    4.0\n",
      "e    5.0\n",
      "Name: example_data, dtype: float32\n",
      "\n",
      "1.0\n",
      "\n",
      "a    3.2\n",
      "b    2.0\n",
      "c    3.0\n",
      "d    4.0\n",
      "e    5.0\n",
      "Name: example_data, dtype: float32\n",
      "\n",
      "a    3.2\n",
      "c    3.0\n",
      "d    4.0\n",
      "e    5.0\n",
      "Name: example_data, dtype: float32\n",
      "\n",
      "a     6.4\n",
      "b     4.0\n",
      "c     6.0\n",
      "d     8.0\n",
      "e    10.0\n",
      "Name: example_data, dtype: float32\n",
      "\n",
      "a     24.532532\n",
      "b      7.389056\n",
      "c     20.085537\n",
      "d     54.598148\n",
      "e    148.413162\n",
      "Name: example_data, dtype: float32\n",
      "\n",
      "True\n",
      "False\n"
     ]
    }
   ],
   "source": [
    "dict_data = {\"a\":1, \"b\":2, \"c\":3, \"d\":4, \"e\":5}\n",
    "example_obj = Series(dict_data, dtype = np.float32, name = \"example_data\")\n",
    "print(example_obj)\n",
    "\n",
    "print()\n",
    "print(example_obj[\"a\"])\n",
    "\n",
    "print()\n",
    "example_obj[\"a\"] = 3.2\n",
    "print(example_obj)\n",
    "\n",
    "# value중 2보다 큰 값만 출력\n",
    "print()\n",
    "print(example_obj[example_obj > 2])\n",
    "\n",
    "print()\n",
    "print(example_obj * 2)\n",
    "\n",
    "# 지수함수, \n",
    "# np.asb 절대값\n",
    "# np.log 로그값\n",
    "print()\n",
    "print(np.exp(example_obj))\n",
    "\n",
    "print()\n",
    "print(\"b\" in example_obj)\n",
    "print(\"s\" in example_obj)"
   ]
  },
  {
   "cell_type": "code",
   "execution_count": 25,
   "metadata": {},
   "outputs": [
    {
     "name": "stdout",
     "output_type": "stream",
     "text": [
      "{'a': 3.200000047683716, 'b': 2.0, 'c': 3.0, 'd': 4.0, 'e': 5.0}\n",
      "\n",
      "[3.2 2.  3.  4.  5. ]\n",
      "Index(['a', 'b', 'c', 'd', 'e'], dtype='object')\n",
      "\n",
      "alphabet\n",
      "a    3.2\n",
      "b    2.0\n",
      "c    3.0\n",
      "d    4.0\n",
      "e    5.0\n",
      "Name: number, dtype: float32\n"
     ]
    }
   ],
   "source": [
    "print(example_obj.to_dict())\n",
    "\n",
    "print()\n",
    "print(example_obj.values)\n",
    "print(example_obj.index)\n",
    "\n",
    "print()\n",
    "example_obj.name = \"number\"\n",
    "example_obj.index.name = \"alphabet\"\n",
    "print(example_obj)"
   ]
  },
  {
   "cell_type": "code",
   "execution_count": 26,
   "metadata": {},
   "outputs": [
    {
     "name": "stdout",
     "output_type": "stream",
     "text": [
      "a    1.0\n",
      "b    2.0\n",
      "c    3.0\n",
      "d    4.0\n",
      "e    5.0\n",
      "f    NaN\n",
      "g    NaN\n",
      "h    NaN\n",
      "dtype: float64\n"
     ]
    }
   ],
   "source": [
    "dict_data_1 = {\"a\":1, \"b\":2, \"c\":3, \"d\":4, \"e\":5} \n",
    "indexes = [\"a\",\"b\",\"c\",\"d\",\"e\",\"f\",\"g\",\"h\"]\n",
    "series_obj_1 = Series(dict_data_1, index=indexes) \n",
    "print(series_obj_1)"
   ]
  },
  {
   "cell_type": "code",
   "execution_count": null,
   "metadata": {},
   "outputs": [],
   "source": []
  }
 ],
 "metadata": {
  "kernelspec": {
   "display_name": "Python 3",
   "language": "python",
   "name": "python3"
  },
  "language_info": {
   "codemirror_mode": {
    "name": "ipython",
    "version": 3
   },
   "file_extension": ".py",
   "mimetype": "text/x-python",
   "name": "python",
   "nbconvert_exporter": "python",
   "pygments_lexer": "ipython3",
   "version": "3.7.3"
  }
 },
 "nbformat": 4,
 "nbformat_minor": 2
}
