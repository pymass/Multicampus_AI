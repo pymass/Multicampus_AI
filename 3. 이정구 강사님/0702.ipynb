{
 "cells": [
  {
   "cell_type": "code",
   "execution_count": 2,
   "metadata": {
    "ExecuteTime": {
     "end_time": "2019-07-02T00:19:50.180481Z",
     "start_time": "2019-07-02T00:19:50.174478Z"
    }
   },
   "outputs": [
    {
     "data": {
      "text/plain": [
       "3.141592653589793"
      ]
     },
     "execution_count": 2,
     "metadata": {},
     "output_type": "execute_result"
    }
   ],
   "source": [
    "#module\n",
    "def add(a, b):\n",
    "    return (a+b)\n",
    "\n",
    "add(1,2)\n",
    "import math\n",
    "math.pi\n",
    "import math as m\n",
    "m.pi"
   ]
  },
  {
   "cell_type": "code",
   "execution_count": 6,
   "metadata": {
    "ExecuteTime": {
     "end_time": "2019-07-02T00:27:04.666989Z",
     "start_time": "2019-07-02T00:27:04.662973Z"
    }
   },
   "outputs": [],
   "source": [
    "import sys\n",
    "sys.path # 해당 경로에 모듈이 설치되어 있어야 import 할 수 있다\n",
    "sys.path.append(\"C:\\\\mymodule\") # 해당 경로에 있는 .py파일 import 가능해진다"
   ]
  },
  {
   "cell_type": "code",
   "execution_count": 9,
   "metadata": {
    "ExecuteTime": {
     "end_time": "2019-07-02T00:27:49.170780Z",
     "start_time": "2019-07-02T00:27:49.165769Z"
    }
   },
   "outputs": [
    {
     "data": {
      "text/plain": [
       "7"
      ]
     },
     "execution_count": 9,
     "metadata": {},
     "output_type": "execute_result"
    }
   ],
   "source": [
    "sys.path\n",
    "import calc\n",
    "calc.add(2,5)"
   ]
  },
  {
   "cell_type": "code",
   "execution_count": 10,
   "metadata": {
    "ExecuteTime": {
     "end_time": "2019-07-02T00:31:30.795462Z",
     "start_time": "2019-07-02T00:31:30.792462Z"
    }
   },
   "outputs": [],
   "source": [
    "sys.path.append(\"C:\\mypackage\")"
   ]
  },
  {
   "cell_type": "code",
   "execution_count": 11,
   "metadata": {
    "ExecuteTime": {
     "end_time": "2019-07-02T00:31:36.642702Z",
     "start_time": "2019-07-02T00:31:36.637689Z"
    }
   },
   "outputs": [
    {
     "data": {
      "text/plain": [
       "['C:\\\\Users\\\\user\\\\Desktop\\\\new',\n",
       " 'C:\\\\Users\\\\user\\\\Anaconda3\\\\python37.zip',\n",
       " 'C:\\\\Users\\\\user\\\\Anaconda3\\\\DLLs',\n",
       " 'C:\\\\Users\\\\user\\\\Anaconda3\\\\lib',\n",
       " 'C:\\\\Users\\\\user\\\\Anaconda3',\n",
       " '',\n",
       " 'C:\\\\Users\\\\user\\\\Anaconda3\\\\lib\\\\site-packages',\n",
       " 'C:\\\\Users\\\\user\\\\Anaconda3\\\\lib\\\\site-packages\\\\win32',\n",
       " 'C:\\\\Users\\\\user\\\\Anaconda3\\\\lib\\\\site-packages\\\\win32\\\\lib',\n",
       " 'C:\\\\Users\\\\user\\\\Anaconda3\\\\lib\\\\site-packages\\\\Pythonwin',\n",
       " 'C:\\\\Users\\\\user\\\\Anaconda3\\\\lib\\\\site-packages\\\\IPython\\\\extensions',\n",
       " 'C:\\\\Users\\\\user\\\\.ipython',\n",
       " 'C:\\\\mymodule',\n",
       " 'C:\\\\mypackage']"
      ]
     },
     "execution_count": 11,
     "metadata": {},
     "output_type": "execute_result"
    }
   ],
   "source": [
    "sys.path"
   ]
  },
  {
   "cell_type": "code",
   "execution_count": 20,
   "metadata": {
    "ExecuteTime": {
     "end_time": "2019-07-02T00:35:04.904813Z",
     "start_time": "2019-07-02T00:35:04.893825Z"
    }
   },
   "outputs": [
    {
     "data": {
      "text/plain": [
       "3"
      ]
     },
     "execution_count": 20,
     "metadata": {},
     "output_type": "execute_result"
    }
   ],
   "source": [
    "import mycalc.calc.my\n",
    "add(2,1)"
   ]
  },
  {
   "cell_type": "code",
   "execution_count": 29,
   "metadata": {
    "ExecuteTime": {
     "end_time": "2019-07-02T00:47:20.648429Z",
     "start_time": "2019-07-02T00:47:20.638426Z"
    }
   },
   "outputs": [
    {
     "data": {
      "text/plain": [
       "array([(10,), (20,), (30,)], dtype=[('age', 'i1')])"
      ]
     },
     "execution_count": 29,
     "metadata": {},
     "output_type": "execute_result"
    }
   ],
   "source": [
    "import numpy as np\n",
    "a = np.array([1,2,3,4,5])\n",
    "a\n",
    "a1 = np.array([[1,2],[3,4]])\n",
    "a1\n",
    "a2 = np.array([1,2,3,4], ndmin=2)\n",
    "a2\n",
    "a3 = np.array([1,2,3], dtype=complex)\n",
    "a4 = np.dtype(np.int32)\n",
    "a4\n",
    "a5 = np.dtype([('age', np.int8)])\n",
    "a6 = np.array([(10,),(20,),(30,)], dtype = a5)\n",
    "a6"
   ]
  },
  {
   "cell_type": "code",
   "execution_count": 38,
   "metadata": {
    "ExecuteTime": {
     "end_time": "2019-07-02T00:52:42.023818Z",
     "start_time": "2019-07-02T00:52:42.014800Z"
    }
   },
   "outputs": [
    {
     "data": {
      "text/plain": [
       "array([[1, 2],\n",
       "       [3, 4],\n",
       "       [5, 6]])"
      ]
     },
     "execution_count": 38,
     "metadata": {},
     "output_type": "execute_result"
    }
   ],
   "source": [
    "a7 = np.array([[1,2,3], [4,5,6]])\n",
    "a7.shape\n",
    "a8 = np.array([[1,2,3],[4,5,6]])\n",
    "a8.shape = (3,2)\n",
    "a8\n",
    "a9 = np.array([[1,2,3], [4,5,6]])\n",
    "a10 = a9.reshape(3,2)\n",
    "a10\n",
    "a11 = np.arange(10)\n",
    "a11.ndim\n",
    "a12 = np.arange(24)\n",
    "a12.reshape(2,4,3)\n",
    "a12\n",
    "a13 = a12.reshape(2,4,3)\n",
    "a13\n",
    "a13.itemsize\n",
    "a14 = np.empty([3,2], dtype=int)\n",
    "a14"
   ]
  },
  {
   "cell_type": "code",
   "execution_count": 40,
   "metadata": {
    "ExecuteTime": {
     "end_time": "2019-07-02T00:54:43.898705Z",
     "start_time": "2019-07-02T00:54:43.893696Z"
    }
   },
   "outputs": [
    {
     "data": {
      "text/plain": [
       "array([1., 1., 1., 1., 1.])"
      ]
     },
     "execution_count": 40,
     "metadata": {},
     "output_type": "execute_result"
    }
   ],
   "source": [
    "a15 = np.zeros(5)\n",
    "a15\n",
    "a16 = np.ones(5)\n",
    "a16"
   ]
  },
  {
   "cell_type": "code",
   "execution_count": 41,
   "metadata": {
    "ExecuteTime": {
     "end_time": "2019-07-02T01:16:23.419596Z",
     "start_time": "2019-07-02T01:16:23.414634Z"
    }
   },
   "outputs": [
    {
     "data": {
      "text/plain": [
       "array([1, 2, 3])"
      ]
     },
     "execution_count": 41,
     "metadata": {},
     "output_type": "execute_result"
    }
   ],
   "source": [
    "import numpy as np\n",
    "x = [1,2,3]\n",
    "a = np.asarray(x)\n",
    "a\n",
    "# np.array(data, dtype, copy, order, ...)\n",
    "# np.asarray(data, dtype, order)"
   ]
  },
  {
   "cell_type": "code",
   "execution_count": 48,
   "metadata": {
    "ExecuteTime": {
     "end_time": "2019-07-02T01:23:53.654459Z",
     "start_time": "2019-07-02T01:23:53.648444Z"
    }
   },
   "outputs": [
    {
     "data": {
      "text/plain": [
       "array([2, 4, 6])"
      ]
     },
     "execution_count": 48,
     "metadata": {},
     "output_type": "execute_result"
    }
   ],
   "source": [
    "a1 = np.arange(10)\n",
    "a1\n",
    "a1[0]\n",
    "a1[2:]\n",
    "#a1\n",
    "a1[2:5]\n",
    "a1[1:]\n",
    "# (start:stop:step)\n",
    "a1[2:7]\n",
    "a1[2:7:2]"
   ]
  },
  {
   "cell_type": "code",
   "execution_count": 62,
   "metadata": {
    "ExecuteTime": {
     "end_time": "2019-07-02T01:32:18.128606Z",
     "start_time": "2019-07-02T01:32:18.118610Z"
    }
   },
   "outputs": [
    {
     "data": {
      "text/plain": [
       "array([1., 2., 3., 4., 5.])"
      ]
     },
     "execution_count": 62,
     "metadata": {},
     "output_type": "execute_result"
    }
   ],
   "source": [
    "x = np.array([[1,2], [3,4], [5,6]])\n",
    "y = x[[0,1,2],[0,1,0]]\n",
    "x.shape\n",
    "x.ndim\n",
    "y\n",
    "x1 = np.array([[0,1,2],[3,4,5],[6,7,8],[9,10,11]])\n",
    "x1.shape\n",
    "#x1.ndim\n",
    "rows = np.array([[0,0],[3,3]])\n",
    "cols = np.array([[0,2], [0,2]])\n",
    "x1[rows, cols]\n",
    "x1[1:4,[1,2]]\n",
    "x1[x1>3]\n",
    "\n",
    "x2 = np.array([np.nan, 1,2,np.nan,3,4,5])\n",
    "x2[~np.isnan(x2)]"
   ]
  },
  {
   "cell_type": "code",
   "execution_count": 67,
   "metadata": {
    "ExecuteTime": {
     "end_time": "2019-07-02T01:38:46.049753Z",
     "start_time": "2019-07-02T01:38:46.032760Z"
    }
   },
   "outputs": [
    {
     "name": "stdout",
     "output_type": "stream",
     "text": [
      "[[3 7 5]\n",
      " [8 4 3]\n",
      " [2 4 9]]\n",
      "[3 3 2]\n",
      "[2 4 3]\n",
      "[2 4 3]\n"
     ]
    },
    {
     "data": {
      "text/plain": [
       "5.0"
      ]
     },
     "execution_count": 67,
     "metadata": {},
     "output_type": "execute_result"
    }
   ],
   "source": [
    "a3 = np.array([[3,7,5], [8,4,3], [2,4,9]])\n",
    "print(a3)\n",
    "print(np.amin(a3,1))\n",
    "print(np.amin(a3,0))\n",
    "print(np.amin(a3, axis=0))\n",
    "np.amin(a3)\n",
    "np.median(a3,0)\n",
    "np.mean(a3,0)\n",
    "np.mean(a3)"
   ]
  },
  {
   "cell_type": "code",
   "execution_count": 76,
   "metadata": {
    "ExecuteTime": {
     "end_time": "2019-07-02T01:49:55.747680Z",
     "start_time": "2019-07-02T01:49:55.504658Z"
    }
   },
   "outputs": [
    {
     "data": {
      "image/png": "[encoded data removed]",
      "text/plain": [
       "<Figure size 432x288 with 1 Axes>"
      ]
     },
     "metadata": {
      "needs_background": "light"
     },
     "output_type": "display_data"
    },
    {
     "data": {
      "image/png": "[encoded data removed]",
      "text/plain": [
       "<Figure size 432x288 with 1 Axes>"
      ]
     },
     "metadata": {
      "needs_background": "light"
     },
     "output_type": "display_data"
    }
   ],
   "source": [
    "import numpy as np\n",
    "from matplotlib import pyplot as plt\n",
    "\n",
    "x = np.arange(1,11)\n",
    "y = 2 * x + 5\n",
    "plt.subplot(2,1,1)\n",
    "plt.plot(x,y)\n",
    "plt.show()\n",
    "plt.subplot(2,1,2)\n",
    "plt.plot(x,y)\n",
    "plt.show()"
   ]
  },
  {
   "cell_type": "code",
   "execution_count": 81,
   "metadata": {
    "ExecuteTime": {
     "end_time": "2019-07-02T01:53:01.827130Z",
     "start_time": "2019-07-02T01:53:01.712143Z"
    }
   },
   "outputs": [
    {
     "data": {
      "image/png": "[encoded data removed]",
      "text/plain": [
       "<Figure size 432x288 with 1 Axes>"
      ]
     },
     "metadata": {
      "needs_background": "light"
     },
     "output_type": "display_data"
    }
   ],
   "source": [
    "import numpy as np\n",
    "from matplotlib import pyplot as plt\n",
    "\n",
    "x = [5,6,10]\n",
    "y = [12,16,6]\n",
    "\n",
    "x1 = [2,1,12]\n",
    "y1 = [10,3,4]\n",
    "plt.bar(x,y, align='center')\n",
    "\n",
    "plt.bar(x1,y1, align='center')\n",
    "plt.show()"
   ]
  },
  {
   "cell_type": "code",
   "execution_count": null,
   "metadata": {},
   "outputs": [],
   "source": [
    "# 2보수 -(x+1)"
   ]
  }
 ],
 "metadata": {
  "kernelspec": {
   "display_name": "Python 3",
   "language": "python",
   "name": "python3"
  },
  "language_info": {
   "codemirror_mode": {
    "name": "ipython",
    "version": 3
   },
   "file_extension": ".py",
   "mimetype": "text/x-python",
   "name": "python",
   "nbconvert_exporter": "python",
   "pygments_lexer": "ipython3",
   "version": "3.7.3"
  },
  "varInspector": {
   "cols": {
    "lenName": 16,
    "lenType": 16,
    "lenVar": 40
   },
   "kernels_config": {
    "python": {
     "delete_cmd_postfix": "",
     "delete_cmd_prefix": "del ",
     "library": "var_list.py",
     "varRefreshCmd": "print(var_dic_list())"
    },
    "r": {
     "delete_cmd_postfix": ") ",
     "delete_cmd_prefix": "rm(",
     "library": "var_list.r",
     "varRefreshCmd": "cat(var_dic_list()) "
    }
   },
   "types_to_exclude": [
    "module",
    "function",
    "builtin_function_or_method",
    "instance",
    "_Feature"
   ],
   "window_display": false
  }
 },
 "nbformat": 4,
 "nbformat_minor": 2
}
