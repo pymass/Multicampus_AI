{
 "cells": [
  {
   "cell_type": "code",
   "execution_count": 15,
   "metadata": {},
   "outputs": [
    {
     "name": "stdout",
     "output_type": "stream",
     "text": [
      "One\n",
      "Two\n",
      "['One', 'Two']\n",
      "Two\n"
     ]
    }
   ],
   "source": [
    "class Stack:\n",
    "    def __init__(self):\n",
    "        self.stack = []\n",
    "    def add(self, dataval):\n",
    "        if dataval not in self.stack:\n",
    "            self.stack.append(dataval)\n",
    "            return True\n",
    "        else:\n",
    "            return False\n",
    "    def peek(self):\n",
    "        return self.stack[-1]\n",
    "    def stackList(self):\n",
    "        print(self.stack)\n",
    "    def remove(self):\n",
    "        if len(self.stack) <= 0:\n",
    "            return (\"Nothing\")\n",
    "        else:\n",
    "            return self.stack.pop()        \n",
    "        \n",
    "a = Stack()\n",
    "a.add(\"One\")\n",
    "a.add(\"One\")\n",
    "print(a.peek())\n",
    "a.add(\"Two\")\n",
    "print(a.peek())\n",
    "a.stackList()\n",
    "print(a.remove())"
   ]
  }
 ],
 "metadata": {
  "kernelspec": {
   "display_name": "Python 3",
   "language": "python",
   "name": "python3"
  },
  "language_info": {
   "codemirror_mode": {
    "name": "ipython",
    "version": 3
   },
   "file_extension": ".py",
   "mimetype": "text/x-python",
   "name": "python",
   "nbconvert_exporter": "python",
   "pygments_lexer": "ipython3",
   "version": "3.7.3"
  }
 },
 "nbformat": 4,
 "nbformat_minor": 2
}
