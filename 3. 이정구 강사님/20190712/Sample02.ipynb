{
 "cells": [
  {
   "cell_type": "code",
   "execution_count": 9,
   "metadata": {},
   "outputs": [
    {
     "name": "stdout",
     "output_type": "stream",
     "text": [
      "2\n",
      "One\n",
      "1\n"
     ]
    }
   ],
   "source": [
    "class Queue:\n",
    "    def __init__(self):\n",
    "        self.queue = list()\n",
    "        \n",
    "    def addtoq(self,dataval):\n",
    "        if dataval not in self.queue:\n",
    "            self.queue.insert(0,dataval)\n",
    "            return True\n",
    "    def size(self):\n",
    "        return len(self.queue)\n",
    "    \n",
    "    def remove(self):\n",
    "        if len(self.queue)>0:\n",
    "            return self.queue.pop()\n",
    "        else:\n",
    "            return (\"Nothing\")\n",
    "\n",
    "q = Queue()\n",
    "q.addtoq(\"One\")\n",
    "q.addtoq(\"Two\")\n",
    "print(q.size())\n",
    "print(q.remove())\n",
    "print(q.size())"
   ]
  }
 ],
 "metadata": {
  "kernelspec": {
   "display_name": "Python 3",
   "language": "python",
   "name": "python3"
  },
  "language_info": {
   "codemirror_mode": {
    "name": "ipython",
    "version": 3
   },
   "file_extension": ".py",
   "mimetype": "text/x-python",
   "name": "python",
   "nbconvert_exporter": "python",
   "pygments_lexer": "ipython3",
   "version": "3.7.3"
  }
 },
 "nbformat": 4,
 "nbformat_minor": 2
}
