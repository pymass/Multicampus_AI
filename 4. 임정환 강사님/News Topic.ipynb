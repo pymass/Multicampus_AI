{
 "cells": [
  {
   "cell_type": "code",
   "execution_count": 1,
   "metadata": {},
   "outputs": [],
   "source": [
    "# %load np_load_allow_pickle_True.py\n",
    "import numpy as np \n",
    "np_load_old = np.load\n",
    "np.load = lambda *a, **k: np_load_old(*a, allow_pickle=True, **k)\n",
    "\n",
    "# np.load 사용 후 반드시 아래 코드를 실행할 것!!!\n",
    "# np.load = np_load_old"
   ]
  },
  {
   "cell_type": "code",
   "execution_count": 2,
   "metadata": {},
   "outputs": [
    {
     "name": "stderr",
     "output_type": "stream",
     "text": [
      "Using TensorFlow backend.\n"
     ]
    }
   ],
   "source": [
    "from keras.datasets import reuters\n",
    "(train_data, train_labels), (test_data, test_labels) = \\\n",
    "    reuters.load_data(num_words=10000)"
   ]
  },
  {
   "cell_type": "code",
   "execution_count": 3,
   "metadata": {},
   "outputs": [],
   "source": [
    "np.load = np_load_old"
   ]
  },
  {
   "cell_type": "code",
   "execution_count": 4,
   "metadata": {},
   "outputs": [],
   "source": [
    "def vectorize_sequences(sequences, dimension=10000):\n",
    "    results = np.zeros((len(sequences), dimension))\n",
    "    for i, sequence in enumerate(sequences):\n",
    "        results[i, sequence] = 1.\n",
    "    return results\n",
    "\n",
    "x_train = vectorize_sequences(train_data)\n",
    "x_test = vectorize_sequences(test_data)"
   ]
  },
  {
   "cell_type": "code",
   "execution_count": 5,
   "metadata": {},
   "outputs": [],
   "source": [
    "from keras.utils.np_utils import to_categorical\n",
    "one_hot_train_labels = to_categorical(train_labels)\n",
    "one_hot_test_labels = to_categorical(test_labels)"
   ]
  },
  {
   "cell_type": "code",
   "execution_count": 6,
   "metadata": {},
   "outputs": [
    {
     "name": "stderr",
     "output_type": "stream",
     "text": [
      "WARNING: Logging before flag parsing goes to stderr.\n",
      "W0718 14:53:03.046045  7396 deprecation_wrapper.py:119] From C:\\Users\\user\\Anaconda3\\envs\\deeplearning\\lib\\site-packages\\keras\\backend\\tensorflow_backend.py:74: The name tf.get_default_graph is deprecated. Please use tf.compat.v1.get_default_graph instead.\n",
      "\n",
      "W0718 14:53:03.059045  7396 deprecation_wrapper.py:119] From C:\\Users\\user\\Anaconda3\\envs\\deeplearning\\lib\\site-packages\\keras\\backend\\tensorflow_backend.py:517: The name tf.placeholder is deprecated. Please use tf.compat.v1.placeholder instead.\n",
      "\n",
      "W0718 14:53:03.062044  7396 deprecation_wrapper.py:119] From C:\\Users\\user\\Anaconda3\\envs\\deeplearning\\lib\\site-packages\\keras\\backend\\tensorflow_backend.py:4138: The name tf.random_uniform is deprecated. Please use tf.random.uniform instead.\n",
      "\n"
     ]
    }
   ],
   "source": [
    "from keras import models\n",
    "from keras import layers\n",
    "model = models.Sequential()\n",
    "model.add(layers.Dense(64, activation='relu', input_shape=(10000,)))\n",
    "model.add(layers.Dense(64, activation='relu'))\n",
    "model.add(layers.Dense(46, activation='softmax'))"
   ]
  },
  {
   "cell_type": "code",
   "execution_count": 7,
   "metadata": {},
   "outputs": [
    {
     "name": "stderr",
     "output_type": "stream",
     "text": [
      "W0718 14:53:03.102046  7396 deprecation_wrapper.py:119] From C:\\Users\\user\\Anaconda3\\envs\\deeplearning\\lib\\site-packages\\keras\\optimizers.py:790: The name tf.train.Optimizer is deprecated. Please use tf.compat.v1.train.Optimizer instead.\n",
      "\n",
      "W0718 14:53:03.119050  7396 deprecation_wrapper.py:119] From C:\\Users\\user\\Anaconda3\\envs\\deeplearning\\lib\\site-packages\\keras\\backend\\tensorflow_backend.py:3295: The name tf.log is deprecated. Please use tf.math.log instead.\n",
      "\n"
     ]
    }
   ],
   "source": [
    "model.compile(optimizer='adam',\n",
    "              loss='categorical_crossentropy',\n",
    "              metrics=['accuracy'])"
   ]
  },
  {
   "cell_type": "code",
   "execution_count": 8,
   "metadata": {},
   "outputs": [],
   "source": [
    "x_val = x_train[:1000]\n",
    "partial_x_train = x_train[1000:]\n",
    "y_val = one_hot_train_labels[:1000]\n",
    "partial_y_train = one_hot_train_labels[1000:]"
   ]
  },
  {
   "cell_type": "code",
   "execution_count": 9,
   "metadata": {},
   "outputs": [
    {
     "name": "stderr",
     "output_type": "stream",
     "text": [
      "W0718 14:53:03.243111  7396 deprecation.py:323] From C:\\Users\\user\\Anaconda3\\envs\\deeplearning\\lib\\site-packages\\tensorflow\\python\\ops\\math_grad.py:1250: add_dispatch_support.<locals>.wrapper (from tensorflow.python.ops.array_ops) is deprecated and will be removed in a future version.\n",
      "Instructions for updating:\n",
      "Use tf.where in 2.0, which has the same broadcast rule as np.where\n",
      "W0718 14:53:03.279112  7396 deprecation_wrapper.py:119] From C:\\Users\\user\\Anaconda3\\envs\\deeplearning\\lib\\site-packages\\keras\\backend\\tensorflow_backend.py:986: The name tf.assign_add is deprecated. Please use tf.compat.v1.assign_add instead.\n",
      "\n"
     ]
    },
    {
     "name": "stdout",
     "output_type": "stream",
     "text": [
      "Train on 7982 samples, validate on 1000 samples\n",
      "Epoch 1/20\n",
      "7982/7982 [==============================] - 1s 159us/step - loss: 3.2211 - acc: 0.4202 - val_loss: 2.4396 - val_acc: 0.5340\n",
      "Epoch 2/20\n",
      "7982/7982 [==============================] - 1s 116us/step - loss: 1.9550 - acc: 0.5755 - val_loss: 1.6339 - val_acc: 0.6240\n",
      "Epoch 3/20\n",
      "7982/7982 [==============================] - 1s 116us/step - loss: 1.3873 - acc: 0.6991 - val_loss: 1.3525 - val_acc: 0.7070\n",
      "Epoch 4/20\n",
      "7982/7982 [==============================] - 1s 116us/step - loss: 1.0973 - acc: 0.7601 - val_loss: 1.1878 - val_acc: 0.7410\n",
      "Epoch 5/20\n",
      "7982/7982 [==============================] - 1s 116us/step - loss: 0.8771 - acc: 0.8107 - val_loss: 1.0758 - val_acc: 0.7670\n",
      "Epoch 6/20\n",
      "7982/7982 [==============================] - 1s 115us/step - loss: 0.6967 - acc: 0.8500 - val_loss: 0.9898 - val_acc: 0.7870\n",
      "Epoch 7/20\n",
      "7982/7982 [==============================] - 1s 116us/step - loss: 0.5488 - acc: 0.8850 - val_loss: 0.9407 - val_acc: 0.7970\n",
      "Epoch 8/20\n",
      "7982/7982 [==============================] - 1s 116us/step - loss: 0.4306 - acc: 0.9118 - val_loss: 0.8996 - val_acc: 0.8150\n",
      "Epoch 9/20\n",
      "7982/7982 [==============================] - 1s 117us/step - loss: 0.3413 - acc: 0.9266 - val_loss: 0.8811 - val_acc: 0.8120\n",
      "Epoch 10/20\n",
      "7982/7982 [==============================] - 1s 115us/step - loss: 0.2721 - acc: 0.9397 - val_loss: 0.8857 - val_acc: 0.8200\n",
      "Epoch 11/20\n",
      "7982/7982 [==============================] - 1s 117us/step - loss: 0.2242 - acc: 0.9455 - val_loss: 0.8882 - val_acc: 0.8160\n",
      "Epoch 12/20\n",
      "7982/7982 [==============================] - 1s 115us/step - loss: 0.1873 - acc: 0.9535 - val_loss: 0.9105 - val_acc: 0.8180\n",
      "Epoch 13/20\n",
      "7982/7982 [==============================] - 1s 116us/step - loss: 0.1657 - acc: 0.9559 - val_loss: 0.9161 - val_acc: 0.8140\n",
      "Epoch 14/20\n",
      "7982/7982 [==============================] - 1s 117us/step - loss: 0.1443 - acc: 0.9577 - val_loss: 0.9524 - val_acc: 0.8140\n",
      "Epoch 15/20\n",
      "7982/7982 [==============================] - 1s 117us/step - loss: 0.1319 - acc: 0.9569 - val_loss: 0.9577 - val_acc: 0.8140\n",
      "Epoch 16/20\n",
      "7982/7982 [==============================] - 1s 115us/step - loss: 0.1205 - acc: 0.9584 - val_loss: 0.9600 - val_acc: 0.8170\n",
      "Epoch 17/20\n",
      "7982/7982 [==============================] - 1s 117us/step - loss: 0.1153 - acc: 0.9599 - val_loss: 0.9786 - val_acc: 0.8090\n",
      "Epoch 18/20\n",
      "7982/7982 [==============================] - 1s 115us/step - loss: 0.1048 - acc: 0.9607 - val_loss: 1.0109 - val_acc: 0.8090\n",
      "Epoch 19/20\n",
      "7982/7982 [==============================] - 1s 116us/step - loss: 0.1023 - acc: 0.9609 - val_loss: 0.9894 - val_acc: 0.8130\n",
      "Epoch 20/20\n",
      "7982/7982 [==============================] - 1s 116us/step - loss: 0.0973 - acc: 0.9642 - val_loss: 1.0063 - val_acc: 0.8060\n"
     ]
    }
   ],
   "source": [
    "history = model.fit(partial_x_train,\n",
    "                    partial_y_train,\n",
    "                    epochs=20,\n",
    "                    batch_size=512,\n",
    "                    validation_data=(x_val, y_val))"
   ]
  },
  {
   "cell_type": "code",
   "execution_count": 10,
   "metadata": {},
   "outputs": [
    {
     "data": {
      "image/png": "[encoded data removed]",
      "text/plain": [
       "<Figure size 432x288 with 1 Axes>"
      ]
     },
     "metadata": {
      "needs_background": "light"
     },
     "output_type": "display_data"
    }
   ],
   "source": [
    "import matplotlib.pyplot as plt\n",
    "%matplotlib inline\n",
    "\n",
    "loss = history.history['loss']\n",
    "val_loss = history.history['val_loss']\n",
    "\n",
    "epochs = range(1, len(loss) + 1)\n",
    "\n",
    "plt.plot(epochs, loss, 'bo', label='Training loss')\n",
    "plt.plot(epochs, val_loss, 'b', label='Validation loss')\n",
    "plt.title('Training and validation loss')\n",
    "plt.xlabel('Epochs')\n",
    "plt.ylabel('Loss')\n",
    "plt.legend();"
   ]
  },
  {
   "cell_type": "code",
   "execution_count": 11,
   "metadata": {},
   "outputs": [
    {
     "data": {
      "image/png": "[encoded data removed]",
      "text/plain": [
       "<Figure size 432x288 with 1 Axes>"
      ]
     },
     "metadata": {
      "needs_background": "light"
     },
     "output_type": "display_data"
    }
   ],
   "source": [
    "acc = history.history['acc']\n",
    "val_acc = history.history['val_acc']\n",
    "\n",
    "plt.plot(epochs, acc, 'bo', label='Training acc')\n",
    "plt.plot(epochs, val_acc, 'b', label='Validation acc')\n",
    "plt.title('Training and validation accuracy')\n",
    "plt.xlabel('Epochs')\n",
    "plt.ylabel('Accuracy')\n",
    "plt.legend();"
   ]
  },
  {
   "cell_type": "code",
   "execution_count": 12,
   "metadata": {
    "scrolled": true
   },
   "outputs": [
    {
     "name": "stdout",
     "output_type": "stream",
     "text": [
      "Train on 7982 samples, validate on 1000 samples\n",
      "Epoch 1/9\n",
      "7982/7982 [==============================] - 1s 142us/step - loss: 3.2221 - acc: 0.4034 - val_loss: 2.5123 - val_acc: 0.5570\n",
      "Epoch 2/9\n",
      "7982/7982 [==============================] - 1s 114us/step - loss: 1.9640 - acc: 0.6171 - val_loss: 1.6095 - val_acc: 0.6540\n",
      "Epoch 3/9\n",
      "7982/7982 [==============================] - 1s 114us/step - loss: 1.3344 - acc: 0.7144 - val_loss: 1.2899 - val_acc: 0.7040\n",
      "Epoch 4/9\n",
      "7982/7982 [==============================] - 1s 115us/step - loss: 1.0340 - acc: 0.7751 - val_loss: 1.1390 - val_acc: 0.7490\n",
      "Epoch 5/9\n",
      "7982/7982 [==============================] - 1s 113us/step - loss: 0.8198 - acc: 0.8173 - val_loss: 1.0352 - val_acc: 0.7770\n",
      "Epoch 6/9\n",
      "7982/7982 [==============================] - 1s 115us/step - loss: 0.6428 - acc: 0.8602 - val_loss: 0.9715 - val_acc: 0.7940\n",
      "Epoch 7/9\n",
      "7982/7982 [==============================] - 1s 115us/step - loss: 0.4977 - acc: 0.8920 - val_loss: 0.9166 - val_acc: 0.8130\n",
      "Epoch 8/9\n",
      "7982/7982 [==============================] - 1s 114us/step - loss: 0.3835 - acc: 0.9199 - val_loss: 0.8892 - val_acc: 0.8220\n",
      "Epoch 9/9\n",
      "7982/7982 [==============================] - 1s 115us/step - loss: 0.2984 - acc: 0.9356 - val_loss: 0.8859 - val_acc: 0.8190\n",
      "2246/2246 [==============================] - 0s 118us/step\n"
     ]
    }
   ],
   "source": [
    "model = models.Sequential()\n",
    "model.add(layers.Dense(64, activation='relu', input_shape=(10000,)))\n",
    "model.add(layers.Dense(64, activation='relu'))\n",
    "model.add(layers.Dense(46, activation='softmax'))\n",
    "\n",
    "model.compile(optimizer='adam',\n",
    "              loss='categorical_crossentropy',\n",
    "              metrics=['accuracy'])\n",
    "model.fit(partial_x_train,\n",
    "          partial_y_train,\n",
    "          epochs=9,\n",
    "          batch_size=512,\n",
    "          validation_data=(x_val, y_val))\n",
    "results = model.evaluate(x_test, one_hot_test_labels)"
   ]
  },
  {
   "cell_type": "code",
   "execution_count": 13,
   "metadata": {},
   "outputs": [
    {
     "data": {
      "text/plain": [
       "[0.9745061189493535, 0.786731967996086]"
      ]
     },
     "execution_count": 13,
     "metadata": {},
     "output_type": "execute_result"
    }
   ],
   "source": [
    "results"
   ]
  },
  {
   "cell_type": "code",
   "execution_count": 14,
   "metadata": {},
   "outputs": [
    {
     "name": "stdout",
     "output_type": "stream",
     "text": [
      "0.7483257\n",
      "3\n"
     ]
    }
   ],
   "source": [
    "predictions = model.predict(x_test)\n",
    "print(predictions[0].max())\n",
    "print(np.argmax(predictions[0]))"
   ]
  },
  {
   "cell_type": "code",
   "execution_count": null,
   "metadata": {},
   "outputs": [],
   "source": []
  }
 ],
 "metadata": {
  "kernelspec": {
   "display_name": "Python 3",
   "language": "python",
   "name": "python3"
  },
  "language_info": {
   "codemirror_mode": {
    "name": "ipython",
    "version": 3
   },
   "file_extension": ".py",
   "mimetype": "text/x-python",
   "name": "python",
   "nbconvert_exporter": "python",
   "pygments_lexer": "ipython3",
   "version": "3.7.3"
  }
 },
 "nbformat": 4,
 "nbformat_minor": 2
}
