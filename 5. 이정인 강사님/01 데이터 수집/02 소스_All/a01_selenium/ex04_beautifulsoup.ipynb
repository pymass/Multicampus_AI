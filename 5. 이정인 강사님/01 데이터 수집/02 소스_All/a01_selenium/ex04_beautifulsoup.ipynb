{
 "cells": [
  {
   "cell_type": "code",
   "execution_count": 1,
   "metadata": {},
   "outputs": [
    {
     "name": "stdout",
     "output_type": "stream",
     "text": [
      "[<div class=\"story_area\">\n",
      "<div class=\"title_area\">\n",
      "<h4 class=\"h_story\"><strong class=\"blind\">줄거리</strong></h4>\n",
      "</div>\n",
      "<h5 class=\"h_tx_story\">야귀떼가 온 세상을 집어삼켰다!</h5>\n",
      "<p class=\"con_tx\">밤에만 활동하는 산 자도 죽은 자도 아닌 ‘야귀(夜鬼)‘가 창궐한 세상,<br/> 위기의 조선으로 돌아온 왕자 ‘이청’(현빈)은<br/> 도처에 창궐한 야귀떼에 맞서 싸우는 최고의 무관 ‘박종사관’(조우진)<br/> 일행을 만나게 되고,<br/> 야귀떼를 소탕하는 그들과 의도치 않게 함께하게 된다.<br/> 한편, 조선을 집어삼키려는 절대악 ‘김자준’(장동건)은 이 세상을 뒤엎기 위한<br/> 마지막 계획을 감행하는데…<br/> <br/> 조선필생 VS 조선필망<br/> 세상을 구하려는 자와 멸망시키려는 자!<br/> 오늘 밤, 세상에 없던 혈투가 시작된다!</p>\n",
      "<button class=\"story_more\" id=\"toggleMakingnoteButton\" onclick=\"storyAndNote.toggleMakingnote();\" type=\"button\"><em class=\"blind\">제작노트 보기</em></button><!-- N=a:mai.story -->\n",
      "</div>]\n"
     ]
    }
   ],
   "source": [
    "from selenium import webdriver\n",
    "\n",
    "driver = webdriver.Chrome('driver/chromedriver')\n",
    "driver.get(\"https://movie.naver.com/movie/bi/mi/basic.nhn?code=160487\")\n",
    "\n",
    "from bs4 import BeautifulSoup\n",
    "\n",
    "html = driver.page_source\n",
    "soup = BeautifulSoup(html, 'html.parser')\n",
    "\n",
    "raw_list = soup.find_all('div', class_=\"story_area\")\n",
    "print( raw_list ) "
   ]
  },
  {
   "cell_type": "code",
   "execution_count": null,
   "metadata": {},
   "outputs": [],
   "source": []
  },
  {
   "cell_type": "code",
   "execution_count": null,
   "metadata": {},
   "outputs": [],
   "source": []
  }
 ],
 "metadata": {
  "kernelspec": {
   "display_name": "Python 3",
   "language": "python",
   "name": "python3"
  },
  "language_info": {
   "codemirror_mode": {
    "name": "ipython",
    "version": 3
   },
   "file_extension": ".py",
   "mimetype": "text/x-python",
   "name": "python",
   "nbconvert_exporter": "python",
   "pygments_lexer": "ipython3",
   "version": "3.7.3"
  }
 },
 "nbformat": 4,
 "nbformat_minor": 2
}
