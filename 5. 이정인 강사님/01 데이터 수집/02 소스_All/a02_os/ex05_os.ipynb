{
 "cells": [
  {
   "cell_type": "code",
   "execution_count": 3,
   "metadata": {
    "collapsed": false
   },
   "outputs": [
    {
     "name": "stdout",
     "output_type": "stream",
     "text": [
      "['Anaconda3', 'apache-tomcat-9.0.12', 'eclipse-java-photon-R-win32-x86_64', 'eclipse-jee-2018-09-win32-x86_64', 'PyCharm Community Edition 2018.2.4', 'pycharm-community-2018.2.4.exe', 'PycharmProjects', 'python_source', 'temp', 'workspace', 'workspace_jee', '기타']\n"
     ]
    }
   ],
   "source": [
    "import os\n",
    "print ( os.listdir(\"d:/leeji\")  )"
   ]
  },
  {
   "cell_type": "code",
   "execution_count": 8,
   "metadata": {},
   "outputs": [
    {
     "name": "stdout",
     "output_type": "stream",
     "text": [
      "aaa\nAnaconda3\napache-tomcat-9.0.12\neclipse-java-photon-R-win32-x86_64\neclipse-jee-2018-09-win32-x86_64\nPyCharm Community Edition 2018.2.4\npycharm-community-2018.2.4.exe\nPycharmProjects\npython_source\ntemp\ntest\nworkspace\nworkspace_jee\n기타\n"
     ]
    }
   ],
   "source": [
    "\n",
    "os.makedirs(\"d:/leeji/aaa/bbb/ccc/ddd\")\n",
    "\n",
    "for name in  os.listdir(\"d:/leeji\") :\n",
    "    print(name)"
   ]
  },
  {
   "cell_type": "code",
   "execution_count": 15,
   "metadata": {},
   "outputs": [
    {
     "name": "stdout",
     "output_type": "stream",
     "text": [
      "True\nFalse\nTrue\n4096\n"
     ]
    }
   ],
   "source": [
    "#os.removedirs(\"d:/leeji/aaa/bbb/ccc/ddd\") \n",
    "print (os.path.isdir(\"d:/leeji/test\"))  #폴더면 True \n",
    "print (os.path.isfile(\"d:/leeji/test\"))  #파일이면 True \n",
    "print(os.path.exists(\"d:/leeji/test\")) # 존재하면 True \n",
    "print(os.path.getsize(\"d:/leeji\"))"
   ]
  },
  {
   "cell_type": "code",
   "execution_count": null,
   "metadata": {},
   "outputs": [],
   "source": []
  }
 ],
 "metadata": {
  "kernelspec": {
   "display_name": "Python 2",
   "language": "python",
   "name": "python2"
  },
  "language_info": {
   "codemirror_mode": {
    "name": "ipython",
    "version": 2
   },
   "file_extension": ".py",
   "mimetype": "text/x-python",
   "name": "python",
   "nbconvert_exporter": "python",
   "pygments_lexer": "ipython2",
   "version": "2.7.6"
  }
 },
 "nbformat": 4,
 "nbformat_minor": 0
}
