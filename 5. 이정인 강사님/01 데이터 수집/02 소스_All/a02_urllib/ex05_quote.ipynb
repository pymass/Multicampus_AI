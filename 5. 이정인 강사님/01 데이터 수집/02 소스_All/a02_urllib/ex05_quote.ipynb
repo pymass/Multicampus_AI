{
 "cells": [
  {
   "cell_type": "code",
   "execution_count": 8,
   "metadata": {
    "collapsed": true
   },
   "outputs": [
    {
     "name": "stdout",
     "output_type": "stream",
     "text": [
      "%EC%84%A0%EB%AC%B8%20%EB%8C%80%ED%95%99%EA%B5%90\n"
     ]
    }
   ],
   "source": [
    "import urllib.parse \n",
    "a = urllib.parse.quote(\"선문 대학교\") \n",
    "print(a)"
   ]
  },
  {
   "cell_type": "code",
   "execution_count": 10,
   "metadata": {},
   "outputs": [
    {
     "name": "stdout",
     "output_type": "stream",
     "text": [
      "%EC%84%A0%EB%AC%B8+%EB%8C%80%ED%95%99%EA%B5%90\n"
     ]
    }
   ],
   "source": [
    "a = urllib.parse.quote_plus(\"선문 대학교\") \n",
    "print(a) "
   ]
  },
  {
   "cell_type": "code",
   "execution_count": null,
   "metadata": {},
   "outputs": [],
   "source": []
  }
 ],
 "metadata": {
  "kernelspec": {
   "display_name": "Python 2",
   "language": "python",
   "name": "python2"
  },
  "language_info": {
   "codemirror_mode": {
    "name": "ipython",
    "version": 2
   },
   "file_extension": ".py",
   "mimetype": "text/x-python",
   "name": "python",
   "nbconvert_exporter": "python",
   "pygments_lexer": "ipython2",
   "version": "2.7.6"
  }
 },
 "nbformat": 4,
 "nbformat_minor": 0
}
