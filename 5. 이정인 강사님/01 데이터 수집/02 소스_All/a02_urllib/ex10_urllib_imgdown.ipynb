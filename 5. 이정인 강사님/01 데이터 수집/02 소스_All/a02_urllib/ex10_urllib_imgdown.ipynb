{
 "cells": [
  {
   "cell_type": "code",
   "execution_count": 1,
   "metadata": {},
   "outputs": [],
   "source": [
    "import pathlib\n",
    "import urllib.request"
   ]
  },
  {
   "cell_type": "code",
   "execution_count": 4,
   "metadata": {},
   "outputs": [
    {
     "data": {
      "text/plain": [
       "('downimg.jpg', <http.client.HTTPMessage at 0x1d93a3c4390>)"
      ]
     },
     "execution_count": 4,
     "metadata": {},
     "output_type": "execute_result"
    }
   ],
   "source": [
    "# pathlib.Path(path).mkdir(parents=True, exist_ok=True)\n",
    "\n",
    "image_full_link=\"https://t1.daumcdn.net/daumtop_chanel/op/20170315064553027.png\"\n",
    "urllib.request.urlretrieve(image_full_link,\"downimg.jpg\")"
   ]
  }
 ],
 "metadata": {
  "kernelspec": {
   "display_name": "Python 3",
   "language": "python",
   "name": "python3"
  },
  "language_info": {
   "codemirror_mode": {
    "name": "ipython",
    "version": 3
   },
   "file_extension": ".py",
   "mimetype": "text/x-python",
   "name": "python",
   "nbconvert_exporter": "python",
   "pygments_lexer": "ipython3",
   "version": "3.7.3"
  }
 },
 "nbformat": 4,
 "nbformat_minor": 2
}
