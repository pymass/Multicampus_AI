{
 "cells": [
  {
   "cell_type": "code",
   "execution_count": null,
   "metadata": {},
   "outputs": [],
   "source": [
    "html =  \"\"\" \n",
    "   <html> \n",
    "     <head> \n",
    "        <title> web test  </title> \n",
    "     </head>\n",
    "     <body>  \n",
    "        <p align=\"center\" > text content1 </p> \n",
    "        <p align=\"left\" > text content2 </p> \n",
    "        <p align=\"right\" > text content3 </p> \n",
    "        <img src=\"koala.jpg\"/> \n",
    "     </body> \n",
    "   </html> \n",
    "    \"\"\"\n",
    "from bs4 import BeautifulSoup\n",
    "bs = BeautifulSoup(html)"
   ]
  },
  {
   "cell_type": "code",
   "execution_count": null,
   "metadata": {},
   "outputs": [],
   "source": [
    "print (bs.find(\"p\", align=\"center\") )\n",
    "print (bs.find(\"p\", align=\"right\") )\n",
    "print (bs.find(\"p\", align=\"left\") )"
   ]
  },
  {
   "cell_type": "code",
   "execution_count": null,
   "metadata": {},
   "outputs": [],
   "source": [
    "print (  bs.find_all(\"p\")  )"
   ]
  },
  {
   "cell_type": "code",
   "execution_count": null,
   "metadata": {},
   "outputs": [],
   "source": [
    "headtag = bs.find(\"head\")\n",
    "print(headtag)\n",
    "print ( headtag.find(\"title\") ) # <title> web test  </title>\n",
    "print ( headtag.find(\"p\") )     #None"
   ]
  },
  {
   "cell_type": "code",
   "execution_count": null,
   "metadata": {},
   "outputs": [],
   "source": [
    "bodytag = bs.find(\"body\")\n",
    "list1 = bodytag.find_all([\"p\",\"img\"])\n",
    "for  tag in list1 :\n",
    "    print(tag)"
   ]
  },
  {
   "cell_type": "code",
   "execution_count": null,
   "metadata": {},
   "outputs": [],
   "source": [
    "bs.find_all(\"p\")"
   ]
  },
  {
   "cell_type": "code",
   "execution_count": null,
   "metadata": {},
   "outputs": [],
   "source": [
    "import re\n",
    "print ( bs.find_all( re.compile(\"^p\") ))"
   ]
  },
  {
   "cell_type": "code",
   "execution_count": null,
   "metadata": {},
   "outputs": [],
   "source": []
  }
 ],
 "metadata": {
  "kernelspec": {
   "display_name": "Python 3",
   "language": "python",
   "name": "python3"
  },
  "language_info": {
   "codemirror_mode": {
    "name": "ipython",
    "version": 3
   },
   "file_extension": ".py",
   "mimetype": "text/x-python",
   "name": "python",
   "nbconvert_exporter": "python",
   "pygments_lexer": "ipython3",
   "version": "3.6.7"
  }
 },
 "nbformat": 4,
 "nbformat_minor": 2
}
