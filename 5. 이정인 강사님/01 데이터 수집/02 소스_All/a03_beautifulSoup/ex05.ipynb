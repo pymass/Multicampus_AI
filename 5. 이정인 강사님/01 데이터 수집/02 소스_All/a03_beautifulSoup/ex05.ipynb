{
 "cells": [
  {
   "cell_type": "code",
   "execution_count": null,
   "metadata": {},
   "outputs": [],
   "source": [
    "html =  \"\"\" \n",
    "   <html> \n",
    "     <head> \n",
    "        <title> web test  </title> \n",
    "     </head>\n",
    "     <body>  \n",
    "        <p class=\"ptag yellow \" align=\"center\" > text content1 </p> \n",
    "        <p class=\"ptag red \" align=\"left\" > text content2 </p> \n",
    "        <p class=\"ptag blue \" align=\"right\" > text content3 </p> \n",
    "        <img src=\"koala.jpg\" width=500  /> \n",
    "     </body> \n",
    "   </html> \n",
    "    \"\"\"\n",
    "from bs4 import BeautifulSoup\n",
    "bs = BeautifulSoup(html, features=\"html.parser\")"
   ]
  },
  {
   "cell_type": "code",
   "execution_count": null,
   "metadata": {},
   "outputs": [],
   "source": [
    "body_tag= bs.find(\"body\")\n",
    "for  i in body_tag.children  :\n",
    "    print(i)"
   ]
  },
  {
   "cell_type": "code",
   "execution_count": null,
   "metadata": {},
   "outputs": [],
   "source": [
    "img_tag = bs.find(\"img\")\n",
    "print (img_tag.parent)"
   ]
  },
  {
   "cell_type": "code",
   "execution_count": null,
   "metadata": {},
   "outputs": [],
   "source": [
    "p_tag = bs.find(\"p\")\n",
    "print (p_tag.find_parent(\"body\"))\n",
    "print (p_tag.find_parent(\"html\")"
   ]
  },
  {
   "cell_type": "code",
   "execution_count": null,
   "metadata": {},
   "outputs": [],
   "source": [
    "\n",
    "\n",
    "\n",
    "\n",
    "\n",
    ")"
   ]
  }
 ],
 "metadata": {
  "kernelspec": {
   "display_name": "Python 3",
   "language": "python",
   "name": "python3"
  },
  "language_info": {
   "codemirror_mode": {
    "name": "ipython",
    "version": 3
   },
   "file_extension": ".py",
   "mimetype": "text/x-python",
   "name": "python",
   "nbconvert_exporter": "python",
   "pygments_lexer": "ipython3",
   "version": "3.6.7"
  }
 },
 "nbformat": 4,
 "nbformat_minor": 2
}
