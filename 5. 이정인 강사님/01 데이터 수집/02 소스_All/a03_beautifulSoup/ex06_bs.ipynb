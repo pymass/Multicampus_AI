{
 "cells": [
  {
   "cell_type": "code",
   "execution_count": null,
   "metadata": {},
   "outputs": [],
   "source": [
    "html =  \"\"\" \n",
    "   <html> \n",
    "     <head> \n",
    "        <title> web test  </title> \n",
    "     </head>\n",
    "     <body>  \n",
    "        <p class=\"ptag yellow \" align=\"center\" > text content1 </p> \n",
    "        <p class=\"ptag red \" align=\"left\" > text content2 </p> \n",
    "        <p class=\"ptag blue \" align=\"right\" > text content3 </p> \n",
    "        <img src=\"koala.jpg\" width=500  />  \n",
    "        <div> \n",
    "          <p class=\"text\"> </p>\n",
    "        </div>\n",
    "     </body> \n",
    "   </html> \n",
    "    \"\"\"\n",
    "from bs4 import BeautifulSoup\n",
    "bs = BeautifulSoup(html, features=\"html.parser\")\n",
    "p_tag = bs.find(\"p\", class_=\"text\")\n",
    "parents = p_tag.find_parents()\n",
    "for parent in parents :\n",
    "    print(parent.name)  # 태그명"
   ]
  }
 ],
 "metadata": {
  "kernelspec": {
   "display_name": "Python 3",
   "language": "python",
   "name": "python3"
  },
  "language_info": {
   "codemirror_mode": {
    "name": "ipython",
    "version": 3
   },
   "file_extension": ".py",
   "mimetype": "text/x-python",
   "name": "python",
   "nbconvert_exporter": "python",
   "pygments_lexer": "ipython3",
   "version": "3.6.7"
  }
 },
 "nbformat": 4,
 "nbformat_minor": 2
}
