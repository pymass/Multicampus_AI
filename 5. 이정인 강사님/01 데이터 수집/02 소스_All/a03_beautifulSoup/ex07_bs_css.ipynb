{
 "cells": [
  {
   "cell_type": "code",
   "execution_count": null,
   "metadata": {},
   "outputs": [],
   "source": [
    "from bs4 import BeautifulSoup\n",
    "fp = open(\"fruits-vegetables.html\", encoding=\"utf-8\")\n",
    "soup = BeautifulSoup(fp, \"html.parser\")\n",
    "# CSS 선택자로 추출\n",
    "print(soup.select_one(\"li:nth-of-type(1)\").string)\n",
    "# li 요소 중 첫번째\n",
    "print(soup.select_one(\"#fr-list > li:nth-of-type(2)\").string)\n",
    "# id가 \"fr-list\" 인 요소의 자식 li 요소 중 두번째\n",
    "print(soup.select(\"#ve-list > li[data-lo='us']\")[0].string)\n",
    "# id가 \"ve-list\" 인 요소의 자식 li 요소 중 data-lo='us' 인 것 중 첫번째\n",
    "print(soup.select(\"#ve-list > li.black\")[1].string)\n",
    "# id가 \"ve-list\" 인 요소의 자식 li 요소 중 class가 'black' 인 것 중 두번째\n",
    "# find 메서드로 추출\n",
    "cond = {\"data-lo\":\"us\", \"class\":\"red green\"} \n",
    "#{\"속성명\":\"속성값\" ,\"속성명\":\"속성값\" }\n",
    "print(soup.find(\"li\", cond).string)\n",
    "# find 메서드를 연속적으로 사용\n",
    "print(soup.find(id=\"ve-list\").find(\"li\", cond).string)"
   ]
  }
 ],
 "metadata": {
  "kernelspec": {
   "display_name": "Python 3",
   "language": "python",
   "name": "python3"
  },
  "language_info": {
   "codemirror_mode": {
    "name": "ipython",
    "version": 3
   },
   "file_extension": ".py",
   "mimetype": "text/x-python",
   "name": "python",
   "nbconvert_exporter": "python",
   "pygments_lexer": "ipython3",
   "version": "3.6.7"
  }
 },
 "nbformat": 4,
 "nbformat_minor": 2
}
