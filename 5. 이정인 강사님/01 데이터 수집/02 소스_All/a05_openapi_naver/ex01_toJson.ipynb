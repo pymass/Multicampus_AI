{
 "cells": [
  {
   "cell_type": "code",
   "execution_count": 1,
   "metadata": {},
   "outputs": [
    {
     "name": "stdout",
     "output_type": "stream",
     "text": [
      "{\"1\": \"guiter\", \"2\": \"piano\", \"3\": \"\\ubc14\\uc774\\uc62c\\ub9b0\"}\n",
      "<class 'str'>\n",
      "{\n",
      "    \"1\": \"guiter\",\n",
      "    \"2\": \"piano\",\n",
      "    \"3\": \"바이올린\"\n",
      "}\n",
      "[\n",
      "    {\n",
      "        \"1\": \"guiter\",\n",
      "        \"2\": \"piano\",\n",
      "        \"3\": \"바이올린\"\n",
      "    },\n",
      "    {\n",
      "        \"1\": \"서울\",\n",
      "        \"2\": \"천안\",\n",
      "        \"3\": \"부산\"\n",
      "    }\n",
      "]\n"
     ]
    }
   ],
   "source": [
    "import json\n",
    "\n",
    "inst ={ 1:\"guiter\", 2 :\"piano\", 3:\"바이올린\" }\n",
    "to_join = json.dumps(inst)\n",
    "print (to_join )\n",
    "print ( type( to_join )   )  #  str\n",
    "\n",
    "to_join = json.dumps(inst, indent= 4, ensure_ascii=False)\n",
    "print (to_join ) \n",
    "\n",
    "inst =[ { 1:\"guiter\", 2 :\"piano\", 3:\"바이올린\" } ,   {1 :\"서울\", 2 :\"천안\", 3:\"부산\" }   ]\n",
    "to_join = json.dumps(inst, indent= 4, ensure_ascii=False)\n",
    "print (to_join )"
   ]
  },
  {
   "cell_type": "code",
   "execution_count": null,
   "metadata": {},
   "outputs": [],
   "source": []
  }
 ],
 "metadata": {
  "kernelspec": {
   "display_name": "Python 3",
   "language": "python",
   "name": "python3"
  },
  "language_info": {
   "codemirror_mode": {
    "name": "ipython",
    "version": 3
   },
   "file_extension": ".py",
   "mimetype": "text/x-python",
   "name": "python",
   "nbconvert_exporter": "python",
   "pygments_lexer": "ipython3",
   "version": "3.7.3"
  }
 },
 "nbformat": 4,
 "nbformat_minor": 2
}
