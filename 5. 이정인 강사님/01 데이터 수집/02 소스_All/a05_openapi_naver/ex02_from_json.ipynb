{
 "cells": [
  {
   "cell_type": "code",
   "execution_count": 2,
   "metadata": {},
   "outputs": [
    {
     "name": "stdout",
     "output_type": "stream",
     "text": [
      "<class 'dict'>\n",
      "piano\n",
      "violin\n",
      "<class 'list'>\n",
      "[{'1': 'guitar', '2': 'violin', '3': 'piano'}, {'1': 'seoul', '2': 'busan', '3': 'test'}]\n"
     ]
    }
   ],
   "source": [
    "import json\n",
    "to_json = '{ \"1\":\"guitar\", \"2\":\"violin\", \"3\":\"piano\"  }'\n",
    "from_json =  json.loads(to_json)\n",
    "print(  type (  from_json )   )\n",
    "print(  from_json[\"3\"]   )\n",
    "\n",
    "\n",
    "to_json = '[{ \"1\":\"guitar\", \"2\":\"violin\", \"3\":\"piano\"  }, { \"1\":\"seoul\", \"2\":\"busan\", \"3\":\"test\"  } ]'\n",
    "from_json =  json.loads(to_json)\n",
    "print(from_json[0][\"2\"])   #violin\n",
    "print(type(from_json))  #list\n",
    "print(from_json )"
   ]
  }
 ],
 "metadata": {
  "kernelspec": {
   "display_name": "Python 3",
   "language": "python",
   "name": "python3"
  },
  "language_info": {
   "codemirror_mode": {
    "name": "ipython",
    "version": 3
   },
   "file_extension": ".py",
   "mimetype": "text/x-python",
   "name": "python",
   "nbconvert_exporter": "python",
   "pygments_lexer": "ipython3",
   "version": "3.7.3"
  }
 },
 "nbformat": 4,
 "nbformat_minor": 2
}
