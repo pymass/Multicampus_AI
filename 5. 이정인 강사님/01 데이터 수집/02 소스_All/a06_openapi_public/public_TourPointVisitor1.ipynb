{
 "cells": [
  {
   "cell_type": "code",
   "execution_count": 4,
   "metadata": {},
   "outputs": [
    {
     "name": "stdout",
     "output_type": "stream",
     "text": [
      "Url Request Success\n",
      "<?xml version=\"1.0\" encoding=\"UTF-8\" standalone=\"yes\"?><response><header><resultCode>0000</resultCode><resultMsg>OK</resultMsg></header><body><items><item><addrCd>1111</addrCd><csForCnt>69877</csForCnt><csNatCnt>347108</csNatCnt><gungu>종로구</gungu><resNm>창덕궁</resNm><rnum>1</rnum><sido>서울특별시</sido><ym>201710</ym></item><item><addrCd>1111</addrCd><csForCnt>151735</csForCnt><csNatCnt>850481</csNatCnt><gungu>종로구</gungu><resNm>경복궁</resNm><rnum>2</rnum><sido>서울특별시</sido><ym>201710</ym></item><item><addrCd>1111</addrCd><csForCnt>15164</csForCnt><csNatCnt>192578</csNatCnt><gungu>종로구</gungu><resNm>창경궁</resNm><rnum>3</rnum><sido>서울특별시</sido><ym>201710</ym></item><item><addrCd>1111</addrCd><csForCnt>6850</csForCnt><csNatCnt>70083</csNatCnt><gungu>종로구</gungu><resNm>종묘</resNm><rnum>4</rnum><sido>서울특별시</sido><ym>201710</ym></item><item><addrCd>1117</addrCd><csForCnt>9700</csForCnt><csNatCnt>268676</csNatCnt><gungu>용산구</gungu><resNm>국립중앙박물관</resNm><rnum>5</rnum><sido>서울특별시</sido><ym>201710</ym></item><item><addrCd>1114</addrCd><csForCnt>47478</csForCnt><csNatCnt>493927</csNatCnt><gungu>중구</gungu><resNm>덕수궁</resNm><rnum>6</rnum><sido>서울특별시</sido><ym>201710</ym></item><item><addrCd>1135</addrCd><csForCnt>9</csForCnt><csNatCnt>26119</csNatCnt><gungu>노원구</gungu><resNm>태릉 ·  강릉 · 조선왕릉전시관</resNm><rnum>7</rnum><sido>서울특별시</sido><ym>201710</ym></item><item><addrCd>1141</addrCd><csForCnt>6060</csForCnt><csNatCnt>95963</csNatCnt><gungu>서대문구</gungu><resNm>서대문형무소역사관</resNm><rnum>8</rnum><sido>서울특별시</sido><ym>201710</ym></item><item><addrCd>1141</addrCd><csForCnt>0</csForCnt><csNatCnt>33587</csNatCnt><gungu>서대문구</gungu><resNm>서대문자연사박물관</resNm><rnum>9</rnum><sido>서울특별시</sido><ym>201710</ym></item><item><addrCd>1144</addrCd><csForCnt>15026</csForCnt><csNatCnt>5479</csNatCnt><gungu>마포구</gungu><resNm>트릭아이미술관</resNm><rnum>10</rnum><sido>서울특별시</sido><ym>201710</ym></item><item><addrCd>1165</addrCd><csForCnt>10</csForCnt><csNatCnt>7923</csNatCnt><gungu>서초구</gungu><resNm>헌릉ㆍ인릉</resNm><rnum>11</rnum><sido>서울특별시</sido><ym>201710</ym></item><item><addrCd>1168</addrCd><csForCnt>1381</csForCnt><csNatCnt>56424</csNatCnt><gungu>강남구</gungu><resNm>선릉·정릉</resNm><rnum>12</rnum><sido>서울특별시</sido><ym>201710</ym></item></items><numOfRows>100</numOfRows><pageNo>1</pageNo><totalCount>12</totalCount></body></response>\n"
     ]
    }
   ],
   "source": [
    "import urllib.request\n",
    "import config\n",
    "\n",
    "#유료 관광지 방문객 수\n",
    "\"\"\"\n",
    " data.go.kr 사이트의 open API는 \n",
    " 키를 \n",
    " url의 파라미터(serviceKey=... )로 추가 전달.  ( 참고 - 네이버는 header로 전달)  \n",
    "\"\"\"\n",
    "\n",
    "#유료 관광지 방문객 수 조회를 위한 url 생성\n",
    "def makeURL(yyyymm, sido, gungu, nPagenum, nItems):\n",
    "    end_point = \"http://openapi.tour.go.kr/openapi/service/TourismResourceStatsService/getPchrgTrrsrtVisitorList\"\n",
    "    parameters = \"?_type=xml&serviceKey=\" +config.access_key\n",
    "\n",
    "    parameters += \"&YM=\" + yyyymm  # p121 요청 파라미터 참고 .\n",
    "    parameters += \"&SIDO=\" + urllib.parse.quote(sido)  # 한글은 인코딩하여 사용\n",
    "    parameters += \"&GUNGU=\" + urllib.parse.quote(gungu)\n",
    "    parameters += \"&RES_NM=&pageNo=\" + str(nPagenum)  # 숫자는 문자로 변경 후 사용\n",
    "    parameters += \"&numOfRows=\" + str(nItems)\n",
    "    url = end_point + parameters\n",
    "    return url\n",
    "\n",
    "def requestURL(url):\n",
    "    req = urllib.request\n",
    "    try:\n",
    "        response = req.urlopen(url)\n",
    "        if response.status == 200:                  # 200이면 정상 응답\n",
    "            print(\"Url Request Success\")\n",
    "            data = response.read().decode(\"utf-8\")\n",
    "            return data                             # 크롤링 결과 반환\n",
    "    except Exception as e:  # url로 요청 중 오류가 발생시 실행\n",
    "        print(e)\n",
    "        print(\"Error for URL : %s\" %url)\n",
    "        return None\n",
    "\n",
    "def main():\n",
    "    sido = '서울특별시'\n",
    "    gungu = '' \n",
    "    nItems = 100\n",
    "    yyyymm ='201710'\n",
    "    nPagenum = 1\n",
    "    targetURL = makeURL(yyyymm, sido, gungu, nPagenum, nItems)  \n",
    "    result = requestURL(targetURL )\n",
    "    print(result)\n",
    "main()"
   ]
  },
  {
   "cell_type": "code",
   "execution_count": null,
   "metadata": {},
   "outputs": [],
   "source": []
  }
 ],
 "metadata": {
  "kernelspec": {
   "display_name": "Python 3",
   "language": "python",
   "name": "python3"
  },
  "language_info": {
   "codemirror_mode": {
    "name": "ipython",
    "version": 3
   },
   "file_extension": ".py",
   "mimetype": "text/x-python",
   "name": "python",
   "nbconvert_exporter": "python",
   "pygments_lexer": "ipython3",
   "version": "3.7.3"
  }
 },
 "nbformat": 4,
 "nbformat_minor": 2
}
