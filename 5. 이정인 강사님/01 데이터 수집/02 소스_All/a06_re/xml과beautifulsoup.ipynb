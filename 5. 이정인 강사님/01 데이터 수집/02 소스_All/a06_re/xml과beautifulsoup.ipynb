{
 "cells": [
  {
   "cell_type": "code",
   "execution_count": 3,
   "metadata": {},
   "outputs": [
    {
     "name": "stdout",
     "output_type": "stream",
     "text": [
      "[<price>33,000원</price>, <price>10000</price>]\n",
      "[<title>케라스창시자에게 배우는 딥러닝</title>, <title>삼체</title>]\n",
      "<book id=\"1\">\n",
      "<title>삼체</title>\n",
      "<price>10000</price>\n",
      "<author>류츠신</author>\n",
      "</book>\n",
      "제목 : 케라스창시자에게 배우는 딥러닝 저자 : 프랑소와 숄레\n",
      "제목 : 삼체 저자 : 류츠신\n"
     ]
    }
   ],
   "source": [
    "xml =  \"\"\" \n",
    "   <books> \n",
    "     <book> \n",
    "         <title>케라스창시자에게 배우는 딥러닝</title> \n",
    "         <price>33,000원</price>\n",
    "         <author>프랑소와 숄레</author>\n",
    "     </book>\n",
    "     <book  id=\"1\" > \n",
    "         <title>삼체</title> \n",
    "         <price>10000</price>\n",
    "         <author>류츠신</author>\n",
    "     </book> \n",
    "   </books> \n",
    "    \"\"\"\n",
    "\n",
    "from bs4 import BeautifulSoup\n",
    "bs = BeautifulSoup(xml, features=\"html.parser\")\n",
    "\n",
    "print( bs.find_all(\"price\")) \n",
    "print( bs.find_all(\"title\")) \n",
    "\n",
    "print( bs.find  (id=\"1\"))    \n",
    "\n",
    "# 문제  책 제목과  저자를 함께 출력하세요. \n",
    "\n",
    "books = bs.find_all('book')\n",
    "for book in books:\n",
    "    title = book.find('title').get_text()\n",
    "    author = book.find('author').get_text()\n",
    "    print(\"제목 :\", title, '저자 :', author)"
   ]
  },
  {
   "cell_type": "code",
   "execution_count": null,
   "metadata": {},
   "outputs": [],
   "source": []
  }
 ],
 "metadata": {
  "kernelspec": {
   "display_name": "Python 3",
   "language": "python",
   "name": "python3"
  },
  "language_info": {
   "codemirror_mode": {
    "name": "ipython",
    "version": 3
   },
   "file_extension": ".py",
   "mimetype": "text/x-python",
   "name": "python",
   "nbconvert_exporter": "python",
   "pygments_lexer": "ipython3",
   "version": "3.7.3"
  }
 },
 "nbformat": 4,
 "nbformat_minor": 4
}
