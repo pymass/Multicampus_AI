{
 "cells": [
  {
   "cell_type": "code",
   "execution_count": 1,
   "metadata": {},
   "outputs": [],
   "source": [
    "html =  \"\"\" \n",
    "<!DOCTYPE html>\n",
    "<html lang=\"en\">\n",
    "<head>\n",
    "    <meta charset=\"UTF-8\">\n",
    "    <title>나의 홈페이지</title>\n",
    "</head>\n",
    "<body  >\n",
    "  <p align=\"center\"><font color=\"blue\" size=\"10px\">\n",
    "      홈페이지에 오신 것을 환영합니다.</font> </p>\n",
    "  나의 사진 입니다.<br>\n",
    "  <img src=\"Penguins.jpg\" width=\"300\" height=\"100\" />\n",
    "  <br>\n",
    "  나의 기본 정보 입니다.\n",
    "  <table border=\"1\">\n",
    "        <tr><td> 이름 </td> <td>전화번호</td><td>주소</td></tr>\n",
    "        <tr><td> 홍길동 </td> <td>010-1111-2222</td><td>서울 광진구</td></tr>\n",
    "  </table>\n",
    "  <br>\n",
    "  <br> 나의 관심 정보들입니다. 클릭하면 해당 사이트로 넘어갑니다.\n",
    "  <br><a href=\"https://www.python.org/\" >파이썬</a>\n",
    "  <br><a href=\"https://www.tensorflow.org/\" >텐서플로</a>\n",
    "  <br><a href=\"https://www.naver.com\" >네이버</a>\n",
    "  <br><br> 취미 리스트 입니다.\n",
    "  <ul>\n",
    "        <li>스케이팅</li>\n",
    "        <li>영화</li>\n",
    "        <li>공연</li>\n",
    "  </ul>\n",
    "  <div style = \"border:1px solid #110; width:500px; height:50px \">\n",
    "  <marquee > 반갑습니다.</marquee>\n",
    "  </div>\n",
    "</body>\n",
    "</html>\"\"\" "
   ]
  },
  {
   "cell_type": "code",
   "execution_count": 3,
   "metadata": {},
   "outputs": [],
   "source": [
    "from bs4 import BeautifulSoup"
   ]
  },
  {
   "cell_type": "code",
   "execution_count": 4,
   "metadata": {},
   "outputs": [],
   "source": [
    "bs = BeautifulSoup(html)"
   ]
  },
  {
   "cell_type": "code",
   "execution_count": 21,
   "metadata": {},
   "outputs": [
    {
     "data": {
      "text/plain": [
       "<img height=\"100\" src=\"Penguins.jpg\" width=\"300\"/>"
      ]
     },
     "execution_count": 21,
     "metadata": {},
     "output_type": "execute_result"
    }
   ],
   "source": [
    "img_tag = bs.find('img')\n",
    "img_tag"
   ]
  },
  {
   "cell_type": "code",
   "execution_count": 22,
   "metadata": {},
   "outputs": [
    {
     "data": {
      "text/plain": [
       "{'src': 'Penguins.jpg', 'width': '300', 'height': '100'}"
      ]
     },
     "execution_count": 22,
     "metadata": {},
     "output_type": "execute_result"
    }
   ],
   "source": [
    "img_tag.attrs"
   ]
  },
  {
   "cell_type": "code",
   "execution_count": 30,
   "metadata": {},
   "outputs": [
    {
     "name": "stdout",
     "output_type": "stream",
     "text": [
      "<li>스케이팅</li>\n",
      "<li>영화</li>\n",
      "<li>공연</li>\n"
     ]
    }
   ],
   "source": [
    "li_tag = bs.find_all('li')\n",
    "\n",
    "for tag in li_tag:\n",
    "    print(tag)"
   ]
  },
  {
   "cell_type": "code",
   "execution_count": 48,
   "metadata": {},
   "outputs": [
    {
     "name": "stdout",
     "output_type": "stream",
     "text": [
      "스케이팅\n"
     ]
    }
   ],
   "source": [
    "print(bs.find('li').string)"
   ]
  },
  {
   "cell_type": "code",
   "execution_count": 53,
   "metadata": {},
   "outputs": [
    {
     "name": "stdout",
     "output_type": "stream",
     "text": [
      "\n",
      "\n",
      "<meta charset=\"utf-8\"/>\n",
      "\n",
      "\n",
      "<title>나의 홈페이지</title>\n",
      "\n",
      "\n"
     ]
    }
   ],
   "source": [
    "head = bs.find('head')\n",
    "\n",
    "for i in head.children:\n",
    "    print(i)"
   ]
  },
  {
   "cell_type": "code",
   "execution_count": null,
   "metadata": {},
   "outputs": [],
   "source": []
  }
 ],
 "metadata": {
  "kernelspec": {
   "display_name": "Python 3",
   "language": "python",
   "name": "python3"
  },
  "language_info": {
   "codemirror_mode": {
    "name": "ipython",
    "version": 3
   },
   "file_extension": ".py",
   "mimetype": "text/x-python",
   "name": "python",
   "nbconvert_exporter": "python",
   "pygments_lexer": "ipython3",
   "version": "3.7.3"
  }
 },
 "nbformat": 4,
 "nbformat_minor": 2
}
