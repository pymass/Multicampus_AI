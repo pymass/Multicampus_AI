{
 "cells": [
  {
   "cell_type": "code",
   "execution_count": 2,
   "metadata": {},
   "outputs": [
    {
     "name": "stdout",
     "output_type": "stream",
     "text": [
      "데이터 로딩...\n",
      "시퀀스 패딩 (samples x time)\n"
     ]
    },
    {
     "data": {
      "text/plain": [
       "' \\n데이터 로딩...\\n25000 훈련 시퀀스\\n25000 테스트 시퀀스\\n시퀀스 패딩 (samples x time)\\ninput_train 크기: (25000, 500)\\ninput_test 크기: (25000, 500) \\n'"
      ]
     },
     "execution_count": 2,
     "metadata": {},
     "output_type": "execute_result"
    }
   ],
   "source": [
    "\"\"\" IMDB 영화 리뷰 분류 문제에 적용\"\"\"\n",
    "from keras.datasets import imdb\n",
    "from keras.preprocessing import sequence\n",
    "\n",
    "max_features = 10000  # 특성으로 사용할 단어의 수\n",
    "maxlen = 500  # 사용할 텍스트의 길이(가장 빈번한 max_features 개의 단어만 사용합니다)\n",
    "batch_size = 32\n",
    "\n",
    "print('데이터 로딩...')\n",
    "import numpy as np \n",
    "np_load_old = np.load\n",
    "np.load = lambda *a, **k: np_load_old(*a, allow_pickle=True, **k)\n",
    "\n",
    "(input_train, y_train), (input_test, y_test) = imdb.load_data(num_words=max_features)\n",
    "\n",
    "np.load = np_load_old\n",
    "\n",
    "print('시퀀스 패딩 (samples x time)')\n",
    "input_train = sequence.pad_sequences(input_train, maxlen=maxlen)\n",
    "input_test = sequence.pad_sequences(input_test, maxlen=maxlen)\n",
    "\n",
    "\"\"\" \n",
    "데이터 로딩...\n",
    "25000 훈련 시퀀스\n",
    "25000 테스트 시퀀스\n",
    "시퀀스 패딩 (samples x time)\n",
    "input_train 크기: (25000, 500)\n",
    "input_test 크기: (25000, 500) \n",
    "\"\"\""
   ]
  },
  {
   "cell_type": "code",
   "execution_count": 3,
   "metadata": {},
   "outputs": [
    {
     "name": "stdout",
     "output_type": "stream",
     "text": [
      "WARNING:tensorflow:From C:\\Users\\Administrator\\Anaconda3\\envs\\multicampus\\lib\\site-packages\\tensorflow\\python\\framework\\op_def_library.py:263: colocate_with (from tensorflow.python.framework.ops) is deprecated and will be removed in a future version.\n",
      "Instructions for updating:\n",
      "Colocations handled automatically by placer.\n"
     ]
    }
   ],
   "source": [
    "from keras.layers import Embedding, SimpleRNN\n",
    "from keras.layers import Dense\n",
    "from keras.models import Sequential\n",
    "\n",
    "#### Model ################################################\n",
    "\n",
    "model = Sequential()\n",
    "model.add(Embedding(max_features, 32))\n",
    "model.add(SimpleRNN(32))\n",
    "model.add(Dense(1, activation='sigmoid'))\n",
    "\n",
    "model.compile(optimizer='adam', loss='binary_crossentropy', metrics=['acc'])"
   ]
  },
  {
   "cell_type": "code",
   "execution_count": 5,
   "metadata": {},
   "outputs": [
    {
     "name": "stdout",
     "output_type": "stream",
     "text": [
      "Train on 20000 samples, validate on 5000 samples\n",
      "Epoch 1/10\n",
      "20000/20000 [==============================] - 33s 2ms/step - loss: 0.4961 - acc: 0.7722 - val_loss: 0.3949 - val_acc: 0.8272\n",
      "Epoch 2/10\n",
      "20000/20000 [==============================] - 33s 2ms/step - loss: 0.2883 - acc: 0.8836 - val_loss: 0.3583 - val_acc: 0.8484\n",
      "Epoch 3/10\n",
      "20000/20000 [==============================] - 32s 2ms/step - loss: 0.1815 - acc: 0.9327 - val_loss: 0.3757 - val_acc: 0.8410\n",
      "Epoch 4/10\n",
      "20000/20000 [==============================] - 40s 2ms/step - loss: 0.1154 - acc: 0.9616 - val_loss: 0.3919 - val_acc: 0.8572\n",
      "Epoch 5/10\n",
      "20000/20000 [==============================] - 32s 2ms/step - loss: 0.1129 - acc: 0.9610 - val_loss: 0.4612 - val_acc: 0.8320\n",
      "Epoch 6/10\n",
      "20000/20000 [==============================] - 34s 2ms/step - loss: 0.0363 - acc: 0.9913 - val_loss: 0.4740 - val_acc: 0.8400\n",
      "Epoch 7/10\n",
      "20000/20000 [==============================] - 24s 1ms/step - loss: 0.0148 - acc: 0.9976 - val_loss: 0.5522 - val_acc: 0.8476\n",
      "Epoch 8/10\n",
      "20000/20000 [==============================] - 20s 1ms/step - loss: 0.0120 - acc: 0.9981 - val_loss: 0.5616 - val_acc: 0.8456\n",
      "Epoch 9/10\n",
      "20000/20000 [==============================] - 20s 1ms/step - loss: 0.0203 - acc: 0.9940 - val_loss: 0.6728 - val_acc: 0.8082\n",
      "Epoch 10/10\n",
      "20000/20000 [==============================] - 20s 1ms/step - loss: 0.0327 - acc: 0.9896 - val_loss: 0.5990 - val_acc: 0.8420\n"
     ]
    },
    {
     "data": {
      "image/png": "[encoded data removed]",
      "text/plain": [
       "<Figure size 432x288 with 1 Axes>"
      ]
     },
     "metadata": {
      "needs_background": "light"
     },
     "output_type": "display_data"
    },
    {
     "data": {
      "image/png": "[encoded data removed]",
      "text/plain": [
       "<Figure size 432x288 with 1 Axes>"
      ]
     },
     "metadata": {
      "needs_background": "light"
     },
     "output_type": "display_data"
    }
   ],
   "source": [
    "#### Train ################################################\n",
    "history = model.fit(input_train, y_train,\n",
    "                   epochs=10, batch_size=128, validation_split=0.2)\n",
    "\n",
    "############################################################\n",
    "import matplotlib.pyplot as plt\n",
    "%matplotlib inline\n",
    "\n",
    "acc = history.history['acc']\n",
    "val_acc = history.history['val_acc']\n",
    "loss = history.history['loss']\n",
    "val_loss = history.history['val_loss']\n",
    "epochs = range(1, len(acc) + 1)\n",
    "\n",
    "plt.plot(epochs, acc, 'bo', label='Training acc')\n",
    "plt.plot(epochs, val_acc, 'b', label='Validation acc')\n",
    "plt.title('Training and validation accuracy')\n",
    "plt.legend()\n",
    "plt.figure()\n",
    "\n",
    "plt.plot(epochs, loss, 'bo', label='Training loss')\n",
    "plt.plot(epochs, val_loss, 'b', label='Validation loss')\n",
    "plt.title('Training and validation loss')\n",
    "plt.legend()\n",
    "plt.show()"
   ]
  },
  {
   "cell_type": "code",
   "execution_count": null,
   "metadata": {},
   "outputs": [],
   "source": []
  }
 ],
 "metadata": {
  "kernelspec": {
   "display_name": "Python 3",
   "language": "python",
   "name": "python3"
  },
  "language_info": {
   "codemirror_mode": {
    "name": "ipython",
    "version": 3
   },
   "file_extension": ".py",
   "mimetype": "text/x-python",
   "name": "python",
   "nbconvert_exporter": "python",
   "pygments_lexer": "ipython3",
   "version": "3.7.3"
  }
 },
 "nbformat": 4,
 "nbformat_minor": 4
}
