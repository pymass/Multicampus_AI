{
 "cells": [
  {
   "cell_type": "code",
   "execution_count": 1,
   "metadata": {},
   "outputs": [
    {
     "name": "stderr",
     "output_type": "stream",
     "text": [
      "Using TensorFlow backend.\n"
     ]
    },
    {
     "ename": "SyntaxError",
     "evalue": "invalid syntax (ex_timeSeries_2_model.py, line 19)",
     "output_type": "error",
     "traceback": [
      "Traceback \u001b[1;36m(most recent call last)\u001b[0m:\n",
      "  File \u001b[0;32m\"C:\\Users\\Administrator\\Anaconda3\\envs\\multicampus\\lib\\site-packages\\IPython\\core\\interactiveshell.py\"\u001b[0m, line \u001b[0;32m3326\u001b[0m, in \u001b[0;35mrun_code\u001b[0m\n    exec(code_obj, self.user_global_ns, self.user_ns)\n",
      "\u001b[1;36m  File \u001b[1;32m\"<ipython-input-1-36d930326790>\"\u001b[1;36m, line \u001b[1;32m5\u001b[1;36m, in \u001b[1;35m<module>\u001b[1;36m\u001b[0m\n\u001b[1;33m    import ex_timeSeries_2_model as ex_t2_m\u001b[0m\n",
      "\u001b[1;36m  File \u001b[1;32m\"C:\\Users\\Administrator\\Desktop\\공부\\이정인 강사님\\04 머신러닝\\01 보충교재\\TODO\\e06_timeSeries_RNN\\ex_timeSeries_2_model.py\"\u001b[1;36m, line \u001b[1;32m19\u001b[0m\n\u001b[1;33m    model2.summary()\u001b[0m\n\u001b[1;37m         ^\u001b[0m\n\u001b[1;31mSyntaxError\u001b[0m\u001b[1;31m:\u001b[0m invalid syntax\n"
     ]
    }
   ],
   "source": [
    "import ex_timeSeries_1_data as ex_t1_d\n",
    "import ex_timeSeries_1_model as ex_t1_m\n",
    "\n",
    "import ex_timeSeries_2_data as ex_t2_d\n",
    "import ex_timeSeries_2_model as ex_t2_m \n",
    "\n",
    "\n",
    "# sequence to vector 샘플 데이터 생성  예 \n",
    "#(X_train,Y_train) =ex_t1_d.make_data(True)\n",
    " \n",
    "\n",
    "\n",
    "# sequence to sequence 샘플 데이터 생성 예 \n",
    "(X_train2,Y_train2) =ex_t2_d.make_data_Sequence2Sequence(True)\n",
    " "
   ]
  },
  {
   "cell_type": "code",
   "execution_count": null,
   "metadata": {},
   "outputs": [],
   "source": []
  }
 ],
 "metadata": {
  "kernelspec": {
   "display_name": "Python 3",
   "language": "python",
   "name": "python3"
  },
  "language_info": {
   "codemirror_mode": {
    "name": "ipython",
    "version": 3
   },
   "file_extension": ".py",
   "mimetype": "text/x-python",
   "name": "python",
   "nbconvert_exporter": "python",
   "pygments_lexer": "ipython3",
   "version": "3.7.3"
  }
 },
 "nbformat": 4,
 "nbformat_minor": 4
}
