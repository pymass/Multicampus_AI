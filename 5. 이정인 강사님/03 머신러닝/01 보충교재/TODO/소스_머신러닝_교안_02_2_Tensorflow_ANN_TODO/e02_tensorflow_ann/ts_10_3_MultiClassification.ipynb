{
 "cells": [
  {
   "cell_type": "code",
   "execution_count": 1,
   "metadata": {},
   "outputs": [
    {
     "name": "stdout",
     "output_type": "stream",
     "text": [
      "WARNING:tensorflow:From A:\\Python\\Anaconda3_201903\\lib\\site-packages\\tensorflow\\python\\framework\\op_def_library.py:263: colocate_with (from tensorflow.python.framework.ops) is deprecated and will be removed in a future version.\n",
      "Instructions for updating:\n",
      "Colocations handled automatically by placer.\n"
     ]
    }
   ],
   "source": [
    "import tensorflow as tf\n",
    "\n",
    "x_data = [[1, 2, 1, 1],  # 특성 데이터 \n",
    "          [2, 1, 3, 2],\n",
    "          [3, 1, 3, 4],\n",
    "          [4, 1, 5, 5],\n",
    "          [1, 7, 5, 5],\n",
    "          [1, 2, 5, 6],\n",
    "          [1, 6, 6, 6],\n",
    "          [1, 7, 7, 7]] \n",
    "\n",
    "# One-Hot Encoding,  3종류의 결과분류 \n",
    "y_data = [[0, 0, 1],   #   beginner 회원    \n",
    "          [0, 0, 1],   #   beginner 회원   \n",
    "          [0, 0, 1],   #   beginner 회원  \n",
    "          [0, 1, 0],   #   VIP 회원\n",
    "          [0, 1, 0],   #   VIP 회원\n",
    "          [0, 1, 0],   #   VIP 회원\n",
    "          [1, 0, 0],   #   VVIP 회원 \n",
    "          [1, 0, 0]]   #   VVIP 회원 \n",
    "\n",
    "X = tf.placeholder(\"float\", #TODO )\n",
    "Y = tf.placeholder(\"float\", #TODO )\n",
    "nb_classes = 3\n",
    "\n",
    "W = tf.Variable(tf.random_normal(#TODO ), name='weight')\n",
    "b = tf.Variable(tf.random_normal(#TODO ), name='bias')\n",
    " "
   ]
  },
  {
   "cell_type": "code",
   "execution_count": 2,
   "metadata": {},
   "outputs": [
    {
     "name": "stdout",
     "output_type": "stream",
     "text": [
      "WARNING:tensorflow:From A:\\Python\\Anaconda3_201903\\lib\\site-packages\\tensorflow\\python\\ops\\math_ops.py:3066: to_int32 (from tensorflow.python.ops.math_ops) is deprecated and will be removed in a future version.\n",
      "Instructions for updating:\n",
      "Use tf.cast instead.\n",
      "0 3.565106\n",
      "200 0.62345815\n",
      "400 0.50183076\n",
      "600 0.40409303\n",
      "800 0.31075224\n",
      "1000 0.24047098\n",
      "1200 0.2168917\n",
      "1400 0.19757262\n",
      "1600 0.1813354\n",
      "1800 0.16749564\n",
      "2000 0.15556283\n",
      "--------------\n",
      "[[1.5953546e-03 9.9839467e-01 9.9961644e-06]] [1]\n",
      "--------------\n",
      "[[0.9274914  0.06583215 0.00667636]] [0]\n",
      "--------------\n",
      "[[1.7268253e-08 3.6875144e-04 9.9963117e-01]] [2]\n",
      "--------------\n",
      "[[1.5953546e-03 9.9839467e-01 9.9961644e-06]\n",
      " [9.2749143e-01 6.5832175e-02 6.6763619e-03]\n",
      " [1.7268253e-08 3.6875144e-04 9.9963117e-01]] [1 0 2]\n"
     ]
    }
   ],
   "source": [
    "# tf.nn.softmax computes softmax activations\n",
    "# softmax = exp(logits) / reduce_sum(exp(logits), dim)\n",
    "hypothesis =  #TODO \n",
    "\n",
    "# Cross entropy cost/loss\n",
    "cost = tf.reduce_mean(-tf.reduce_sum(Y * tf.log(hypothesis), axis=1))\n",
    "optimizer = tf.train.#TODO (learning_rate=0.1).#TODO (cost)\n",
    "\n",
    "# Launch graph\n",
    "with tf.Session() as sess:\n",
    "    sess.run(tf.global_variables_initializer())\n",
    "\n",
    "    for step in range(2001):\n",
    "        sess.run#TODO  {X: x_data, Y: y_data})\n",
    "        \n",
    "        if step % 200 == 0:\n",
    "            print(step, sess.run(#TODO , feed_dict={X: x_data, Y: y_data}))\n",
    "\n",
    "    print('--------------')\n",
    "\n",
    "    # Testing & One-hot encoding\n",
    "    a = sess.run(hypothesis, feed_dict={X: [[1, 11, 7, 9]]})\n",
    "    print(a, sess.run(tf.argmax(a, 1)))\n",
    "\n",
    "    print('--------------')\n",
    "\n",
    "    b = sess.run(hypothesis, feed_dict={X: [[1, 3, 4, 3]]})\n",
    "    print(b, sess.run(tf.argmax(b, 1)))\n",
    "\n",
    "    print('--------------')\n",
    "\n",
    "    c = sess.run(hypothesis, feed_dict={X: [[1, 1, 0, 1]]})\n",
    "    print(c, sess.run(tf.argmax(c, 1)))\n",
    "\n",
    "    print('--------------')\n",
    "\n",
    "    all = sess.run(hypothesis, feed_dict={\n",
    "                   X: [[1, 11, 7, 9], [1, 3, 4, 3], [1, 1, 0, 1]]})\n",
    "    print(all, sess.run(tf.argmax(all, 1)))"
   ]
  },
  {
   "cell_type": "code",
   "execution_count": null,
   "metadata": {},
   "outputs": [],
   "source": []
  }
 ],
 "metadata": {
  "kernelspec": {
   "display_name": "Python 3",
   "language": "python",
   "name": "python3"
  },
  "language_info": {
   "codemirror_mode": {
    "name": "ipython",
    "version": 3
   },
   "file_extension": ".py",
   "mimetype": "text/x-python",
   "name": "python",
   "nbconvert_exporter": "python",
   "pygments_lexer": "ipython3",
   "version": "3.7.3"
  }
 },
 "nbformat": 4,
 "nbformat_minor": 2
}
