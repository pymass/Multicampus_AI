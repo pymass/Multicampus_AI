{
 "cells": [
  {
   "cell_type": "code",
   "execution_count": null,
   "metadata": {},
   "outputs": [],
   "source": [
    "pip install nltk "
   ]
  },
  {
   "cell_type": "code",
   "execution_count": 1,
   "metadata": {},
   "outputs": [
    {
     "name": "stdout",
     "output_type": "stream",
     "text": [
      "showing info https://raw.githubusercontent.com/nltk/nltk_data/gh-pages/index.xml\n"
     ]
    },
    {
     "data": {
      "text/plain": [
       "True"
      ]
     },
     "execution_count": 1,
     "metadata": {},
     "output_type": "execute_result"
    }
   ],
   "source": [
    "import nltk\n",
    "nltk.download()"
   ]
  },
  {
   "cell_type": "markdown",
   "metadata": {},
   "source": [
    "## 단어 단위 토크나이징"
   ]
  },
  {
   "cell_type": "code",
   "execution_count": null,
   "metadata": {},
   "outputs": [],
   "source": [
    "#TODO\n",
    " \n",
    "tokens =  #TODO (\"I am going to Seoul, Korea.\")\n",
    "print( tokens )\n",
    "print( #TODO (tokens) )"
   ]
  },
  {
   "cell_type": "code",
   "execution_count": null,
   "metadata": {},
   "outputs": [],
   "source": [
    "sentence = \"\"\"At eight o'clock on Thursday morning Arthur didn't feel very good.\"\"\"\n",
    "tokens =  #TODO(sentence)\n",
    "print( tokens )\n",
    "print( #TODO (tokens) )"
   ]
  },
  {
   "cell_type": "markdown",
   "metadata": {},
   "source": [
    "## 문장  단위 토크나이징"
   ]
  },
  {
   "cell_type": "code",
   "execution_count": null,
   "metadata": {},
   "outputs": [],
   "source": [
    "from nltk import sent_tokenize "
   ]
  },
  {
   "cell_type": "code",
   "execution_count": null,
   "metadata": {},
   "outputs": [],
   "source": [
    "paragraph=\"\"\"London (CNN)Boris Johnson, the UK's new prime minister, wants you to know that he loves his country.\n",
    "Specifically, he wants you to know that he loves the Union between the four nations that make up the United Kingdom of Great Britain and Northern Ireland.\n",
    "Unfortunately for Johnson, this love is not always reciprocated. During his visits to the four nations earlier this week, Johnson was confronted by a number of protesters who took issue with his \"do or die\" approach to Brexit. Johnson has not been coy about his commitment to leaving the EU on October 31. And he's made it perfectly clear he would do so without a deal.\n",
    "In Scotland, he was booed by pro-European and pro-Scottish independence supporters. Nicola Sturgeon, Scotland's First Minister and leader of the pro-Independence Scottish National Party, told local media that Johnson didn't have the \"guts\" to face Scottish people during his visit. \"\"\"\n",
    "\n",
    "print ( #TODO (paragraph) )"
   ]
  },
  {
   "cell_type": "code",
   "execution_count": null,
   "metadata": {},
   "outputs": [],
   "source": []
  }
 ],
 "metadata": {
  "kernelspec": {
   "display_name": "Python 3",
   "language": "python",
   "name": "python3"
  },
  "language_info": {
   "codemirror_mode": {
    "name": "ipython",
    "version": 3
   },
   "file_extension": ".py",
   "mimetype": "text/x-python",
   "name": "python",
   "nbconvert_exporter": "python",
   "pygments_lexer": "ipython3",
   "version": "3.7.3"
  }
 },
 "nbformat": 4,
 "nbformat_minor": 4
}
