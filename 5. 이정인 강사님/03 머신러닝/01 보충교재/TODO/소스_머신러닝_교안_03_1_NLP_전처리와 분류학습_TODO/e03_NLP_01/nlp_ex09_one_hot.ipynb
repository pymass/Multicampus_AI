{
 "cells": [
  {
   "cell_type": "code",
   "execution_count": 1,
   "metadata": {},
   "outputs": [
    {
     "name": "stderr",
     "output_type": "stream",
     "text": [
      "Using TensorFlow backend.\n"
     ]
    },
    {
     "name": "stdout",
     "output_type": "stream",
     "text": [
      "index_word : {1: 'the', 2: 'cat', 3: 'sat', 4: 'on', 5: 'mat', 6: 'dog', 7: 'ate', 8: 'my', 9: 'homework'}\n",
      "word_index : {'the': 1, 'cat': 2, 'sat': 3, 'on': 4, 'mat': 5, 'dog': 6, 'ate': 7, 'my': 8, 'homework': 9}\n",
      "단어 출현 빈도수 :  defaultdict(<class 'int'>, {4: 1, 3: 1, 1: 2, 2: 1, 5: 1, 7: 1, 8: 1, 6: 1, 9: 1})\n",
      "문장 수 :  2\n",
      "sequences [[1, 2, 3, 4, 1, 5], [1, 6, 7, 8, 9]]\n",
      "one_hot_results [[0. 1. 1. ... 0. 0. 0.]\n",
      " [0. 1. 0. ... 0. 0. 0.]]\n"
     ]
    }
   ],
   "source": [
    "\"\"\"케라스를 사용한 단어 수준의 원-핫 인코딩\"\"\"\n",
    "\n",
    "from keras.preprocessing.text import Tokenizer\n",
    "samples = ['The cat sat on the mat.', 'The dog ate my homework.']\n",
    "\n",
    "# 가장 빈도가 높은 1,000개의 단어만 선택하도록 Tokenizer 객체 생성\n",
    "tokenizer = Tokenizer(num_words=1000)\n",
    "\n",
    "# 단어 인덱스를 구축\n",
    "tokenizer.fit_on_texts(samples)\n",
    "\n",
    "print(\"index_word :\" , tokenizer.index_word )\n",
    "print(\"word_index :\" , tokenizer.word_index )\n",
    "print(\"단어 출현 빈도수 : \" , tokenizer.index_docs )\n",
    "print(\"문장 수 : \" , tokenizer.document_count) #문장 수\n",
    "\n",
    "# 문자열을 정수 인덱스의 리스트로 변환\n",
    "sequences = tokenizer.texts_to_sequences(samples)\n",
    "print(\"sequences\",  sequences  )\n",
    "\n",
    "# 원-핫 이진 벡터 표현\n",
    "one_hot_results = tokenizer.texts_to_matrix(samples, mode='binary')\n",
    "print( \"one_hot_results\", one_hot_results  )"
   ]
  },
  {
   "cell_type": "code",
   "execution_count": null,
   "metadata": {},
   "outputs": [],
   "source": []
  }
 ],
 "metadata": {
  "kernelspec": {
   "display_name": "Python 3",
   "language": "python",
   "name": "python3"
  },
  "language_info": {
   "codemirror_mode": {
    "name": "ipython",
    "version": 3
   },
   "file_extension": ".py",
   "mimetype": "text/x-python",
   "name": "python",
   "nbconvert_exporter": "python",
   "pygments_lexer": "ipython3",
   "version": "3.7.3"
  }
 },
 "nbformat": 4,
 "nbformat_minor": 4
}
