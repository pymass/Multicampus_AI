{
 "cells": [
  {
   "cell_type": "code",
   "execution_count": null,
   "metadata": {},
   "outputs": [],
   "source": [
    "import pandas as pd\n",
    "from sklearn import svm, metrics \n",
    "\n",
    "# XOR 연산\n",
    "xor_input = [\n",
    "    [0, 0, 0],\n",
    "    [0, 1, 1],\n",
    "    [1, 0, 1],\n",
    "    [1, 1, 0]\n",
    "]\n",
    "\n",
    "# 입력을 학습 전용 데이터와 테스트 전용 데이터로 분류하기 --- \n",
    "xor_df = pd.DataFrame(xor_input)\n",
    "xor_data  = xor_df.loc[:,0:1] # 데이터\n",
    "xor_label = xor_df.loc[:,2]   # 레이블\n",
    "\n",
    "# 데이터 학습과 예측하기 \n",
    "clf = svm.SVC(gamma=\"scale\")\n",
    "\n",
    "clf.fit(xor_data, xor_label)\n",
    "pre = clf.predict(xor_data)\n",
    "\n",
    "\n",
    "# 정답률 구하기  \n",
    "ac_score = metrics.accuracy_score(xor_label, pre)\n",
    "print(\"정답률 =\", ac_score)\n",
    "\n"
   ]
  }
 ],
 "metadata": {
  "kernelspec": {
   "display_name": "Python 3",
   "language": "python",
   "name": "python3"
  },
  "language_info": {
   "codemirror_mode": {
    "name": "ipython",
    "version": 3
   },
   "file_extension": ".py",
   "mimetype": "text/x-python",
   "name": "python",
   "nbconvert_exporter": "python",
   "pygments_lexer": "ipython3",
   "version": "3.7.3"
  }
 },
 "nbformat": 4,
 "nbformat_minor": 2
}
