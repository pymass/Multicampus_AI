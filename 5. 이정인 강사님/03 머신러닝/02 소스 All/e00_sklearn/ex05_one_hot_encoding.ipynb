{
 "cells": [
  {
   "cell_type": "code",
   "execution_count": 5,
   "metadata": {},
   "outputs": [
    {
     "name": "stdout",
     "output_type": "stream",
     "text": [
      "[[1. 0. 0.]\n",
      " [0. 1. 0.]\n",
      " [0. 0. 1.]\n",
      " [1. 0. 0.]\n",
      " [0. 0. 1.]]\n"
     ]
    }
   ],
   "source": [
    "from sklearn.preprocessing import OneHotEncoder\n",
    "\n",
    "def main():\n",
    "    enc = OneHotEncoder(categories='auto')\n",
    "    sourcedata = [\n",
    "        [65],\n",
    "        [66],\n",
    "        [67]\n",
    "    ]\n",
    "    enc.fit(sourcedata)\n",
    "\n",
    "    data =[\n",
    "        [65],\n",
    "        [66],\n",
    "        [67],\n",
    "        [65],\n",
    "        [67]\n",
    "    ]\n",
    "    print(enc.transform(data).toarray())\n",
    "\n",
    "if __name__ == '__main__':\n",
    "    main()"
   ]
  }
 ],
 "metadata": {
  "kernelspec": {
   "display_name": "Python 3",
   "language": "python",
   "name": "python3"
  },
  "language_info": {
   "codemirror_mode": {
    "name": "ipython",
    "version": 3
   },
   "file_extension": ".py",
   "mimetype": "text/x-python",
   "name": "python",
   "nbconvert_exporter": "python",
   "pygments_lexer": "ipython3",
   "version": "3.7.3"
  }
 },
 "nbformat": 4,
 "nbformat_minor": 2
}
