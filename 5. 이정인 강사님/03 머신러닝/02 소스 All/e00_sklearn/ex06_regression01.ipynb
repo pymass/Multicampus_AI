{
 "cells": [
  {
   "cell_type": "code",
   "execution_count": 1,
   "metadata": {},
   "outputs": [
    {
     "name": "stdout",
     "output_type": "stream",
     "text": [
      "[[72.01694915]]\n",
      "[[9.6440678]]\n",
      "[4.50847458]\n",
      "0.9752042964761305\n"
     ]
    }
   ],
   "source": [
    "from sklearn.linear_model import LinearRegression\n",
    "\n",
    "x = [[10],[5],[9],[7]]       #공부시간 10시간   5시간, 9시간, 7시간\n",
    "y = [[100],[50],[90],[77]]   #시험점수 100점    50점,  90점   77점\n",
    "\n",
    "#model = LinearRegression()\n",
    "model = LinearRegression(fit_intercept=True)\n",
    "#fit_intercept 인수는 모형에 상수항이 있는가 없는가를 결정하는 인수이다. 디폴트 값이 True이고\n",
    "# 만약 상수항이 없으면 fit_intercept=False로 설정한다.\n",
    "\n",
    "model = model.fit(x, y)\n",
    "result =model.predict([[7]])\n",
    "print( result ) \n",
    "\n",
    "##########################################\n",
    "y_pred =model.predict(x)\n",
    "print( model.coef_ )  #추정한 가중치 값  : W \n",
    "print( model.intercept_ )  #추정된 상수항 : b   \n",
    "print ( model.score( x, y , ) )\n"
   ]
  },
  {
   "cell_type": "code",
   "execution_count": null,
   "metadata": {},
   "outputs": [],
   "source": []
  }
 ],
 "metadata": {
  "kernelspec": {
   "display_name": "Python 3",
   "language": "python",
   "name": "python3"
  },
  "language_info": {
   "codemirror_mode": {
    "name": "ipython",
    "version": 3
   },
   "file_extension": ".py",
   "mimetype": "text/x-python",
   "name": "python",
   "nbconvert_exporter": "python",
   "pygments_lexer": "ipython3",
   "version": "3.6.7"
  }
 },
 "nbformat": 4,
 "nbformat_minor": 2
}
