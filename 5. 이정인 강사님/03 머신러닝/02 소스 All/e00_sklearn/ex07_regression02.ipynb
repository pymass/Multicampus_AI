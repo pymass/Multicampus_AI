{
 "cells": [
  {
   "cell_type": "code",
   "execution_count": 1,
   "metadata": {},
   "outputs": [
    {
     "name": "stdout",
     "output_type": "stream",
     "text": [
      "[[65.]]\n",
      "[[ 7.5 11.5]]\n",
      "[-10.5]\n",
      "1.0\n"
     ]
    }
   ],
   "source": [
    "from sklearn.linear_model import LinearRegression\n",
    "\n",
    "x = [[10,3],[5,2],[9,3],[7,3]]      #공부시간,학년: 10시간,3   5시간,2, 9시간,3, 7시간,3\n",
    "y = [[100],[50],[90],[77]]          #시험점수:      100점      50점,    90점      77점\n",
    "\n",
    "model = LinearRegression()\n",
    "\n",
    "model = model.fit(x, y)\n",
    "result =model.predict([[7,2]])   #7시간공부,  2학년\n",
    "print( result  )\n",
    "\n",
    "##############################################################\n",
    "y_pred =model.predict(x)\n",
    "print( model.coef_ )  #추정한 가중치 값\n",
    "print( model.intercept_ )  #추정된 상수항 \n",
    "print ( model.score( x, y_pred   ) )\n"
   ]
  },
  {
   "cell_type": "code",
   "execution_count": null,
   "metadata": {},
   "outputs": [],
   "source": []
  }
 ],
 "metadata": {
  "kernelspec": {
   "display_name": "Python 3",
   "language": "python",
   "name": "python3"
  },
  "language_info": {
   "codemirror_mode": {
    "name": "ipython",
    "version": 3
   },
   "file_extension": ".py",
   "mimetype": "text/x-python",
   "name": "python",
   "nbconvert_exporter": "python",
   "pygments_lexer": "ipython3",
   "version": "3.7.3"
  }
 },
 "nbformat": 4,
 "nbformat_minor": 2
}
