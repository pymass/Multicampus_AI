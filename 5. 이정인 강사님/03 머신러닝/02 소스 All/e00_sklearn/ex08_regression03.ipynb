{
 "cells": [
  {
   "cell_type": "code",
   "execution_count": 1,
   "metadata": {},
   "outputs": [
    {
     "name": "stdout",
     "output_type": "stream",
     "text": [
      "예측 집값 :  [22.89854372]\n",
      "[ 5.12433498 -0.62287768 -1.84563095]\n",
      "-0.7666924509023971\n",
      "0.6389103767491082\n",
      "0.6389103767491082\n"
     ]
    }
   ],
   "source": [
    "from sklearn.datasets import load_boston\n",
    "import pandas as pd \n",
    "from sklearn.linear_model import LinearRegression\n",
    "\n",
    "boston = load_boston()\n",
    "dfX = pd.DataFrame(boston.data, columns=boston.feature_names)\n",
    "dfy = pd.DataFrame(boston.target, columns=[\"MEDV\"])\n",
    "df = pd.concat([dfX, dfy], axis=1)\n",
    "\n",
    "\"\"\"\n",
    "1978 보스턴 주택 가격 (MEDV)\n",
    "506 타운의 주택 가격 중앙값 (단위 1,000 달러)\n",
    "\n",
    "( 특징 데이터 )  \n",
    "NOX: 일산화질소 농도\n",
    "RM: 주택당 방 수\n",
    "LSTAT: 인구 중 하위 계층 비율 \n",
    "\"\"\"\n",
    " \n",
    "data = df[[ \"RM\",\"LSTAT\",\"NOX\"]]\n",
    "label = df[\"MEDV\"]\n",
    "\n",
    "model = LinearRegression( )\n",
    "model = model.fit(data, label)\n",
    "\n",
    "predict = model.predict([[6, 9.67, 0.573 ]]) # RM(방 수):6개,   LSTAT:9.67   NOX: 0.573\n",
    "print(\"예측 집값 : \", predict)\n",
    "\n",
    "##############################################################\n",
    "y_pred = model.predict(data)\n",
    "print( model.coef_ )  #추정한 가중치 값\n",
    "print( model.intercept_ )  #추정된 상수항\n",
    "print ( model.score( data, label ) ) # 아래와 동일 \n",
    "score = 1 - ((label - y_pred)**2).sum() / ((label - label.mean())**2).sum()\n",
    "print(score)\n"
   ]
  },
  {
   "cell_type": "code",
   "execution_count": null,
   "metadata": {},
   "outputs": [],
   "source": []
  }
 ],
 "metadata": {
  "kernelspec": {
   "display_name": "Python 3",
   "language": "python",
   "name": "python3"
  },
  "language_info": {
   "codemirror_mode": {
    "name": "ipython",
    "version": 3
   },
   "file_extension": ".py",
   "mimetype": "text/x-python",
   "name": "python",
   "nbconvert_exporter": "python",
   "pygments_lexer": "ipython3",
   "version": "3.7.3"
  }
 },
 "nbformat": 4,
 "nbformat_minor": 2
}
