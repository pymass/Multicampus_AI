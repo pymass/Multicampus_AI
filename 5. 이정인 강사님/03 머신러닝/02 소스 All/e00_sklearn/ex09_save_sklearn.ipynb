{
 "cells": [
  {
   "cell_type": "code",
   "execution_count": null,
   "metadata": {},
   "outputs": [],
   "source": [
    "from sklearn.linear_model import LinearRegression\n",
    "from sklearn.externals import joblib\n",
    "\n",
    "x = [[10],[5],[9],[7]]      #공부시간 10시간   5시간, 9시간, 7시간\n",
    "y = [[100],[50],[90],[77]]  #시험점수 100점    50점,  90점   77점\n",
    "model = LinearRegression()\n",
    "model = model.fit(x, y)\n",
    "result =model.predict([[7]])\n",
    "print(result)\n",
    "\n",
    "#파일에 학습 결과 저장\n",
    "joblib.dump(model,filename=\"jumsu.pkl\")   #pickle 파일\n",
    "\n"
   ]
  }
 ],
 "metadata": {
  "kernelspec": {
   "display_name": "Python 3",
   "language": "python",
   "name": "python3"
  },
  "language_info": {
   "codemirror_mode": {
    "name": "ipython",
    "version": 3
   },
   "file_extension": ".py",
   "mimetype": "text/x-python",
   "name": "python",
   "nbconvert_exporter": "python",
   "pygments_lexer": "ipython3",
   "version": "3.7.3"
  }
 },
 "nbformat": 4,
 "nbformat_minor": 2
}
