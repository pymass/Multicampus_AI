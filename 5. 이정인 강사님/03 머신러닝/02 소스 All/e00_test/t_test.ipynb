{
 "cells": [
  {
   "cell_type": "code",
   "execution_count": null,
   "metadata": {},
   "outputs": [],
   "source": [
    "import numpy as np\n",
    "from scipy import stats\n",
    "# to get consistent result\n",
    "np.random.seed(1)\n",
    "\n",
    "# before treatment : mean 60, standard deviation 5\n",
    "beforeWeights = [60 + np.random.normal(0, 5) for _ in range(20)]\n",
    "\n",
    "# after treatment : mean 0.99-fold decrease, standard deviation 0.02\n",
    "afterWeights = [w * np.random.normal(0.99, 0.02) for w in beforeWeights]\n",
    "\n",
    "# perform paired t-test\n",
    "tTestResult = stats.ttest_rel(beforeWeights, afterWeights)\n",
    "\n",
    "print(\"The T-statistic is %.3f and the p-value is %.3f\" % tTestResult)\n"
   ]
  }
 ],
 "metadata": {
  "kernelspec": {
   "display_name": "Python 3",
   "language": "python",
   "name": "python3"
  },
  "language_info": {
   "codemirror_mode": {
    "name": "ipython",
    "version": 3
   },
   "file_extension": ".py",
   "mimetype": "text/x-python",
   "name": "python",
   "nbconvert_exporter": "python",
   "pygments_lexer": "ipython3",
   "version": "3.6.7"
  }
 },
 "nbformat": 4,
 "nbformat_minor": 2
}
