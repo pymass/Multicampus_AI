{
 "cells": [
  {
   "cell_type": "code",
   "execution_count": null,
   "metadata": {},
   "outputs": [],
   "source": [
    "import tensorflow as tf\n",
    "\n",
    "a = tf.placeholder(tf.int32,[3])\n",
    "b = tf.constant(2)\n",
    "\n",
    "x2_op = a * b\n",
    "\n",
    "sess = tf.Session()\n",
    "\n",
    "r1 = sess.run(x2_op, feed_dict={a:[1,2,3] })\n",
    "print(r1)\n",
    "\n",
    "r2 = sess.run(x2_op, feed_dict={a:[10,20,30] })\n",
    "print(r2)"
   ]
  }
 ],
 "metadata": {
  "kernelspec": {
   "display_name": "Python 3",
   "language": "python",
   "name": "python3"
  },
  "language_info": {
   "codemirror_mode": {
    "name": "ipython",
    "version": 3
   },
   "file_extension": ".py",
   "mimetype": "text/x-python",
   "name": "python",
   "nbconvert_exporter": "python",
   "pygments_lexer": "ipython3",
   "version": "3.7.3"
  }
 },
 "nbformat": 4,
 "nbformat_minor": 2
}
