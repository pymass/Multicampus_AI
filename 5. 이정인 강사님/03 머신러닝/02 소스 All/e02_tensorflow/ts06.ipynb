{
 "cells": [
  {
   "cell_type": "code",
   "execution_count": 1,
   "metadata": {},
   "outputs": [
    {
     "name": "stdout",
     "output_type": "stream",
     "text": [
      "600\n"
     ]
    }
   ],
   "source": [
    "import tensorflow as tf\n",
    "\n",
    "a= tf.constant (20, name=\"a\")\n",
    "c= tf.constant(30, name=\"c\")\n",
    "\n",
    "mul_op2 = a*c\n",
    "sess = tf.Session()\n",
    "\n",
    "tw = tf.summary.FileWriter(\"log_dir/log2\" , graph=sess.graph)\n",
    "\n",
    "\n",
    "\n",
    "print( sess.run(  (mul_op2 )) )"
   ]
  }
 ],
 "metadata": {
  "kernelspec": {
   "display_name": "Python 3",
   "language": "python",
   "name": "python3"
  },
  "language_info": {
   "codemirror_mode": {
    "name": "ipython",
    "version": 3
   },
   "file_extension": ".py",
   "mimetype": "text/x-python",
   "name": "python",
   "nbconvert_exporter": "python",
   "pygments_lexer": "ipython3",
   "version": "3.6.7"
  }
 },
 "nbformat": 4,
 "nbformat_minor": 2
}
