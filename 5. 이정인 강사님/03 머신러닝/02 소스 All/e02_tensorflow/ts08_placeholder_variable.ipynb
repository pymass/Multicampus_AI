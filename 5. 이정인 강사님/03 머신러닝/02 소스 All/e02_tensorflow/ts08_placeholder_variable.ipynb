{
 "cells": [
  {
   "cell_type": "code",
   "execution_count": null,
   "metadata": {},
   "outputs": [],
   "source": [
    "import tensorflow as tf\n",
    "\n",
    "X=tf.placeholder(tf.float32, [None,3]) #행?, 3열\n",
    "print( X )\n",
    "\n",
    "x_data = [ [1,2,3], [4,5,6] ]\n",
    "\n",
    "W = tf.Variable( tf.random_normal([3,2]))\n",
    "#W = tf.Variable( [[2,2],[2,2],[2,2] ] )\n",
    "b = tf.Variable( tf.random_normal([2,1]))\n",
    "\n",
    "expr = tf.matmul( X , W ) + b\n",
    "\n",
    "sess = tf.Session()\n",
    "sess.run(tf.global_variables_initializer())\n",
    "\n",
    "print (\"=== x data === \")\n",
    "print (x_data)\n",
    "print(\"=== W === \")\n",
    "print(sess.run(W))\n",
    "print(\"=== b === \")\n",
    "print(sess.run(b))\n",
    "\n",
    "print(sess.run (expr, feed_dict={X :x_data}))\n",
    "sess.close()"
   ]
  }
 ],
 "metadata": {
  "kernelspec": {
   "display_name": "Python 3",
   "language": "python",
   "name": "python3"
  },
  "language_info": {
   "codemirror_mode": {
    "name": "ipython",
    "version": 3
   },
   "file_extension": ".py",
   "mimetype": "text/x-python",
   "name": "python",
   "nbconvert_exporter": "python",
   "pygments_lexer": "ipython3",
   "version": "3.7.3"
  }
 },
 "nbformat": 4,
 "nbformat_minor": 2
}
