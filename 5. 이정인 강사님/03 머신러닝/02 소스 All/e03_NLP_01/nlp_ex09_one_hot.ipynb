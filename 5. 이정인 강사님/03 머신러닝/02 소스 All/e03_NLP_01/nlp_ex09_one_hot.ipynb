{
 "cells": [
  {
   "cell_type": "code",
   "execution_count": null,
   "metadata": {},
   "outputs": [],
   "source": [
    "\"\"\"케라스를 사용한 단어 수준의 원-핫 인코딩\"\"\"\n",
    "\n",
    "from keras.preprocessing.text import Tokenizer\n",
    "samples = ['The cat sat on the mat.', 'The dog ate my homework.']\n",
    "\n",
    "# 가장 빈도가 높은 1,000개의 단어만 선택하도록 Tokenizer 객체 생성\n",
    "tokenizer #TODO\n",
    "\n",
    "# 단어 인덱스를 구축\n",
    "tokenizer.#TODO\n",
    "\n",
    "print(\"index_word :\" , tokenizer.index_word )\n",
    "print(\"word_index :\" , tokenizer.word_index )\n",
    "print(\"단어 출현 빈도수 : \" , tokenizer.index_docs )\n",
    "print(\"문장 수 : \" , tokenizer.document_count) #문장 수\n",
    "\n",
    "# 문자열을 정수 인덱스의 리스트로 변환\n",
    "sequences = tokenizer.#TODO\n",
    "print(\"sequences\",  sequences  )\n",
    "\n",
    "# 원-핫 이진 벡터 표현\n",
    "one_hot_results = tokenizer.#TODO\n",
    "print( \"one_hot_results\", one_hot_results  )\n"
   ]
  }
 ],
 "metadata": {
  "kernelspec": {
   "display_name": "Python 3",
   "language": "python",
   "name": "python3"
  },
  "language_info": {
   "codemirror_mode": {
    "name": "ipython",
    "version": 3
   },
   "file_extension": ".py",
   "mimetype": "text/x-python",
   "name": "python",
   "nbconvert_exporter": "python",
   "pygments_lexer": "ipython3",
   "version": "3.6.7"
  }
 },
 "nbformat": 4,
 "nbformat_minor": 4
}
