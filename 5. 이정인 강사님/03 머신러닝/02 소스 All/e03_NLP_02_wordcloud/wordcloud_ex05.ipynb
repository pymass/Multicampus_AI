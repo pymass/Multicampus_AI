{
 "cells": [
  {
   "cell_type": "code",
   "execution_count": null,
   "metadata": {},
   "outputs": [],
   "source": [
    "import matplotlib.pyplot as plt\n",
    "from wordcloud import WordCloud, STOPWORDS\n",
    "from collections import Counter\n",
    "\n",
    "nouns =['명사', '나', '대전', 'AI',  '대전', '대전',  '대전',  '대전' '학교', '월요일', '월요일', '월요일',\n",
    "        '수요일', '수요일', '수요일', '수요일',\"한국\",\"한국\"]\n",
    "\n",
    "##########################\n",
    "nouns =[ n for n in nouns if len(n) > 1]  # 2글자 이상만\n",
    "\n",
    "##########################\n",
    "count=Counter(nouns)        #단어별 빈도수를 가진 딕셔너리를 만들어줌.\n",
    "print(\"단어별 빈도수 딕셔너리\", count)\n",
    "tags=count.most_common(3)  #가장 많이 나타나는 3개\n",
    "print(\"가장 많이 나타나는 3개\", tags)\n",
    "##########################\n",
    "\n",
    "wordcloud = WordCloud(max_font_size=200,font_path='c:/Windows/fonts/malgun.ttf',\n",
    "                      background_color='#FFFFFF',\n",
    "                      max_words = 2000,\n",
    "                      colormap=\"spring_r\",\n",
    "                      width=1200,height=800).generate_from_frequencies(dict(tags))\n",
    "\n",
    "plt.figure(figsize=(10,8))\n",
    "plt.imshow(wordcloud)\n",
    "plt.tight_layout(pad=0)\n",
    "plt.axis('off')\n",
    "\n",
    "plt.savefig('wordcloud_image5.png', bbox_inches='tight')\n",
    "plt.show()"
   ]
  },
  {
   "cell_type": "code",
   "execution_count": null,
   "metadata": {},
   "outputs": [],
   "source": []
  }
 ],
 "metadata": {
  "kernelspec": {
   "display_name": "Python 3",
   "language": "python",
   "name": "python3"
  },
  "language_info": {
   "codemirror_mode": {
    "name": "ipython",
    "version": 3
   },
   "file_extension": ".py",
   "mimetype": "text/x-python",
   "name": "python",
   "nbconvert_exporter": "python",
   "pygments_lexer": "ipython3",
   "version": "3.6.7"
  }
 },
 "nbformat": 4,
 "nbformat_minor": 4
}
