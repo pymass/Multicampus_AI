{
 "cells": [
  {
   "cell_type": "code",
   "execution_count": null,
   "metadata": {},
   "outputs": [],
   "source": [
    "import pandas as pd\n",
    "from sklearn import svm, metrics\n",
    "from sklearn.model_selection import train_test_split\n",
    "from sklearn.preprocessing import  MinMaxScaler\n",
    "\n",
    "data = pd.read_csv(\"bmi.csv\")\n",
    "label = data[\"label\"]\n",
    "\n",
    "# w = data[\"weight\"]/100\n",
    "# h = data[\"height\"]/200\n",
    "# wh = pd.concat([w,h],axis=1)\n",
    "\n",
    "scaler = MinMaxScaler()\n",
    "wh =scaler.fit_transform(data.loc[:,[\"weight\",\"height\"]])\n",
    "\n",
    "data_train, data_test, label_train, label_test = \\\n",
    "  train_test_split(wh, label)\n",
    "\n",
    "clf = svm.SVC()\n",
    "clf.fit(data_train,label_train)\n",
    "\n",
    "pre = clf.predict(data_test)\n",
    "\n",
    "ac_score = metrics.accuracy_score(label_test,pre)\n",
    "cl_report = metrics.classification_report(label_test,pre)\n",
    "\n",
    "print(ac_score)\n",
    "print(cl_report)"
   ]
  }
 ],
 "metadata": {
  "kernelspec": {
   "display_name": "Python 3",
   "language": "python",
   "name": "python3"
  },
  "language_info": {
   "codemirror_mode": {
    "name": "ipython",
    "version": 3
   },
   "file_extension": ".py",
   "mimetype": "text/x-python",
   "name": "python",
   "nbconvert_exporter": "python",
   "pygments_lexer": "ipython3",
   "version": "3.6.7"
  }
 },
 "nbformat": 4,
 "nbformat_minor": 2
}
