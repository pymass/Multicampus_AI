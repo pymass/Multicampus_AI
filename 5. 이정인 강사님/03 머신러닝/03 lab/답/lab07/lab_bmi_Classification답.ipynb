{
 "cells": [
  {
   "cell_type": "code",
   "execution_count": 4,
   "metadata": {},
   "outputs": [
    {
     "name": "stdout",
     "output_type": "stream",
     "text": [
      "WARNING:tensorflow:From A:\\Python\\Anaconda3.5\\lib\\site-packages\\tensorflow\\python\\framework\\op_def_library.py:263: colocate_with (from tensorflow.python.framework.ops) is deprecated and will be removed in a future version.\n",
      "Instructions for updating:\n",
      "Colocations handled automatically by placer.\n"
     ]
    },
    {
     "name": "stderr",
     "output_type": "stream",
     "text": [
      "A:\\Python\\Anaconda3.5\\lib\\site-packages\\sklearn\\preprocessing\\data.py:334: DataConversionWarning: Data with input dtype int64 were all converted to float64 by MinMaxScaler.\n",
      "  return self.partial_fit(X, y)\n"
     ]
    },
    {
     "name": "stdout",
     "output_type": "stream",
     "text": [
      "step= 0 cre= 106.8153 acc= 0.6836\n",
      "step= 500 cre= 33.44731 acc= 0.9758\n",
      "step= 1000 cre= 24.252144 acc= 0.9796\n",
      "step= 1500 cre= 23.432322 acc= 0.9798\n",
      "step= 2000 cre= 18.470055 acc= 0.9818\n",
      "step= 2500 cre= 18.270721 acc= 0.9812\n",
      "step= 3000 cre= 13.019936 acc= 0.9798\n",
      "정답률 = 0.9822\n"
     ]
    }
   ],
   "source": [
    "import pandas as pd\n",
    "import numpy as np \n",
    "import tensorflow as tf \n",
    "from sklearn.preprocessing import MinMaxScaler\n",
    "\n",
    "# 키, 몸무게, 레이블이 적힌 CSV 파일 읽어 들이기\n",
    "csv = pd.read_csv(\"bmi.csv\")\n",
    "\n",
    "\n",
    "scaler = MinMaxScaler()\n",
    "wh =scaler.fit_transform(csv.loc[:,[\"weight\",\"height\"]])\n",
    "\n",
    "\n",
    "# # 데이터 정규화\n",
    "# csv[\"height\"] = csv[\"height\"] / 200\n",
    "# csv[\"weight\"] = csv[\"weight\"] / 100\n",
    "csv[\"height\"]= wh[:,1]\n",
    "csv[\"weight\"]= wh[:,0] \n",
    "\n",
    "\n",
    "# 레이블을 배열로 변환하기\n",
    "# - thin=(1,0,0) / normal=(0,1,0) / fat=(0,0,1)\n",
    "bclass = {\"thin\": [1,0,0], \"normal\": [0,1,0], \"fat\": [0,0,1]}\n",
    "csv[\"label_pat\"] = csv[\"label\"].apply(lambda x : np.array(bclass[x]))\n",
    "\n",
    "# 테스트를 위한 데이터 분류\n",
    "test_csv = csv[15000:20000]\n",
    "test_pat = test_csv[[\"weight\",\"height\"]]\n",
    "test_ans = list(test_csv[\"label_pat\"])\n",
    "\n",
    "# 데이터 플로우 그래프 구축하기\n",
    "# 플레이스홀더 선언하기\n",
    "x  = tf.placeholder(tf.float32, [None, 2]) # 키와 몸무게 데이터 넣기\n",
    "y_ = tf.placeholder(tf.float32, [None, 3]) # 정답 레이블 넣기\n",
    "\n",
    "# 변수 선언하기\n",
    "W1 = tf.Variable(tf.zeros([2, 3])); # 가중치\n",
    "b1 = tf.Variable(tf.zeros([3])); # 바이어스\n",
    "model = tf.matmul(x, W1) + b1\n",
    "\n",
    "# 소프트맥스 회귀 정의하기\n",
    "h = tf.nn.softmax(model)\n",
    "\n",
    "# 모델 훈련하기\n",
    "cross_entropy = -tf.reduce_sum(y_ * tf.log(h))\n",
    "optimizer = tf.train.GradientDescentOptimizer(0.01)\n",
    "train = optimizer.minimize(cross_entropy)\n",
    "\n",
    "# 정답률 구하기\n",
    "predict = tf.equal(tf.argmax(h, 1), tf.argmax(y_,1))\n",
    "accuracy = tf.reduce_mean(tf.cast(predict, tf.float32))\n",
    "\n",
    "# 세션 시작하기\n",
    "sess = tf.Session() \n",
    "sess.run(tf.global_variables_initializer()) # 변수 초기화하기\n",
    " \n",
    "# 학습시키기\n",
    "for step in range(3500):\n",
    "    i = (step * 100) % 14000\n",
    "    rows = csv[1 + i : 1 + i + 100]\n",
    "    x_pat = rows[[\"weight\",\"height\"]]\n",
    "    y_ans = list(rows[\"label_pat\"])\n",
    "    fd = {x: x_pat, y_: y_ans}\n",
    "    sess.run(train, feed_dict=fd)\n",
    "    if step % 500 == 0:\n",
    "        cre = sess.run(cross_entropy, feed_dict=fd)\n",
    "        acc = sess.run(accuracy, feed_dict={x: test_pat, y_: test_ans})\n",
    "        print(\"step=\", step, \"cre=\", cre, \"acc=\", acc)\n",
    "        \n",
    "# 최종적인 정답률 구하기\n",
    "acc = sess.run(accuracy, feed_dict={x: test_pat, y_: test_ans})\n",
    "print(\"정답률 =\", acc)"
   ]
  }
 ],
 "metadata": {
  "kernelspec": {
   "display_name": "Python 3",
   "language": "python",
   "name": "python3"
  },
  "language_info": {
   "codemirror_mode": {
    "name": "ipython",
    "version": 3
   },
   "file_extension": ".py",
   "mimetype": "text/x-python",
   "name": "python",
   "nbconvert_exporter": "python",
   "pygments_lexer": "ipython3",
   "version": "3.6.7"
  }
 },
 "nbformat": 4,
 "nbformat_minor": 2
}
