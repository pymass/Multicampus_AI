{
 "cells": [
  {
   "cell_type": "code",
   "execution_count": 1,
   "metadata": {},
   "outputs": [],
   "source": [
    "from konlpy.tag import Okt\n",
    "import matplotlib.pyplot as plt\n",
    "from wordcloud import WordCloud, STOPWORDS"
   ]
  },
  {
   "cell_type": "code",
   "execution_count": 5,
   "metadata": {},
   "outputs": [],
   "source": [
    "def mk_morphemes(infile, outfile) :\n",
    "    readFp = open(infile, \"r\", encoding=\"utf-8\")\n",
    "    wakati_file = outfile\n",
    "\n",
    "    writeFp = open(wakati_file, \"w\", encoding=\"utf-8\")\n",
    "\n",
    "    # 형태소 분석\n",
    "    twitter = Okt()\n",
    "    i = 0\n",
    "\n",
    "    while True:\n",
    "        line = readFp.readline()\n",
    "        if not line: break\n",
    "\n",
    "        # if i % 100 == 0:\n",
    "        #     print(\"current - \" + str(i)) #100라인에 한번씩 출력\n",
    "        # i += 1\n",
    "\n",
    "        malist = twitter.pos(line, norm=True, stem=True)\n",
    "\n",
    "        for word in malist:\n",
    "            if word[1] in [\"Noun\"]:\n",
    "                 writeFp.write(word[0] + \" \")\n",
    "    writeFp.close()"
   ]
  },
  {
   "cell_type": "code",
   "execution_count": 6,
   "metadata": {},
   "outputs": [],
   "source": [
    "mk_morphemes(\"twitter.txt\", \"twitter.m\") "
   ]
  },
  {
   "cell_type": "code",
   "execution_count": null,
   "metadata": {},
   "outputs": [],
   "source": []
  }
 ],
 "metadata": {
  "kernelspec": {
   "display_name": "Python 3",
   "language": "python",
   "name": "python3"
  },
  "language_info": {
   "codemirror_mode": {
    "name": "ipython",
    "version": 3
   },
   "file_extension": ".py",
   "mimetype": "text/x-python",
   "name": "python",
   "nbconvert_exporter": "python",
   "pygments_lexer": "ipython3",
   "version": "3.7.3"
  }
 },
 "nbformat": 4,
 "nbformat_minor": 2
}
