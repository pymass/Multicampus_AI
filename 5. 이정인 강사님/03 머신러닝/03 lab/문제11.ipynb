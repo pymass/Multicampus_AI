{
 "cells": [
  {
   "cell_type": "markdown",
   "metadata": {},
   "source": [
    "# One hot"
   ]
  },
  {
   "cell_type": "code",
   "execution_count": 1,
   "metadata": {},
   "outputs": [
    {
     "name": "stderr",
     "output_type": "stream",
     "text": [
      "Using TensorFlow backend.\n"
     ]
    }
   ],
   "source": [
    "from keras.datasets import reuters\n",
    "import numpy as np \n",
    "np_load_old = np.load\n",
    "np.load = lambda *a, **k: np_load_old(*a, allow_pickle=True, **k)\n",
    "(train_data, train_labels), (test_data, test_labels) = reuters.load_data(num_words=10000)"
   ]
  },
  {
   "cell_type": "code",
   "execution_count": 2,
   "metadata": {},
   "outputs": [],
   "source": [
    "import numpy as np\n",
    "\n",
    "def vectorize_sequences(sequences, dimension=10000):\n",
    "    # 크기가 (len(sequences), dimension))이고 모든 원소가 0인 행렬을 만듭니다\n",
    "    results = np.zeros((len(sequences), dimension))\n",
    "    for i, sequence in enumerate(sequences):\n",
    "        results[i, sequence] = 1.  # results[i]에서 특정 인덱스의 위치를 1로 만듭니다\n",
    "    return results\n",
    "\n",
    "\n",
    "# 훈련 데이터를 벡터로 변환합니다\n",
    "x_train = vectorize_sequences(train_data)\n",
    "# 테스트 데이터를 벡터로 변환합니다\n",
    "x_test = vectorize_sequences(test_data)"
   ]
  },
  {
   "cell_type": "code",
   "execution_count": 3,
   "metadata": {},
   "outputs": [
    {
     "data": {
      "text/plain": [
       "array([[0., 1., 1., ..., 0., 0., 0.],\n",
       "       [0., 1., 1., ..., 0., 0., 0.],\n",
       "       [0., 1., 1., ..., 0., 0., 0.],\n",
       "       ...,\n",
       "       [0., 1., 1., ..., 0., 0., 0.],\n",
       "       [0., 1., 1., ..., 0., 0., 0.],\n",
       "       [0., 1., 1., ..., 0., 0., 0.]])"
      ]
     },
     "execution_count": 3,
     "metadata": {},
     "output_type": "execute_result"
    }
   ],
   "source": [
    "x_train"
   ]
  },
  {
   "cell_type": "code",
   "execution_count": 3,
   "metadata": {},
   "outputs": [],
   "source": [
    "from keras.utils.np_utils import to_categorical\n",
    "\n",
    "one_hot_train_labels = to_categorical(train_labels)\n",
    "one_hot_test_labels = to_categorical(test_labels)"
   ]
  },
  {
   "cell_type": "code",
   "execution_count": 4,
   "metadata": {},
   "outputs": [
    {
     "name": "stdout",
     "output_type": "stream",
     "text": [
      "WARNING:tensorflow:From C:\\Users\\Administrator\\Anaconda3\\envs\\multicampus\\lib\\site-packages\\tensorflow\\python\\framework\\op_def_library.py:263: colocate_with (from tensorflow.python.framework.ops) is deprecated and will be removed in a future version.\n",
      "Instructions for updating:\n",
      "Colocations handled automatically by placer.\n"
     ]
    }
   ],
   "source": [
    "from keras import models\n",
    "from keras import layers\n",
    "\n",
    "model = models.Sequential()\n",
    "model.add(layers.Dense(64, activation='relu', input_shape=(10000,)))\n",
    "model.add(layers.Dense(64, activation='relu'))\n",
    "model.add(layers.Dense(46, activation='softmax'))"
   ]
  },
  {
   "cell_type": "code",
   "execution_count": 5,
   "metadata": {},
   "outputs": [],
   "source": [
    "model.compile(optimizer='adam',\n",
    "              loss='categorical_crossentropy',\n",
    "              metrics=['accuracy'])"
   ]
  },
  {
   "cell_type": "code",
   "execution_count": 6,
   "metadata": {},
   "outputs": [],
   "source": [
    "x_val = x_train[:1000]\n",
    "partial_x_train = x_train[1000:]\n",
    "\n",
    "y_val = one_hot_train_labels[:1000]\n",
    "partial_y_train = one_hot_train_labels[1000:]"
   ]
  },
  {
   "cell_type": "code",
   "execution_count": 7,
   "metadata": {},
   "outputs": [
    {
     "name": "stdout",
     "output_type": "stream",
     "text": [
      "WARNING:tensorflow:From C:\\Users\\Administrator\\Anaconda3\\envs\\multicampus\\lib\\site-packages\\tensorflow\\python\\ops\\math_ops.py:3066: to_int32 (from tensorflow.python.ops.math_ops) is deprecated and will be removed in a future version.\n",
      "Instructions for updating:\n",
      "Use tf.cast instead.\n",
      "Train on 7982 samples, validate on 1000 samples\n",
      "Epoch 1/5\n",
      "7982/7982 [==============================] - 2s 199us/step - loss: 3.2171 - acc: 0.4230 - val_loss: 2.4325 - val_acc: 0.5340\n",
      "Epoch 2/5\n",
      "7982/7982 [==============================] - 1s 124us/step - loss: 1.9500 - acc: 0.5770 - val_loss: 1.6320 - val_acc: 0.6270\n",
      "Epoch 3/5\n",
      "7982/7982 [==============================] - 1s 121us/step - loss: 1.3855 - acc: 0.6988 - val_loss: 1.3518 - val_acc: 0.7070\n",
      "Epoch 4/5\n",
      "7982/7982 [==============================] - 1s 122us/step - loss: 1.0968 - acc: 0.7605 - val_loss: 1.1884 - val_acc: 0.7410\n",
      "Epoch 5/5\n",
      "7982/7982 [==============================] - 1s 119us/step - loss: 0.8775 - acc: 0.8104 - val_loss: 1.0759 - val_acc: 0.7680\n"
     ]
    }
   ],
   "source": [
    "history = model.fit(partial_x_train,\n",
    "                   partial_y_train,\n",
    "                   epochs=10,\n",
    "                   batch_size=512,\n",
    "                   validation_data=(x_val, y_val))"
   ]
  },
  {
   "cell_type": "code",
   "execution_count": 8,
   "metadata": {},
   "outputs": [
    {
     "name": "stdout",
     "output_type": "stream",
     "text": [
      "2246/2246 [==============================] - 0s 130us/step\n"
     ]
    },
    {
     "data": {
      "text/plain": [
       "[1.1277016069033479, 0.748886910062333]"
      ]
     },
     "execution_count": 8,
     "metadata": {},
     "output_type": "execute_result"
    }
   ],
   "source": [
    "model.evaluate(x_test, one_hot_test_labels)"
   ]
  },
  {
   "cell_type": "markdown",
   "metadata": {},
   "source": [
    "# Embedding"
   ]
  },
  {
   "cell_type": "code",
   "execution_count": 9,
   "metadata": {},
   "outputs": [],
   "source": [
    "from keras.layers import Embedding\n",
    "from keras import preprocessing"
   ]
  },
  {
   "cell_type": "code",
   "execution_count": 10,
   "metadata": {},
   "outputs": [],
   "source": [
    "x_train = preprocessing.sequence.pad_sequences(train_data, maxlen=20) # 가장 빈번한 단어 최대 maxlen(20)개만\n",
    "x_test = preprocessing.sequence.pad_sequences(test_data, maxlen=20)"
   ]
  },
  {
   "cell_type": "code",
   "execution_count": 11,
   "metadata": {},
   "outputs": [
    {
     "data": {
      "text/plain": [
       "(8982, 20)"
      ]
     },
     "execution_count": 11,
     "metadata": {},
     "output_type": "execute_result"
    }
   ],
   "source": [
    "x_train.shape"
   ]
  },
  {
   "cell_type": "code",
   "execution_count": 12,
   "metadata": {},
   "outputs": [
    {
     "name": "stdout",
     "output_type": "stream",
     "text": [
      "_________________________________________________________________\n",
      "Layer (type)                 Output Shape              Param #   \n",
      "=================================================================\n",
      "embedding_1 (Embedding)      (None, 20, 256)           2560000   \n",
      "_________________________________________________________________\n",
      "flatten_1 (Flatten)          (None, 5120)              0         \n",
      "_________________________________________________________________\n",
      "dense_4 (Dense)              (None, 46)                235566    \n",
      "=================================================================\n",
      "Total params: 2,795,566\n",
      "Trainable params: 2,795,566\n",
      "Non-trainable params: 0\n",
      "_________________________________________________________________\n",
      "Train on 7185 samples, validate on 1797 samples\n",
      "Epoch 1/10\n",
      "7185/7185 [==============================] - 10s 1ms/step - loss: 2.1898 - acc: 0.4703 - val_loss: 1.8181 - val_acc: 0.5326\n",
      "Epoch 2/10\n",
      "7185/7185 [==============================] - 9s 1ms/step - loss: 1.3338 - acc: 0.6668 - val_loss: 1.6133 - val_acc: 0.5888\n",
      "Epoch 3/10\n",
      "7185/7185 [==============================] - 9s 1ms/step - loss: 0.6944 - acc: 0.8473 - val_loss: 1.6088 - val_acc: 0.6038\n",
      "Epoch 4/10\n",
      "7185/7185 [==============================] - 9s 1ms/step - loss: 0.2895 - acc: 0.9464 - val_loss: 1.6730 - val_acc: 0.5988\n",
      "Epoch 5/10\n",
      "7185/7185 [==============================] - 9s 1ms/step - loss: 0.1641 - acc: 0.9582 - val_loss: 1.7479 - val_acc: 0.5954\n",
      "Epoch 6/10\n",
      "7185/7185 [==============================] - 9s 1ms/step - loss: 0.1384 - acc: 0.9601 - val_loss: 1.7827 - val_acc: 0.5865\n",
      "Epoch 7/10\n",
      "7185/7185 [==============================] - 9s 1ms/step - loss: 0.1287 - acc: 0.9609 - val_loss: 1.8165 - val_acc: 0.5927\n",
      "Epoch 8/10\n",
      "7185/7185 [==============================] - 9s 1ms/step - loss: 0.1275 - acc: 0.9605 - val_loss: 1.8620 - val_acc: 0.5865\n",
      "Epoch 9/10\n",
      "7185/7185 [==============================] - 9s 1ms/step - loss: 0.1243 - acc: 0.9589 - val_loss: 1.9115 - val_acc: 0.5732\n",
      "Epoch 10/10\n",
      "7185/7185 [==============================] - 9s 1ms/step - loss: 0.1243 - acc: 0.9584 - val_loss: 1.8568 - val_acc: 0.5843\n"
     ]
    }
   ],
   "source": [
    "from keras.models import Sequential\n",
    "from keras.layers import Flatten, Dense, Embedding\n",
    "\n",
    "model = Sequential()\n",
    "\n",
    "# 가능한 토큰의 개수(1,0000)와 임베딩 차원(8)로 설정 \n",
    "model.add(Embedding(10000, 256, input_length=20))\n",
    "# Embedding 층의 출력 크기는 (samples, maxlen, 8)가 됨\n",
    "\n",
    "model.add(Flatten())  #(samples, maxlen * 8) 크기의 2D 텐서로 펼침\n",
    "\n",
    "\n",
    "# 분류기를 추가\n",
    "model.add(Dense(46, activation='softmax'))\n",
    "model.compile(optimizer='adam', loss='categorical_crossentropy', metrics=['acc'])\n",
    "model.summary()\n",
    "\n",
    "\n",
    "####### 학습\n",
    "\n",
    "history = model.fit(x_train, one_hot_train_labels,\n",
    "                    epochs=10,\n",
    "                    batch_size=32,\n",
    "                    validation_split=0.2)"
   ]
  },
  {
   "cell_type": "code",
   "execution_count": 13,
   "metadata": {},
   "outputs": [
    {
     "name": "stdout",
     "output_type": "stream",
     "text": [
      "2246/2246 [==============================] - 0s 30us/step\n"
     ]
    },
    {
     "data": {
      "text/plain": [
       "[1.8437447456621423, 0.5886019590648284]"
      ]
     },
     "execution_count": 13,
     "metadata": {},
     "output_type": "execute_result"
    }
   ],
   "source": [
    "model.evaluate(x_test, one_hot_test_labels)"
   ]
  },
  {
   "cell_type": "code",
   "execution_count": null,
   "metadata": {},
   "outputs": [],
   "source": []
  }
 ],
 "metadata": {
  "kernelspec": {
   "display_name": "Python 3",
   "language": "python",
   "name": "python3"
  },
  "language_info": {
   "codemirror_mode": {
    "name": "ipython",
    "version": 3
   },
   "file_extension": ".py",
   "mimetype": "text/x-python",
   "name": "python",
   "nbconvert_exporter": "python",
   "pygments_lexer": "ipython3",
   "version": "3.7.3"
  }
 },
 "nbformat": 4,
 "nbformat_minor": 4
}
