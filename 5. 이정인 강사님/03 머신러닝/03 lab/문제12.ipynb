{
 "cells": [
  {
   "cell_type": "code",
   "execution_count": 1,
   "metadata": {},
   "outputs": [
    {
     "name": "stderr",
     "output_type": "stream",
     "text": [
      "Using TensorFlow backend.\n"
     ]
    }
   ],
   "source": [
    "from keras.datasets import reuters\n",
    "import numpy as np \n",
    "np_load_old = np.load\n",
    "np.load = lambda *a, **k: np_load_old(*a, allow_pickle=True, **k)\n",
    "(train_data, train_labels), (test_data, test_labels) = reuters.load_data(num_words=10000)\n",
    "np.load = np_load_old"
   ]
  },
  {
   "cell_type": "code",
   "execution_count": 2,
   "metadata": {},
   "outputs": [],
   "source": [
    "from keras.preprocessing import sequence\n",
    "input_train = sequence.pad_sequences(train_data, maxlen=500)\n",
    "input_test = sequence.pad_sequences(test_data, maxlen=500)"
   ]
  },
  {
   "cell_type": "code",
   "execution_count": 3,
   "metadata": {},
   "outputs": [
    {
     "name": "stdout",
     "output_type": "stream",
     "text": [
      "WARNING:tensorflow:From C:\\Users\\Administrator\\Anaconda3\\envs\\multicampus\\lib\\site-packages\\tensorflow\\python\\framework\\op_def_library.py:263: colocate_with (from tensorflow.python.framework.ops) is deprecated and will be removed in a future version.\n",
      "Instructions for updating:\n",
      "Colocations handled automatically by placer.\n"
     ]
    }
   ],
   "source": [
    "from keras.layers import Embedding, SimpleRNN\n",
    "from keras.layers import Dense\n",
    "from keras.models import Sequential\n",
    "\n",
    "#### Model ################################################\n",
    "\n",
    "model = Sequential()\n",
    "model.add(Embedding(10000, 32))\n",
    "model.add(SimpleRNN(32))\n",
    "model.add(Dense(46, activation='softmax'))\n",
    "\n",
    "model.compile(optimizer='adam', loss='categorical_crossentropy', metrics=['acc'])"
   ]
  },
  {
   "cell_type": "code",
   "execution_count": 4,
   "metadata": {},
   "outputs": [],
   "source": [
    "from keras.utils.np_utils import to_categorical\n",
    "\n",
    "output_train = to_categorical(train_labels)\n",
    "output_test = to_categorical(test_labels)"
   ]
  },
  {
   "cell_type": "code",
   "execution_count": 5,
   "metadata": {},
   "outputs": [
    {
     "name": "stdout",
     "output_type": "stream",
     "text": [
      "WARNING:tensorflow:From C:\\Users\\Administrator\\Anaconda3\\envs\\multicampus\\lib\\site-packages\\tensorflow\\python\\ops\\math_ops.py:3066: to_int32 (from tensorflow.python.ops.math_ops) is deprecated and will be removed in a future version.\n",
      "Instructions for updating:\n",
      "Use tf.cast instead.\n",
      "Train on 7185 samples, validate on 1797 samples\n",
      "Epoch 1/10\n",
      "7185/7185 [==============================] - 9s 1ms/step - loss: 3.0813 - acc: 0.1953 - val_loss: 2.4678 - val_acc: 0.3450\n",
      "Epoch 2/10\n",
      "7185/7185 [==============================] - 8s 1ms/step - loss: 2.4240 - acc: 0.3534 - val_loss: 2.4018 - val_acc: 0.3450\n",
      "Epoch 3/10\n",
      "7185/7185 [==============================] - 8s 1ms/step - loss: 2.4003 - acc: 0.3534 - val_loss: 2.3910 - val_acc: 0.3450\n",
      "Epoch 4/10\n",
      "7185/7185 [==============================] - 7s 1ms/step - loss: 2.3545 - acc: 0.3688 - val_loss: 2.3324 - val_acc: 0.3584\n",
      "Epoch 5/10\n",
      "7185/7185 [==============================] - 8s 1ms/step - loss: 2.2257 - acc: 0.4402 - val_loss: 2.3124 - val_acc: 0.3912\n",
      "Epoch 6/10\n",
      "7185/7185 [==============================] - 7s 1ms/step - loss: 2.1567 - acc: 0.4761 - val_loss: 2.3089 - val_acc: 0.3829\n",
      "Epoch 7/10\n",
      "7185/7185 [==============================] - 7s 1ms/step - loss: 2.0589 - acc: 0.4952 - val_loss: 2.3303 - val_acc: 0.3812\n",
      "Epoch 8/10\n",
      "7185/7185 [==============================] - 7s 1ms/step - loss: 1.9795 - acc: 0.5126 - val_loss: 2.3546 - val_acc: 0.3817\n",
      "Epoch 9/10\n",
      "7185/7185 [==============================] - 6s 770us/step - loss: 1.8930 - acc: 0.5211 - val_loss: 2.3579 - val_acc: 0.3740\n",
      "Epoch 10/10\n",
      "7185/7185 [==============================] - 6s 780us/step - loss: 1.7505 - acc: 0.5457 - val_loss: 2.2369 - val_acc: 0.3996\n"
     ]
    }
   ],
   "source": [
    "history = model.fit(input_train, output_train,\n",
    "                   epochs=10, batch_size=128, validation_split=0.2)"
   ]
  },
  {
   "cell_type": "code",
   "execution_count": 6,
   "metadata": {},
   "outputs": [
    {
     "name": "stdout",
     "output_type": "stream",
     "text": [
      "2246/2246 [==============================] - 1s 422us/step\n"
     ]
    },
    {
     "data": {
      "text/plain": [
       "[2.228771105262709, 0.40427426538717925]"
      ]
     },
     "execution_count": 6,
     "metadata": {},
     "output_type": "execute_result"
    }
   ],
   "source": [
    "model.evaluate(input_test, output_test)"
   ]
  },
  {
   "cell_type": "code",
   "execution_count": null,
   "metadata": {},
   "outputs": [],
   "source": []
  }
 ],
 "metadata": {
  "kernelspec": {
   "display_name": "Python 3",
   "language": "python",
   "name": "python3"
  },
  "language_info": {
   "codemirror_mode": {
    "name": "ipython",
    "version": 3
   },
   "file_extension": ".py",
   "mimetype": "text/x-python",
   "name": "python",
   "nbconvert_exporter": "python",
   "pygments_lexer": "ipython3",
   "version": "3.7.3"
  }
 },
 "nbformat": 4,
 "nbformat_minor": 4
}
