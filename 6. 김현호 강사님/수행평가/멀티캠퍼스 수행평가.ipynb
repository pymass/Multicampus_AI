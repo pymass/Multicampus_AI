{
 "cells": [
  {
   "cell_type": "markdown",
   "metadata": {},
   "source": [
    "# 문제 1번"
   ]
  },
  {
   "cell_type": "code",
   "execution_count": 14,
   "metadata": {
    "ExecuteTime": {
     "end_time": "2019-09-17T08:41:14.393055Z",
     "start_time": "2019-09-17T08:41:14.388069Z"
    }
   },
   "outputs": [],
   "source": [
    "from keras.datasets import mnist"
   ]
  },
  {
   "cell_type": "code",
   "execution_count": 15,
   "metadata": {
    "ExecuteTime": {
     "end_time": "2019-09-17T08:41:15.190380Z",
     "start_time": "2019-09-17T08:41:14.925090Z"
    }
   },
   "outputs": [],
   "source": [
    "(X_train, y_train), (X_test, y_test) = mnist.load_data()"
   ]
  },
  {
   "cell_type": "markdown",
   "metadata": {},
   "source": [
    "## Preprocessing"
   ]
  },
  {
   "cell_type": "code",
   "execution_count": 16,
   "metadata": {
    "ExecuteTime": {
     "end_time": "2019-09-17T08:41:16.335352Z",
     "start_time": "2019-09-17T08:41:16.084767Z"
    }
   },
   "outputs": [],
   "source": [
    "from keras.utils import to_categorical\n",
    "\n",
    "X_train = X_train.reshape(-1, 28*28) / 255.\n",
    "X_test = X_test.reshape(-1, 28*28) / 255.\n",
    "y_train = to_categorical(y_train)\n",
    "y_test = to_categorical(y_test)"
   ]
  },
  {
   "cell_type": "code",
   "execution_count": 17,
   "metadata": {
    "ExecuteTime": {
     "end_time": "2019-09-17T08:41:16.378992Z",
     "start_time": "2019-09-17T08:41:16.374990Z"
    }
   },
   "outputs": [
    {
     "data": {
      "text/plain": [
       "(10000, 784)"
      ]
     },
     "execution_count": 17,
     "metadata": {},
     "output_type": "execute_result"
    }
   ],
   "source": [
    "X_test.shape"
   ]
  },
  {
   "cell_type": "code",
   "execution_count": 18,
   "metadata": {
    "ExecuteTime": {
     "end_time": "2019-09-17T08:41:16.496854Z",
     "start_time": "2019-09-17T08:41:16.491880Z"
    }
   },
   "outputs": [
    {
     "data": {
      "text/plain": [
       "(10000, 10)"
      ]
     },
     "execution_count": 18,
     "metadata": {},
     "output_type": "execute_result"
    }
   ],
   "source": [
    "y_test.shape"
   ]
  },
  {
   "cell_type": "markdown",
   "metadata": {},
   "source": [
    "## Modeling"
   ]
  },
  {
   "cell_type": "code",
   "execution_count": 19,
   "metadata": {
    "ExecuteTime": {
     "end_time": "2019-09-17T08:41:16.977310Z",
     "start_time": "2019-09-17T08:41:16.973346Z"
    }
   },
   "outputs": [],
   "source": [
    "from keras.models import Sequential\n",
    "from keras.layers import Dense"
   ]
  },
  {
   "cell_type": "code",
   "execution_count": 20,
   "metadata": {
    "ExecuteTime": {
     "end_time": "2019-09-17T08:41:17.347028Z",
     "start_time": "2019-09-17T08:41:17.285187Z"
    }
   },
   "outputs": [],
   "source": [
    "model = Sequential()\n",
    "model.add(Dense(64, activation='relu', input_shape=(784,)))\n",
    "model.add(Dense(16, activation='relu'))\n",
    "model.add(Dense(10, activation='softmax'))"
   ]
  },
  {
   "cell_type": "code",
   "execution_count": 21,
   "metadata": {
    "ExecuteTime": {
     "end_time": "2019-09-17T08:41:17.605348Z",
     "start_time": "2019-09-17T08:41:17.542079Z"
    }
   },
   "outputs": [],
   "source": [
    "model.compile(optimizer='adam', loss='categorical_crossentropy', metrics=['acc'])"
   ]
  },
  {
   "cell_type": "code",
   "execution_count": 22,
   "metadata": {
    "ExecuteTime": {
     "end_time": "2019-09-17T08:41:37.949039Z",
     "start_time": "2019-09-17T08:41:17.761902Z"
    }
   },
   "outputs": [
    {
     "name": "stdout",
     "output_type": "stream",
     "text": [
      "Train on 45000 samples, validate on 15000 samples\n",
      "Epoch 1/10\n",
      "45000/45000 [==============================] - 2s 55us/step - loss: 0.4375 - acc: 0.8723 - val_loss: 0.2160 - val_acc: 0.9379\n",
      "Epoch 2/10\n",
      "45000/45000 [==============================] - 2s 42us/step - loss: 0.1863 - acc: 0.9459 - val_loss: 0.1833 - val_acc: 0.9483\n",
      "Epoch 3/10\n",
      "45000/45000 [==============================] - 2s 40us/step - loss: 0.1385 - acc: 0.9599 - val_loss: 0.1474 - val_acc: 0.9559\n",
      "Epoch 4/10\n",
      "45000/45000 [==============================] - 2s 45us/step - loss: 0.1138 - acc: 0.9660 - val_loss: 0.1434 - val_acc: 0.9575\n",
      "Epoch 5/10\n",
      "45000/45000 [==============================] - 2s 42us/step - loss: 0.0943 - acc: 0.9717 - val_loss: 0.1288 - val_acc: 0.9619\n",
      "Epoch 6/10\n",
      "45000/45000 [==============================] - 2s 44us/step - loss: 0.0791 - acc: 0.9768 - val_loss: 0.1305 - val_acc: 0.9615\n",
      "Epoch 7/10\n",
      "45000/45000 [==============================] - 2s 42us/step - loss: 0.0688 - acc: 0.9794 - val_loss: 0.1226 - val_acc: 0.9662\n",
      "Epoch 8/10\n",
      "45000/45000 [==============================] - 2s 43us/step - loss: 0.0600 - acc: 0.9817 - val_loss: 0.1238 - val_acc: 0.9654\n",
      "Epoch 9/10\n",
      "45000/45000 [==============================] - 2s 43us/step - loss: 0.0552 - acc: 0.9833 - val_loss: 0.1192 - val_acc: 0.9664\n",
      "Epoch 10/10\n",
      "45000/45000 [==============================] - 2s 43us/step - loss: 0.0472 - acc: 0.9859 - val_loss: 0.1264 - val_acc: 0.9655\n"
     ]
    }
   ],
   "source": [
    "history = model.fit(X_train, y_train, batch_size=64, epochs=10, validation_split=0.25)"
   ]
  },
  {
   "cell_type": "code",
   "execution_count": 23,
   "metadata": {
    "ExecuteTime": {
     "end_time": "2019-09-17T08:41:38.184401Z",
     "start_time": "2019-09-17T08:41:37.997902Z"
    },
    "scrolled": true
   },
   "outputs": [
    {
     "data": {
      "text/plain": [
       "<matplotlib.legend.Legend at 0x21078e695f8>"
      ]
     },
     "execution_count": 23,
     "metadata": {},
     "output_type": "execute_result"
    },
    {
     "data": {
      "image/png": "[encoded data removed]",
      "text/plain": [
       "<Figure size 432x288 with 1 Axes>"
      ]
     },
     "metadata": {
      "needs_background": "light"
     },
     "output_type": "display_data"
    }
   ],
   "source": [
    "import matplotlib.pyplot as plt\n",
    "%matplotlib inline\n",
    "\n",
    "plt.plot(history.history['loss'], label='loss')\n",
    "plt.plot(history.history['val_loss'], label='val_loss')\n",
    "plt.plot(history.history['acc'], label='acc')\n",
    "plt.plot(history.history['val_acc'], label='val_acc')\n",
    "plt.xlabel('epoch')\n",
    "plt.ylabel('value')\n",
    "plt.legend(loc='best')"
   ]
  },
  {
   "cell_type": "code",
   "execution_count": 24,
   "metadata": {
    "ExecuteTime": {
     "end_time": "2019-09-17T08:41:38.488710Z",
     "start_time": "2019-09-17T08:41:38.236264Z"
    }
   },
   "outputs": [],
   "source": [
    "y_pred = model.predict_classes(X_test)"
   ]
  },
  {
   "cell_type": "code",
   "execution_count": 25,
   "metadata": {
    "ExecuteTime": {
     "end_time": "2019-09-17T08:41:38.528560Z",
     "start_time": "2019-09-17T08:41:38.522576Z"
    }
   },
   "outputs": [],
   "source": [
    "y_pred = to_categorical(y_pred)"
   ]
  },
  {
   "cell_type": "code",
   "execution_count": 26,
   "metadata": {
    "ExecuteTime": {
     "end_time": "2019-09-17T08:41:38.584412Z",
     "start_time": "2019-09-17T08:41:38.569450Z"
    }
   },
   "outputs": [
    {
     "name": "stdout",
     "output_type": "stream",
     "text": [
      "정확도: 0.971\n"
     ]
    }
   ],
   "source": [
    "from sklearn.metrics import accuracy_score\n",
    "\n",
    "print('정확도: {:.3f}'.format(accuracy_score(y_test, y_pred)))"
   ]
  },
  {
   "cell_type": "markdown",
   "metadata": {},
   "source": [
    "# 문제 2번"
   ]
  },
  {
   "cell_type": "markdown",
   "metadata": {},
   "source": [
    "## load_gym"
   ]
  },
  {
   "cell_type": "code",
   "execution_count": 1,
   "metadata": {
    "ExecuteTime": {
     "end_time": "2019-09-19T01:43:45.622521Z",
     "start_time": "2019-09-19T01:43:45.574426Z"
    }
   },
   "outputs": [],
   "source": [
    "import gym\n",
    "\n",
    "env = gym.make('CartPole-v0')"
   ]
  },
  {
   "cell_type": "markdown",
   "metadata": {},
   "source": [
    "## Modeling"
   ]
  },
  {
   "cell_type": "code",
   "execution_count": 3,
   "metadata": {
    "ExecuteTime": {
     "end_time": "2019-09-19T01:43:51.340951Z",
     "start_time": "2019-09-19T01:43:51.289089Z"
    }
   },
   "outputs": [],
   "source": [
    "from keras.models import Sequential\n",
    "from keras.layers import Dense\n",
    "\n",
    "model = Sequential()\n",
    "model.add(Dense(16, activation='relu', input_shape=(4,)))\n",
    "model.add(Dense(16, activation='relu'))\n",
    "model.add(Dense(2, activation='linear'))"
   ]
  },
  {
   "cell_type": "code",
   "execution_count": 4,
   "metadata": {
    "ExecuteTime": {
     "end_time": "2019-09-19T01:43:52.446491Z",
     "start_time": "2019-09-19T01:43:52.405129Z"
    }
   },
   "outputs": [
    {
     "name": "stderr",
     "output_type": "stream",
     "text": [
      "W0919 10:43:52.406126  5128 deprecation_wrapper.py:119] From C:\\Users\\Administrator\\.conda\\envs\\multicampus\\lib\\site-packages\\keras\\optimizers.py:790: The name tf.train.Optimizer is deprecated. Please use tf.compat.v1.train.Optimizer instead.\n",
      "\n"
     ]
    }
   ],
   "source": [
    "model.compile(optimizer='adam', loss='mse')"
   ]
  },
  {
   "cell_type": "code",
   "execution_count": 5,
   "metadata": {
    "ExecuteTime": {
     "end_time": "2019-09-19T01:43:53.659590Z",
     "start_time": "2019-09-19T01:43:53.655573Z"
    }
   },
   "outputs": [
    {
     "name": "stdout",
     "output_type": "stream",
     "text": [
      "_________________________________________________________________\n",
      "Layer (type)                 Output Shape              Param #   \n",
      "=================================================================\n",
      "dense_4 (Dense)              (None, 16)                80        \n",
      "_________________________________________________________________\n",
      "dense_5 (Dense)              (None, 16)                272       \n",
      "_________________________________________________________________\n",
      "dense_6 (Dense)              (None, 2)                 34        \n",
      "=================================================================\n",
      "Total params: 386\n",
      "Trainable params: 386\n",
      "Non-trainable params: 0\n",
      "_________________________________________________________________\n"
     ]
    }
   ],
   "source": [
    "model.summary()"
   ]
  },
  {
   "cell_type": "markdown",
   "metadata": {},
   "source": [
    "## 버퍼 지정"
   ]
  },
  {
   "cell_type": "code",
   "execution_count": 6,
   "metadata": {
    "ExecuteTime": {
     "end_time": "2019-09-19T01:43:55.368134Z",
     "start_time": "2019-09-19T01:43:55.364177Z"
    }
   },
   "outputs": [],
   "source": [
    "import collections\n",
    "\n",
    "memory = collections.deque(maxlen = 10000)"
   ]
  },
  {
   "cell_type": "markdown",
   "metadata": {},
   "source": [
    "## 사전 학습"
   ]
  },
  {
   "cell_type": "code",
   "execution_count": 7,
   "metadata": {
    "ExecuteTime": {
     "end_time": "2019-09-19T01:43:56.256306Z",
     "start_time": "2019-09-19T01:43:56.253307Z"
    }
   },
   "outputs": [],
   "source": [
    "s = env.reset()"
   ]
  },
  {
   "cell_type": "code",
   "execution_count": 8,
   "metadata": {
    "ExecuteTime": {
     "end_time": "2019-09-19T01:43:57.006838Z",
     "start_time": "2019-09-19T01:43:57.001826Z"
    }
   },
   "outputs": [],
   "source": [
    "for i in range(32):\n",
    "    action = env.action_space.sample() # np.random.randint(2)\n",
    "    s2, r, done, _ = env.step(action)\n",
    "    \n",
    "    memory.append([s, action, r, done, s2])\n",
    "    \n",
    "    s = env.reset() if done else s2 # done 이면 리셋"
   ]
  },
  {
   "cell_type": "code",
   "execution_count": 9,
   "metadata": {
    "ExecuteTime": {
     "end_time": "2019-09-19T01:43:58.322670Z",
     "start_time": "2019-09-19T01:43:58.313657Z"
    }
   },
   "outputs": [
    {
     "data": {
      "text/plain": [
       "32"
      ]
     },
     "execution_count": 9,
     "metadata": {},
     "output_type": "execute_result"
    }
   ],
   "source": [
    "len(memory)"
   ]
  },
  {
   "cell_type": "markdown",
   "metadata": {},
   "source": [
    "## 학습 실행"
   ]
  },
  {
   "cell_type": "code",
   "execution_count": 10,
   "metadata": {
    "ExecuteTime": {
     "end_time": "2019-09-19T01:44:00.025975Z",
     "start_time": "2019-09-19T01:44:00.021985Z"
    }
   },
   "outputs": [],
   "source": [
    "epsilon = 1.0 # 처음에는 탐험만 수행한다. (랜덤 행동)\n",
    "gamma = 0.99 # 감쇠율 (discount factor, 미래 보상을 얼마나 중요시할 지를 결정)\n",
    "returns = [] # 에피소드 당 총보상값을 저장한다\n",
    "count = 0"
   ]
  },
  {
   "cell_type": "code",
   "execution_count": 11,
   "metadata": {
    "ExecuteTime": {
     "end_time": "2019-09-19T01:45:56.137506Z",
     "start_time": "2019-09-19T01:44:01.231013Z"
    },
    "scrolled": true
   },
   "outputs": [
    {
     "name": "stderr",
     "output_type": "stream",
     "text": [
      "W0919 10:44:01.238992  5128 deprecation_wrapper.py:119] From C:\\Users\\Administrator\\.conda\\envs\\multicampus\\lib\\site-packages\\keras\\backend\\tensorflow_backend.py:2741: The name tf.Session is deprecated. Please use tf.compat.v1.Session instead.\n",
      "\n",
      "W0919 10:44:01.240988  5128 deprecation_wrapper.py:119] From C:\\Users\\Administrator\\.conda\\envs\\multicampus\\lib\\site-packages\\keras\\backend\\tensorflow_backend.py:174: The name tf.get_default_session is deprecated. Please use tf.compat.v1.get_default_session instead.\n",
      "\n"
     ]
    },
    {
     "name": "stdout",
     "output_type": "stream",
     "text": [
      "Episode: 1, Reward: 34, Epsilon: 0.99674\n",
      "Episode: 2, Reward: 17, Epsilon: 0.99506\n",
      "Episode: 3, Reward: 14, Epsilon: 0.99368\n",
      "Episode: 4, Reward: 11, Epsilon: 0.99260\n",
      "Episode: 5, Reward: 34, Epsilon: 0.98927\n",
      "Episode: 6, Reward: 34, Epsilon: 0.98594\n",
      "Episode: 7, Reward: 22, Epsilon: 0.98380\n",
      "Episode: 8, Reward: 15, Epsilon: 0.98234\n",
      "Episode: 9, Reward: 20, Epsilon: 0.98040\n",
      "Episode: 10, Reward: 11, Epsilon: 0.97933\n",
      "Episode: 11, Reward: 21, Epsilon: 0.97730\n",
      "Episode: 12, Reward: 19, Epsilon: 0.97546\n",
      "Episode: 13, Reward: 56, Epsilon: 0.97007\n",
      "Episode: 14, Reward: 24, Epsilon: 0.96777\n",
      "Episode: 15, Reward: 15, Epsilon: 0.96633\n",
      "Episode: 16, Reward: 12, Epsilon: 0.96518\n",
      "Episode: 17, Reward: 16, Epsilon: 0.96366\n",
      "Episode: 18, Reward: 104, Epsilon: 0.95379\n",
      "Episode: 19, Reward: 29, Epsilon: 0.95106\n",
      "Episode: 20, Reward: 12, Epsilon: 0.94993\n",
      "Episode: 21, Reward: 22, Epsilon: 0.94786\n",
      "Episode: 22, Reward: 41, Epsilon: 0.94403\n",
      "Episode: 23, Reward: 20, Epsilon: 0.94216\n",
      "Episode: 24, Reward: 25, Epsilon: 0.93983\n",
      "Episode: 25, Reward: 26, Epsilon: 0.93742\n",
      "Episode: 26, Reward: 15, Epsilon: 0.93603\n",
      "Episode: 27, Reward: 24, Epsilon: 0.93381\n",
      "Episode: 28, Reward: 10, Epsilon: 0.93289\n",
      "Episode: 29, Reward: 18, Epsilon: 0.93123\n",
      "Episode: 30, Reward: 26, Epsilon: 0.92883\n",
      "Episode: 31, Reward: 21, Epsilon: 0.92691\n",
      "Episode: 32, Reward: 18, Epsilon: 0.92526\n",
      "Episode: 33, Reward: 18, Epsilon: 0.92361\n",
      "Episode: 34, Reward: 35, Epsilon: 0.92042\n",
      "Episode: 35, Reward: 12, Epsilon: 0.91933\n",
      "Episode: 36, Reward: 13, Epsilon: 0.91815\n",
      "Episode: 37, Reward: 32, Epsilon: 0.91524\n",
      "Episode: 38, Reward: 11, Epsilon: 0.91425\n",
      "Episode: 39, Reward: 25, Epsilon: 0.91199\n",
      "Episode: 40, Reward: 17, Epsilon: 0.91046\n",
      "Episode: 41, Reward: 29, Epsilon: 0.90785\n",
      "Episode: 42, Reward: 17, Epsilon: 0.90633\n",
      "Episode: 43, Reward: 65, Epsilon: 0.90052\n",
      "Episode: 44, Reward: 31, Epsilon: 0.89776\n",
      "Episode: 45, Reward: 21, Epsilon: 0.89590\n",
      "Episode: 46, Reward: 29, Epsilon: 0.89334\n",
      "Episode: 47, Reward: 23, Epsilon: 0.89131\n",
      "Episode: 48, Reward: 22, Epsilon: 0.88937\n",
      "Episode: 49, Reward: 58, Epsilon: 0.88428\n",
      "Episode: 50, Reward: 18, Epsilon: 0.88271\n",
      "Episode: 51, Reward: 30, Epsilon: 0.88010\n",
      "Episode: 52, Reward: 44, Epsilon: 0.87628\n",
      "Episode: 53, Reward: 24, Epsilon: 0.87420\n",
      "Episode: 54, Reward: 13, Epsilon: 0.87308\n",
      "Episode: 55, Reward: 43, Epsilon: 0.86937\n",
      "Episode: 56, Reward: 27, Epsilon: 0.86706\n",
      "Episode: 57, Reward: 27, Epsilon: 0.86475\n",
      "Episode: 58, Reward: 20, Epsilon: 0.86304\n",
      "Episode: 59, Reward: 57, Epsilon: 0.85819\n",
      "Episode: 60, Reward: 24, Epsilon: 0.85616\n",
      "Episode: 61, Reward: 13, Epsilon: 0.85506\n",
      "Episode: 62, Reward: 50, Epsilon: 0.85084\n",
      "Episode: 63, Reward: 43, Epsilon: 0.84724\n",
      "Episode: 64, Reward: 28, Epsilon: 0.84489\n",
      "Episode: 65, Reward: 37, Epsilon: 0.84181\n",
      "Episode: 66, Reward: 30, Epsilon: 0.83932\n",
      "Episode: 67, Reward: 19, Epsilon: 0.83774\n",
      "Episode: 68, Reward: 23, Epsilon: 0.83584\n",
      "Episode: 69, Reward: 65, Epsilon: 0.83049\n",
      "Episode: 70, Reward: 24, Epsilon: 0.82853\n",
      "Episode: 71, Reward: 14, Epsilon: 0.82738\n",
      "Episode: 72, Reward: 12, Epsilon: 0.82640\n",
      "Episode: 73, Reward: 30, Epsilon: 0.82395\n",
      "Episode: 74, Reward: 11, Epsilon: 0.82306\n",
      "Episode: 75, Reward: 18, Epsilon: 0.82160\n",
      "Episode: 76, Reward: 18, Epsilon: 0.82014\n",
      "Episode: 77, Reward: 15, Epsilon: 0.81892\n",
      "Episode: 78, Reward: 37, Epsilon: 0.81594\n",
      "Episode: 79, Reward: 19, Epsilon: 0.81441\n",
      "Episode: 80, Reward: 31, Epsilon: 0.81192\n",
      "Episode: 81, Reward: 23, Epsilon: 0.81007\n",
      "Episode: 82, Reward: 24, Epsilon: 0.80816\n",
      "Episode: 83, Reward: 18, Epsilon: 0.80672\n",
      "Episode: 84, Reward: 17, Epsilon: 0.80537\n",
      "Episode: 85, Reward: 27, Epsilon: 0.80322\n",
      "Episode: 86, Reward: 11, Epsilon: 0.80235\n",
      "Episode: 87, Reward: 73, Epsilon: 0.79659\n",
      "Episode: 88, Reward: 29, Epsilon: 0.79431\n",
      "Episode: 89, Reward: 21, Epsilon: 0.79267\n",
      "Episode: 90, Reward: 43, Epsilon: 0.78931\n",
      "Episode: 91, Reward: 42, Epsilon: 0.78604\n",
      "Episode: 92, Reward: 14, Epsilon: 0.78495\n",
      "Episode: 93, Reward: 32, Epsilon: 0.78248\n",
      "Episode: 94, Reward: 41, Epsilon: 0.77932\n",
      "Episode: 95, Reward: 66, Epsilon: 0.77426\n",
      "Episode: 96, Reward: 14, Epsilon: 0.77319\n",
      "Episode: 97, Reward: 34, Epsilon: 0.77060\n",
      "Episode: 98, Reward: 14, Epsilon: 0.76953\n",
      "Episode: 99, Reward: 58, Epsilon: 0.76514\n",
      "Episode: 100, Reward: 25, Epsilon: 0.76326\n",
      "Episode: 101, Reward: 17, Epsilon: 0.76198\n",
      "Episode: 102, Reward: 56, Epsilon: 0.75778\n",
      "Episode: 103, Reward: 12, Epsilon: 0.75688\n",
      "Episode: 104, Reward: 21, Epsilon: 0.75531\n",
      "Episode: 105, Reward: 48, Epsilon: 0.75174\n",
      "Episode: 106, Reward: 29, Epsilon: 0.74960\n",
      "Episode: 107, Reward: 42, Epsilon: 0.74650\n",
      "Episode: 108, Reward: 57, Epsilon: 0.74231\n",
      "Episode: 109, Reward: 16, Epsilon: 0.74114\n",
      "Episode: 110, Reward: 57, Epsilon: 0.73698\n",
      "Episode: 111, Reward: 30, Epsilon: 0.73481\n",
      "Episode: 112, Reward: 65, Epsilon: 0.73011\n",
      "Episode: 113, Reward: 52, Epsilon: 0.72638\n",
      "Episode: 114, Reward: 34, Epsilon: 0.72394\n",
      "Episode: 115, Reward: 30, Epsilon: 0.72181\n",
      "Episode: 116, Reward: 71, Epsilon: 0.71677\n",
      "Episode: 117, Reward: 45, Epsilon: 0.71360\n",
      "Episode: 118, Reward: 107, Epsilon: 0.70611\n",
      "Episode: 119, Reward: 57, Epsilon: 0.70215\n",
      "Episode: 120, Reward: 25, Epsilon: 0.70042\n",
      "Episode: 121, Reward: 20, Epsilon: 0.69904\n",
      "Episode: 122, Reward: 17, Epsilon: 0.69787\n",
      "Episode: 123, Reward: 22, Epsilon: 0.69636\n",
      "Episode: 124, Reward: 109, Epsilon: 0.68892\n",
      "Episode: 125, Reward: 24, Epsilon: 0.68729\n",
      "Episode: 126, Reward: 37, Epsilon: 0.68479\n",
      "Episode: 127, Reward: 100, Epsilon: 0.67808\n",
      "Episode: 128, Reward: 26, Epsilon: 0.67634\n",
      "Episode: 129, Reward: 18, Epsilon: 0.67514\n",
      "Episode: 130, Reward: 52, Epsilon: 0.67170\n",
      "Episode: 131, Reward: 59, Epsilon: 0.66780\n",
      "Episode: 132, Reward: 64, Epsilon: 0.66361\n",
      "Episode: 133, Reward: 142, Epsilon: 0.65439\n",
      "Episode: 134, Reward: 125, Epsilon: 0.64639\n",
      "Episode: 135, Reward: 23, Epsilon: 0.64492\n",
      "Episode: 136, Reward: 52, Epsilon: 0.64163\n",
      "Episode: 137, Reward: 102, Epsilon: 0.63522\n",
      "Episode: 138, Reward: 79, Epsilon: 0.63030\n",
      "Episode: 139, Reward: 50, Epsilon: 0.62721\n",
      "Episode: 140, Reward: 28, Epsilon: 0.62548\n",
      "Episode: 141, Reward: 44, Epsilon: 0.62278\n",
      "Episode: 142, Reward: 62, Epsilon: 0.61899\n",
      "Episode: 143, Reward: 25, Epsilon: 0.61747\n",
      "Episode: 144, Reward: 25, Epsilon: 0.61595\n",
      "Episode: 145, Reward: 35, Epsilon: 0.61384\n",
      "Episode: 146, Reward: 65, Epsilon: 0.60993\n",
      "Episode: 147, Reward: 115, Epsilon: 0.60307\n",
      "Episode: 148, Reward: 66, Epsilon: 0.59916\n",
      "Episode: 149, Reward: 124, Epsilon: 0.59190\n",
      "Episode: 150, Reward: 53, Epsilon: 0.58883\n",
      "Episode: 151, Reward: 81, Epsilon: 0.58416\n",
      "Episode: 152, Reward: 31, Epsilon: 0.58238\n",
      "Episode: 153, Reward: 200, Epsilon: 0.57105\n"
     ]
    }
   ],
   "source": [
    "for episode in range(500):\n",
    "    \n",
    "    total_reward = 0 # 에피소스당 총보상값\n",
    "    \n",
    "    s = env.reset()\n",
    "    \n",
    "    for i in range(200): # 한 에피소드당 최대 200번만 행동한다\n",
    "        \n",
    "        ### 탐험 확률 지정 (1 부터 시작해서 점점 낮아지다 최소값은 1%)\n",
    "        epsilon = 0.01 + (1-0.01)*np.exp(-0.0001*count)\n",
    "        count += 1\n",
    "        \n",
    "        if np.random.rand() < epsilon:\n",
    "            action = env.action_space.sample() # 랜덤 행동\n",
    "        else:\n",
    "            action = np.argmax(model.predict(s.reshape(1,4))[0]) # Q값이 높은 행동 선택\n",
    "            \n",
    "        s2, r, done, _ = env.step(action)\n",
    "        \n",
    "        total_reward += r\n",
    "        \n",
    "        memory.append([s, action, r, done, s2])\n",
    "        \n",
    "        ### 학습 (배치크기는 32)\n",
    "        indices = np.random.choice(len(memory), 32, replace=False)\n",
    "        samples = [memory[i] for i in indices]\n",
    "        \n",
    "        X = np.zeros([32,4]) # 입력 상태값\n",
    "        y = np.zeros([32,2]) # 목표 Q값\n",
    "        \n",
    "        for i, sample in enumerate(samples): # sample -> [s,a,r,done,s2]\n",
    "            X[i] = sample[0]\n",
    "            y[i] = model.predict(sample[0].reshape(1,4))[0]\n",
    "            \n",
    "            if sample[3] == True: # done\n",
    "                y[i][sample[1]] = sample[2]\n",
    "            else:\n",
    "                y[i][sample[1]] = sample[2] + gamma*np.max(model.predict(sample[-1].reshape(1,4))[0])\n",
    "                \n",
    "        model.fit(X, y, epochs=1, verbose=False)\n",
    "        \n",
    "        if done:\n",
    "            break\n",
    "        else:\n",
    "            s = s2\n",
    "\n",
    "    if total_reward == 200:\n",
    "        print('Episode: %d, Reward: %d, Epsilon: %.5f' % (episode+1, total_reward, epsilon))\n",
    "        returns.append(total_reward)\n",
    "        break\n",
    "    else:\n",
    "        print('Episode: %d, Reward: %d, Epsilon: %.5f' % (episode+1, total_reward, epsilon))\n",
    "        returns.append(total_reward)"
   ]
  },
  {
   "cell_type": "markdown",
   "metadata": {},
   "source": [
    "## 게임 테스트"
   ]
  },
  {
   "cell_type": "code",
   "execution_count": 12,
   "metadata": {
    "ExecuteTime": {
     "end_time": "2019-09-19T01:46:25.397651Z",
     "start_time": "2019-09-19T01:46:08.506442Z"
    }
   },
   "outputs": [
    {
     "name": "stdout",
     "output_type": "stream",
     "text": [
      "Epoch: 1, Count: 200\n",
      "[ 1.92816835  1.84725366  0.17989148 -0.0732778 ] 1.0 True {'TimeLimit.truncated': True}\n",
      "Epoch: 2, Count: 200\n",
      "[-1.51189578 -1.50089262 -0.1521234  -0.11701788] 1.0 True {'TimeLimit.truncated': True}\n",
      "Epoch: 3, Count: 200\n",
      "[-0.33190939 -0.38521077 -0.05431959  0.13789518] 1.0 True {'TimeLimit.truncated': True}\n",
      "Epoch: 4, Count: 200\n",
      "[-0.75084345 -0.76578144 -0.08446102 -0.120728  ] 1.0 True {'TimeLimit.truncated': True}\n",
      "Epoch: 5, Count: 200\n",
      "[1.51912138 1.11997732 0.12545976 0.37173244] 1.0 True {'TimeLimit.truncated': True}\n"
     ]
    }
   ],
   "source": [
    "for epoch in range(5):\n",
    "    env.reset()\n",
    "    \n",
    "    done = False\n",
    "    n = 0\n",
    "    while not done:\n",
    "        a = np.argmax(model.predict(s.reshape(1,4))[0])\n",
    "        s, r, done, info = env.step(a)\n",
    "        n += 1\n",
    "        env.render()\n",
    "        \n",
    "    print('Epoch: %d, Count: %d' % (epoch+1, n))\n",
    "    print(s, r, done, info)"
   ]
  },
  {
   "cell_type": "code",
   "execution_count": 13,
   "metadata": {
    "ExecuteTime": {
     "end_time": "2019-09-19T01:46:37.918132Z",
     "start_time": "2019-09-19T01:46:37.892202Z"
    }
   },
   "outputs": [],
   "source": [
    "env.close()"
   ]
  },
  {
   "cell_type": "markdown",
   "metadata": {},
   "source": [
    "# 문제 3번"
   ]
  },
  {
   "cell_type": "markdown",
   "metadata": {},
   "source": [
    "## Preprocessing"
   ]
  },
  {
   "cell_type": "code",
   "execution_count": 1,
   "metadata": {
    "ExecuteTime": {
     "end_time": "2019-09-19T02:45:07.669838Z",
     "start_time": "2019-09-19T02:45:05.120334Z"
    }
   },
   "outputs": [
    {
     "name": "stderr",
     "output_type": "stream",
     "text": [
      "Using TensorFlow backend.\n"
     ]
    }
   ],
   "source": [
    "from keras.datasets import mnist\n",
    "import pandas as pd"
   ]
  },
  {
   "cell_type": "code",
   "execution_count": 2,
   "metadata": {
    "ExecuteTime": {
     "end_time": "2019-09-19T02:45:08.063750Z",
     "start_time": "2019-09-19T02:45:07.807409Z"
    }
   },
   "outputs": [],
   "source": [
    "(X_train, y_train), (X_test, y_test) = mnist.load_data()"
   ]
  },
  {
   "cell_type": "code",
   "execution_count": 3,
   "metadata": {
    "ExecuteTime": {
     "end_time": "2019-09-19T02:45:08.493740Z",
     "start_time": "2019-09-19T02:45:08.242245Z"
    }
   },
   "outputs": [],
   "source": [
    "X_train = X_train / 255\n",
    "X_test = X_test / 255"
   ]
  },
  {
   "cell_type": "code",
   "execution_count": 4,
   "metadata": {
    "ExecuteTime": {
     "end_time": "2019-09-19T02:45:08.762908Z",
     "start_time": "2019-09-19T02:45:08.689085Z"
    }
   },
   "outputs": [],
   "source": [
    "X_train = X_train[y_train == 7].reshape(-1, 28, 28, 1)\n",
    "X_test = X_test[y_test == 7].reshape(-1, 28, 28, 1)"
   ]
  },
  {
   "cell_type": "markdown",
   "metadata": {},
   "source": [
    "## Modeling"
   ]
  },
  {
   "cell_type": "markdown",
   "metadata": {},
   "source": [
    "### 판별자 정의"
   ]
  },
  {
   "cell_type": "code",
   "execution_count": 7,
   "metadata": {
    "ExecuteTime": {
     "end_time": "2019-09-19T02:20:20.709138Z",
     "start_time": "2019-09-19T02:20:20.705149Z"
    }
   },
   "outputs": [],
   "source": [
    "from keras.models import Model\n",
    "from keras.layers import Input, Dense, Conv2D, Conv2DTranspose, Flatten, Reshape, LeakyReLU, BatchNormalization, Activation\n",
    "from keras.optimizers import RMSprop"
   ]
  },
  {
   "cell_type": "code",
   "execution_count": 8,
   "metadata": {
    "ExecuteTime": {
     "end_time": "2019-09-19T02:20:22.226080Z",
     "start_time": "2019-09-19T02:20:22.111386Z"
    }
   },
   "outputs": [
    {
     "name": "stderr",
     "output_type": "stream",
     "text": [
      "WARNING: Logging before flag parsing goes to stderr.\n",
      "W0919 11:20:22.115376  8972 deprecation_wrapper.py:119] From C:\\Users\\Administrator\\.conda\\envs\\multicampus\\lib\\site-packages\\keras\\backend\\tensorflow_backend.py:74: The name tf.get_default_graph is deprecated. Please use tf.compat.v1.get_default_graph instead.\n",
      "\n",
      "W0919 11:20:22.129339  8972 deprecation_wrapper.py:119] From C:\\Users\\Administrator\\.conda\\envs\\multicampus\\lib\\site-packages\\keras\\backend\\tensorflow_backend.py:517: The name tf.placeholder is deprecated. Please use tf.compat.v1.placeholder instead.\n",
      "\n",
      "W0919 11:20:22.134325  8972 deprecation_wrapper.py:119] From C:\\Users\\Administrator\\.conda\\envs\\multicampus\\lib\\site-packages\\keras\\backend\\tensorflow_backend.py:4138: The name tf.random_uniform is deprecated. Please use tf.random.uniform instead.\n",
      "\n"
     ]
    },
    {
     "name": "stdout",
     "output_type": "stream",
     "text": [
      "_________________________________________________________________\n",
      "Layer (type)                 Output Shape              Param #   \n",
      "=================================================================\n",
      "input_1 (InputLayer)         (None, 28, 28, 1)         0         \n",
      "_________________________________________________________________\n",
      "leaky_re_lu_1 (LeakyReLU)    (None, 28, 28, 1)         0         \n",
      "_________________________________________________________________\n",
      "conv2d_1 (Conv2D)            (None, 14, 14, 32)        832       \n",
      "_________________________________________________________________\n",
      "leaky_re_lu_2 (LeakyReLU)    (None, 14, 14, 32)        0         \n",
      "_________________________________________________________________\n",
      "conv2d_2 (Conv2D)            (None, 7, 7, 64)          51264     \n",
      "_________________________________________________________________\n",
      "leaky_re_lu_3 (LeakyReLU)    (None, 7, 7, 64)          0         \n",
      "_________________________________________________________________\n",
      "conv2d_3 (Conv2D)            (None, 4, 4, 128)         204928    \n",
      "_________________________________________________________________\n",
      "leaky_re_lu_4 (LeakyReLU)    (None, 4, 4, 128)         0         \n",
      "_________________________________________________________________\n",
      "conv2d_4 (Conv2D)            (None, 4, 4, 256)         819456    \n",
      "_________________________________________________________________\n",
      "flatten_1 (Flatten)          (None, 4096)              0         \n",
      "_________________________________________________________________\n",
      "dense_1 (Dense)              (None, 1)                 4097      \n",
      "=================================================================\n",
      "Total params: 1,080,577\n",
      "Trainable params: 1,080,577\n",
      "Non-trainable params: 0\n",
      "_________________________________________________________________\n"
     ]
    }
   ],
   "source": [
    "input = Input((28,28,1))\n",
    "x = LeakyReLU(alpha=0.2)(input)\n",
    "\n",
    "x = Conv2D(32, (5,5), strides=2, padding='same')(x)\n",
    "x = LeakyReLU(alpha=0.2)(x)\n",
    "\n",
    "x = Conv2D(64, (5,5), strides=2, padding='same')(x)\n",
    "x = LeakyReLU(alpha=0.2)(x)\n",
    "\n",
    "x = Conv2D(128, (5,5), strides=2, padding='same')(x)\n",
    "x = LeakyReLU(alpha=0.2)(x)\n",
    "\n",
    "x = Conv2D(256, (5,5), strides=1, padding='same')(x)\n",
    "\n",
    "x = Flatten()(x)\n",
    "x = Dense(1, activation='sigmoid')(x)\n",
    "\n",
    "discriminator = Model(input, x)\n",
    "discriminator.summary()"
   ]
  },
  {
   "cell_type": "code",
   "execution_count": 9,
   "metadata": {
    "ExecuteTime": {
     "end_time": "2019-09-19T02:20:23.614416Z",
     "start_time": "2019-09-19T02:20:23.560512Z"
    }
   },
   "outputs": [
    {
     "name": "stderr",
     "output_type": "stream",
     "text": [
      "W0919 11:20:23.577464  8972 deprecation_wrapper.py:119] From C:\\Users\\Administrator\\.conda\\envs\\multicampus\\lib\\site-packages\\keras\\optimizers.py:790: The name tf.train.Optimizer is deprecated. Please use tf.compat.v1.train.Optimizer instead.\n",
      "\n",
      "W0919 11:20:23.582452  8972 deprecation_wrapper.py:119] From C:\\Users\\Administrator\\.conda\\envs\\multicampus\\lib\\site-packages\\keras\\backend\\tensorflow_backend.py:3376: The name tf.log is deprecated. Please use tf.math.log instead.\n",
      "\n",
      "W0919 11:20:23.587446  8972 deprecation.py:323] From C:\\Users\\Administrator\\.conda\\envs\\multicampus\\lib\\site-packages\\tensorflow\\python\\ops\\nn_impl.py:180: add_dispatch_support.<locals>.wrapper (from tensorflow.python.ops.array_ops) is deprecated and will be removed in a future version.\n",
      "Instructions for updating:\n",
      "Use tf.where in 2.0, which has the same broadcast rule as np.where\n"
     ]
    }
   ],
   "source": [
    "discriminator.compile(loss='binary_crossentropy',\n",
    "                      optimizer=RMSprop(lr=2e-4, decay=6e-8), metrics=['acc'])"
   ]
  },
  {
   "cell_type": "markdown",
   "metadata": {},
   "source": [
    "### 생성자 정의"
   ]
  },
  {
   "cell_type": "code",
   "execution_count": 10,
   "metadata": {
    "ExecuteTime": {
     "end_time": "2019-09-19T02:20:25.647925Z",
     "start_time": "2019-09-19T02:20:24.977719Z"
    }
   },
   "outputs": [
    {
     "name": "stderr",
     "output_type": "stream",
     "text": [
      "W0919 11:20:25.019642  8972 deprecation_wrapper.py:119] From C:\\Users\\Administrator\\.conda\\envs\\multicampus\\lib\\site-packages\\keras\\backend\\tensorflow_backend.py:174: The name tf.get_default_session is deprecated. Please use tf.compat.v1.get_default_session instead.\n",
      "\n",
      "W0919 11:20:25.138290  8972 deprecation_wrapper.py:119] From C:\\Users\\Administrator\\.conda\\envs\\multicampus\\lib\\site-packages\\keras\\backend\\tensorflow_backend.py:1834: The name tf.nn.fused_batch_norm is deprecated. Please use tf.compat.v1.nn.fused_batch_norm instead.\n",
      "\n"
     ]
    },
    {
     "name": "stdout",
     "output_type": "stream",
     "text": [
      "_________________________________________________________________\n",
      "Layer (type)                 Output Shape              Param #   \n",
      "=================================================================\n",
      "input_2 (InputLayer)         (None, 100)               0         \n",
      "_________________________________________________________________\n",
      "dense_2 (Dense)              (None, 6272)              633472    \n",
      "_________________________________________________________________\n",
      "reshape_1 (Reshape)          (None, 7, 7, 128)         0         \n",
      "_________________________________________________________________\n",
      "batch_normalization_1 (Batch (None, 7, 7, 128)         512       \n",
      "_________________________________________________________________\n",
      "activation_1 (Activation)    (None, 7, 7, 128)         0         \n",
      "_________________________________________________________________\n",
      "conv2d_transpose_1 (Conv2DTr (None, 14, 14, 128)       409728    \n",
      "_________________________________________________________________\n",
      "batch_normalization_2 (Batch (None, 14, 14, 128)       512       \n",
      "_________________________________________________________________\n",
      "activation_2 (Activation)    (None, 14, 14, 128)       0         \n",
      "_________________________________________________________________\n",
      "conv2d_transpose_2 (Conv2DTr (None, 28, 28, 64)        204864    \n",
      "_________________________________________________________________\n",
      "batch_normalization_3 (Batch (None, 28, 28, 64)        256       \n",
      "_________________________________________________________________\n",
      "activation_3 (Activation)    (None, 28, 28, 64)        0         \n",
      "_________________________________________________________________\n",
      "conv2d_transpose_3 (Conv2DTr (None, 28, 28, 32)        51232     \n",
      "_________________________________________________________________\n",
      "batch_normalization_4 (Batch (None, 28, 28, 32)        128       \n",
      "_________________________________________________________________\n",
      "activation_4 (Activation)    (None, 28, 28, 32)        0         \n",
      "_________________________________________________________________\n",
      "conv2d_transpose_4 (Conv2DTr (None, 28, 28, 1)         801       \n",
      "_________________________________________________________________\n",
      "activation_5 (Activation)    (None, 28, 28, 1)         0         \n",
      "=================================================================\n",
      "Total params: 1,301,505\n",
      "Trainable params: 1,300,801\n",
      "Non-trainable params: 704\n",
      "_________________________________________________________________\n"
     ]
    }
   ],
   "source": [
    "input2 = Input((100,)) # 생성벡터는 100차원\n",
    "\n",
    "x2 = Dense(7*7*128)(input2) # 랜덤 이미지가 입력됨\n",
    "\n",
    "x2 = Reshape((7,7,128))(x2)\n",
    "\n",
    "x2 = BatchNormalization()(x2)\n",
    "x2 = Activation('relu')(x2)\n",
    "\n",
    "x2 = Conv2DTranspose(128, (5,5), strides=2, padding='same')(x2)\n",
    "x2 = BatchNormalization()(x2)\n",
    "x2 = Activation('relu')(x2)\n",
    "\n",
    "x2 = Conv2DTranspose(64, (5,5), strides=2, padding='same')(x2)\n",
    "x2 = BatchNormalization()(x2)\n",
    "x2 = Activation('relu')(x2)\n",
    "\n",
    "x2 = Conv2DTranspose(32, (5,5), strides=1, padding='same')(x2)\n",
    "x2 = BatchNormalization()(x2)\n",
    "x2 = Activation('relu')(x2)\n",
    "\n",
    "x2 = Conv2DTranspose(1, (5,5), strides=1, padding='same')(x2)\n",
    "x2 = Activation('sigmoid')(x2)\n",
    "\n",
    "generator = Model(input2, x2)\n",
    "generator.summary()"
   ]
  },
  {
   "cell_type": "markdown",
   "metadata": {},
   "source": [
    "### 적대망 정의"
   ]
  },
  {
   "cell_type": "code",
   "execution_count": 11,
   "metadata": {
    "ExecuteTime": {
     "end_time": "2019-09-19T02:20:27.364370Z",
     "start_time": "2019-09-19T02:20:26.985349Z"
    }
   },
   "outputs": [
    {
     "name": "stdout",
     "output_type": "stream",
     "text": [
      "_________________________________________________________________\n",
      "Layer (type)                 Output Shape              Param #   \n",
      "=================================================================\n",
      "input_2 (InputLayer)         (None, 100)               0         \n",
      "_________________________________________________________________\n",
      "model_2 (Model)              (None, 28, 28, 1)         1301505   \n",
      "_________________________________________________________________\n",
      "model_1 (Model)              (None, 1)                 1080577   \n",
      "=================================================================\n",
      "Total params: 2,382,082\n",
      "Trainable params: 1,300,801\n",
      "Non-trainable params: 1,081,281\n",
      "_________________________________________________________________\n"
     ]
    }
   ],
   "source": [
    "discriminator.trainable = False # 모델들을 연결하여 새로운 모델을 만들 때만 적용된다\n",
    "\n",
    "adversarial = Model(input2, discriminator(generator(input2)))\n",
    "adversarial.summary()"
   ]
  },
  {
   "cell_type": "code",
   "execution_count": 12,
   "metadata": {
    "ExecuteTime": {
     "end_time": "2019-09-19T02:20:28.706810Z",
     "start_time": "2019-09-19T02:20:28.661896Z"
    }
   },
   "outputs": [],
   "source": [
    "adversarial.compile(loss='binary_crossentropy',\n",
    "            optimizer=RMSprop(lr=2e-4*0.5, decay=6e-8*0.5), metrics=['acc'])"
   ]
  },
  {
   "cell_type": "markdown",
   "metadata": {},
   "source": [
    "### 훈련하기"
   ]
  },
  {
   "cell_type": "code",
   "execution_count": 13,
   "metadata": {
    "ExecuteTime": {
     "end_time": "2019-09-19T02:40:22.231486Z",
     "start_time": "2019-09-19T02:20:29.993302Z"
    }
   },
   "outputs": [
    {
     "name": "stderr",
     "output_type": "stream",
     "text": [
      "C:\\Users\\Administrator\\.conda\\envs\\multicampus\\lib\\site-packages\\keras\\engine\\training.py:490: UserWarning: Discrepancy between trainable weights and collected trainable weights, did you set `model.trainable` without calling `model.compile` after ?\n",
      "  'Discrepancy between trainable weights and collected trainable'\n"
     ]
    },
    {
     "name": "stdout",
     "output_type": "stream",
     "text": [
      "Step: 00001,  [0.6956509, 0.171875, 0.9882995, 0.0]\n"
     ]
    },
    {
     "name": "stderr",
     "output_type": "stream",
     "text": [
      "C:\\Users\\Administrator\\.conda\\envs\\multicampus\\lib\\site-packages\\keras\\engine\\training.py:490: UserWarning: Discrepancy between trainable weights and collected trainable weights, did you set `model.trainable` without calling `model.compile` after ?\n",
      "  'Discrepancy between trainable weights and collected trainable'\n"
     ]
    },
    {
     "name": "stdout",
     "output_type": "stream",
     "text": [
      "Step: 00002,  [0.6240089, 0.78125, 1.0506119, 0.0]\n",
      "Step: 00003,  [0.48216328, 1.0, 1.5974619, 0.0]\n",
      "Step: 00004,  [0.32872373, 0.9921875, 1.6152879, 0.0]\n",
      "Step: 00005,  [0.18176392, 1.0, 3.6073284, 0.0]\n",
      "Step: 00006,  [0.21964575, 0.953125, 1.4319453, 0.0]\n",
      "Step: 00007,  [0.10245639, 1.0, 2.8972998, 0.0]\n",
      "Step: 00008,  [0.089753784, 0.9921875, 1.9222612, 0.0]\n",
      "Step: 00009,  [0.047468193, 1.0, 1.536603, 0.0]\n",
      "Step: 00010,  [0.038211513, 1.0, 1.1864903, 0.0]\n",
      "Step: 00011,  [0.03679274, 0.9921875, 0.8800403, 0.1875]\n",
      "Step: 00012,  [0.02365752, 1.0, 1.0049875, 0.109375]\n",
      "Step: 00013,  [0.029862061, 0.9921875, 0.7725997, 0.359375]\n",
      "Step: 00014,  [0.03381638, 1.0, 2.0867033, 0.0]\n",
      "Step: 00015,  [0.05688642, 0.9921875, 1.4982045, 0.0]\n",
      "Step: 00016,  [0.063565634, 0.9921875, 5.9328957, 0.0]\n",
      "Step: 00017,  [0.28727263, 0.90625, 0.44437504, 0.921875]\n",
      "Step: 00018,  [1.2599041, 0.5, 5.6201854, 0.0]\n",
      "Step: 00019,  [0.39863083, 0.875, 3.6007872, 0.0]\n",
      "Step: 00020,  [0.33374742, 0.9609375, 3.7047825, 0.0]\n",
      "Step: 00021,  [0.36829036, 0.9453125, 3.484404, 0.0]\n",
      "Step: 00022,  [0.3570121, 0.984375, 3.6283593, 0.0]\n",
      "Step: 00023,  [0.32093996, 0.984375, 3.416956, 0.0]\n",
      "Step: 00024,  [0.3146162, 0.9765625, 3.534278, 0.0]\n",
      "Step: 00025,  [0.34392568, 0.953125, 3.3498735, 0.0]\n",
      "Step: 00026,  [0.36261618, 0.953125, 3.1933763, 0.0]\n",
      "Step: 00027,  [0.30133805, 0.96875, 3.599271, 0.0]\n",
      "Step: 00028,  [0.3268817, 0.953125, 3.194334, 0.0]\n",
      "Step: 00029,  [0.3002116, 0.96875, 3.318863, 0.0]\n",
      "Step: 00030,  [0.2927251, 0.96875, 3.2236562, 0.0]\n",
      "Step: 00031,  [0.2834584, 0.9765625, 3.2371688, 0.0]\n",
      "Step: 00032,  [0.2772996, 0.96875, 3.4805162, 0.0]\n",
      "Step: 00033,  [0.27444053, 0.9609375, 2.8140044, 0.0]\n",
      "Step: 00034,  [0.28788522, 0.9375, 4.6462984, 0.0]\n",
      "Step: 00035,  [0.46424043, 0.859375, 1.065752, 0.15625]\n",
      "Step: 00036,  [0.8712198, 0.5, 4.6966867, 0.0]\n",
      "Step: 00037,  [0.5260272, 0.84375, 2.0249813, 0.0]\n",
      "Step: 00038,  [0.36221555, 0.8359375, 2.8881173, 0.0]\n",
      "Step: 00039,  [0.2884046, 0.96875, 2.601562, 0.0]\n",
      "Step: 00040,  [0.2619149, 0.9609375, 2.9309657, 0.0]\n",
      "Step: 00041,  [0.24944213, 0.9609375, 2.6601837, 0.0]\n",
      "Step: 00042,  [0.25734985, 0.984375, 2.608736, 0.0]\n",
      "Step: 00043,  [0.26226506, 0.9765625, 2.6760337, 0.0]\n",
      "Step: 00044,  [0.24357606, 0.96875, 2.8916101, 0.0]\n",
      "Step: 00045,  [0.29676127, 0.9296875, 2.15819, 0.0]\n",
      "Step: 00046,  [0.26673543, 0.953125, 4.0047474, 0.0]\n",
      "Step: 00047,  [0.3909942, 0.8828125, 0.92956716, 0.34375]\n",
      "Step: 00048,  [0.73582554, 0.5234375, 5.1048474, 0.0]\n",
      "Step: 00049,  [0.76234305, 0.671875, 1.1821113, 0.125]\n",
      "Step: 00050,  [0.48388928, 0.671875, 1.92993, 0.0]\n",
      "Step: 00051,  [0.30786973, 0.921875, 2.2107396, 0.0]\n",
      "Step: 00052,  [0.30432534, 0.921875, 2.321782, 0.0]\n",
      "Step: 00053,  [0.29646903, 0.9609375, 2.3396018, 0.0]\n",
      "Step: 00054,  [0.3299607, 0.9375, 2.3184474, 0.0]\n",
      "Step: 00055,  [0.3107674, 0.9609375, 1.6214216, 0.015625]\n",
      "Step: 00056,  [0.39060587, 0.7734375, 3.486289, 0.0]\n",
      "Step: 00057,  [0.53241, 0.8046875, 0.47210327, 0.84375]\n",
      "Step: 00058,  [0.8093238, 0.5234375, 2.3018572, 0.0]\n",
      "Step: 00059,  [0.39658186, 0.9140625, 1.3726856, 0.015625]\n",
      "Step: 00060,  [0.4574491, 0.7109375, 2.5773728, 0.0]\n",
      "Step: 00061,  [0.5147215, 0.84375, 0.66240025, 0.625]\n",
      "Step: 00062,  [0.75004745, 0.515625, 3.3353264, 0.0]\n",
      "Step: 00063,  [0.628469, 0.6484375, 0.60275453, 0.671875]\n",
      "Step: 00064,  [0.5516636, 0.5859375, 1.6007621, 0.0]\n",
      "Step: 00065,  [0.38327014, 0.890625, 1.717739, 0.0]\n",
      "Step: 00066,  [0.3895371, 0.953125, 1.5809543, 0.0]\n",
      "Step: 00067,  [0.42143762, 0.859375, 2.0117621, 0.0]\n",
      "Step: 00068,  [0.3887744, 0.9453125, 0.9330156, 0.1875]\n",
      "Step: 00069,  [0.45681554, 0.6875, 3.2341723, 0.0]\n",
      "Step: 00070,  [0.61844003, 0.6171875, 0.34875375, 0.9375]\n",
      "Step: 00071,  [0.6966213, 0.53125, 2.294475, 0.0]\n",
      "Step: 00072,  [0.391988, 0.890625, 0.9909722, 0.109375]\n",
      "Step: 00073,  [0.4731655, 0.625, 2.8224852, 0.0]\n",
      "Step: 00074,  [0.4301839, 0.796875, 0.6937623, 0.5]\n",
      "Step: 00075,  [0.5416328, 0.5234375, 3.2213733, 0.0]\n",
      "Step: 00076,  [0.53513587, 0.703125, 0.66408235, 0.578125]\n",
      "Step: 00077,  [0.5653112, 0.5390625, 2.4467893, 0.0]\n",
      "Step: 00078,  [0.4425717, 0.828125, 0.76196814, 0.34375]\n",
      "Step: 00079,  [0.5250819, 0.5625, 2.6580038, 0.0]\n",
      "Step: 00080,  [0.5008908, 0.7265625, 0.7096416, 0.5625]\n",
      "Step: 00081,  [0.5433752, 0.5859375, 2.516495, 0.0]\n",
      "Step: 00082,  [0.48005486, 0.75, 0.74582237, 0.40625]\n",
      "Step: 00083,  [0.50749576, 0.609375, 2.545463, 0.0]\n",
      "Step: 00084,  [0.5120827, 0.734375, 0.6381859, 0.625]\n",
      "Step: 00085,  [0.5499178, 0.5625, 2.4471266, 0.0]\n",
      "Step: 00086,  [0.43308485, 0.8125, 0.85315853, 0.3125]\n",
      "Step: 00087,  [0.44593444, 0.7421875, 2.1234698, 0.0]\n",
      "Step: 00088,  [0.40169138, 0.8828125, 0.95074576, 0.203125]\n",
      "Step: 00089,  [0.5071347, 0.6484375, 2.316437, 0.0]\n",
      "Step: 00090,  [0.4627057, 0.828125, 0.7057486, 0.546875]\n",
      "Step: 00091,  [0.51953363, 0.609375, 2.3174481, 0.0]\n",
      "Step: 00092,  [0.5614102, 0.6640625, 0.35314944, 1.0]\n",
      "Step: 00093,  [0.7131216, 0.515625, 2.2014894, 0.0]\n",
      "Step: 00094,  [0.5360537, 0.703125, 0.73370564, 0.453125]\n",
      "Step: 00095,  [0.5202929, 0.6328125, 1.9498949, 0.0]\n",
      "Step: 00096,  [0.4671079, 0.8046875, 0.7492654, 0.390625]\n",
      "Step: 00097,  [0.48781237, 0.71875, 2.0991914, 0.0]\n",
      "Step: 00098,  [0.46524578, 0.7890625, 0.7174918, 0.453125]\n",
      "Step: 00099,  [0.44384095, 0.7421875, 1.9836185, 0.0]\n",
      "Step: 00100,  [0.4750258, 0.8125, 0.660465, 0.578125]\n",
      "Step: 00101,  [0.54301316, 0.625, 2.2657967, 0.0]\n",
      "Step: 00102,  [0.6873839, 0.6015625, 0.27456313, 1.0]\n",
      "Step: 00103,  [0.7423594, 0.5078125, 1.6283461, 0.0]\n",
      "Step: 00104,  [0.55909383, 0.7421875, 0.667738, 0.515625]\n",
      "Step: 00105,  [0.58944845, 0.609375, 1.9021927, 0.0]\n",
      "Step: 00106,  [0.5662081, 0.65625, 0.6161931, 0.640625]\n",
      "Step: 00107,  [0.5558702, 0.65625, 2.0246043, 0.0]\n",
      "Step: 00108,  [0.5478075, 0.7109375, 0.59220403, 0.71875]\n",
      "Step: 00109,  [0.5428759, 0.59375, 2.006185, 0.0]\n",
      "Step: 00110,  [0.55020803, 0.6640625, 0.5181227, 0.828125]\n",
      "Step: 00111,  [0.60826474, 0.625, 1.9055269, 0.0]\n",
      "Step: 00112,  [0.5553466, 0.6796875, 0.6137661, 0.640625]\n",
      "Step: 00113,  [0.59238654, 0.6796875, 1.6273291, 0.015625]\n",
      "Step: 00114,  [0.52936673, 0.765625, 0.6508603, 0.578125]\n",
      "Step: 00115,  [0.63143367, 0.6171875, 1.7918268, 0.0]\n",
      "Step: 00116,  [0.59571296, 0.609375, 0.48711255, 0.796875]\n",
      "Step: 00117,  [0.6628767, 0.5390625, 2.0173607, 0.0]\n",
      "Step: 00118,  [0.6384601, 0.5625, 0.50581795, 0.84375]\n",
      "Step: 00119,  [0.6521932, 0.53125, 1.8990499, 0.0]\n",
      "Step: 00120,  [0.581118, 0.6171875, 0.7008285, 0.5]\n",
      "Step: 00121,  [0.5593703, 0.6484375, 1.6553056, 0.0]\n",
      "Step: 00122,  [0.5121845, 0.75, 0.81519973, 0.3125]\n",
      "Step: 00123,  [0.50993496, 0.7421875, 1.785592, 0.0]\n",
      "Step: 00124,  [0.5271726, 0.734375, 0.7415029, 0.453125]\n",
      "Step: 00125,  [0.5808383, 0.6171875, 2.2242095, 0.0]\n",
      "Step: 00126,  [0.6078987, 0.5234375, 0.545039, 0.75]\n",
      "Step: 00127,  [0.6247349, 0.546875, 1.7424386, 0.0]\n",
      "Step: 00128,  [0.5391192, 0.6953125, 0.6949322, 0.515625]\n",
      "Step: 00129,  [0.5734625, 0.6171875, 1.6485116, 0.0]\n",
      "Step: 00130,  [0.52615, 0.7265625, 0.7608168, 0.421875]\n",
      "Step: 00131,  [0.55504245, 0.609375, 1.9175742, 0.0]\n",
      "Step: 00132,  [0.55581975, 0.6328125, 0.6746365, 0.609375]\n",
      "Step: 00133,  [0.613562, 0.5859375, 1.8141749, 0.0]\n",
      "Step: 00134,  [0.5882422, 0.640625, 0.7468434, 0.453125]\n",
      "Step: 00135,  [0.62221295, 0.59375, 1.8307376, 0.0]\n",
      "Step: 00136,  [0.58219993, 0.6484375, 0.765767, 0.390625]\n",
      "Step: 00137,  [0.6261395, 0.5859375, 1.8957169, 0.0]\n",
      "Step: 00138,  [0.58973205, 0.59375, 0.7495388, 0.421875]\n",
      "Step: 00139,  [0.55031025, 0.6796875, 1.7834855, 0.0]\n",
      "Step: 00140,  [0.5784172, 0.6953125, 0.8252964, 0.3125]\n",
      "Step: 00141,  [0.5676309, 0.671875, 1.9661, 0.0]\n",
      "Step: 00142,  [0.5680579, 0.640625, 0.7324867, 0.453125]\n",
      "Step: 00143,  [0.63368875, 0.59375, 2.0002365, 0.0]\n",
      "Step: 00144,  [0.60686535, 0.6015625, 0.6556009, 0.578125]\n",
      "Step: 00145,  [0.6434186, 0.5546875, 1.6965832, 0.0]\n",
      "Step: 00146,  [0.6173744, 0.5859375, 0.80642426, 0.234375]\n",
      "Step: 00147,  [0.56945753, 0.6328125, 1.4554266, 0.0]\n",
      "Step: 00148,  [0.6073711, 0.6875, 0.823288, 0.265625]\n",
      "Step: 00149,  [0.5677936, 0.640625, 1.479488, 0.0]\n",
      "Step: 00150,  [0.54806066, 0.75, 0.8678835, 0.140625]\n",
      "Step: 00151,  [0.5722873, 0.6328125, 1.4780734, 0.0]\n",
      "Step: 00152,  [0.5004229, 0.890625, 1.0071106, 0.109375]\n",
      "Step: 00153,  [0.49048543, 0.765625, 1.6749983, 0.0]\n",
      "Step: 00154,  [0.4919027, 0.828125, 0.81718874, 0.359375]\n"
     ]
    },
    {
     "name": "stdout",
     "output_type": "stream",
     "text": [
      "Step: 00155,  [0.5865792, 0.6484375, 2.0572162, 0.0]\n",
      "Step: 00156,  [0.6532361, 0.5390625, 0.55066335, 0.78125]\n",
      "Step: 00157,  [0.71711326, 0.515625, 1.9732776, 0.0]\n",
      "Step: 00158,  [0.70542467, 0.5, 0.59248054, 0.6875]\n",
      "Step: 00159,  [0.6748365, 0.5390625, 1.507153, 0.0]\n",
      "Step: 00160,  [0.5783174, 0.6796875, 0.89075595, 0.25]\n",
      "Step: 00161,  [0.57155716, 0.734375, 1.3782848, 0.0]\n",
      "Step: 00162,  [0.5263894, 0.8125, 0.8715911, 0.234375]\n",
      "Step: 00163,  [0.53487766, 0.7578125, 1.6041318, 0.0]\n",
      "Step: 00164,  [0.54157996, 0.7421875, 0.83006394, 0.296875]\n",
      "Step: 00165,  [0.5539709, 0.6640625, 1.8825221, 0.0]\n",
      "Step: 00166,  [0.5899048, 0.609375, 0.5376961, 0.78125]\n",
      "Step: 00167,  [0.6570438, 0.53125, 1.627873, 0.0]\n",
      "Step: 00168,  [0.5833025, 0.640625, 0.73179734, 0.484375]\n",
      "Step: 00169,  [0.6085633, 0.6171875, 1.252309, 0.0]\n",
      "Step: 00170,  [0.5904186, 0.671875, 0.6177491, 0.671875]\n",
      "Step: 00171,  [0.6085792, 0.5703125, 1.2882197, 0.0]\n",
      "Step: 00172,  [0.605795, 0.6328125, 0.7021882, 0.53125]\n",
      "Step: 00173,  [0.58875936, 0.6875, 1.3409235, 0.0]\n",
      "Step: 00174,  [0.5443196, 0.765625, 0.7397717, 0.5]\n",
      "Step: 00175,  [0.5518565, 0.6875, 1.6496515, 0.0]\n",
      "Step: 00176,  [0.56654, 0.640625, 0.65217173, 0.640625]\n",
      "Step: 00177,  [0.6150557, 0.6171875, 1.811069, 0.0]\n",
      "Step: 00178,  [0.66544634, 0.5390625, 0.5177634, 0.796875]\n",
      "Step: 00179,  [0.61271846, 0.59375, 1.4213591, 0.0]\n",
      "Step: 00180,  [0.6147319, 0.625, 0.6980716, 0.609375]\n",
      "Step: 00181,  [0.58914286, 0.6875, 1.2610012, 0.015625]\n",
      "Step: 00182,  [0.5546098, 0.7578125, 0.8015822, 0.296875]\n",
      "Step: 00183,  [0.5947903, 0.6640625, 1.5637884, 0.0]\n",
      "Step: 00184,  [0.61240584, 0.609375, 0.49409345, 0.8125]\n",
      "Step: 00185,  [0.69586194, 0.5078125, 1.768691, 0.0]\n",
      "Step: 00186,  [0.69628346, 0.5, 0.56026685, 0.828125]\n",
      "Step: 00187,  [0.6419616, 0.5546875, 1.2280552, 0.015625]\n",
      "Step: 00188,  [0.58912516, 0.6484375, 0.7080153, 0.515625]\n",
      "Step: 00189,  [0.6270616, 0.640625, 1.2921607, 0.0]\n",
      "Step: 00190,  [0.646672, 0.5859375, 0.60947204, 0.75]\n",
      "Step: 00191,  [0.6184455, 0.609375, 1.2346613, 0.0]\n",
      "Step: 00192,  [0.63480663, 0.578125, 0.6345343, 0.65625]\n",
      "Step: 00193,  [0.63798165, 0.625, 1.3471793, 0.0]\n",
      "Step: 00194,  [0.6234753, 0.5625, 0.6258184, 0.71875]\n",
      "Step: 00195,  [0.6445112, 0.578125, 1.2480252, 0.0]\n",
      "Step: 00196,  [0.58590114, 0.640625, 0.67417693, 0.484375]\n",
      "Step: 00197,  [0.61619866, 0.609375, 1.3681192, 0.0]\n",
      "Step: 00198,  [0.6283682, 0.5546875, 0.57890177, 0.8125]\n",
      "Step: 00199,  [0.65555954, 0.546875, 1.4979433, 0.0]\n",
      "Step: 00200,  [0.65468115, 0.5390625, 0.5509073, 0.75]\n",
      "Step: 00201,  [0.644319, 0.578125, 1.3843653, 0.0]\n",
      "Step: 00202,  [0.6444111, 0.5390625, 0.6803145, 0.59375]\n",
      "Step: 00203,  [0.62256014, 0.5859375, 1.2251177, 0.0]\n",
      "Step: 00204,  [0.62055016, 0.609375, 0.69777125, 0.453125]\n",
      "Step: 00205,  [0.6136986, 0.6484375, 1.3056891, 0.0]\n",
      "Step: 00206,  [0.6176578, 0.609375, 0.6424113, 0.625]\n",
      "Step: 00207,  [0.6068834, 0.5859375, 1.3028237, 0.0]\n",
      "Step: 00208,  [0.62116337, 0.6015625, 0.56542116, 0.734375]\n",
      "Step: 00209,  [0.6572834, 0.59375, 1.3838639, 0.0]\n",
      "Step: 00210,  [0.68132186, 0.5703125, 0.6213095, 0.75]\n",
      "Step: 00211,  [0.6546955, 0.59375, 1.0995419, 0.0]\n",
      "Step: 00212,  [0.6629535, 0.5703125, 0.69659513, 0.515625]\n",
      "Step: 00213,  [0.63418937, 0.640625, 1.1103759, 0.015625]\n",
      "Step: 00214,  [0.6152948, 0.640625, 0.73435044, 0.40625]\n",
      "Step: 00215,  [0.5884296, 0.6640625, 1.1848426, 0.015625]\n",
      "Step: 00216,  [0.5954363, 0.6640625, 0.6269158, 0.671875]\n",
      "Step: 00217,  [0.62068534, 0.59375, 1.5092521, 0.0]\n",
      "Step: 00218,  [0.6348871, 0.5703125, 0.5118916, 0.921875]\n",
      "Step: 00219,  [0.701066, 0.5078125, 1.4574306, 0.015625]\n",
      "Step: 00220,  [0.7036122, 0.5078125, 0.5614229, 0.828125]\n",
      "Step: 00221,  [0.6675212, 0.5234375, 0.94824636, 0.03125]\n",
      "Step: 00222,  [0.60475814, 0.734375, 0.6499953, 0.65625]\n",
      "Step: 00223,  [0.6153747, 0.640625, 0.96773994, 0.078125]\n",
      "Step: 00224,  [0.63351804, 0.65625, 0.73105776, 0.484375]\n",
      "Step: 00225,  [0.63521546, 0.6015625, 1.2037812, 0.03125]\n",
      "Step: 00226,  [0.62660515, 0.65625, 0.627095, 0.6875]\n",
      "Step: 00227,  [0.62795335, 0.640625, 1.1444037, 0.0]\n",
      "Step: 00228,  [0.65170825, 0.6015625, 0.5835402, 0.796875]\n",
      "Step: 00229,  [0.6547447, 0.546875, 1.1992298, 0.0]\n",
      "Step: 00230,  [0.69783556, 0.5234375, 0.4434554, 0.96875]\n",
      "Step: 00231,  [0.70130044, 0.53125, 1.243295, 0.0]\n",
      "Step: 00232,  [0.69241333, 0.5234375, 0.5607914, 0.859375]\n",
      "Step: 00233,  [0.64521205, 0.5546875, 1.0642072, 0.0]\n",
      "Step: 00234,  [0.6488098, 0.5625, 0.6873936, 0.578125]\n",
      "Step: 00235,  [0.64060104, 0.6171875, 1.0695632, 0.0]\n",
      "Step: 00236,  [0.6486449, 0.5625, 0.5670574, 0.859375]\n",
      "Step: 00237,  [0.65135765, 0.5859375, 1.100937, 0.0]\n",
      "Step: 00238,  [0.65966225, 0.5234375, 0.48458776, 0.9375]\n",
      "Step: 00239,  [0.7335514, 0.5, 1.2796218, 0.0]\n",
      "Step: 00240,  [0.68410087, 0.5, 0.53433967, 0.890625]\n",
      "Step: 00241,  [0.6894176, 0.53125, 1.0583117, 0.0]\n",
      "Step: 00242,  [0.6647446, 0.5703125, 0.697568, 0.5]\n",
      "Step: 00243,  [0.65626127, 0.6171875, 1.0557834, 0.03125]\n",
      "Step: 00244,  [0.6547006, 0.6015625, 0.6653795, 0.546875]\n",
      "Step: 00245,  [0.65360403, 0.59375, 1.0987487, 0.0]\n",
      "Step: 00246,  [0.6577407, 0.546875, 0.6616956, 0.609375]\n",
      "Step: 00247,  [0.638493, 0.5546875, 1.1139841, 0.015625]\n",
      "Step: 00248,  [0.6543339, 0.5625, 0.6715818, 0.515625]\n",
      "Step: 00249,  [0.64091855, 0.640625, 1.0826494, 0.0]\n",
      "Step: 00250,  [0.64062715, 0.6171875, 0.61226285, 0.75]\n",
      "Step: 00251,  [0.64336586, 0.59375, 1.0905658, 0.0]\n",
      "Step: 00252,  [0.65616965, 0.5625, 0.50328815, 0.90625]\n",
      "Step: 00253,  [0.66773397, 0.5546875, 1.2277061, 0.0]\n",
      "Step: 00254,  [0.7101984, 0.5234375, 0.57174075, 0.828125]\n",
      "Step: 00255,  [0.65937907, 0.5546875, 1.0732751, 0.0]\n",
      "Step: 00256,  [0.65763724, 0.546875, 0.6413889, 0.6875]\n",
      "Step: 00257,  [0.6428965, 0.640625, 0.98210937, 0.0]\n",
      "Step: 00258,  [0.64623475, 0.6171875, 0.641962, 0.6875]\n",
      "Step: 00259,  [0.61997414, 0.65625, 1.0187434, 0.015625]\n",
      "Step: 00260,  [0.64432275, 0.6328125, 0.687948, 0.546875]\n",
      "Step: 00261,  [0.6285488, 0.6171875, 1.0302126, 0.0]\n",
      "Step: 00262,  [0.6663205, 0.5546875, 0.59522164, 0.8125]\n",
      "Step: 00263,  [0.64671487, 0.5625, 1.2500268, 0.0]\n",
      "Step: 00264,  [0.6527052, 0.515625, 0.5682994, 0.828125]\n",
      "Step: 00265,  [0.65442824, 0.5234375, 1.1830714, 0.0]\n",
      "Step: 00266,  [0.67270464, 0.5625, 0.5942986, 0.765625]\n",
      "Step: 00267,  [0.66162914, 0.5625, 1.1625309, 0.0]\n",
      "Step: 00268,  [0.65827, 0.546875, 0.68365383, 0.609375]\n",
      "Step: 00269,  [0.66764426, 0.546875, 0.9952325, 0.015625]\n",
      "Step: 00270,  [0.65442234, 0.5703125, 0.7356702, 0.359375]\n",
      "Step: 00271,  [0.6254427, 0.71875, 0.97770476, 0.0]\n",
      "Step: 00272,  [0.63087785, 0.6875, 0.7387005, 0.3125]\n",
      "Step: 00273,  [0.65093005, 0.640625, 0.9777264, 0.015625]\n",
      "Step: 00274,  [0.6247768, 0.6484375, 0.49722624, 0.921875]\n",
      "Step: 00275,  [0.6808188, 0.5390625, 1.1268892, 0.0]\n",
      "Step: 00276,  [0.690989, 0.53125, 0.5580203, 0.890625]\n",
      "Step: 00277,  [0.70489335, 0.546875, 1.1295439, 0.0]\n",
      "Step: 00278,  [0.6602592, 0.5234375, 0.6659685, 0.625]\n",
      "Step: 00279,  [0.62247074, 0.6328125, 1.0382284, 0.015625]\n",
      "Step: 00280,  [0.62568116, 0.640625, 0.75212216, 0.296875]\n",
      "Step: 00281,  [0.66251403, 0.65625, 0.92148924, 0.015625]\n",
      "Step: 00282,  [0.6312872, 0.6640625, 0.61934817, 0.78125]\n",
      "Step: 00283,  [0.65078056, 0.59375, 1.0326082, 0.0]\n",
      "Step: 00284,  [0.65368867, 0.59375, 0.6032644, 0.84375]\n",
      "Step: 00285,  [0.6290402, 0.5546875, 1.0656124, 0.015625]\n",
      "Step: 00286,  [0.6604425, 0.5625, 0.6342265, 0.765625]\n",
      "Step: 00287,  [0.6382283, 0.59375, 0.94598794, 0.015625]\n",
      "Step: 00288,  [0.62692595, 0.671875, 0.60261774, 0.8125]\n",
      "Step: 00289,  [0.6295367, 0.65625, 0.94176865, 0.0625]\n",
      "Step: 00290,  [0.6346189, 0.6171875, 0.60466194, 0.765625]\n",
      "Step: 00291,  [0.6666441, 0.5390625, 1.1841598, 0.0]\n",
      "Step: 00292,  [0.6833222, 0.5078125, 0.5211969, 0.953125]\n",
      "Step: 00293,  [0.6670679, 0.5546875, 1.1722869, 0.0]\n",
      "Step: 00294,  [0.679904, 0.515625, 0.6604843, 0.671875]\n",
      "Step: 00295,  [0.6629109, 0.5390625, 1.0633374, 0.0]\n",
      "Step: 00296,  [0.6595899, 0.5390625, 0.5835878, 0.890625]\n",
      "Step: 00297,  [0.63097394, 0.578125, 0.9808795, 0.0]\n",
      "Step: 00298,  [0.6358521, 0.6171875, 0.64861953, 0.703125]\n",
      "Step: 00299,  [0.6440178, 0.59375, 1.0827512, 0.0]\n",
      "Step: 00300,  [0.6334894, 0.6484375, 0.7364907, 0.40625]\n",
      "Step: 00301,  [0.6689061, 0.5703125, 1.155045, 0.0]\n",
      "Step: 00302,  [0.6363399, 0.609375, 0.5392526, 0.9375]\n",
      "Step: 00303,  [0.5804928, 0.6875, 0.7673854, 0.34375]\n"
     ]
    },
    {
     "name": "stdout",
     "output_type": "stream",
     "text": [
      "Step: 00304,  [0.5982996, 0.7421875, 0.6626049, 0.59375]\n",
      "Step: 00305,  [0.6135443, 0.6875, 0.7516565, 0.390625]\n",
      "Step: 00306,  [0.59843373, 0.7421875, 0.8307295, 0.1875]\n",
      "Step: 00307,  [0.6299803, 0.7265625, 0.82747835, 0.1875]\n",
      "Step: 00308,  [0.59989727, 0.734375, 0.7475211, 0.421875]\n",
      "Step: 00309,  [0.60053205, 0.7578125, 0.7436117, 0.4375]\n",
      "Step: 00310,  [0.64770806, 0.6328125, 0.8900292, 0.078125]\n",
      "Step: 00311,  [0.61893475, 0.65625, 0.44825387, 0.921875]\n",
      "Step: 00312,  [0.694406, 0.5703125, 1.5744776, 0.0]\n",
      "Step: 00313,  [0.7736819, 0.5, 0.43519634, 0.984375]\n",
      "Step: 00314,  [0.6557321, 0.53125, 0.9410148, 0.03125]\n",
      "Step: 00315,  [0.671603, 0.546875, 0.7193035, 0.390625]\n",
      "Step: 00316,  [0.61373305, 0.71875, 0.9789368, 0.03125]\n",
      "Step: 00317,  [0.6000899, 0.78125, 0.84709877, 0.1875]\n",
      "Step: 00318,  [0.6037182, 0.7109375, 1.0537494, 0.0625]\n",
      "Step: 00319,  [0.5958023, 0.75, 0.5540737, 0.84375]\n",
      "Step: 00320,  [0.6156622, 0.6015625, 1.0952241, 0.03125]\n",
      "Step: 00321,  [0.630989, 0.578125, 0.4063117, 0.96875]\n",
      "Step: 00322,  [0.65795356, 0.5703125, 1.0338389, 0.015625]\n",
      "Step: 00323,  [0.6498337, 0.578125, 0.56610626, 0.828125]\n",
      "Step: 00324,  [0.677656, 0.5703125, 1.0172887, 0.015625]\n",
      "Step: 00325,  [0.681728, 0.53125, 0.6652963, 0.671875]\n",
      "Step: 00326,  [0.63649595, 0.625, 1.050175, 0.0]\n",
      "Step: 00327,  [0.6478394, 0.578125, 0.6822197, 0.5625]\n",
      "Step: 00328,  [0.6340149, 0.5703125, 1.1104702, 0.0]\n",
      "Step: 00329,  [0.643605, 0.59375, 0.5742502, 0.890625]\n",
      "Step: 00330,  [0.64031875, 0.59375, 1.0712919, 0.015625]\n",
      "Step: 00331,  [0.66198194, 0.5546875, 0.60741633, 0.8125]\n",
      "Step: 00332,  [0.6469337, 0.59375, 1.0572001, 0.0]\n",
      "Step: 00333,  [0.6747695, 0.5703125, 0.5593898, 0.859375]\n",
      "Step: 00334,  [0.657665, 0.5390625, 1.1797929, 0.0]\n",
      "Step: 00335,  [0.6884706, 0.53125, 0.57611006, 0.875]\n",
      "Step: 00336,  [0.65767765, 0.515625, 1.1931627, 0.0]\n",
      "Step: 00337,  [0.65193355, 0.578125, 0.6319704, 0.734375]\n",
      "Step: 00338,  [0.61014116, 0.65625, 0.87515485, 0.21875]\n",
      "Step: 00339,  [0.6483618, 0.609375, 0.7885655, 0.25]\n",
      "Step: 00340,  [0.638973, 0.671875, 0.81559217, 0.1875]\n",
      "Step: 00341,  [0.64045334, 0.6484375, 0.7919016, 0.265625]\n",
      "Step: 00342,  [0.645861, 0.65625, 0.7883681, 0.3125]\n",
      "Step: 00343,  [0.6238599, 0.6484375, 0.7553407, 0.40625]\n",
      "Step: 00344,  [0.6444801, 0.609375, 0.74925613, 0.46875]\n",
      "Step: 00345,  [0.65111303, 0.6640625, 0.79174817, 0.28125]\n",
      "Step: 00346,  [0.6416965, 0.6796875, 0.79656416, 0.171875]\n",
      "Step: 00347,  [0.64897037, 0.6171875, 0.9088845, 0.078125]\n",
      "Step: 00348,  [0.6239979, 0.6796875, 0.5921185, 0.765625]\n",
      "Step: 00349,  [0.65564954, 0.578125, 1.2753265, 0.015625]\n",
      "Step: 00350,  [0.6920601, 0.5078125, 0.43637353, 0.9375]\n",
      "Step: 00351,  [0.7269142, 0.4921875, 1.2064607, 0.015625]\n",
      "Step: 00352,  [0.6941085, 0.5234375, 0.73224145, 0.4375]\n",
      "Step: 00353,  [0.64071584, 0.6640625, 0.86679363, 0.125]\n",
      "Step: 00354,  [0.62042505, 0.7734375, 0.79882944, 0.3125]\n",
      "Step: 00355,  [0.6462068, 0.625, 0.7924601, 0.21875]\n",
      "Step: 00356,  [0.6398249, 0.6796875, 0.7830122, 0.234375]\n",
      "Step: 00357,  [0.63244414, 0.65625, 0.6792012, 0.625]\n",
      "Step: 00358,  [0.63140297, 0.640625, 0.91886663, 0.09375]\n",
      "Step: 00359,  [0.6341688, 0.6328125, 0.65226775, 0.671875]\n",
      "Step: 00360,  [0.65236586, 0.6328125, 1.1348088, 0.0]\n",
      "Step: 00361,  [0.64439774, 0.59375, 0.5073843, 0.9375]\n",
      "Step: 00362,  [0.6969607, 0.5078125, 1.3455046, 0.0]\n",
      "Step: 00363,  [0.6959195, 0.5546875, 0.6299093, 0.6875]\n",
      "Step: 00364,  [0.6381587, 0.6875, 0.85259986, 0.140625]\n",
      "Step: 00365,  [0.6299412, 0.6875, 0.7366315, 0.3125]\n",
      "Step: 00366,  [0.6293894, 0.6640625, 0.9423337, 0.109375]\n",
      "Step: 00367,  [0.6175412, 0.7265625, 0.8049052, 0.25]\n",
      "Step: 00368,  [0.6266815, 0.6796875, 0.86400735, 0.171875]\n",
      "Step: 00369,  [0.6406206, 0.6640625, 0.6991062, 0.5]\n",
      "Step: 00370,  [0.6390821, 0.640625, 0.94591916, 0.125]\n",
      "Step: 00371,  [0.6547403, 0.6171875, 0.54702395, 0.859375]\n",
      "Step: 00372,  [0.659869, 0.5546875, 1.1971366, 0.0]\n",
      "Step: 00373,  [0.68854076, 0.53125, 0.56000215, 0.875]\n",
      "Step: 00374,  [0.6849496, 0.5234375, 1.1598514, 0.0]\n",
      "Step: 00375,  [0.67886305, 0.546875, 0.5953976, 0.78125]\n",
      "Step: 00376,  [0.6522058, 0.5703125, 0.9926744, 0.015625]\n",
      "Step: 00377,  [0.66099524, 0.5703125, 0.7081236, 0.46875]\n",
      "Step: 00378,  [0.64035624, 0.6328125, 0.7738383, 0.3125]\n",
      "Step: 00379,  [0.6438904, 0.65625, 0.7185508, 0.484375]\n",
      "Step: 00380,  [0.6102904, 0.703125, 0.70598626, 0.484375]\n",
      "Step: 00381,  [0.6402104, 0.65625, 0.86093783, 0.1875]\n",
      "Step: 00382,  [0.6277372, 0.6875, 0.6888766, 0.578125]\n",
      "Step: 00383,  [0.62610936, 0.6484375, 0.84779036, 0.140625]\n",
      "Step: 00384,  [0.6438884, 0.6875, 0.64584243, 0.6875]\n",
      "Step: 00385,  [0.64180195, 0.6015625, 0.9954224, 0.09375]\n",
      "Step: 00386,  [0.68883604, 0.5625, 0.54042447, 0.859375]\n",
      "Step: 00387,  [0.72027326, 0.5, 1.1198127, 0.015625]\n",
      "Step: 00388,  [0.6738223, 0.578125, 0.5992181, 0.671875]\n",
      "Step: 00389,  [0.6573526, 0.6015625, 1.1092796, 0.015625]\n",
      "Step: 00390,  [0.6793702, 0.5625, 0.6157495, 0.6875]\n",
      "Step: 00391,  [0.65838873, 0.5703125, 0.94857347, 0.078125]\n",
      "Step: 00392,  [0.6836542, 0.5234375, 0.585343, 0.828125]\n",
      "Step: 00393,  [0.65424955, 0.5859375, 0.9388704, 0.0]\n",
      "Step: 00394,  [0.6366426, 0.640625, 0.6630889, 0.609375]\n",
      "Step: 00395,  [0.6323398, 0.6640625, 0.93320817, 0.0625]\n",
      "Step: 00396,  [0.6496539, 0.5859375, 0.642761, 0.671875]\n",
      "Step: 00397,  [0.66365045, 0.5703125, 1.0138719, 0.0]\n",
      "Step: 00398,  [0.6876352, 0.53125, 0.5503973, 0.84375]\n",
      "Step: 00399,  [0.6566477, 0.5390625, 0.95021963, 0.046875]\n",
      "Step: 00400,  [0.63843036, 0.59375, 0.6718224, 0.578125]\n",
      "Step: 00401,  [0.6617714, 0.59375, 0.90050447, 0.0]\n",
      "Step: 00402,  [0.6361494, 0.65625, 0.76783824, 0.296875]\n",
      "Step: 00403,  [0.6359628, 0.6328125, 1.01222, 0.078125]\n",
      "Step: 00404,  [0.6749819, 0.59375, 0.69680583, 0.609375]\n",
      "Step: 00405,  [0.6255616, 0.7109375, 0.86994874, 0.078125]\n",
      "Step: 00406,  [0.6507321, 0.640625, 0.61263937, 0.71875]\n",
      "Step: 00407,  [0.67244923, 0.546875, 0.96875405, 0.0625]\n",
      "Step: 00408,  [0.60351074, 0.6875, 0.6701301, 0.5625]\n",
      "Step: 00409,  [0.682551, 0.59375, 1.2759337, 0.015625]\n",
      "Step: 00410,  [0.7457373, 0.5, 0.5230794, 0.859375]\n",
      "Step: 00411,  [0.69447064, 0.5625, 0.9427008, 0.015625]\n",
      "Step: 00412,  [0.6441706, 0.6015625, 0.65676856, 0.671875]\n",
      "Step: 00413,  [0.64228725, 0.6640625, 0.84858644, 0.21875]\n",
      "Step: 00414,  [0.6627302, 0.6328125, 0.7981951, 0.265625]\n",
      "Step: 00415,  [0.6338466, 0.6875, 0.8054267, 0.1875]\n",
      "Step: 00416,  [0.6509423, 0.640625, 0.81631553, 0.171875]\n",
      "Step: 00417,  [0.66124374, 0.625, 0.7170226, 0.5]\n",
      "Step: 00418,  [0.6237209, 0.6796875, 0.9512664, 0.015625]\n",
      "Step: 00419,  [0.6535487, 0.578125, 0.61576533, 0.703125]\n",
      "Step: 00420,  [0.627642, 0.6484375, 0.9462843, 0.125]\n",
      "Step: 00421,  [0.64060336, 0.6328125, 0.6632225, 0.609375]\n",
      "Step: 00422,  [0.6331186, 0.6484375, 1.1852362, 0.0]\n",
      "Step: 00423,  [0.71066475, 0.5390625, 0.5929584, 0.8125]\n",
      "Step: 00424,  [0.6557069, 0.59375, 0.9831419, 0.0625]\n",
      "Step: 00425,  [0.64850116, 0.609375, 0.5068821, 0.984375]\n",
      "Step: 00426,  [0.64215446, 0.609375, 0.9688692, 0.046875]\n",
      "Step: 00427,  [0.7143674, 0.4765625, 0.5735853, 0.765625]\n",
      "Step: 00428,  [0.68753576, 0.5546875, 1.044869, 0.015625]\n",
      "Step: 00429,  [0.65366477, 0.546875, 0.6351669, 0.703125]\n",
      "Step: 00430,  [0.67709804, 0.59375, 1.013116, 0.046875]\n",
      "Step: 00431,  [0.6503779, 0.578125, 0.6723365, 0.578125]\n",
      "Step: 00432,  [0.63153815, 0.640625, 0.8821285, 0.078125]\n",
      "Step: 00433,  [0.681625, 0.5625, 0.632545, 0.75]\n",
      "Step: 00434,  [0.6347978, 0.640625, 0.91645193, 0.109375]\n",
      "Step: 00435,  [0.64018476, 0.640625, 0.7372288, 0.453125]\n",
      "Step: 00436,  [0.62339675, 0.7578125, 0.86678165, 0.140625]\n",
      "Step: 00437,  [0.63734233, 0.6484375, 0.64749277, 0.625]\n",
      "Step: 00438,  [0.6259093, 0.6796875, 0.9595077, 0.078125]\n",
      "Step: 00439,  [0.67066956, 0.53125, 0.5660362, 0.796875]\n",
      "Step: 00440,  [0.6642461, 0.609375, 1.2698371, 0.0]\n",
      "Step: 00441,  [0.7157171, 0.5234375, 0.5260308, 0.90625]\n",
      "Step: 00442,  [0.6531593, 0.53125, 1.0463351, 0.03125]\n",
      "Step: 00443,  [0.63684535, 0.6171875, 0.6608021, 0.578125]\n",
      "Step: 00444,  [0.6452659, 0.6484375, 0.979512, 0.046875]\n",
      "Step: 00445,  [0.66165376, 0.6015625, 0.65095496, 0.65625]\n",
      "Step: 00446,  [0.63097656, 0.6484375, 0.8541256, 0.15625]\n",
      "Step: 00447,  [0.63706386, 0.671875, 0.6933577, 0.53125]\n",
      "Step: 00448,  [0.6642354, 0.5625, 0.8446014, 0.21875]\n",
      "Step: 00449,  [0.6419817, 0.6796875, 0.71122646, 0.515625]\n"
     ]
    },
    {
     "name": "stdout",
     "output_type": "stream",
     "text": [
      "Step: 00450,  [0.67327267, 0.578125, 0.9323681, 0.03125]\n",
      "Step: 00451,  [0.65851855, 0.640625, 0.7197881, 0.421875]\n",
      "Step: 00452,  [0.6166427, 0.71875, 0.9798709, 0.109375]\n",
      "Step: 00453,  [0.64947045, 0.6171875, 0.7150699, 0.46875]\n",
      "Step: 00454,  [0.67421305, 0.5625, 0.9253803, 0.125]\n",
      "Step: 00455,  [0.6204681, 0.6328125, 0.62917995, 0.671875]\n",
      "Step: 00456,  [0.64807487, 0.6015625, 0.9949943, 0.015625]\n",
      "Step: 00457,  [0.6761778, 0.5234375, 0.56177354, 0.8125]\n",
      "Step: 00458,  [0.6344741, 0.6171875, 1.1136432, 0.015625]\n",
      "Step: 00459,  [0.6742537, 0.5625, 0.5933366, 0.6875]\n",
      "Step: 00460,  [0.6547948, 0.5625, 1.1667365, 0.03125]\n",
      "Step: 00461,  [0.68134016, 0.53125, 0.55110276, 0.859375]\n",
      "Step: 00462,  [0.6724532, 0.5703125, 0.9218397, 0.046875]\n",
      "Step: 00463,  [0.6318907, 0.6328125, 0.59815675, 0.8125]\n",
      "Step: 00464,  [0.6681918, 0.5703125, 0.92958325, 0.078125]\n",
      "Step: 00465,  [0.6267562, 0.6328125, 0.6975212, 0.46875]\n",
      "Step: 00466,  [0.63338625, 0.609375, 0.94411767, 0.125]\n",
      "Step: 00467,  [0.6469481, 0.625, 0.7172307, 0.46875]\n",
      "Step: 00468,  [0.63148236, 0.625, 0.82382596, 0.109375]\n",
      "Step: 00469,  [0.66029954, 0.59375, 0.60993314, 0.734375]\n",
      "Step: 00470,  [0.6525193, 0.625, 0.8065137, 0.234375]\n",
      "Step: 00471,  [0.61821884, 0.7109375, 0.7018669, 0.515625]\n",
      "Step: 00472,  [0.63786936, 0.65625, 0.8610379, 0.21875]\n",
      "Step: 00473,  [0.62745404, 0.6640625, 0.6899322, 0.515625]\n",
      "Step: 00474,  [0.6589997, 0.5859375, 1.1715506, 0.0]\n",
      "Step: 00475,  [0.6461338, 0.6015625, 0.49753517, 0.953125]\n",
      "Step: 00476,  [0.7062633, 0.53125, 1.3254466, 0.0]\n",
      "Step: 00477,  [0.70073104, 0.546875, 0.59544504, 0.734375]\n",
      "Step: 00478,  [0.64203763, 0.5625, 0.90186507, 0.109375]\n",
      "Step: 00479,  [0.62121546, 0.6328125, 0.6829268, 0.546875]\n",
      "Step: 00480,  [0.618785, 0.6640625, 0.8936594, 0.171875]\n",
      "Step: 00481,  [0.6455265, 0.6484375, 0.7577309, 0.375]\n",
      "Step: 00482,  [0.64036554, 0.65625, 0.8585034, 0.1875]\n",
      "Step: 00483,  [0.66502374, 0.59375, 0.6655193, 0.578125]\n",
      "Step: 00484,  [0.63029313, 0.6484375, 0.7760569, 0.34375]\n",
      "Step: 00485,  [0.6545977, 0.609375, 0.78894407, 0.25]\n",
      "Step: 00486,  [0.62354636, 0.6484375, 0.7464421, 0.4375]\n",
      "Step: 00487,  [0.6489504, 0.6328125, 0.84450805, 0.109375]\n",
      "Step: 00488,  [0.6470442, 0.640625, 0.5852492, 0.8125]\n",
      "Step: 00489,  [0.6320549, 0.6640625, 0.7727591, 0.34375]\n",
      "Step: 00490,  [0.6621383, 0.609375, 0.71107674, 0.46875]\n",
      "Step: 00491,  [0.64896125, 0.65625, 0.7526971, 0.359375]\n",
      "Step: 00492,  [0.6505138, 0.6015625, 0.98168254, 0.03125]\n",
      "Step: 00493,  [0.64062715, 0.625, 0.55914146, 0.84375]\n",
      "Step: 00494,  [0.66160333, 0.5546875, 1.411097, 0.0]\n",
      "Step: 00495,  [0.7518821, 0.546875, 0.46406907, 0.90625]\n",
      "Step: 00496,  [0.70381933, 0.5703125, 1.0484948, 0.0]\n",
      "Step: 00497,  [0.65606016, 0.5625, 0.66818404, 0.65625]\n",
      "Step: 00498,  [0.6602508, 0.578125, 0.90871286, 0.078125]\n",
      "Step: 00499,  [0.6247774, 0.6171875, 0.7123187, 0.515625]\n",
      "Step: 00500,  [0.6281837, 0.6796875, 0.8431128, 0.203125]\n",
      "Step: 00501,  [0.6414868, 0.6171875, 0.7199209, 0.375]\n",
      "Step: 00502,  [0.64598083, 0.5859375, 0.88729966, 0.0625]\n",
      "Step: 00503,  [0.62253225, 0.6640625, 0.6818651, 0.59375]\n",
      "Step: 00504,  [0.6288886, 0.640625, 0.9290519, 0.125]\n",
      "Step: 00505,  [0.5911548, 0.6875, 0.66231126, 0.640625]\n",
      "Step: 00506,  [0.615078, 0.6796875, 0.9746061, 0.078125]\n",
      "Step: 00507,  [0.62430257, 0.640625, 0.5358995, 0.78125]\n",
      "Step: 00508,  [0.670777, 0.5625, 1.2329838, 0.0]\n",
      "Step: 00509,  [0.7204125, 0.515625, 0.5202559, 0.84375]\n",
      "Step: 00510,  [0.7116704, 0.5234375, 1.0629132, 0.0]\n",
      "Step: 00511,  [0.6405837, 0.609375, 0.6854854, 0.53125]\n",
      "Step: 00512,  [0.62758297, 0.6796875, 0.88899136, 0.109375]\n",
      "Step: 00513,  [0.6274787, 0.65625, 0.7170511, 0.546875]\n",
      "Step: 00514,  [0.6430583, 0.6015625, 0.8048835, 0.3125]\n",
      "Step: 00515,  [0.6285261, 0.6484375, 0.70807266, 0.515625]\n",
      "Step: 00516,  [0.6388105, 0.6015625, 0.7945, 0.3125]\n",
      "Step: 00517,  [0.6567491, 0.609375, 0.7754176, 0.3125]\n",
      "Step: 00518,  [0.6444162, 0.6328125, 0.852931, 0.125]\n",
      "Step: 00519,  [0.64629906, 0.6640625, 0.7991415, 0.328125]\n",
      "Step: 00520,  [0.6408324, 0.6171875, 0.85374767, 0.203125]\n",
      "Step: 00521,  [0.61088336, 0.703125, 0.6698986, 0.578125]\n",
      "Step: 00522,  [0.63362944, 0.6328125, 1.0308216, 0.09375]\n",
      "Step: 00523,  [0.6791161, 0.578125, 0.5797047, 0.765625]\n",
      "Step: 00524,  [0.67235905, 0.5390625, 1.4180658, 0.015625]\n",
      "Step: 00525,  [0.7247774, 0.5390625, 0.47540942, 0.921875]\n",
      "Step: 00526,  [0.6647483, 0.546875, 1.1374838, 0.0]\n",
      "Step: 00527,  [0.63877857, 0.625, 0.6637964, 0.578125]\n",
      "Step: 00528,  [0.6283298, 0.6484375, 0.7933991, 0.28125]\n",
      "Step: 00529,  [0.6613037, 0.625, 0.82710564, 0.3125]\n",
      "Step: 00530,  [0.65989685, 0.640625, 0.87428266, 0.265625]\n",
      "Step: 00531,  [0.65557647, 0.5703125, 0.7755176, 0.28125]\n",
      "Step: 00532,  [0.6336564, 0.6640625, 0.80231184, 0.203125]\n",
      "Step: 00533,  [0.6253368, 0.6640625, 0.7906612, 0.3125]\n",
      "Step: 00534,  [0.6298454, 0.6484375, 0.7722366, 0.40625]\n",
      "Step: 00535,  [0.6612427, 0.5859375, 0.7632071, 0.3125]\n",
      "Step: 00536,  [0.62797874, 0.7421875, 0.7046959, 0.515625]\n",
      "Step: 00537,  [0.6630806, 0.625, 0.96080697, 0.140625]\n",
      "Step: 00538,  [0.66067547, 0.609375, 0.64806986, 0.65625]\n",
      "Step: 00539,  [0.6454315, 0.640625, 1.079292, 0.0625]\n",
      "Step: 00540,  [0.6216715, 0.6328125, 0.5179106, 0.859375]\n",
      "Step: 00541,  [0.6813911, 0.5546875, 1.2082198, 0.015625]\n",
      "Step: 00542,  [0.6842907, 0.5703125, 0.63081706, 0.671875]\n",
      "Step: 00543,  [0.6571801, 0.5546875, 0.9100368, 0.140625]\n",
      "Step: 00544,  [0.62201643, 0.6640625, 0.60162234, 0.671875]\n",
      "Step: 00545,  [0.6619772, 0.5859375, 0.94135934, 0.1875]\n",
      "Step: 00546,  [0.6021382, 0.671875, 0.7306039, 0.390625]\n",
      "Step: 00547,  [0.6205013, 0.6484375, 0.9005048, 0.1875]\n",
      "Step: 00548,  [0.6795284, 0.5859375, 0.8171408, 0.265625]\n",
      "Step: 00549,  [0.607508, 0.6875, 0.8184067, 0.265625]\n",
      "Step: 00550,  [0.6422957, 0.6640625, 0.77279854, 0.3125]\n",
      "Step: 00551,  [0.626335, 0.6328125, 0.8436401, 0.234375]\n",
      "Step: 00552,  [0.6301968, 0.6796875, 0.8507936, 0.28125]\n",
      "Step: 00553,  [0.62271625, 0.65625, 0.9111086, 0.125]\n",
      "Step: 00554,  [0.63000214, 0.640625, 0.6526268, 0.609375]\n",
      "Step: 00555,  [0.62926245, 0.6953125, 0.9090538, 0.28125]\n",
      "Step: 00556,  [0.62501955, 0.671875, 0.68422735, 0.5]\n",
      "Step: 00557,  [0.6205949, 0.6875, 1.0323533, 0.171875]\n",
      "Step: 00558,  [0.67353535, 0.578125, 0.37502134, 0.953125]\n",
      "Step: 00559,  [0.7219373, 0.5390625, 1.3777802, 0.015625]\n",
      "Step: 00560,  [0.7287283, 0.5078125, 0.5499522, 0.890625]\n",
      "Step: 00561,  [0.6857201, 0.515625, 1.1178343, 0.03125]\n",
      "Step: 00562,  [0.6639819, 0.5625, 0.6632079, 0.5625]\n",
      "Step: 00563,  [0.6140103, 0.6875, 0.96102417, 0.125]\n",
      "Step: 00564,  [0.6244812, 0.65625, 0.779318, 0.296875]\n",
      "Step: 00565,  [0.61605376, 0.6796875, 0.8885458, 0.171875]\n",
      "Step: 00566,  [0.62320846, 0.65625, 0.7038701, 0.515625]\n",
      "Step: 00567,  [0.6226632, 0.7109375, 0.788473, 0.375]\n",
      "Step: 00568,  [0.6340116, 0.6796875, 0.83134246, 0.265625]\n",
      "Step: 00569,  [0.6236961, 0.65625, 0.6871897, 0.59375]\n",
      "Step: 00570,  [0.6418628, 0.65625, 0.99777246, 0.015625]\n",
      "Step: 00571,  [0.6495571, 0.59375, 0.57640696, 0.796875]\n",
      "Step: 00572,  [0.6625581, 0.5546875, 1.3199885, 0.0]\n",
      "Step: 00573,  [0.6621047, 0.6015625, 0.5474383, 0.84375]\n",
      "Step: 00574,  [0.6502603, 0.578125, 1.1901323, 0.015625]\n",
      "Step: 00575,  [0.6511848, 0.609375, 0.535889, 0.90625]\n",
      "Step: 00576,  [0.64880884, 0.5859375, 1.0015472, 0.046875]\n",
      "Step: 00577,  [0.6376938, 0.6171875, 0.6569222, 0.625]\n",
      "Step: 00578,  [0.60867023, 0.6953125, 0.93177146, 0.125]\n",
      "Step: 00579,  [0.64289975, 0.6015625, 0.637231, 0.65625]\n",
      "Step: 00580,  [0.6541979, 0.625, 0.98531735, 0.09375]\n",
      "Step: 00581,  [0.6435923, 0.6640625, 0.6317061, 0.640625]\n",
      "Step: 00582,  [0.6581837, 0.6015625, 1.1573147, 0.03125]\n",
      "Step: 00583,  [0.6633573, 0.5546875, 0.5903035, 0.8125]\n",
      "Step: 00584,  [0.6458633, 0.578125, 1.0755522, 0.046875]\n",
      "Step: 00585,  [0.6299355, 0.5859375, 0.6759381, 0.59375]\n",
      "Step: 00586,  [0.63260794, 0.6640625, 0.9894312, 0.0625]\n",
      "Step: 00587,  [0.6241401, 0.671875, 0.670223, 0.484375]\n",
      "Step: 00588,  [0.6534177, 0.6171875, 0.9693682, 0.109375]\n",
      "Step: 00589,  [0.64043885, 0.609375, 0.6338879, 0.671875]\n",
      "Step: 00590,  [0.62501764, 0.6484375, 1.0058619, 0.140625]\n",
      "Step: 00591,  [0.6466377, 0.609375, 0.64526886, 0.6875]\n",
      "Step: 00592,  [0.6145287, 0.6328125, 1.1196458, 0.03125]\n",
      "Step: 00593,  [0.6517147, 0.59375, 0.59329015, 0.765625]\n",
      "Step: 00594,  [0.6528592, 0.6015625, 1.0187235, 0.078125]\n"
     ]
    },
    {
     "name": "stdout",
     "output_type": "stream",
     "text": [
      "Step: 00595,  [0.64142287, 0.6015625, 0.6723182, 0.59375]\n",
      "Step: 00596,  [0.6211891, 0.6640625, 1.0279398, 0.125]\n",
      "Step: 00597,  [0.63377017, 0.6328125, 0.61270446, 0.6875]\n",
      "Step: 00598,  [0.67315733, 0.5859375, 1.1751016, 0.03125]\n",
      "Step: 00599,  [0.674301, 0.546875, 0.601017, 0.765625]\n",
      "Step: 00600,  [0.6488496, 0.5390625, 1.0719994, 0.046875]\n",
      "Step: 00601,  [0.64639544, 0.5546875, 0.64152306, 0.609375]\n",
      "Step: 00602,  [0.6118854, 0.6796875, 0.83741635, 0.3125]\n",
      "Step: 00603,  [0.63329095, 0.65625, 0.86288774, 0.15625]\n",
      "Step: 00604,  [0.61135733, 0.6875, 0.75174385, 0.390625]\n",
      "Step: 00605,  [0.6154981, 0.7109375, 0.818856, 0.359375]\n",
      "Step: 00606,  [0.5913003, 0.703125, 0.693185, 0.46875]\n",
      "Step: 00607,  [0.6212877, 0.640625, 0.86212677, 0.265625]\n",
      "Step: 00608,  [0.60691786, 0.71875, 0.6928446, 0.515625]\n",
      "Step: 00609,  [0.6347122, 0.640625, 0.88728034, 0.234375]\n",
      "Step: 00610,  [0.6464761, 0.5859375, 0.94189507, 0.25]\n",
      "Step: 00611,  [0.60540366, 0.65625, 1.1167755, 0.015625]\n",
      "Step: 00612,  [0.6301718, 0.59375, 0.54927695, 0.8125]\n",
      "Step: 00613,  [0.66849315, 0.5625, 1.4830382, 0.0]\n",
      "Step: 00614,  [0.74498075, 0.53125, 0.47080302, 0.875]\n",
      "Step: 00615,  [0.6664075, 0.6015625, 1.0010462, 0.0625]\n",
      "Step: 00616,  [0.66410947, 0.546875, 0.70877385, 0.53125]\n",
      "Step: 00617,  [0.66782, 0.5859375, 0.89501894, 0.140625]\n",
      "Step: 00618,  [0.6276526, 0.703125, 0.7539059, 0.484375]\n",
      "Step: 00619,  [0.6497129, 0.578125, 0.9692788, 0.09375]\n",
      "Step: 00620,  [0.6087234, 0.7265625, 0.772835, 0.4375]\n",
      "Step: 00621,  [0.6401835, 0.5859375, 0.9894479, 0.109375]\n",
      "Step: 00622,  [0.6099268, 0.640625, 0.69083565, 0.578125]\n",
      "Step: 00623,  [0.62672246, 0.6796875, 0.8337929, 0.21875]\n",
      "Step: 00624,  [0.62399256, 0.6953125, 0.83387077, 0.28125]\n",
      "Step: 00625,  [0.61426073, 0.6796875, 0.72620857, 0.484375]\n",
      "Step: 00626,  [0.6719289, 0.546875, 1.1288415, 0.015625]\n",
      "Step: 00627,  [0.6294054, 0.59375, 0.487769, 0.90625]\n",
      "Step: 00628,  [0.6821126, 0.5390625, 1.403131, 0.0]\n",
      "Step: 00629,  [0.71080804, 0.53125, 0.5938349, 0.71875]\n",
      "Step: 00630,  [0.66454923, 0.546875, 1.1045678, 0.0625]\n",
      "Step: 00631,  [0.66629046, 0.5390625, 0.71291757, 0.546875]\n",
      "Step: 00632,  [0.626498, 0.65625, 0.97556996, 0.09375]\n",
      "Step: 00633,  [0.63372874, 0.578125, 0.744744, 0.390625]\n",
      "Step: 00634,  [0.6386653, 0.640625, 0.9389678, 0.15625]\n",
      "Step: 00635,  [0.61008286, 0.7109375, 0.6581291, 0.578125]\n",
      "Step: 00636,  [0.6427161, 0.609375, 1.1693842, 0.015625]\n",
      "Step: 00637,  [0.62776667, 0.625, 0.64339614, 0.625]\n",
      "Step: 00638,  [0.68419945, 0.5625, 0.8897258, 0.15625]\n",
      "Step: 00639,  [0.63619184, 0.6875, 0.7360006, 0.390625]\n",
      "Step: 00640,  [0.61300117, 0.6875, 0.81006706, 0.328125]\n",
      "Step: 00641,  [0.63256747, 0.6484375, 0.87696403, 0.171875]\n",
      "Step: 00642,  [0.6216582, 0.65625, 0.7971692, 0.34375]\n",
      "Step: 00643,  [0.64383864, 0.640625, 0.97474396, 0.15625]\n",
      "Step: 00644,  [0.63498044, 0.65625, 0.7446096, 0.4375]\n",
      "Step: 00645,  [0.62508845, 0.6328125, 1.1574109, 0.015625]\n",
      "Step: 00646,  [0.6481019, 0.59375, 0.46518198, 0.890625]\n",
      "Step: 00647,  [0.73302394, 0.53125, 1.3990754, 0.03125]\n",
      "Step: 00648,  [0.7247964, 0.578125, 0.5082721, 0.859375]\n",
      "Step: 00649,  [0.69354296, 0.53125, 0.9941306, 0.03125]\n",
      "Step: 00650,  [0.62869966, 0.6171875, 0.6997859, 0.5]\n",
      "Step: 00651,  [0.6559607, 0.640625, 1.0330026, 0.046875]\n",
      "Step: 00652,  [0.67899585, 0.5390625, 0.67159736, 0.640625]\n",
      "Step: 00653,  [0.63973975, 0.703125, 0.8403932, 0.234375]\n",
      "Step: 00654,  [0.63992286, 0.59375, 0.6732158, 0.59375]\n",
      "Step: 00655,  [0.60745525, 0.6953125, 0.8981902, 0.125]\n",
      "Step: 00656,  [0.63846844, 0.6640625, 0.675781, 0.546875]\n",
      "Step: 00657,  [0.6288572, 0.6328125, 0.9676447, 0.125]\n",
      "Step: 00658,  [0.6602746, 0.5859375, 0.70217836, 0.625]\n",
      "Step: 00659,  [0.6174931, 0.7109375, 0.9984621, 0.0625]\n",
      "Step: 00660,  [0.6062443, 0.6328125, 0.56424594, 0.78125]\n",
      "Step: 00661,  [0.6708661, 0.5625, 1.2052951, 0.0]\n",
      "Step: 00662,  [0.68780005, 0.5546875, 0.46204787, 0.984375]\n",
      "Step: 00663,  [0.6725126, 0.5703125, 1.0634315, 0.078125]\n",
      "Step: 00664,  [0.64251184, 0.5859375, 0.67130995, 0.53125]\n",
      "Step: 00665,  [0.6255083, 0.640625, 0.8458153, 0.234375]\n",
      "Step: 00666,  [0.6256323, 0.671875, 0.8134724, 0.234375]\n",
      "Step: 00667,  [0.603184, 0.7734375, 0.74176383, 0.375]\n",
      "Step: 00668,  [0.6387695, 0.71875, 0.9543922, 0.15625]\n",
      "Step: 00669,  [0.6238195, 0.6640625, 0.650835, 0.6875]\n",
      "Step: 00670,  [0.6429039, 0.625, 1.1468004, 0.046875]\n",
      "Step: 00671,  [0.66946024, 0.6171875, 0.5783005, 0.71875]\n",
      "Step: 00672,  [0.6569849, 0.6015625, 1.1990994, 0.046875]\n",
      "Step: 00673,  [0.69444686, 0.5625, 0.59484154, 0.796875]\n",
      "Step: 00674,  [0.650548, 0.5859375, 1.0630226, 0.046875]\n",
      "Step: 00675,  [0.603958, 0.671875, 0.7578489, 0.359375]\n",
      "Step: 00676,  [0.6044526, 0.6796875, 0.9362547, 0.125]\n",
      "Step: 00677,  [0.62308794, 0.6796875, 0.8154514, 0.265625]\n",
      "Step: 00678,  [0.6279319, 0.625, 0.7252954, 0.40625]\n",
      "Step: 00679,  [0.60984993, 0.75, 0.84989, 0.171875]\n",
      "Step: 00680,  [0.655557, 0.59375, 0.65897477, 0.546875]\n",
      "Step: 00681,  [0.6267325, 0.640625, 1.0419662, 0.109375]\n",
      "Step: 00682,  [0.6405733, 0.6015625, 0.6672647, 0.609375]\n",
      "Step: 00683,  [0.6162758, 0.640625, 1.1385418, 0.046875]\n",
      "Step: 00684,  [0.63636017, 0.6015625, 0.6158103, 0.671875]\n",
      "Step: 00685,  [0.7020346, 0.484375, 1.5247893, 0.03125]\n",
      "Step: 00686,  [0.7682246, 0.5234375, 0.51922345, 0.84375]\n",
      "Step: 00687,  [0.67780185, 0.5546875, 1.1207914, 0.015625]\n",
      "Step: 00688,  [0.6414915, 0.625, 0.6548404, 0.65625]\n",
      "Step: 00689,  [0.6251539, 0.6953125, 0.94915926, 0.140625]\n",
      "Step: 00690,  [0.6334017, 0.6875, 0.67019546, 0.578125]\n",
      "Step: 00691,  [0.6681609, 0.5703125, 0.8032693, 0.203125]\n",
      "Step: 00692,  [0.6029456, 0.7109375, 0.764883, 0.375]\n",
      "Step: 00693,  [0.6577802, 0.6015625, 0.7963087, 0.359375]\n",
      "Step: 00694,  [0.6257336, 0.640625, 0.8848003, 0.234375]\n",
      "Step: 00695,  [0.6112286, 0.6953125, 0.79127246, 0.3125]\n",
      "Step: 00696,  [0.6064443, 0.71875, 0.87777555, 0.203125]\n",
      "Step: 00697,  [0.6063378, 0.6875, 0.8068042, 0.34375]\n",
      "Step: 00698,  [0.61396044, 0.7109375, 0.7908505, 0.3125]\n",
      "Step: 00699,  [0.6228161, 0.6484375, 0.79892063, 0.421875]\n",
      "Step: 00700,  [0.58901536, 0.703125, 0.94925314, 0.25]\n",
      "Step: 00701,  [0.5965419, 0.6875, 0.7578964, 0.40625]\n",
      "Step: 00702,  [0.62163293, 0.671875, 0.8966856, 0.328125]\n",
      "Step: 00703,  [0.64013267, 0.6328125, 0.7944612, 0.34375]\n",
      "Step: 00704,  [0.6179152, 0.6484375, 0.96894807, 0.09375]\n",
      "Step: 00705,  [0.6425173, 0.6015625, 0.56503737, 0.796875]\n",
      "Step: 00706,  [0.64352465, 0.625, 1.468807, 0.0]\n",
      "Step: 00707,  [0.6694238, 0.5625, 0.4372964, 0.90625]\n",
      "Step: 00708,  [0.7614483, 0.5234375, 1.347758, 0.0]\n",
      "Step: 00709,  [0.69320816, 0.5703125, 0.66155267, 0.609375]\n",
      "Step: 00710,  [0.62572384, 0.7109375, 0.7569915, 0.40625]\n",
      "Step: 00711,  [0.60815144, 0.71875, 0.7429455, 0.375]\n",
      "Step: 00712,  [0.6005573, 0.765625, 0.7577458, 0.46875]\n",
      "Step: 00713,  [0.61773014, 0.65625, 0.84260607, 0.28125]\n",
      "Step: 00714,  [0.64033586, 0.625, 0.73141706, 0.5625]\n",
      "Step: 00715,  [0.64882046, 0.6171875, 0.9320715, 0.09375]\n",
      "Step: 00716,  [0.6299325, 0.6484375, 0.74048734, 0.4375]\n",
      "Step: 00717,  [0.64843905, 0.6328125, 1.1021674, 0.015625]\n",
      "Step: 00718,  [0.62367725, 0.640625, 0.5707417, 0.796875]\n",
      "Step: 00719,  [0.6586906, 0.6171875, 1.125665, 0.015625]\n",
      "Step: 00720,  [0.6697141, 0.5703125, 0.499565, 0.90625]\n",
      "Step: 00721,  [0.6936023, 0.5390625, 1.2031102, 0.03125]\n",
      "Step: 00722,  [0.69719553, 0.5625, 0.58888197, 0.796875]\n",
      "Step: 00723,  [0.6508151, 0.5703125, 1.0854406, 0.046875]\n",
      "Step: 00724,  [0.611858, 0.6484375, 0.70198536, 0.546875]\n",
      "Step: 00725,  [0.6386218, 0.6328125, 1.129787, 0.046875]\n",
      "Step: 00726,  [0.6122602, 0.6875, 0.71254677, 0.578125]\n",
      "Step: 00727,  [0.629843, 0.640625, 0.86615324, 0.375]\n",
      "Step: 00728,  [0.6287364, 0.6328125, 0.7071963, 0.59375]\n",
      "Step: 00729,  [0.6112511, 0.6953125, 1.0166785, 0.09375]\n",
      "Step: 00730,  [0.6672418, 0.6171875, 0.61574775, 0.65625]\n",
      "Step: 00731,  [0.6324396, 0.59375, 1.1284778, 0.046875]\n",
      "Step: 00732,  [0.64630544, 0.6328125, 0.56897414, 0.859375]\n",
      "Step: 00733,  [0.63341737, 0.578125, 1.1865791, 0.015625]\n",
      "Step: 00734,  [0.6366372, 0.609375, 0.68494964, 0.53125]\n",
      "Step: 00735,  [0.6468675, 0.6484375, 0.99783635, 0.125]\n",
      "Step: 00736,  [0.6466167, 0.609375, 0.75971925, 0.375]\n",
      "Step: 00737,  [0.6253686, 0.625, 0.98473316, 0.25]\n",
      "Step: 00738,  [0.68414414, 0.5390625, 0.69611907, 0.46875]\n",
      "Step: 00739,  [0.62359804, 0.6171875, 1.0111482, 0.0625]\n"
     ]
    },
    {
     "name": "stdout",
     "output_type": "stream",
     "text": [
      "Step: 00740,  [0.62062275, 0.671875, 0.6736311, 0.578125]\n",
      "Step: 00741,  [0.6490454, 0.5703125, 1.2052022, 0.03125]\n",
      "Step: 00742,  [0.675794, 0.5859375, 0.55873764, 0.796875]\n",
      "Step: 00743,  [0.6643596, 0.5859375, 1.2141844, 0.015625]\n",
      "Step: 00744,  [0.65579027, 0.5703125, 0.588382, 0.8125]\n",
      "Step: 00745,  [0.6465981, 0.5390625, 1.0918384, 0.046875]\n",
      "Step: 00746,  [0.68038255, 0.5078125, 0.6016065, 0.734375]\n",
      "Step: 00747,  [0.6342841, 0.6484375, 1.2130017, 0.09375]\n",
      "Step: 00748,  [0.6565712, 0.6015625, 0.6533984, 0.640625]\n",
      "Step: 00749,  [0.64480704, 0.625, 1.028418, 0.0625]\n",
      "Step: 00750,  [0.6570065, 0.6328125, 0.6653913, 0.59375]\n",
      "Step: 00751,  [0.6146652, 0.703125, 1.0221081, 0.171875]\n",
      "Step: 00752,  [0.6071993, 0.6796875, 0.7569144, 0.3125]\n",
      "Step: 00753,  [0.6569921, 0.65625, 0.79235905, 0.28125]\n",
      "Step: 00754,  [0.6070132, 0.765625, 0.87057316, 0.3125]\n",
      "Step: 00755,  [0.6317131, 0.6796875, 0.75585645, 0.34375]\n",
      "Step: 00756,  [0.5805783, 0.796875, 0.9927432, 0.21875]\n",
      "Step: 00757,  [0.65983605, 0.5546875, 0.5169966, 0.84375]\n",
      "Step: 00758,  [0.7016827, 0.5625, 1.2823367, 0.015625]\n",
      "Step: 00759,  [0.7278612, 0.5, 0.56101453, 0.65625]\n",
      "Step: 00760,  [0.69873375, 0.53125, 1.0487661, 0.078125]\n",
      "Step: 00761,  [0.6379909, 0.625, 0.64122856, 0.59375]\n",
      "Step: 00762,  [0.64519805, 0.6328125, 0.9243642, 0.09375]\n",
      "Step: 00763,  [0.6179987, 0.71875, 0.7802803, 0.40625]\n",
      "Step: 00764,  [0.6630481, 0.625, 0.8441389, 0.234375]\n",
      "Step: 00765,  [0.62600565, 0.6796875, 0.74504274, 0.4375]\n",
      "Step: 00766,  [0.61964315, 0.6796875, 0.8732488, 0.171875]\n",
      "Step: 00767,  [0.61637473, 0.671875, 0.85686916, 0.25]\n",
      "Step: 00768,  [0.6104446, 0.6875, 0.74810386, 0.375]\n",
      "Step: 00769,  [0.62341034, 0.65625, 0.9108592, 0.140625]\n",
      "Step: 00770,  [0.6172858, 0.6328125, 0.8862401, 0.15625]\n",
      "Step: 00771,  [0.62262195, 0.6328125, 0.8123689, 0.328125]\n",
      "Step: 00772,  [0.6069471, 0.640625, 0.8513995, 0.265625]\n",
      "Step: 00773,  [0.5980184, 0.6953125, 0.6393305, 0.671875]\n",
      "Step: 00774,  [0.6542481, 0.5703125, 1.4334054, 0.0]\n",
      "Step: 00775,  [0.71726453, 0.5625, 0.43743908, 0.90625]\n",
      "Step: 00776,  [0.7056349, 0.5703125, 1.3960785, 0.0]\n",
      "Step: 00777,  [0.6794583, 0.546875, 0.62970877, 0.671875]\n",
      "Step: 00778,  [0.6400039, 0.59375, 1.0267155, 0.109375]\n",
      "Step: 00779,  [0.6385319, 0.640625, 0.80681574, 0.375]\n",
      "Step: 00780,  [0.63818085, 0.640625, 0.9210695, 0.171875]\n",
      "Step: 00781,  [0.61864465, 0.671875, 0.7018199, 0.53125]\n",
      "Step: 00782,  [0.6262411, 0.609375, 0.86598337, 0.265625]\n",
      "Step: 00783,  [0.6103562, 0.640625, 0.63047343, 0.6875]\n",
      "Step: 00784,  [0.61576504, 0.640625, 0.97650254, 0.109375]\n",
      "Step: 00785,  [0.65343654, 0.6015625, 0.61922723, 0.6875]\n",
      "Step: 00786,  [0.6551825, 0.59375, 1.1429625, 0.03125]\n",
      "Step: 00787,  [0.6156883, 0.625, 0.628111, 0.6875]\n",
      "Step: 00788,  [0.6131805, 0.640625, 1.066968, 0.09375]\n",
      "Step: 00789,  [0.631886, 0.6640625, 0.5875276, 0.796875]\n",
      "Step: 00790,  [0.66125786, 0.609375, 1.2409532, 0.03125]\n",
      "Step: 00791,  [0.6905446, 0.578125, 0.561199, 0.796875]\n",
      "Step: 00792,  [0.6489014, 0.5625, 1.0713632, 0.0]\n",
      "Step: 00793,  [0.63952214, 0.6171875, 0.71325564, 0.546875]\n",
      "Step: 00794,  [0.6243933, 0.671875, 0.9073057, 0.40625]\n",
      "Step: 00795,  [0.6413245, 0.59375, 0.8086986, 0.453125]\n",
      "Step: 00796,  [0.641758, 0.609375, 0.9648025, 0.078125]\n",
      "Step: 00797,  [0.6073382, 0.640625, 0.7022106, 0.53125]\n",
      "Step: 00798,  [0.6485224, 0.609375, 1.0832217, 0.09375]\n",
      "Step: 00799,  [0.6414748, 0.6328125, 0.5521715, 0.8125]\n",
      "Step: 00800,  [0.66698027, 0.53125, 1.3937929, 0.0]\n",
      "Step: 00801,  [0.66619104, 0.5859375, 0.5731173, 0.78125]\n",
      "Step: 00802,  [0.64297867, 0.5625, 0.9504783, 0.09375]\n",
      "Step: 00803,  [0.6422921, 0.6484375, 0.6208446, 0.640625]\n",
      "Step: 00804,  [0.64681876, 0.625, 0.9271871, 0.125]\n",
      "Step: 00805,  [0.6505964, 0.6171875, 0.703377, 0.546875]\n",
      "Step: 00806,  [0.6312586, 0.625, 0.9500102, 0.21875]\n",
      "Step: 00807,  [0.67600954, 0.578125, 0.60746014, 0.6875]\n",
      "Step: 00808,  [0.6554582, 0.625, 1.0952284, 0.078125]\n",
      "Step: 00809,  [0.63036907, 0.609375, 0.6668284, 0.640625]\n",
      "Step: 00810,  [0.6348814, 0.609375, 0.94312716, 0.15625]\n",
      "Step: 00811,  [0.6784738, 0.5390625, 0.6150572, 0.734375]\n",
      "Step: 00812,  [0.64211804, 0.5703125, 0.9482304, 0.09375]\n",
      "Step: 00813,  [0.6052766, 0.71875, 0.7443609, 0.375]\n",
      "Step: 00814,  [0.61553276, 0.7109375, 0.85447013, 0.203125]\n",
      "Step: 00815,  [0.6300911, 0.6875, 0.7928964, 0.359375]\n",
      "Step: 00816,  [0.6244395, 0.7265625, 0.85977113, 0.28125]\n",
      "Step: 00817,  [0.64641, 0.578125, 0.80809337, 0.234375]\n",
      "Step: 00818,  [0.6265518, 0.6796875, 0.8582026, 0.203125]\n",
      "Step: 00819,  [0.6336031, 0.6484375, 0.93114483, 0.25]\n",
      "Step: 00820,  [0.648742, 0.6328125, 0.6452775, 0.640625]\n",
      "Step: 00821,  [0.63075095, 0.59375, 1.2179496, 0.03125]\n",
      "Step: 00822,  [0.6393279, 0.578125, 0.444111, 0.921875]\n",
      "Step: 00823,  [0.69765097, 0.5390625, 1.2569201, 0.0625]\n",
      "Step: 00824,  [0.68633246, 0.5703125, 0.5993403, 0.703125]\n",
      "Step: 00825,  [0.6510947, 0.640625, 0.98634285, 0.140625]\n",
      "Step: 00826,  [0.67777646, 0.609375, 0.67184687, 0.515625]\n",
      "Step: 00827,  [0.62009823, 0.6953125, 0.90592784, 0.171875]\n",
      "Step: 00828,  [0.6211356, 0.6796875, 0.6964976, 0.484375]\n",
      "Step: 00829,  [0.60931313, 0.671875, 0.91741097, 0.21875]\n",
      "Step: 00830,  [0.64948, 0.6015625, 0.6725236, 0.546875]\n",
      "Step: 00831,  [0.6181048, 0.671875, 0.91612935, 0.140625]\n",
      "Step: 00832,  [0.6323714, 0.6875, 0.8483387, 0.296875]\n",
      "Step: 00833,  [0.61113924, 0.6796875, 0.87201, 0.25]\n",
      "Step: 00834,  [0.6036344, 0.7265625, 0.73829913, 0.484375]\n",
      "Step: 00835,  [0.6369945, 0.65625, 0.89600396, 0.15625]\n",
      "Step: 00836,  [0.58852774, 0.71875, 0.7430421, 0.546875]\n",
      "Step: 00837,  [0.6226188, 0.6328125, 0.9820364, 0.109375]\n",
      "Step: 00838,  [0.61768615, 0.640625, 0.58081436, 0.75]\n",
      "Step: 00839,  [0.6997771, 0.546875, 1.1268971, 0.09375]\n",
      "Step: 00840,  [0.6643541, 0.578125, 0.4458932, 0.921875]\n",
      "Step: 00841,  [0.7407314, 0.515625, 1.3531752, 0.03125]\n",
      "Step: 00842,  [0.7270951, 0.5234375, 0.552721, 0.8125]\n",
      "Step: 00843,  [0.6473297, 0.578125, 1.0643835, 0.0625]\n",
      "Step: 00844,  [0.6404556, 0.6171875, 0.6538938, 0.578125]\n",
      "Step: 00845,  [0.6440079, 0.6015625, 1.0255766, 0.046875]\n",
      "Step: 00846,  [0.63968515, 0.609375, 0.65441877, 0.5625]\n",
      "Step: 00847,  [0.63102853, 0.6484375, 1.0605121, 0.078125]\n",
      "Step: 00848,  [0.6402036, 0.6171875, 0.68464077, 0.484375]\n",
      "Step: 00849,  [0.66892064, 0.6171875, 0.98699033, 0.125]\n",
      "Step: 00850,  [0.6521987, 0.578125, 0.61091995, 0.734375]\n",
      "Step: 00851,  [0.6499294, 0.6484375, 1.0144974, 0.109375]\n",
      "Step: 00852,  [0.65744305, 0.5625, 0.6711471, 0.53125]\n",
      "Step: 00853,  [0.6425227, 0.609375, 0.92005855, 0.234375]\n",
      "Step: 00854,  [0.6251884, 0.6484375, 0.68633455, 0.609375]\n",
      "Step: 00855,  [0.64250165, 0.6171875, 0.8473229, 0.296875]\n",
      "Step: 00856,  [0.65331745, 0.625, 0.69665384, 0.515625]\n",
      "Step: 00857,  [0.6047316, 0.6875, 0.9068761, 0.21875]\n",
      "Step: 00858,  [0.63552904, 0.6953125, 0.72705555, 0.453125]\n",
      "Step: 00859,  [0.6381011, 0.5859375, 1.1148326, 0.046875]\n",
      "Step: 00860,  [0.6134707, 0.6640625, 0.63790303, 0.578125]\n",
      "Step: 00861,  [0.6470783, 0.625, 1.0538142, 0.046875]\n",
      "Step: 00862,  [0.65452206, 0.5625, 0.54613256, 0.84375]\n",
      "Step: 00863,  [0.6802237, 0.5546875, 1.169859, 0.015625]\n",
      "Step: 00864,  [0.66402656, 0.5703125, 0.6069773, 0.6875]\n",
      "Step: 00865,  [0.6752064, 0.5078125, 1.0418086, 0.078125]\n",
      "Step: 00866,  [0.6428331, 0.578125, 0.69131196, 0.59375]\n",
      "Step: 00867,  [0.63160527, 0.640625, 1.0573094, 0.046875]\n",
      "Step: 00868,  [0.6492336, 0.59375, 0.577783, 0.796875]\n",
      "Step: 00869,  [0.6529076, 0.59375, 1.0372667, 0.03125]\n",
      "Step: 00870,  [0.628139, 0.6015625, 0.63339996, 0.734375]\n",
      "Step: 00871,  [0.6457037, 0.6640625, 0.8519603, 0.234375]\n",
      "Step: 00872,  [0.6262429, 0.6953125, 0.70923173, 0.515625]\n",
      "Step: 00873,  [0.61754704, 0.640625, 0.8259196, 0.28125]\n",
      "Step: 00874,  [0.6353562, 0.6796875, 0.70209014, 0.53125]\n",
      "Step: 00875,  [0.61574006, 0.6640625, 0.8345616, 0.296875]\n",
      "Step: 00876,  [0.61180234, 0.671875, 0.6912996, 0.546875]\n",
      "Step: 00877,  [0.6327948, 0.625, 1.0045258, 0.140625]\n",
      "Step: 00878,  [0.6253416, 0.6953125, 0.61862814, 0.65625]\n",
      "Step: 00879,  [0.62668264, 0.640625, 1.2152585, 0.109375]\n",
      "Step: 00880,  [0.6780997, 0.5703125, 0.6758013, 0.625]\n",
      "Step: 00881,  [0.63479805, 0.671875, 1.0078458, 0.15625]\n",
      "Step: 00882,  [0.6332382, 0.625, 0.69945544, 0.515625]\n",
      "Step: 00883,  [0.62135816, 0.6796875, 1.0982523, 0.09375]\n",
      "Step: 00884,  [0.6706718, 0.5703125, 0.58547485, 0.765625]\n"
     ]
    },
    {
     "name": "stdout",
     "output_type": "stream",
     "text": [
      "Step: 00885,  [0.6919444, 0.5546875, 1.3719312, 0.0]\n",
      "Step: 00886,  [0.7211169, 0.515625, 0.5550257, 0.84375]\n",
      "Step: 00887,  [0.65539384, 0.59375, 1.1405666, 0.09375]\n",
      "Step: 00888,  [0.65912306, 0.578125, 0.6241409, 0.671875]\n",
      "Step: 00889,  [0.6500027, 0.59375, 1.0729259, 0.078125]\n",
      "Step: 00890,  [0.64129925, 0.625, 0.68252265, 0.53125]\n",
      "Step: 00891,  [0.6060857, 0.6640625, 0.90761554, 0.21875]\n",
      "Step: 00892,  [0.6397723, 0.578125, 0.62822926, 0.75]\n",
      "Step: 00893,  [0.61624116, 0.6484375, 1.0213215, 0.0625]\n",
      "Step: 00894,  [0.66209424, 0.578125, 0.6629594, 0.640625]\n",
      "Step: 00895,  [0.6165705, 0.6328125, 1.091748, 0.046875]\n",
      "Step: 00896,  [0.6481091, 0.59375, 0.68810284, 0.484375]\n",
      "Step: 00897,  [0.631613, 0.6328125, 1.0815884, 0.046875]\n",
      "Step: 00898,  [0.67248064, 0.5625, 0.5541723, 0.796875]\n",
      "Step: 00899,  [0.6422961, 0.609375, 1.071239, 0.109375]\n",
      "Step: 00900,  [0.63892615, 0.6328125, 0.7734226, 0.40625]\n",
      "Step: 00901,  [0.65972257, 0.6015625, 0.89300853, 0.25]\n",
      "Step: 00902,  [0.6658, 0.5703125, 0.83319676, 0.375]\n",
      "Step: 00903,  [0.62456465, 0.640625, 0.95277333, 0.125]\n",
      "Step: 00904,  [0.6241083, 0.6328125, 0.6919431, 0.546875]\n",
      "Step: 00905,  [0.60880506, 0.6640625, 1.1022379, 0.046875]\n",
      "Step: 00906,  [0.59006315, 0.65625, 0.5769228, 0.734375]\n",
      "Step: 00907,  [0.71473515, 0.546875, 1.0532238, 0.125]\n",
      "Step: 00908,  [0.6765382, 0.546875, 0.67351896, 0.515625]\n",
      "Step: 00909,  [0.6302823, 0.6171875, 1.1189139, 0.078125]\n",
      "Step: 00910,  [0.69656277, 0.5859375, 0.61968577, 0.703125]\n",
      "Step: 00911,  [0.6671575, 0.5625, 1.1757413, 0.0]\n",
      "Step: 00912,  [0.6634988, 0.5703125, 0.60214585, 0.734375]\n",
      "Step: 00913,  [0.6381102, 0.6171875, 1.0349385, 0.0625]\n",
      "Step: 00914,  [0.6723705, 0.5625, 0.67818224, 0.5625]\n",
      "Step: 00915,  [0.6297121, 0.671875, 0.93599606, 0.203125]\n",
      "Step: 00916,  [0.66460395, 0.578125, 0.64721584, 0.65625]\n",
      "Step: 00917,  [0.6485779, 0.625, 0.9954866, 0.015625]\n",
      "Step: 00918,  [0.62434363, 0.6171875, 0.6887028, 0.484375]\n",
      "Step: 00919,  [0.61477005, 0.65625, 1.1834517, 0.0625]\n",
      "Step: 00920,  [0.6371629, 0.6015625, 0.5343645, 0.78125]\n",
      "Step: 00921,  [0.6898381, 0.59375, 1.1011401, 0.0625]\n",
      "Step: 00922,  [0.6623539, 0.6015625, 0.6482028, 0.59375]\n",
      "Step: 00923,  [0.6918239, 0.5859375, 0.93651724, 0.125]\n",
      "Step: 00924,  [0.6546322, 0.6015625, 0.7866459, 0.46875]\n",
      "Step: 00925,  [0.61143374, 0.6875, 0.75966394, 0.375]\n",
      "Step: 00926,  [0.60846, 0.7109375, 0.9366944, 0.1875]\n",
      "Step: 00927,  [0.65310526, 0.578125, 0.7970498, 0.5]\n",
      "Step: 00928,  [0.62752473, 0.6875, 0.73617613, 0.46875]\n",
      "Step: 00929,  [0.6234414, 0.671875, 0.8632002, 0.203125]\n",
      "Step: 00930,  [0.6461096, 0.5859375, 0.8333778, 0.296875]\n",
      "Step: 00931,  [0.6558028, 0.5859375, 0.8417195, 0.25]\n",
      "Step: 00932,  [0.6515149, 0.625, 0.8530328, 0.234375]\n",
      "Step: 00933,  [0.6389555, 0.65625, 0.8911798, 0.25]\n",
      "Step: 00934,  [0.6231445, 0.65625, 0.8346159, 0.34375]\n",
      "Step: 00935,  [0.6103335, 0.625, 0.9727287, 0.171875]\n",
      "Step: 00936,  [0.6413201, 0.59375, 0.7153686, 0.578125]\n",
      "Step: 00937,  [0.60864604, 0.734375, 1.1169837, 0.09375]\n",
      "Step: 00938,  [0.6689451, 0.5546875, 0.48014194, 0.859375]\n",
      "Step: 00939,  [0.711259, 0.5546875, 1.3888798, 0.046875]\n",
      "Step: 00940,  [0.7228818, 0.578125, 0.5988785, 0.734375]\n",
      "Step: 00941,  [0.64556503, 0.5703125, 0.9716755, 0.078125]\n",
      "Step: 00942,  [0.64614, 0.578125, 0.6871455, 0.5625]\n",
      "Step: 00943,  [0.64434975, 0.65625, 0.9504515, 0.09375]\n",
      "Step: 00944,  [0.6585475, 0.6328125, 0.6744739, 0.578125]\n",
      "Step: 00945,  [0.63786674, 0.65625, 0.85466075, 0.28125]\n",
      "Step: 00946,  [0.6179589, 0.6953125, 0.76646537, 0.359375]\n",
      "Step: 00947,  [0.664244, 0.6484375, 0.96108246, 0.09375]\n",
      "Step: 00948,  [0.62689084, 0.6796875, 0.7961824, 0.390625]\n",
      "Step: 00949,  [0.62276596, 0.65625, 0.9625336, 0.1875]\n",
      "Step: 00950,  [0.63958776, 0.6171875, 0.660231, 0.5]\n",
      "Step: 00951,  [0.64646566, 0.6171875, 1.1970794, 0.109375]\n",
      "Step: 00952,  [0.67354095, 0.578125, 0.5698665, 0.71875]\n",
      "Step: 00953,  [0.64800525, 0.609375, 1.1340522, 0.09375]\n",
      "Step: 00954,  [0.6744957, 0.6015625, 0.5963509, 0.71875]\n",
      "Step: 00955,  [0.67069244, 0.546875, 1.0203706, 0.03125]\n",
      "Step: 00956,  [0.64244425, 0.6328125, 0.664236, 0.625]\n",
      "Step: 00957,  [0.6417064, 0.5859375, 0.96347535, 0.15625]\n",
      "Step: 00958,  [0.6017743, 0.6953125, 0.67621434, 0.5]\n",
      "Step: 00959,  [0.6196988, 0.6875, 1.0147407, 0.109375]\n",
      "Step: 00960,  [0.63531154, 0.640625, 0.60830426, 0.640625]\n",
      "Step: 00961,  [0.65831316, 0.578125, 1.0211742, 0.125]\n",
      "Step: 00962,  [0.65872574, 0.6015625, 0.68916917, 0.578125]\n",
      "Step: 00963,  [0.63828444, 0.59375, 1.0574306, 0.046875]\n",
      "Step: 00964,  [0.6464788, 0.6015625, 0.70658636, 0.515625]\n",
      "Step: 00965,  [0.6589414, 0.5625, 0.89976835, 0.1875]\n",
      "Step: 00966,  [0.6563778, 0.609375, 0.75376475, 0.359375]\n",
      "Step: 00967,  [0.6332941, 0.640625, 0.8953522, 0.359375]\n",
      "Step: 00968,  [0.6524808, 0.625, 0.68007714, 0.546875]\n",
      "Step: 00969,  [0.6175277, 0.6796875, 1.013871, 0.109375]\n",
      "Step: 00970,  [0.6272739, 0.625, 0.56958705, 0.78125]\n",
      "Step: 00971,  [0.7236624, 0.546875, 1.2434304, 0.0625]\n",
      "Step: 00972,  [0.67729425, 0.5703125, 0.6232903, 0.6875]\n",
      "Step: 00973,  [0.64157736, 0.6015625, 0.97682923, 0.203125]\n",
      "Step: 00974,  [0.63109267, 0.609375, 0.61435866, 0.6875]\n",
      "Step: 00975,  [0.62792814, 0.6171875, 1.0081596, 0.09375]\n",
      "Step: 00976,  [0.62751186, 0.6171875, 0.671317, 0.5625]\n",
      "Step: 00977,  [0.69115233, 0.53125, 0.97276497, 0.078125]\n",
      "Step: 00978,  [0.634678, 0.6015625, 0.750852, 0.421875]\n",
      "Step: 00979,  [0.6326497, 0.703125, 0.8706051, 0.28125]\n",
      "Step: 00980,  [0.6187042, 0.6875, 0.8050469, 0.40625]\n",
      "Step: 00981,  [0.655666, 0.5546875, 0.7846916, 0.40625]\n",
      "Step: 00982,  [0.6245585, 0.6796875, 0.77865404, 0.359375]\n",
      "Step: 00983,  [0.64210737, 0.65625, 0.83345765, 0.296875]\n",
      "Step: 00984,  [0.6511937, 0.5859375, 0.8276367, 0.28125]\n",
      "Step: 00985,  [0.68926835, 0.5859375, 0.79841834, 0.234375]\n",
      "Step: 00986,  [0.6005851, 0.734375, 0.75037724, 0.390625]\n",
      "Step: 00987,  [0.6191831, 0.671875, 0.80868566, 0.375]\n",
      "Step: 00988,  [0.6751076, 0.5390625, 0.79206604, 0.46875]\n",
      "Step: 00989,  [0.6148994, 0.6484375, 0.99137235, 0.1875]\n",
      "Step: 00990,  [0.6403062, 0.5703125, 0.6168587, 0.6875]\n",
      "Step: 00991,  [0.67319036, 0.5546875, 1.4226283, 0.015625]\n",
      "Step: 00992,  [0.71335286, 0.53125, 0.5301994, 0.875]\n",
      "Step: 00993,  [0.71303356, 0.5, 1.1109396, 0.046875]\n",
      "Step: 00994,  [0.66408455, 0.578125, 0.67935634, 0.578125]\n",
      "Step: 00995,  [0.6484886, 0.6484375, 0.9667876, 0.1875]\n",
      "Step: 00996,  [0.67836326, 0.578125, 0.7183664, 0.421875]\n",
      "Step: 00997,  [0.64586776, 0.6328125, 0.9460952, 0.171875]\n",
      "Step: 00998,  [0.65082026, 0.6015625, 0.64291215, 0.609375]\n",
      "Step: 00999,  [0.63308585, 0.625, 0.9196943, 0.171875]\n",
      "Step: 01000,  [0.6146484, 0.6640625, 0.679095, 0.59375]\n"
     ]
    }
   ],
   "source": [
    "from keras.preprocessing import image\n",
    "\n",
    "batch_size = 64\n",
    "logs = [] # d_loss,d_acc,a_loss,a_acc\n",
    "\n",
    "for step in range(1000): # 1000번 학습한다.\n",
    "    indices = np.random.randint(0, len(X_train), size=batch_size)\n",
    "    real_images = X_train[indices]\n",
    "    \n",
    "    gen_vectors = np.random.uniform(-1, 1, size=[batch_size,100])\n",
    "    fake_images = generator.predict(gen_vectors)\n",
    "    \n",
    "    X = np.r_[real_images, fake_images] # [batch_size*2,32,32,1]\n",
    "    y = np.r_[np.ones([batch_size,1]), np.zeros([batch_size,1])] # [batch_size*2,1]\n",
    "        # fake: 0, real: 1\n",
    "        \n",
    "    ###########\n",
    "    d_loss, d_acc = discriminator.train_on_batch(X, y)\n",
    "    \n",
    "    gen_vectors_2 = np.random.uniform(-1, 1, size=[batch_size,100])\n",
    "    ###########\n",
    "    a_loss, a_acc = adversarial.train_on_batch(gen_vectors_2, np.ones([batch_size,1]))\n",
    "            # 타겟값을 모두 1로 놓는다\n",
    "    \n",
    "    logs.append([d_loss,d_acc,a_loss,a_acc])\n",
    "    print('Step: %05d, ' % (step+1), logs[-1])\n",
    "    \n",
    "    if (step+1)%10 == 0:\n",
    "        adversarial.save_weights('gan_mnist.h5')"
   ]
  },
  {
   "cell_type": "code",
   "execution_count": 14,
   "metadata": {
    "ExecuteTime": {
     "end_time": "2019-09-19T02:40:24.049658Z",
     "start_time": "2019-09-19T02:40:23.771392Z"
    }
   },
   "outputs": [],
   "source": [
    "generator.save('gan_mnist_generator_1000.h5')"
   ]
  },
  {
   "cell_type": "markdown",
   "metadata": {},
   "source": [
    "### 숫자 이미지 생성"
   ]
  },
  {
   "cell_type": "code",
   "execution_count": 16,
   "metadata": {
    "ExecuteTime": {
     "end_time": "2019-09-19T02:40:53.719276Z",
     "start_time": "2019-09-19T02:40:51.003566Z"
    }
   },
   "outputs": [
    {
     "data": {
      "image/png": "[encoded data removed]",
      "text/plain": [
       "<Figure size 720x720 with 100 Axes>"
      ]
     },
     "metadata": {
      "needs_background": "light"
     },
     "output_type": "display_data"
    }
   ],
   "source": [
    "import matplotlib.pyplot as plt\n",
    "%matplotlib inline\n",
    "\n",
    "vectors = np.random.uniform(-1, 1, size=[100,100])\n",
    "images = generator.predict(vectors)\n",
    "\n",
    "plt.figure(figsize=[10,10])\n",
    "for i in range(100):\n",
    "    plt.subplot(10,10,i+1)\n",
    "    plt.imshow(images[i].reshape(28,28), cmap='gray')\n",
    "    plt.axis('off')"
   ]
  },
  {
   "cell_type": "markdown",
   "metadata": {},
   "source": [
    "# 문제 4번"
   ]
  },
  {
   "cell_type": "code",
   "execution_count": 1,
   "metadata": {
    "ExecuteTime": {
     "end_time": "2019-09-19T08:48:31.453976Z",
     "start_time": "2019-09-19T08:48:31.449983Z"
    }
   },
   "outputs": [],
   "source": [
    "import numpy as np\n",
    "X = np.array([[1,2,3], [2,3,4], [3,4,5], [4,5,6]])\n",
    "y = np.array([4,5,6,10])"
   ]
  },
  {
   "cell_type": "code",
   "execution_count": 2,
   "metadata": {
    "ExecuteTime": {
     "end_time": "2019-09-19T08:48:36.908042Z",
     "start_time": "2019-09-19T08:48:31.631533Z"
    }
   },
   "outputs": [
    {
     "name": "stderr",
     "output_type": "stream",
     "text": [
      "Using TensorFlow backend.\n",
      "WARNING: Logging before flag parsing goes to stderr.\n",
      "W0919 17:48:36.629461  3372 deprecation_wrapper.py:119] From C:\\Users\\Administrator\\.conda\\envs\\multicampus\\lib\\site-packages\\keras\\backend\\tensorflow_backend.py:74: The name tf.get_default_graph is deprecated. Please use tf.compat.v1.get_default_graph instead.\n",
      "\n",
      "W0919 17:48:36.645454  3372 deprecation_wrapper.py:119] From C:\\Users\\Administrator\\.conda\\envs\\multicampus\\lib\\site-packages\\keras\\backend\\tensorflow_backend.py:517: The name tf.placeholder is deprecated. Please use tf.compat.v1.placeholder instead.\n",
      "\n",
      "W0919 17:48:36.647419  3372 deprecation_wrapper.py:119] From C:\\Users\\Administrator\\.conda\\envs\\multicampus\\lib\\site-packages\\keras\\backend\\tensorflow_backend.py:4138: The name tf.random_uniform is deprecated. Please use tf.random.uniform instead.\n",
      "\n"
     ]
    },
    {
     "name": "stdout",
     "output_type": "stream",
     "text": [
      "_________________________________________________________________\n",
      "Layer (type)                 Output Shape              Param #   \n",
      "=================================================================\n",
      "lstm_1 (LSTM)                (None, 32)                4352      \n",
      "_________________________________________________________________\n",
      "dense_1 (Dense)              (None, 1)                 33        \n",
      "=================================================================\n",
      "Total params: 4,385\n",
      "Trainable params: 4,385\n",
      "Non-trainable params: 0\n",
      "_________________________________________________________________\n"
     ]
    }
   ],
   "source": [
    "from keras.layers import LSTM\n",
    "from keras.models import Sequential\n",
    "from keras.layers import Dense\n",
    "\n",
    "model = Sequential()\n",
    "model.add(LSTM(32, activation='relu', input_shape=(3,1)))\n",
    "model.add(Dense(1))\n",
    "\n",
    "model.summary()"
   ]
  },
  {
   "cell_type": "code",
   "execution_count": 3,
   "metadata": {
    "ExecuteTime": {
     "end_time": "2019-09-19T08:48:36.972923Z",
     "start_time": "2019-09-19T08:48:36.923972Z"
    }
   },
   "outputs": [
    {
     "name": "stderr",
     "output_type": "stream",
     "text": [
      "W0919 17:48:36.925970  3372 deprecation_wrapper.py:119] From C:\\Users\\Administrator\\.conda\\envs\\multicampus\\lib\\site-packages\\keras\\optimizers.py:790: The name tf.train.Optimizer is deprecated. Please use tf.compat.v1.train.Optimizer instead.\n",
      "\n"
     ]
    }
   ],
   "source": [
    "model.compile(loss='mse', optimizer='adam')"
   ]
  },
  {
   "cell_type": "code",
   "execution_count": 4,
   "metadata": {
    "ExecuteTime": {
     "end_time": "2019-09-19T08:48:42.257804Z",
     "start_time": "2019-09-19T08:48:36.989796Z"
    }
   },
   "outputs": [
    {
     "name": "stderr",
     "output_type": "stream",
     "text": [
      "W0919 17:48:37.196272  3372 deprecation.py:323] From C:\\Users\\Administrator\\.conda\\envs\\multicampus\\lib\\site-packages\\tensorflow\\python\\ops\\math_grad.py:1250: add_dispatch_support.<locals>.wrapper (from tensorflow.python.ops.array_ops) is deprecated and will be removed in a future version.\n",
      "Instructions for updating:\n",
      "Use tf.where in 2.0, which has the same broadcast rule as np.where\n",
      "W0919 17:48:37.821573  3372 deprecation_wrapper.py:119] From C:\\Users\\Administrator\\.conda\\envs\\multicampus\\lib\\site-packages\\keras\\backend\\tensorflow_backend.py:986: The name tf.assign_add is deprecated. Please use tf.compat.v1.assign_add instead.\n",
      "\n",
      "W0919 17:48:37.922336  3372 deprecation_wrapper.py:119] From C:\\Users\\Administrator\\.conda\\envs\\multicampus\\lib\\site-packages\\keras\\backend\\tensorflow_backend.py:973: The name tf.assign is deprecated. Please use tf.compat.v1.assign instead.\n",
      "\n"
     ]
    },
    {
     "data": {
      "text/plain": [
       "<keras.callbacks.History at 0x1d642a1ff98>"
      ]
     },
     "execution_count": 4,
     "metadata": {},
     "output_type": "execute_result"
    }
   ],
   "source": [
    "model.fit(X[:,:,np.newaxis], y, epochs=1000, verbose=False)"
   ]
  },
  {
   "cell_type": "code",
   "execution_count": 5,
   "metadata": {
    "ExecuteTime": {
     "end_time": "2019-09-19T08:48:42.445258Z",
     "start_time": "2019-09-19T08:48:42.270722Z"
    }
   },
   "outputs": [
    {
     "data": {
      "text/plain": [
       "array([[12.609581]], dtype=float32)"
      ]
     },
     "execution_count": 5,
     "metadata": {},
     "output_type": "execute_result"
    }
   ],
   "source": [
    "model.predict(np.array([[5,6,7]]).reshape(1,3,1))"
   ]
  }
 ],
 "metadata": {
  "kernelspec": {
   "display_name": "Python 3",
   "language": "python",
   "name": "python3"
  },
  "language_info": {
   "codemirror_mode": {
    "name": "ipython",
    "version": 3
   },
   "file_extension": ".py",
   "mimetype": "text/x-python",
   "name": "python",
   "nbconvert_exporter": "python",
   "pygments_lexer": "ipython3",
   "version": "3.6.9"
  },
  "toc": {
   "base_numbering": 1,
   "nav_menu": {},
   "number_sections": true,
   "sideBar": true,
   "skip_h1_title": false,
   "title_cell": "Table of Contents",
   "title_sidebar": "Contents",
   "toc_cell": false,
   "toc_position": {},
   "toc_section_display": true,
   "toc_window_display": false
  },
  "varInspector": {
   "cols": {
    "lenName": 16,
    "lenType": 16,
    "lenVar": 40
   },
   "kernels_config": {
    "python": {
     "delete_cmd_postfix": "",
     "delete_cmd_prefix": "del ",
     "library": "var_list.py",
     "varRefreshCmd": "print(var_dic_list())"
    },
    "r": {
     "delete_cmd_postfix": ") ",
     "delete_cmd_prefix": "rm(",
     "library": "var_list.r",
     "varRefreshCmd": "cat(var_dic_list()) "
    }
   },
   "types_to_exclude": [
    "module",
    "function",
    "builtin_function_or_method",
    "instance",
    "_Feature"
   ],
   "window_display": false
  }
 },
 "nbformat": 4,
 "nbformat_minor": 2
}
