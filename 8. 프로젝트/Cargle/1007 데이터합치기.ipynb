{
 "cells": [
  {
   "cell_type": "code",
   "execution_count": 18,
   "metadata": {
    "ExecuteTime": {
     "end_time": "2019-10-08T07:03:28.571310Z",
     "start_time": "2019-10-08T07:03:28.568314Z"
    }
   },
   "outputs": [],
   "source": [
    "import numpy as np\n",
    "import pandas as pd"
   ]
  },
  {
   "cell_type": "code",
   "execution_count": 19,
   "metadata": {
    "ExecuteTime": {
     "end_time": "2019-10-08T07:03:29.178039Z",
     "start_time": "2019-10-08T07:03:28.942520Z"
    },
    "jupyter": {
     "outputs_hidden": true
    }
   },
   "outputs": [],
   "source": [
    "import os\n",
    "path = './라벨링 완료/'\n",
    "file_list = os.listdir(path) # 경로의 파일 이름 리스트로 만들기\n",
    "source = ['오토트리뷴', '데일리카', '지피코리아', '한경', '모토야', '라이드매거진', 'rpm9', '글로벌오토뉴스', '동아오토',\n",
    " '모터그래프', '아이오토카', '엔카매거진', '오토다이어리', '오토뷰', '카랩', '탑라이더']\n",
    "kc = []\n",
    "for i in range(len(file_list)) :\n",
    "    kc.append(i)\n",
    "    kc[i] = pd.read_csv(path+file_list[i], encoding = 'cp949')\n",
    "    kc[i]['source'] = label[i]\n",
    "    \n",
    "alldf = pd.concat(kc)"
   ]
  },
  {
   "cell_type": "code",
   "execution_count": 20,
   "metadata": {
    "ExecuteTime": {
     "end_time": "2019-10-08T07:03:29.536912Z",
     "start_time": "2019-10-08T07:03:29.524876Z"
    }
   },
   "outputs": [
    {
     "data": {
      "text/html": [
       "<div>\n",
       "<style scoped>\n",
       "    .dataframe tbody tr th:only-of-type {\n",
       "        vertical-align: middle;\n",
       "    }\n",
       "\n",
       "    .dataframe tbody tr th {\n",
       "        vertical-align: top;\n",
       "    }\n",
       "\n",
       "    .dataframe thead th {\n",
       "        text-align: right;\n",
       "    }\n",
       "</style>\n",
       "<table border=\"1\" class=\"dataframe\">\n",
       "  <thead>\n",
       "    <tr style=\"text-align: right;\">\n",
       "      <th></th>\n",
       "      <th>title</th>\n",
       "      <th>body</th>\n",
       "      <th>brand</th>\n",
       "      <th>name</th>\n",
       "      <th>source</th>\n",
       "    </tr>\n",
       "  </thead>\n",
       "  <tbody>\n",
       "    <tr>\n",
       "      <td>0</td>\n",
       "      <td>1인 가구 기자가 반한 차, 508 SW 시승기</td>\n",
       "      <td>이번에 시승한 508 SW는 지난 3월 앞서 시승한 508 모델의 왜건형 모델로써 ...</td>\n",
       "      <td>푸조</td>\n",
       "      <td>508 SW</td>\n",
       "      <td>오토트리뷴</td>\n",
       "    </tr>\n",
       "    <tr>\n",
       "      <td>1</td>\n",
       "      <td>가장 감성적인 페라리, 포르토피노 시승기</td>\n",
       "      <td>스포츠카 혹은 슈퍼카 제조사로 잘 알려진 페라리는 GT카 역시 일가견 있는 제조사다...</td>\n",
       "      <td>페라리</td>\n",
       "      <td>포르토피노</td>\n",
       "      <td>오토트리뷴</td>\n",
       "    </tr>\n",
       "    <tr>\n",
       "      <td>2</td>\n",
       "      <td>우천 시에도 태양광 충전이 될까? 현대 쏘나타 하이브리드 시승기</td>\n",
       "      <td>하이브리드 자동차는 내연기관과 전기 구동 기술이 모두 적용되어 자동차 제조사의 모든...</td>\n",
       "      <td>현대</td>\n",
       "      <td>소나타 하이브리드</td>\n",
       "      <td>오토트리뷴</td>\n",
       "    </tr>\n",
       "    <tr>\n",
       "      <td>3</td>\n",
       "      <td>예고된 이별이었지만 완벽했다, 페라리 488 스파이더 시승기</td>\n",
       "      <td>페라리의 국내 공식 수입 및 판매를 담당하고 있는 FMK가 페라리의 베스트셀러인 4...</td>\n",
       "      <td>페라리</td>\n",
       "      <td>488 스파이더</td>\n",
       "      <td>오토트리뷴</td>\n",
       "    </tr>\n",
       "    <tr>\n",
       "      <td>4</td>\n",
       "      <td>작지만 다 있더라, 현대 베뉴 플럭스 시승기</td>\n",
       "      <td>엑센트의 신형 모델은 이미 일찌감치 러시아에서 폴라리스라는 모델명으로 판매되고 있었...</td>\n",
       "      <td>현대</td>\n",
       "      <td>베뉴 플럭스 트림</td>\n",
       "      <td>오토트리뷴</td>\n",
       "    </tr>\n",
       "    <tr>\n",
       "      <td>...</td>\n",
       "      <td>...</td>\n",
       "      <td>...</td>\n",
       "      <td>...</td>\n",
       "      <td>...</td>\n",
       "      <td>...</td>\n",
       "    </tr>\n",
       "    <tr>\n",
       "      <td>58</td>\n",
       "      <td>신형 싼타페, 주행감각과 승차감에 올인</td>\n",
       "      <td>현대자동차 신형 싼타페를 시승했다. 4세대 모델인 신형 싼타페는 풀체인지 모델로 디...</td>\n",
       "      <td>현대</td>\n",
       "      <td>싼타페</td>\n",
       "      <td>탑라이더</td>\n",
       "    </tr>\n",
       "    <tr>\n",
       "      <td>59</td>\n",
       "      <td>먼저 타본 미래차, 수소전기차 '넥쏘'</td>\n",
       "      <td>현대자동차의 2세대 수소전기차 넥쏘를 시승했다. 넥쏘는 양산형 수소전기차 중 가장 ...</td>\n",
       "      <td>현대</td>\n",
       "      <td>넥쏘</td>\n",
       "      <td>탑라이더</td>\n",
       "    </tr>\n",
       "    <tr>\n",
       "      <td>60</td>\n",
       "      <td>혼다 오딧세이, 주행성능까지 챙긴 '슈퍼밴'</td>\n",
       "      <td>혼다 올 뉴 오딧세이를 시승했다. 5세대 모델인 올 뉴 오딧세이는 캐빈와치, 캐빈토...</td>\n",
       "      <td>혼다</td>\n",
       "      <td>오딧세이</td>\n",
       "      <td>탑라이더</td>\n",
       "    </tr>\n",
       "    <tr>\n",
       "      <td>61</td>\n",
       "      <td>제네시스 G70 디젤, 진동은 어떻게 잡았나</td>\n",
       "      <td>제네시스 G70 2.2D HTRAC을 시승했다. G70 디젤은 제네시스 라인업 유일...</td>\n",
       "      <td>제네시스</td>\n",
       "      <td>G70 디젤</td>\n",
       "      <td>탑라이더</td>\n",
       "    </tr>\n",
       "    <tr>\n",
       "      <td>62</td>\n",
       "      <td>렉스턴 스포츠, 2천만원대 픽업의 가치</td>\n",
       "      <td>쌍용자동차 렉스턴 스포츠를 시승했다. 렉스턴 스포츠는 픽업트럭의 불모지에서 탄생했음...</td>\n",
       "      <td>쌍용</td>\n",
       "      <td>렉스턴 스포츠</td>\n",
       "      <td>탑라이더</td>\n",
       "    </tr>\n",
       "  </tbody>\n",
       "</table>\n",
       "<p>1450 rows × 5 columns</p>\n",
       "</div>"
      ],
      "text/plain": [
       "                                  title  \\\n",
       "0            1인 가구 기자가 반한 차, 508 SW 시승기   \n",
       "1                가장 감성적인 페라리, 포르토피노 시승기   \n",
       "2   우천 시에도 태양광 충전이 될까? 현대 쏘나타 하이브리드 시승기   \n",
       "3     예고된 이별이었지만 완벽했다, 페라리 488 스파이더 시승기   \n",
       "4              작지만 다 있더라, 현대 베뉴 플럭스 시승기   \n",
       "..                                  ...   \n",
       "58                신형 싼타페, 주행감각과 승차감에 올인   \n",
       "59                먼저 타본 미래차, 수소전기차 '넥쏘'   \n",
       "60             혼다 오딧세이, 주행성능까지 챙긴 '슈퍼밴'   \n",
       "61             제네시스 G70 디젤, 진동은 어떻게 잡았나   \n",
       "62                렉스턴 스포츠, 2천만원대 픽업의 가치   \n",
       "\n",
       "                                                 body brand       name source  \n",
       "0   이번에 시승한 508 SW는 지난 3월 앞서 시승한 508 모델의 왜건형 모델로써 ...    푸조     508 SW  오토트리뷴  \n",
       "1   스포츠카 혹은 슈퍼카 제조사로 잘 알려진 페라리는 GT카 역시 일가견 있는 제조사다...   페라리      포르토피노  오토트리뷴  \n",
       "2   하이브리드 자동차는 내연기관과 전기 구동 기술이 모두 적용되어 자동차 제조사의 모든...    현대  소나타 하이브리드  오토트리뷴  \n",
       "3   페라리의 국내 공식 수입 및 판매를 담당하고 있는 FMK가 페라리의 베스트셀러인 4...   페라리   488 스파이더  오토트리뷴  \n",
       "4   엑센트의 신형 모델은 이미 일찌감치 러시아에서 폴라리스라는 모델명으로 판매되고 있었...    현대  베뉴 플럭스 트림  오토트리뷴  \n",
       "..                                                ...   ...        ...    ...  \n",
       "58  현대자동차 신형 싼타페를 시승했다. 4세대 모델인 신형 싼타페는 풀체인지 모델로 디...    현대        싼타페   탑라이더  \n",
       "59  현대자동차의 2세대 수소전기차 넥쏘를 시승했다. 넥쏘는 양산형 수소전기차 중 가장 ...    현대         넥쏘   탑라이더  \n",
       "60  혼다 올 뉴 오딧세이를 시승했다. 5세대 모델인 올 뉴 오딧세이는 캐빈와치, 캐빈토...    혼다       오딧세이   탑라이더  \n",
       "61  제네시스 G70 2.2D HTRAC을 시승했다. G70 디젤은 제네시스 라인업 유일...  제네시스     G70 디젤   탑라이더  \n",
       "62  쌍용자동차 렉스턴 스포츠를 시승했다. 렉스턴 스포츠는 픽업트럭의 불모지에서 탄생했음...    쌍용    렉스턴 스포츠   탑라이더  \n",
       "\n",
       "[1450 rows x 5 columns]"
      ]
     },
     "execution_count": 20,
     "metadata": {},
     "output_type": "execute_result"
    }
   ],
   "source": [
    "alldf"
   ]
  },
  {
   "cell_type": "code",
   "execution_count": 21,
   "metadata": {
    "ExecuteTime": {
     "end_time": "2019-10-08T07:03:29.882165Z",
     "start_time": "2019-10-08T07:03:29.875163Z"
    }
   },
   "outputs": [
    {
     "data": {
      "text/plain": [
       "폭스바겐 2세대 티구안 독일                 2\n",
       "르노삼성 SM6 프라임                    2\n",
       "마세라티 르반떼 GTS                    2\n",
       "링컨 노틸러스 2.7T AWD                2\n",
       "7인승 SUV로는 ‘안성맞춤’..포드 익스플로러      1\n",
       "                               ..\n",
       "매너가 M을 만든다 - BMW 6세대 M5         1\n",
       " 심장이 반응하는 사운드, 마세라티             1\n",
       "포르쉐 3세대 카이엔                     1\n",
       "마세라티 기블리 S Q4 그란 스포츠…극단적인 매력    1\n",
       "미래와의 조우, 현대 수소전기차 ‘넥쏘’          1\n",
       "Name: title, Length: 1446, dtype: int64"
      ]
     },
     "execution_count": 21,
     "metadata": {},
     "output_type": "execute_result"
    }
   ],
   "source": [
    "alldf.title.value_counts()"
   ]
  },
  {
   "cell_type": "code",
   "execution_count": 22,
   "metadata": {
    "ExecuteTime": {
     "end_time": "2019-10-08T07:03:30.247564Z",
     "start_time": "2019-10-08T07:03:30.237536Z"
    }
   },
   "outputs": [
    {
     "data": {
      "text/html": [
       "<div>\n",
       "<style scoped>\n",
       "    .dataframe tbody tr th:only-of-type {\n",
       "        vertical-align: middle;\n",
       "    }\n",
       "\n",
       "    .dataframe tbody tr th {\n",
       "        vertical-align: top;\n",
       "    }\n",
       "\n",
       "    .dataframe thead th {\n",
       "        text-align: right;\n",
       "    }\n",
       "</style>\n",
       "<table border=\"1\" class=\"dataframe\">\n",
       "  <thead>\n",
       "    <tr style=\"text-align: right;\">\n",
       "      <th></th>\n",
       "      <th>title</th>\n",
       "      <th>body</th>\n",
       "      <th>brand</th>\n",
       "      <th>name</th>\n",
       "      <th>source</th>\n",
       "    </tr>\n",
       "  </thead>\n",
       "  <tbody>\n",
       "    <tr>\n",
       "      <td>60</td>\n",
       "      <td>마세라티 르반떼 GTS</td>\n",
       "      <td>마세라티 르반떼 GTS를 시승했다. 3.8리터 V형 8기통 트윈 터보 엔진을 탑재하...</td>\n",
       "      <td>마세라티</td>\n",
       "      <td>르반떼 GTS</td>\n",
       "      <td>글로벌오토뉴스</td>\n",
       "    </tr>\n",
       "    <tr>\n",
       "      <td>43</td>\n",
       "      <td>마세라티 르반떼 GTS</td>\n",
       "      <td>고급차에게 필요한 것이 뭘까? 넉넉한 공간, 최고급 소재, 다양한 편의장비... 모...</td>\n",
       "      <td>마세라티</td>\n",
       "      <td>르반떼 GTS</td>\n",
       "      <td>오토뷰</td>\n",
       "    </tr>\n",
       "  </tbody>\n",
       "</table>\n",
       "</div>"
      ],
      "text/plain": [
       "           title                                               body brand  \\\n",
       "60  마세라티 르반떼 GTS  마세라티 르반떼 GTS를 시승했다. 3.8리터 V형 8기통 트윈 터보 엔진을 탑재하...  마세라티   \n",
       "43  마세라티 르반떼 GTS  고급차에게 필요한 것이 뭘까? 넉넉한 공간, 최고급 소재, 다양한 편의장비... 모...  마세라티   \n",
       "\n",
       "       name   source  \n",
       "60  르반떼 GTS  글로벌오토뉴스  \n",
       "43  르반떼 GTS      오토뷰  "
      ]
     },
     "execution_count": 22,
     "metadata": {},
     "output_type": "execute_result"
    }
   ],
   "source": [
    "alldf[alldf.title == '마세라티 르반떼 GTS']"
   ]
  },
  {
   "cell_type": "code",
   "execution_count": 23,
   "metadata": {
    "ExecuteTime": {
     "end_time": "2019-10-08T07:03:30.603706Z",
     "start_time": "2019-10-08T07:03:30.593689Z"
    }
   },
   "outputs": [
    {
     "data": {
      "text/html": [
       "<div>\n",
       "<style scoped>\n",
       "    .dataframe tbody tr th:only-of-type {\n",
       "        vertical-align: middle;\n",
       "    }\n",
       "\n",
       "    .dataframe tbody tr th {\n",
       "        vertical-align: top;\n",
       "    }\n",
       "\n",
       "    .dataframe thead th {\n",
       "        text-align: right;\n",
       "    }\n",
       "</style>\n",
       "<table border=\"1\" class=\"dataframe\">\n",
       "  <thead>\n",
       "    <tr style=\"text-align: right;\">\n",
       "      <th></th>\n",
       "      <th>title</th>\n",
       "      <th>body</th>\n",
       "      <th>brand</th>\n",
       "      <th>name</th>\n",
       "      <th>source</th>\n",
       "    </tr>\n",
       "  </thead>\n",
       "  <tbody>\n",
       "    <tr>\n",
       "      <td>72</td>\n",
       "      <td>르노삼성 SM6 프라임</td>\n",
       "      <td>르노삼성의 중형 세단 SM6 프라임을 시승했다. 2.0리터 가솔린 엔진에 변속기를 ...</td>\n",
       "      <td>르노</td>\n",
       "      <td>SM6</td>\n",
       "      <td>글로벌오토뉴스</td>\n",
       "    </tr>\n",
       "    <tr>\n",
       "      <td>41</td>\n",
       "      <td>르노삼성 SM6 프라임</td>\n",
       "      <td>르노삼성이 가성비라는 무기를 전략으로 쓰고 있다. 단종 수순을 밟아야 했던 SM5의...</td>\n",
       "      <td>르노</td>\n",
       "      <td>SM6 프라임</td>\n",
       "      <td>오토뷰</td>\n",
       "    </tr>\n",
       "  </tbody>\n",
       "</table>\n",
       "</div>"
      ],
      "text/plain": [
       "           title                                               body brand  \\\n",
       "72  르노삼성 SM6 프라임  르노삼성의 중형 세단 SM6 프라임을 시승했다. 2.0리터 가솔린 엔진에 변속기를 ...    르노   \n",
       "41  르노삼성 SM6 프라임  르노삼성이 가성비라는 무기를 전략으로 쓰고 있다. 단종 수순을 밟아야 했던 SM5의...    르노   \n",
       "\n",
       "       name   source  \n",
       "72      SM6  글로벌오토뉴스  \n",
       "41  SM6 프라임      오토뷰  "
      ]
     },
     "execution_count": 23,
     "metadata": {},
     "output_type": "execute_result"
    }
   ],
   "source": [
    "alldf[alldf.title == '르노삼성 SM6 프라임']"
   ]
  },
  {
   "cell_type": "code",
   "execution_count": 24,
   "metadata": {
    "ExecuteTime": {
     "end_time": "2019-10-08T07:03:30.977709Z",
     "start_time": "2019-10-08T07:03:30.966691Z"
    }
   },
   "outputs": [
    {
     "data": {
      "text/html": [
       "<div>\n",
       "<style scoped>\n",
       "    .dataframe tbody tr th:only-of-type {\n",
       "        vertical-align: middle;\n",
       "    }\n",
       "\n",
       "    .dataframe tbody tr th {\n",
       "        vertical-align: top;\n",
       "    }\n",
       "\n",
       "    .dataframe thead th {\n",
       "        text-align: right;\n",
       "    }\n",
       "</style>\n",
       "<table border=\"1\" class=\"dataframe\">\n",
       "  <thead>\n",
       "    <tr style=\"text-align: right;\">\n",
       "      <th></th>\n",
       "      <th>title</th>\n",
       "      <th>body</th>\n",
       "      <th>brand</th>\n",
       "      <th>name</th>\n",
       "      <th>source</th>\n",
       "    </tr>\n",
       "  </thead>\n",
       "  <tbody>\n",
       "    <tr>\n",
       "      <td>14</td>\n",
       "      <td>링컨 노틸러스 2.7T AWD</td>\n",
       "      <td>링컨의 준대형 SUV 노틸러스(Nautilus)를 시승했다. MKX의 부분 변경을 ...</td>\n",
       "      <td>링컨</td>\n",
       "      <td>노틸러스</td>\n",
       "      <td>글로벌오토뉴스</td>\n",
       "    </tr>\n",
       "    <tr>\n",
       "      <td>12</td>\n",
       "      <td>링컨 노틸러스 2.7T AWD</td>\n",
       "      <td>잠시 과거로 가보자. 15년 정도 이전일까? 그때도 매달 수많은 차들을 만나고 있었...</td>\n",
       "      <td>링컨</td>\n",
       "      <td>노틸러스</td>\n",
       "      <td>오토뷰</td>\n",
       "    </tr>\n",
       "  </tbody>\n",
       "</table>\n",
       "</div>"
      ],
      "text/plain": [
       "               title                                               body brand  \\\n",
       "14  링컨 노틸러스 2.7T AWD  링컨의 준대형 SUV 노틸러스(Nautilus)를 시승했다. MKX의 부분 변경을 ...    링컨   \n",
       "12  링컨 노틸러스 2.7T AWD  잠시 과거로 가보자. 15년 정도 이전일까? 그때도 매달 수많은 차들을 만나고 있었...    링컨   \n",
       "\n",
       "    name   source  \n",
       "14  노틸러스  글로벌오토뉴스  \n",
       "12  노틸러스      오토뷰  "
      ]
     },
     "execution_count": 24,
     "metadata": {},
     "output_type": "execute_result"
    }
   ],
   "source": [
    "alldf[alldf.title == '링컨 노틸러스 2.7T AWD']"
   ]
  },
  {
   "cell_type": "code",
   "execution_count": 28,
   "metadata": {
    "ExecuteTime": {
     "end_time": "2019-10-08T07:03:45.807283Z",
     "start_time": "2019-10-08T07:03:45.794284Z"
    }
   },
   "outputs": [
    {
     "data": {
      "text/html": [
       "<div>\n",
       "<style scoped>\n",
       "    .dataframe tbody tr th:only-of-type {\n",
       "        vertical-align: middle;\n",
       "    }\n",
       "\n",
       "    .dataframe tbody tr th {\n",
       "        vertical-align: top;\n",
       "    }\n",
       "\n",
       "    .dataframe thead th {\n",
       "        text-align: right;\n",
       "    }\n",
       "</style>\n",
       "<table border=\"1\" class=\"dataframe\">\n",
       "  <thead>\n",
       "    <tr style=\"text-align: right;\">\n",
       "      <th></th>\n",
       "      <th>title</th>\n",
       "      <th>body</th>\n",
       "      <th>brand</th>\n",
       "      <th>name</th>\n",
       "      <th>source</th>\n",
       "    </tr>\n",
       "  </thead>\n",
       "  <tbody>\n",
       "    <tr>\n",
       "      <td>155</td>\n",
       "      <td>폭스바겐 2세대 티구안 독일</td>\n",
       "      <td>폭스바겐의 컴팩트SUV 티구안 2세대 모델을 시승했다. 골프가 그렇듯이 만인을 위한...</td>\n",
       "      <td>폭스바겐</td>\n",
       "      <td>티구안</td>\n",
       "      <td>글로벌오토뉴스</td>\n",
       "    </tr>\n",
       "  </tbody>\n",
       "</table>\n",
       "</div>"
      ],
      "text/plain": [
       "               title                                               body brand  \\\n",
       "155  폭스바겐 2세대 티구안 독일  폭스바겐의 컴팩트SUV 티구안 2세대 모델을 시승했다. 골프가 그렇듯이 만인을 위한...  폭스바겐   \n",
       "\n",
       "    name   source  \n",
       "155  티구안  글로벌오토뉴스  "
      ]
     },
     "execution_count": 28,
     "metadata": {},
     "output_type": "execute_result"
    }
   ],
   "source": [
    "alldf[alldf.title == '폭스바겐 2세대 티구안 독일']"
   ]
  },
  {
   "cell_type": "code",
   "execution_count": 27,
   "metadata": {
    "ExecuteTime": {
     "end_time": "2019-10-08T07:03:38.439144Z",
     "start_time": "2019-10-08T07:03:38.362475Z"
    }
   },
   "outputs": [
    {
     "ename": "KeyError",
     "evalue": "'[187] not found in axis'",
     "output_type": "error",
     "traceback": [
      "\u001b[1;31m---------------------------------------------------------------------------\u001b[0m",
      "\u001b[1;31mKeyError\u001b[0m                                  Traceback (most recent call last)",
      "\u001b[1;32m<ipython-input-27-7fb8243e6900>\u001b[0m in \u001b[0;36m<module>\u001b[1;34m\u001b[0m\n\u001b[1;32m----> 1\u001b[1;33m \u001b[0malldf\u001b[0m \u001b[1;33m=\u001b[0m \u001b[0malldf\u001b[0m\u001b[1;33m.\u001b[0m\u001b[0mdrop\u001b[0m\u001b[1;33m(\u001b[0m\u001b[1;36m187\u001b[0m\u001b[1;33m,\u001b[0m \u001b[0maxis\u001b[0m\u001b[1;33m=\u001b[0m\u001b[1;36m0\u001b[0m\u001b[1;33m)\u001b[0m\u001b[1;33m\u001b[0m\u001b[1;33m\u001b[0m\u001b[0m\n\u001b[0m",
      "\u001b[1;32m~\\.conda\\envs\\multicampus\\lib\\site-packages\\pandas\\core\\frame.py\u001b[0m in \u001b[0;36mdrop\u001b[1;34m(self, labels, axis, index, columns, level, inplace, errors)\u001b[0m\n\u001b[0;32m   4100\u001b[0m             \u001b[0mlevel\u001b[0m\u001b[1;33m=\u001b[0m\u001b[0mlevel\u001b[0m\u001b[1;33m,\u001b[0m\u001b[1;33m\u001b[0m\u001b[1;33m\u001b[0m\u001b[0m\n\u001b[0;32m   4101\u001b[0m             \u001b[0minplace\u001b[0m\u001b[1;33m=\u001b[0m\u001b[0minplace\u001b[0m\u001b[1;33m,\u001b[0m\u001b[1;33m\u001b[0m\u001b[1;33m\u001b[0m\u001b[0m\n\u001b[1;32m-> 4102\u001b[1;33m             \u001b[0merrors\u001b[0m\u001b[1;33m=\u001b[0m\u001b[0merrors\u001b[0m\u001b[1;33m,\u001b[0m\u001b[1;33m\u001b[0m\u001b[1;33m\u001b[0m\u001b[0m\n\u001b[0m\u001b[0;32m   4103\u001b[0m         )\n\u001b[0;32m   4104\u001b[0m \u001b[1;33m\u001b[0m\u001b[0m\n",
      "\u001b[1;32m~\\.conda\\envs\\multicampus\\lib\\site-packages\\pandas\\core\\generic.py\u001b[0m in \u001b[0;36mdrop\u001b[1;34m(self, labels, axis, index, columns, level, inplace, errors)\u001b[0m\n\u001b[0;32m   3912\u001b[0m         \u001b[1;32mfor\u001b[0m \u001b[0maxis\u001b[0m\u001b[1;33m,\u001b[0m \u001b[0mlabels\u001b[0m \u001b[1;32min\u001b[0m \u001b[0maxes\u001b[0m\u001b[1;33m.\u001b[0m\u001b[0mitems\u001b[0m\u001b[1;33m(\u001b[0m\u001b[1;33m)\u001b[0m\u001b[1;33m:\u001b[0m\u001b[1;33m\u001b[0m\u001b[1;33m\u001b[0m\u001b[0m\n\u001b[0;32m   3913\u001b[0m             \u001b[1;32mif\u001b[0m \u001b[0mlabels\u001b[0m \u001b[1;32mis\u001b[0m \u001b[1;32mnot\u001b[0m \u001b[1;32mNone\u001b[0m\u001b[1;33m:\u001b[0m\u001b[1;33m\u001b[0m\u001b[1;33m\u001b[0m\u001b[0m\n\u001b[1;32m-> 3914\u001b[1;33m                 \u001b[0mobj\u001b[0m \u001b[1;33m=\u001b[0m \u001b[0mobj\u001b[0m\u001b[1;33m.\u001b[0m\u001b[0m_drop_axis\u001b[0m\u001b[1;33m(\u001b[0m\u001b[0mlabels\u001b[0m\u001b[1;33m,\u001b[0m \u001b[0maxis\u001b[0m\u001b[1;33m,\u001b[0m \u001b[0mlevel\u001b[0m\u001b[1;33m=\u001b[0m\u001b[0mlevel\u001b[0m\u001b[1;33m,\u001b[0m \u001b[0merrors\u001b[0m\u001b[1;33m=\u001b[0m\u001b[0merrors\u001b[0m\u001b[1;33m)\u001b[0m\u001b[1;33m\u001b[0m\u001b[1;33m\u001b[0m\u001b[0m\n\u001b[0m\u001b[0;32m   3915\u001b[0m \u001b[1;33m\u001b[0m\u001b[0m\n\u001b[0;32m   3916\u001b[0m         \u001b[1;32mif\u001b[0m \u001b[0minplace\u001b[0m\u001b[1;33m:\u001b[0m\u001b[1;33m\u001b[0m\u001b[1;33m\u001b[0m\u001b[0m\n",
      "\u001b[1;32m~\\.conda\\envs\\multicampus\\lib\\site-packages\\pandas\\core\\generic.py\u001b[0m in \u001b[0;36m_drop_axis\u001b[1;34m(self, labels, axis, level, errors)\u001b[0m\n\u001b[0;32m   3963\u001b[0m                 \u001b[0mlabels_missing\u001b[0m \u001b[1;33m=\u001b[0m \u001b[1;33m(\u001b[0m\u001b[0maxis\u001b[0m\u001b[1;33m.\u001b[0m\u001b[0mget_indexer_for\u001b[0m\u001b[1;33m(\u001b[0m\u001b[0mlabels\u001b[0m\u001b[1;33m)\u001b[0m \u001b[1;33m==\u001b[0m \u001b[1;33m-\u001b[0m\u001b[1;36m1\u001b[0m\u001b[1;33m)\u001b[0m\u001b[1;33m.\u001b[0m\u001b[0many\u001b[0m\u001b[1;33m(\u001b[0m\u001b[1;33m)\u001b[0m\u001b[1;33m\u001b[0m\u001b[1;33m\u001b[0m\u001b[0m\n\u001b[0;32m   3964\u001b[0m                 \u001b[1;32mif\u001b[0m \u001b[0merrors\u001b[0m \u001b[1;33m==\u001b[0m \u001b[1;34m\"raise\"\u001b[0m \u001b[1;32mand\u001b[0m \u001b[0mlabels_missing\u001b[0m\u001b[1;33m:\u001b[0m\u001b[1;33m\u001b[0m\u001b[1;33m\u001b[0m\u001b[0m\n\u001b[1;32m-> 3965\u001b[1;33m                     \u001b[1;32mraise\u001b[0m \u001b[0mKeyError\u001b[0m\u001b[1;33m(\u001b[0m\u001b[1;34m\"{} not found in axis\"\u001b[0m\u001b[1;33m.\u001b[0m\u001b[0mformat\u001b[0m\u001b[1;33m(\u001b[0m\u001b[0mlabels\u001b[0m\u001b[1;33m)\u001b[0m\u001b[1;33m)\u001b[0m\u001b[1;33m\u001b[0m\u001b[1;33m\u001b[0m\u001b[0m\n\u001b[0m\u001b[0;32m   3966\u001b[0m \u001b[1;33m\u001b[0m\u001b[0m\n\u001b[0;32m   3967\u001b[0m             \u001b[0mslicer\u001b[0m \u001b[1;33m=\u001b[0m \u001b[1;33m[\u001b[0m\u001b[0mslice\u001b[0m\u001b[1;33m(\u001b[0m\u001b[1;32mNone\u001b[0m\u001b[1;33m)\u001b[0m\u001b[1;33m]\u001b[0m \u001b[1;33m*\u001b[0m \u001b[0mself\u001b[0m\u001b[1;33m.\u001b[0m\u001b[0mndim\u001b[0m\u001b[1;33m\u001b[0m\u001b[1;33m\u001b[0m\u001b[0m\n",
      "\u001b[1;31mKeyError\u001b[0m: '[187] not found in axis'"
     ]
    }
   ],
   "source": [
    "alldf = alldf.drop(187, axis=0)"
   ]
  },
  {
   "cell_type": "code",
   "execution_count": 29,
   "metadata": {
    "ExecuteTime": {
     "end_time": "2019-10-08T07:03:49.722767Z",
     "start_time": "2019-10-08T07:03:49.713795Z"
    }
   },
   "outputs": [
    {
     "data": {
      "text/html": [
       "<div>\n",
       "<style scoped>\n",
       "    .dataframe tbody tr th:only-of-type {\n",
       "        vertical-align: middle;\n",
       "    }\n",
       "\n",
       "    .dataframe tbody tr th {\n",
       "        vertical-align: top;\n",
       "    }\n",
       "\n",
       "    .dataframe thead th {\n",
       "        text-align: right;\n",
       "    }\n",
       "</style>\n",
       "<table border=\"1\" class=\"dataframe\">\n",
       "  <thead>\n",
       "    <tr style=\"text-align: right;\">\n",
       "      <th></th>\n",
       "      <th>title</th>\n",
       "      <th>body</th>\n",
       "      <th>brand</th>\n",
       "      <th>name</th>\n",
       "      <th>source</th>\n",
       "    </tr>\n",
       "  </thead>\n",
       "  <tbody>\n",
       "    <tr>\n",
       "      <td>155</td>\n",
       "      <td>폭스바겐 2세대 티구안 독일</td>\n",
       "      <td>폭스바겐의 컴팩트SUV 티구안 2세대 모델을 시승했다. 골프가 그렇듯이 만인을 위한...</td>\n",
       "      <td>폭스바겐</td>\n",
       "      <td>티구안</td>\n",
       "      <td>글로벌오토뉴스</td>\n",
       "    </tr>\n",
       "  </tbody>\n",
       "</table>\n",
       "</div>"
      ],
      "text/plain": [
       "               title                                               body brand  \\\n",
       "155  폭스바겐 2세대 티구안 독일  폭스바겐의 컴팩트SUV 티구안 2세대 모델을 시승했다. 골프가 그렇듯이 만인을 위한...  폭스바겐   \n",
       "\n",
       "    name   source  \n",
       "155  티구안  글로벌오토뉴스  "
      ]
     },
     "execution_count": 29,
     "metadata": {},
     "output_type": "execute_result"
    }
   ],
   "source": [
    "alldf[alldf.title == '폭스바겐 2세대 티구안 독일']"
   ]
  },
  {
   "cell_type": "code",
   "execution_count": 57,
   "metadata": {
    "ExecuteTime": {
     "end_time": "2019-10-08T07:22:37.856485Z",
     "start_time": "2019-10-08T07:22:37.849531Z"
    }
   },
   "outputs": [
    {
     "data": {
      "text/plain": [
       "현대       151\n",
       "기아       124\n",
       "쌍용        90\n",
       "BMW       82\n",
       "볼보        72\n",
       "르노        66\n",
       "쉐보레       62\n",
       "혼다        57\n",
       "지프        52\n",
       "푸조        49\n",
       "토요타       49\n",
       "벤츠        48\n",
       "렉서스       41\n",
       "닛산        36\n",
       "랜드로버      36\n",
       "페라리       35\n",
       "재규어       34\n",
       "캐딜락       32\n",
       "제네시스      32\n",
       "폭스바겐      30\n",
       "인피니티      30\n",
       "포르쉐       29\n",
       "르노삼성      28\n",
       "시트로엥      28\n",
       "마세라티      23\n",
       "포드        18\n",
       "링컨        15\n",
       "미니        13\n",
       "아우디       12\n",
       "테슬라       12\n",
       "람보르기니     11\n",
       "DS         8\n",
       "벤틀리        7\n",
       "롤스로이스      4\n",
       "맥라렌        3\n",
       "Name: brand, dtype: int64"
      ]
     },
     "execution_count": 57,
     "metadata": {},
     "output_type": "execute_result"
    }
   ],
   "source": [
    "alldf.brand.value_counts()"
   ]
  },
  {
   "cell_type": "code",
   "execution_count": 31,
   "metadata": {
    "ExecuteTime": {
     "end_time": "2019-10-08T07:03:56.535620Z",
     "start_time": "2019-10-08T07:03:56.525620Z"
    }
   },
   "outputs": [
    {
     "data": {
      "text/html": [
       "<div>\n",
       "<style scoped>\n",
       "    .dataframe tbody tr th:only-of-type {\n",
       "        vertical-align: middle;\n",
       "    }\n",
       "\n",
       "    .dataframe tbody tr th {\n",
       "        vertical-align: top;\n",
       "    }\n",
       "\n",
       "    .dataframe thead th {\n",
       "        text-align: right;\n",
       "    }\n",
       "</style>\n",
       "<table border=\"1\" class=\"dataframe\">\n",
       "  <thead>\n",
       "    <tr style=\"text-align: right;\">\n",
       "      <th></th>\n",
       "      <th>title</th>\n",
       "      <th>body</th>\n",
       "      <th>brand</th>\n",
       "      <th>name</th>\n",
       "      <th>source</th>\n",
       "    </tr>\n",
       "  </thead>\n",
       "  <tbody>\n",
       "    <tr>\n",
       "      <td>48</td>\n",
       "      <td>알피느 A110 시승기, 포르쉐 카이맨의 설득력 있는 대안</td>\n",
       "      <td>전설적인 프랑스 브랜드가 부활했다. 그리고 그들은 재빨리 포르쉐 카이맨과 겨룰만한...</td>\n",
       "      <td>알피느</td>\n",
       "      <td>A110</td>\n",
       "      <td>엔카매거진</td>\n",
       "    </tr>\n",
       "  </tbody>\n",
       "</table>\n",
       "</div>"
      ],
      "text/plain": [
       "                               title  \\\n",
       "48  알피느 A110 시승기, 포르쉐 카이맨의 설득력 있는 대안   \n",
       "\n",
       "                                                 body brand  name source  \n",
       "48   전설적인 프랑스 브랜드가 부활했다. 그리고 그들은 재빨리 포르쉐 카이맨과 겨룰만한...   알피느  A110  엔카매거진  "
      ]
     },
     "execution_count": 31,
     "metadata": {},
     "output_type": "execute_result"
    }
   ],
   "source": [
    "alldf.loc[alldf['brand'] == '알피느']"
   ]
  },
  {
   "cell_type": "code",
   "execution_count": 32,
   "metadata": {
    "ExecuteTime": {
     "end_time": "2019-10-08T07:03:58.801989Z",
     "start_time": "2019-10-08T07:03:58.794020Z"
    }
   },
   "outputs": [
    {
     "name": "stderr",
     "output_type": "stream",
     "text": [
      "C:\\Users\\Administrator\\.conda\\envs\\multicampus\\lib\\site-packages\\pandas\\core\\indexing.py:205: SettingWithCopyWarning: \n",
      "A value is trying to be set on a copy of a slice from a DataFrame\n",
      "\n",
      "See the caveats in the documentation: http://pandas.pydata.org/pandas-docs/stable/user_guide/indexing.html#returning-a-view-versus-a-copy\n",
      "  self._setitem_with_indexer(indexer, value)\n",
      "C:\\Users\\Administrator\\.conda\\envs\\multicampus\\lib\\site-packages\\ipykernel_launcher.py:1: SettingWithCopyWarning: \n",
      "A value is trying to be set on a copy of a slice from a DataFrame\n",
      "\n",
      "See the caveats in the documentation: http://pandas.pydata.org/pandas-docs/stable/user_guide/indexing.html#returning-a-view-versus-a-copy\n",
      "  \"\"\"Entry point for launching an IPython kernel.\n",
      "C:\\Users\\Administrator\\.conda\\envs\\multicampus\\lib\\site-packages\\ipykernel_launcher.py:2: SettingWithCopyWarning: \n",
      "A value is trying to be set on a copy of a slice from a DataFrame\n",
      "\n",
      "See the caveats in the documentation: http://pandas.pydata.org/pandas-docs/stable/user_guide/indexing.html#returning-a-view-versus-a-copy\n",
      "  \n"
     ]
    }
   ],
   "source": [
    "alldf.loc[48, 'brand'] = '르노'\n",
    "alldf.loc[48, 'name'] = '알피느 A110'"
   ]
  },
  {
   "cell_type": "code",
   "execution_count": 33,
   "metadata": {
    "ExecuteTime": {
     "end_time": "2019-10-08T07:04:01.110511Z",
     "start_time": "2019-10-08T07:04:01.100581Z"
    }
   },
   "outputs": [
    {
     "data": {
      "text/html": [
       "<div>\n",
       "<style scoped>\n",
       "    .dataframe tbody tr th:only-of-type {\n",
       "        vertical-align: middle;\n",
       "    }\n",
       "\n",
       "    .dataframe tbody tr th {\n",
       "        vertical-align: top;\n",
       "    }\n",
       "\n",
       "    .dataframe thead th {\n",
       "        text-align: right;\n",
       "    }\n",
       "</style>\n",
       "<table border=\"1\" class=\"dataframe\">\n",
       "  <thead>\n",
       "    <tr style=\"text-align: right;\">\n",
       "      <th></th>\n",
       "      <th>title</th>\n",
       "      <th>body</th>\n",
       "      <th>brand</th>\n",
       "      <th>name</th>\n",
       "      <th>source</th>\n",
       "    </tr>\n",
       "  </thead>\n",
       "  <tbody>\n",
       "    <tr>\n",
       "      <td>114</td>\n",
       "      <td>AMG의 힘 - 메르세데스-AMG E63 4MATIC 서킷 체험기</td>\n",
       "      <td>5월 8일, 메르세데스-벤츠코리아는 ‘AMG 스피드웨이’의개장을 알리며 공식 오픈 ...</td>\n",
       "      <td>벤트</td>\n",
       "      <td>E클래스 AMG</td>\n",
       "      <td>모토야</td>\n",
       "    </tr>\n",
       "  </tbody>\n",
       "</table>\n",
       "</div>"
      ],
      "text/plain": [
       "                                    title  \\\n",
       "114  AMG의 힘 - 메르세데스-AMG E63 4MATIC 서킷 체험기   \n",
       "\n",
       "                                                  body brand      name source  \n",
       "114  5월 8일, 메르세데스-벤츠코리아는 ‘AMG 스피드웨이’의개장을 알리며 공식 오픈 ...    벤트  E클래스 AMG    모토야  "
      ]
     },
     "execution_count": 33,
     "metadata": {},
     "output_type": "execute_result"
    }
   ],
   "source": [
    "alldf.loc[alldf['brand'] == '벤트']"
   ]
  },
  {
   "cell_type": "code",
   "execution_count": 34,
   "metadata": {
    "ExecuteTime": {
     "end_time": "2019-10-08T07:04:01.482138Z",
     "start_time": "2019-10-08T07:04:01.476094Z"
    }
   },
   "outputs": [
    {
     "name": "stderr",
     "output_type": "stream",
     "text": [
      "C:\\Users\\Administrator\\.conda\\envs\\multicampus\\lib\\site-packages\\ipykernel_launcher.py:1: SettingWithCopyWarning: \n",
      "A value is trying to be set on a copy of a slice from a DataFrame\n",
      "\n",
      "See the caveats in the documentation: http://pandas.pydata.org/pandas-docs/stable/user_guide/indexing.html#returning-a-view-versus-a-copy\n",
      "  \"\"\"Entry point for launching an IPython kernel.\n"
     ]
    }
   ],
   "source": [
    "alldf.loc[114, 'brand'] = '벤츠'"
   ]
  },
  {
   "cell_type": "code",
   "execution_count": 35,
   "metadata": {
    "ExecuteTime": {
     "end_time": "2019-10-08T07:04:03.392784Z",
     "start_time": "2019-10-08T07:04:03.382777Z"
    }
   },
   "outputs": [
    {
     "data": {
      "text/html": [
       "<div>\n",
       "<style scoped>\n",
       "    .dataframe tbody tr th:only-of-type {\n",
       "        vertical-align: middle;\n",
       "    }\n",
       "\n",
       "    .dataframe tbody tr th {\n",
       "        vertical-align: top;\n",
       "    }\n",
       "\n",
       "    .dataframe thead th {\n",
       "        text-align: right;\n",
       "    }\n",
       "</style>\n",
       "<table border=\"1\" class=\"dataframe\">\n",
       "  <thead>\n",
       "    <tr style=\"text-align: right;\">\n",
       "      <th></th>\n",
       "      <th>title</th>\n",
       "      <th>body</th>\n",
       "      <th>brand</th>\n",
       "      <th>name</th>\n",
       "      <th>source</th>\n",
       "    </tr>\n",
       "  </thead>\n",
       "  <tbody>\n",
       "    <tr>\n",
       "      <td>57</td>\n",
       "      <td>쇼퍼드리븐의 재해석, 와이즈오토 브이스타</td>\n",
       "      <td>7인승 럭셔리 중형 밴 선두주자  고급 소재와 섬세한 마감 돋보여 국내 중형 ...</td>\n",
       "      <td>와이즈오토</td>\n",
       "      <td>V Star</td>\n",
       "      <td>한경</td>\n",
       "    </tr>\n",
       "  </tbody>\n",
       "</table>\n",
       "</div>"
      ],
      "text/plain": [
       "                      title  \\\n",
       "57   쇼퍼드리븐의 재해석, 와이즈오토 브이스타   \n",
       "\n",
       "                                                 body  brand    name source  \n",
       "57     7인승 럭셔리 중형 밴 선두주자  고급 소재와 섬세한 마감 돋보여 국내 중형 ...  와이즈오토  V Star     한경  "
      ]
     },
     "execution_count": 35,
     "metadata": {},
     "output_type": "execute_result"
    }
   ],
   "source": [
    "alldf.loc[alldf['brand'] == '와이즈오토']"
   ]
  },
  {
   "cell_type": "code",
   "execution_count": 36,
   "metadata": {
    "ExecuteTime": {
     "end_time": "2019-10-08T07:04:03.766127Z",
     "start_time": "2019-10-08T07:04:03.759388Z"
    }
   },
   "outputs": [],
   "source": [
    "alldf = alldf.drop(57, axis=0)"
   ]
  },
  {
   "cell_type": "code",
   "execution_count": 37,
   "metadata": {
    "ExecuteTime": {
     "end_time": "2019-10-08T07:04:05.333152Z",
     "start_time": "2019-10-08T07:04:05.327436Z"
    }
   },
   "outputs": [],
   "source": [
    "alldf = alldf.replace('토요터','토요타')"
   ]
  },
  {
   "cell_type": "code",
   "execution_count": 38,
   "metadata": {
    "ExecuteTime": {
     "end_time": "2019-10-08T07:04:05.712878Z",
     "start_time": "2019-10-08T07:04:05.706899Z"
    }
   },
   "outputs": [],
   "source": [
    "alldf = alldf.replace('쉐볼레','쉐보레')"
   ]
  },
  {
   "cell_type": "code",
   "execution_count": 39,
   "metadata": {
    "ExecuteTime": {
     "end_time": "2019-10-08T07:04:06.437201Z",
     "start_time": "2019-10-08T07:04:06.427201Z"
    }
   },
   "outputs": [
    {
     "data": {
      "text/html": [
       "<div>\n",
       "<style scoped>\n",
       "    .dataframe tbody tr th:only-of-type {\n",
       "        vertical-align: middle;\n",
       "    }\n",
       "\n",
       "    .dataframe tbody tr th {\n",
       "        vertical-align: top;\n",
       "    }\n",
       "\n",
       "    .dataframe thead th {\n",
       "        text-align: right;\n",
       "    }\n",
       "</style>\n",
       "<table border=\"1\" class=\"dataframe\">\n",
       "  <thead>\n",
       "    <tr style=\"text-align: right;\">\n",
       "      <th></th>\n",
       "      <th>title</th>\n",
       "      <th>body</th>\n",
       "      <th>brand</th>\n",
       "      <th>name</th>\n",
       "      <th>source</th>\n",
       "    </tr>\n",
       "  </thead>\n",
       "  <tbody>\n",
       "    <tr>\n",
       "      <td>78</td>\n",
       "      <td>생동감 불어넣은 티볼리 아머</td>\n",
       "      <td>끊임없이 변화를 추구해온 티볼리가 외관 컬러 변화로 또다시 생동감을 불어넣었다  ...</td>\n",
       "      <td>티볼리</td>\n",
       "      <td>아머</td>\n",
       "      <td>아이오토카</td>\n",
       "    </tr>\n",
       "  </tbody>\n",
       "</table>\n",
       "</div>"
      ],
      "text/plain": [
       "              title                                               body brand  \\\n",
       "78  생동감 불어넣은 티볼리 아머   끊임없이 변화를 추구해온 티볼리가 외관 컬러 변화로 또다시 생동감을 불어넣었다  ...   티볼리   \n",
       "\n",
       "   name source  \n",
       "78   아머  아이오토카  "
      ]
     },
     "execution_count": 39,
     "metadata": {},
     "output_type": "execute_result"
    }
   ],
   "source": [
    "alldf.loc[alldf['brand'] == '티볼리']"
   ]
  },
  {
   "cell_type": "code",
   "execution_count": 40,
   "metadata": {
    "ExecuteTime": {
     "end_time": "2019-10-08T07:04:08.161565Z",
     "start_time": "2019-10-08T07:04:08.156567Z"
    }
   },
   "outputs": [],
   "source": [
    "alldf.loc[78, 'brand'] = '쌍용'\n",
    "alldf.loc[78, 'name'] = '티볼리 아머'"
   ]
  },
  {
   "cell_type": "code",
   "execution_count": 41,
   "metadata": {
    "ExecuteTime": {
     "end_time": "2019-10-08T07:04:08.539373Z",
     "start_time": "2019-10-08T07:04:08.527351Z"
    }
   },
   "outputs": [
    {
     "data": {
      "text/html": [
       "<div>\n",
       "<style scoped>\n",
       "    .dataframe tbody tr th:only-of-type {\n",
       "        vertical-align: middle;\n",
       "    }\n",
       "\n",
       "    .dataframe tbody tr th {\n",
       "        vertical-align: top;\n",
       "    }\n",
       "\n",
       "    .dataframe thead th {\n",
       "        text-align: right;\n",
       "    }\n",
       "</style>\n",
       "<table border=\"1\" class=\"dataframe\">\n",
       "  <thead>\n",
       "    <tr style=\"text-align: right;\">\n",
       "      <th></th>\n",
       "      <th>title</th>\n",
       "      <th>body</th>\n",
       "      <th>brand</th>\n",
       "      <th>name</th>\n",
       "      <th>source</th>\n",
       "    </tr>\n",
       "  </thead>\n",
       "  <tbody>\n",
       "    <tr>\n",
       "      <td>177</td>\n",
       "      <td>모든 것이 새롭다 - 올 뉴 스카니아</td>\n",
       "      <td>트럭은 다른 자동차들과는 다르다. 새로운 기술의 적용보다는 신뢰성이 우선되고 디자인...</td>\n",
       "      <td>스카니아</td>\n",
       "      <td>스카니아</td>\n",
       "      <td>글로벌오토뉴스</td>\n",
       "    </tr>\n",
       "  </tbody>\n",
       "</table>\n",
       "</div>"
      ],
      "text/plain": [
       "                    title                                               body  \\\n",
       "177  모든 것이 새롭다 - 올 뉴 스카니아  트럭은 다른 자동차들과는 다르다. 새로운 기술의 적용보다는 신뢰성이 우선되고 디자인...   \n",
       "\n",
       "    brand  name   source  \n",
       "177  스카니아  스카니아  글로벌오토뉴스  "
      ]
     },
     "execution_count": 41,
     "metadata": {},
     "output_type": "execute_result"
    }
   ],
   "source": [
    "alldf.loc[alldf['brand'] == '스카니아']"
   ]
  },
  {
   "cell_type": "code",
   "execution_count": 42,
   "metadata": {
    "ExecuteTime": {
     "end_time": "2019-10-08T07:04:08.883713Z",
     "start_time": "2019-10-08T07:04:08.878446Z"
    }
   },
   "outputs": [],
   "source": [
    "alldf = alldf.drop(177, axis=0)"
   ]
  },
  {
   "cell_type": "code",
   "execution_count": 47,
   "metadata": {
    "ExecuteTime": {
     "end_time": "2019-10-08T07:06:37.198456Z",
     "start_time": "2019-10-08T07:06:37.188429Z"
    }
   },
   "outputs": [
    {
     "data": {
      "text/html": [
       "<div>\n",
       "<style scoped>\n",
       "    .dataframe tbody tr th:only-of-type {\n",
       "        vertical-align: middle;\n",
       "    }\n",
       "\n",
       "    .dataframe tbody tr th {\n",
       "        vertical-align: top;\n",
       "    }\n",
       "\n",
       "    .dataframe thead th {\n",
       "        text-align: right;\n",
       "    }\n",
       "</style>\n",
       "<table border=\"1\" class=\"dataframe\">\n",
       "  <thead>\n",
       "    <tr style=\"text-align: right;\">\n",
       "      <th></th>\n",
       "      <th>title</th>\n",
       "      <th>body</th>\n",
       "      <th>brand</th>\n",
       "      <th>name</th>\n",
       "      <th>source</th>\n",
       "    </tr>\n",
       "  </thead>\n",
       "  <tbody>\n",
       "    <tr>\n",
       "      <td>52</td>\n",
       "      <td>이탈리아 감성의 소형 해치백, 알파 로메오 미토</td>\n",
       "      <td>알파 로메오는 이탈리아의 전통있는 자동차 메이커이다. 모터스포츠에 투자를 아끼지 않...</td>\n",
       "      <td>알파로메오</td>\n",
       "      <td>미토</td>\n",
       "      <td>라이드매거진</td>\n",
       "    </tr>\n",
       "  </tbody>\n",
       "</table>\n",
       "</div>"
      ],
      "text/plain": [
       "                         title  \\\n",
       "52  이탈리아 감성의 소형 해치백, 알파 로메오 미토   \n",
       "\n",
       "                                                 body  brand name  source  \n",
       "52  알파 로메오는 이탈리아의 전통있는 자동차 메이커이다. 모터스포츠에 투자를 아끼지 않...  알파로메오   미토  라이드매거진  "
      ]
     },
     "execution_count": 47,
     "metadata": {},
     "output_type": "execute_result"
    }
   ],
   "source": [
    "alldf.loc[alldf['brand'] == '알파로메오']"
   ]
  },
  {
   "cell_type": "code",
   "execution_count": 48,
   "metadata": {
    "ExecuteTime": {
     "end_time": "2019-10-08T07:06:43.064841Z",
     "start_time": "2019-10-08T07:06:43.059473Z"
    }
   },
   "outputs": [],
   "source": [
    "alldf = alldf.drop(52, axis=0)"
   ]
  },
  {
   "cell_type": "code",
   "execution_count": 49,
   "metadata": {
    "ExecuteTime": {
     "end_time": "2019-10-08T07:07:01.326803Z",
     "start_time": "2019-10-08T07:07:01.315802Z"
    }
   },
   "outputs": [
    {
     "data": {
      "text/html": [
       "<div>\n",
       "<style scoped>\n",
       "    .dataframe tbody tr th:only-of-type {\n",
       "        vertical-align: middle;\n",
       "    }\n",
       "\n",
       "    .dataframe tbody tr th {\n",
       "        vertical-align: top;\n",
       "    }\n",
       "\n",
       "    .dataframe thead th {\n",
       "        text-align: right;\n",
       "    }\n",
       "</style>\n",
       "<table border=\"1\" class=\"dataframe\">\n",
       "  <thead>\n",
       "    <tr style=\"text-align: right;\">\n",
       "      <th></th>\n",
       "      <th>title</th>\n",
       "      <th>body</th>\n",
       "      <th>brand</th>\n",
       "      <th>name</th>\n",
       "      <th>source</th>\n",
       "    </tr>\n",
       "  </thead>\n",
       "  <tbody>\n",
       "    <tr>\n",
       "      <td>99</td>\n",
       "      <td>파나메라 4E 하이브리드, 부자아빠의 두 얼굴 고성능과 친환경</td>\n",
       "      <td>?엄격해지는 배기가스 규제, 포르쉐도 피할 수는 없다. 포르쉐 파나메라 4E 하이브...</td>\n",
       "      <td>파나메라</td>\n",
       "      <td>4E 하이브리드</td>\n",
       "      <td>오토다이어리</td>\n",
       "    </tr>\n",
       "  </tbody>\n",
       "</table>\n",
       "</div>"
      ],
      "text/plain": [
       "                                 title  \\\n",
       "99  파나메라 4E 하이브리드, 부자아빠의 두 얼굴 고성능과 친환경   \n",
       "\n",
       "                                                 body brand      name  source  \n",
       "99  ?엄격해지는 배기가스 규제, 포르쉐도 피할 수는 없다. 포르쉐 파나메라 4E 하이브...  파나메라  4E 하이브리드  오토다이어리  "
      ]
     },
     "execution_count": 49,
     "metadata": {},
     "output_type": "execute_result"
    }
   ],
   "source": [
    "alldf.loc[alldf['brand'] == '파나메라']"
   ]
  },
  {
   "cell_type": "code",
   "execution_count": 50,
   "metadata": {
    "ExecuteTime": {
     "end_time": "2019-10-08T07:20:25.894220Z",
     "start_time": "2019-10-08T07:20:25.887214Z"
    }
   },
   "outputs": [
    {
     "name": "stderr",
     "output_type": "stream",
     "text": [
      "C:\\Users\\Administrator\\.conda\\envs\\multicampus\\lib\\site-packages\\ipykernel_launcher.py:1: SettingWithCopyWarning: \n",
      "A value is trying to be set on a copy of a slice from a DataFrame\n",
      "\n",
      "See the caveats in the documentation: http://pandas.pydata.org/pandas-docs/stable/user_guide/indexing.html#returning-a-view-versus-a-copy\n",
      "  \"\"\"Entry point for launching an IPython kernel.\n",
      "C:\\Users\\Administrator\\.conda\\envs\\multicampus\\lib\\site-packages\\ipykernel_launcher.py:2: SettingWithCopyWarning: \n",
      "A value is trying to be set on a copy of a slice from a DataFrame\n",
      "\n",
      "See the caveats in the documentation: http://pandas.pydata.org/pandas-docs/stable/user_guide/indexing.html#returning-a-view-versus-a-copy\n",
      "  \n"
     ]
    }
   ],
   "source": [
    "alldf.loc[99, 'brand'] = '포르쉐'\n",
    "alldf.loc[99, 'name'] = '파나메라 4E 하이브리드'"
   ]
  },
  {
   "cell_type": "code",
   "execution_count": 54,
   "metadata": {
    "ExecuteTime": {
     "end_time": "2019-10-08T07:21:47.648036Z",
     "start_time": "2019-10-08T07:21:47.637377Z"
    }
   },
   "outputs": [
    {
     "data": {
      "text/html": [
       "<div>\n",
       "<style scoped>\n",
       "    .dataframe tbody tr th:only-of-type {\n",
       "        vertical-align: middle;\n",
       "    }\n",
       "\n",
       "    .dataframe tbody tr th {\n",
       "        vertical-align: top;\n",
       "    }\n",
       "\n",
       "    .dataframe thead th {\n",
       "        text-align: right;\n",
       "    }\n",
       "</style>\n",
       "<table border=\"1\" class=\"dataframe\">\n",
       "  <thead>\n",
       "    <tr style=\"text-align: right;\">\n",
       "      <th></th>\n",
       "      <th>title</th>\n",
       "      <th>body</th>\n",
       "      <th>brand</th>\n",
       "      <th>name</th>\n",
       "      <th>source</th>\n",
       "    </tr>\n",
       "  </thead>\n",
       "  <tbody>\n",
       "    <tr>\n",
       "      <td>105</td>\n",
       "      <td>운전자의 보석, 스즈키 스위프트 스포트</td>\n",
       "      <td>일본산 드라이버즈카는 이제 한정된 예산으로 살 수 있는 차가 아닌 것처럼 보인다 ...</td>\n",
       "      <td>스즈키</td>\n",
       "      <td>스위프트 스포츠</td>\n",
       "      <td>아이오토카</td>\n",
       "    </tr>\n",
       "  </tbody>\n",
       "</table>\n",
       "</div>"
      ],
      "text/plain": [
       "                     title                                               body  \\\n",
       "105  운전자의 보석, 스즈키 스위프트 스포트   일본산 드라이버즈카는 이제 한정된 예산으로 살 수 있는 차가 아닌 것처럼 보인다 ...   \n",
       "\n",
       "    brand      name source  \n",
       "105   스즈키  스위프트 스포츠  아이오토카  "
      ]
     },
     "execution_count": 54,
     "metadata": {},
     "output_type": "execute_result"
    }
   ],
   "source": [
    "alldf.loc[alldf['brand'] == '스즈키']"
   ]
  },
  {
   "cell_type": "code",
   "execution_count": 55,
   "metadata": {
    "ExecuteTime": {
     "end_time": "2019-10-08T07:22:26.587375Z",
     "start_time": "2019-10-08T07:22:26.581381Z"
    }
   },
   "outputs": [],
   "source": [
    "alldf = alldf.drop(105, axis=0)"
   ]
  },
  {
   "cell_type": "code",
   "execution_count": 58,
   "metadata": {
    "ExecuteTime": {
     "end_time": "2019-10-08T07:22:56.959146Z",
     "start_time": "2019-10-08T07:22:56.785850Z"
    }
   },
   "outputs": [],
   "source": [
    "alldf.to_csv('review.csv', index=False)"
   ]
  },
  {
   "cell_type": "code",
   "execution_count": null,
   "metadata": {},
   "outputs": [],
   "source": []
  }
 ],
 "metadata": {
  "kernelspec": {
   "display_name": "Python 3",
   "language": "python",
   "name": "python3"
  },
  "language_info": {
   "codemirror_mode": {
    "name": "ipython",
    "version": 3
   },
   "file_extension": ".py",
   "mimetype": "text/x-python",
   "name": "python",
   "nbconvert_exporter": "python",
   "pygments_lexer": "ipython3",
   "version": "3.6.9"
  },
  "toc": {
   "base_numbering": 1,
   "nav_menu": {},
   "number_sections": true,
   "sideBar": true,
   "skip_h1_title": false,
   "title_cell": "Table of Contents",
   "title_sidebar": "Contents",
   "toc_cell": false,
   "toc_position": {},
   "toc_section_display": true,
   "toc_window_display": false
  },
  "varInspector": {
   "cols": {
    "lenName": 16,
    "lenType": 16,
    "lenVar": 40
   },
   "kernels_config": {
    "python": {
     "delete_cmd_postfix": "",
     "delete_cmd_prefix": "del ",
     "library": "var_list.py",
     "varRefreshCmd": "print(var_dic_list())"
    },
    "r": {
     "delete_cmd_postfix": ") ",
     "delete_cmd_prefix": "rm(",
     "library": "var_list.r",
     "varRefreshCmd": "cat(var_dic_list()) "
    }
   },
   "types_to_exclude": [
    "module",
    "function",
    "builtin_function_or_method",
    "instance",
    "_Feature"
   ],
   "window_display": false
  }
 },
 "nbformat": 4,
 "nbformat_minor": 4
}
