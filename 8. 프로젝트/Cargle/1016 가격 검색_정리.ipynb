{
 "cells": [
  {
   "cell_type": "code",
   "execution_count": 1,
   "metadata": {
    "ExecuteTime": {
     "end_time": "2019-10-17T03:50:08.594612Z",
     "start_time": "2019-10-17T03:50:08.591584Z"
    }
   },
   "outputs": [],
   "source": [
    "import numpy as np"
   ]
  },
  {
   "cell_type": "code",
   "execution_count": 2,
   "metadata": {
    "ExecuteTime": {
     "end_time": "2019-10-17T03:50:13.089392Z",
     "start_time": "2019-10-17T03:50:09.174365Z"
    }
   },
   "outputs": [],
   "source": [
    "import pandas as pd\n",
    "df_org = pd.read_csv('last.csv')\n",
    "# df = df_org.copy()"
   ]
  },
  {
   "cell_type": "code",
   "execution_count": 3,
   "metadata": {
    "ExecuteTime": {
     "end_time": "2019-10-17T03:50:15.787405Z",
     "start_time": "2019-10-17T03:50:15.748368Z"
    }
   },
   "outputs": [],
   "source": [
    "df_ = df_org.pivot_table(index=['brand','name'], aggfunc={'min':np.mean, 'max':np.mean, 'score':[np.min, np.mean, np.max]} )\n",
    "df = df_.copy()"
   ]
  },
  {
   "cell_type": "code",
   "execution_count": 21,
   "metadata": {},
   "outputs": [
    {
     "data": {
      "text/html": [
       "<div>\n",
       "<style scoped>\n",
       "    .dataframe tbody tr th:only-of-type {\n",
       "        vertical-align: middle;\n",
       "    }\n",
       "\n",
       "    .dataframe tbody tr th {\n",
       "        vertical-align: top;\n",
       "    }\n",
       "\n",
       "    .dataframe thead tr th {\n",
       "        text-align: left;\n",
       "    }\n",
       "\n",
       "    .dataframe thead tr:last-of-type th {\n",
       "        text-align: right;\n",
       "    }\n",
       "</style>\n",
       "<table border=\"1\" class=\"dataframe\">\n",
       "  <thead>\n",
       "    <tr>\n",
       "      <th></th>\n",
       "      <th></th>\n",
       "      <th>max</th>\n",
       "      <th>min</th>\n",
       "      <th colspan=\"3\" halign=\"left\">score</th>\n",
       "    </tr>\n",
       "    <tr>\n",
       "      <th></th>\n",
       "      <th></th>\n",
       "      <th>mean</th>\n",
       "      <th>mean</th>\n",
       "      <th>amax</th>\n",
       "      <th>amin</th>\n",
       "      <th>mean</th>\n",
       "    </tr>\n",
       "    <tr>\n",
       "      <th>brand</th>\n",
       "      <th>name</th>\n",
       "      <th></th>\n",
       "      <th></th>\n",
       "      <th></th>\n",
       "      <th></th>\n",
       "      <th></th>\n",
       "    </tr>\n",
       "  </thead>\n",
       "  <tbody>\n",
       "    <tr>\n",
       "      <th rowspan=\"5\" valign=\"top\">BMW</th>\n",
       "      <th>3시리즈</th>\n",
       "      <td>6510.0</td>\n",
       "      <td>5320.0</td>\n",
       "      <td>5.952371</td>\n",
       "      <td>1.017317</td>\n",
       "      <td>3.450947</td>\n",
       "    </tr>\n",
       "    <tr>\n",
       "      <th>5시리즈</th>\n",
       "      <td>12220.0</td>\n",
       "      <td>6330.0</td>\n",
       "      <td>4.710015</td>\n",
       "      <td>2.009827</td>\n",
       "      <td>3.100927</td>\n",
       "    </tr>\n",
       "    <tr>\n",
       "      <th>7시리즈</th>\n",
       "      <td>23220.0</td>\n",
       "      <td>13700.0</td>\n",
       "      <td>5.215054</td>\n",
       "      <td>2.619893</td>\n",
       "      <td>3.656277</td>\n",
       "    </tr>\n",
       "    <tr>\n",
       "      <th>M5</th>\n",
       "      <td>15430.0</td>\n",
       "      <td>14510.0</td>\n",
       "      <td>6.512284</td>\n",
       "      <td>0.263867</td>\n",
       "      <td>2.564591</td>\n",
       "    </tr>\n",
       "    <tr>\n",
       "      <th>X2</th>\n",
       "      <td>6190.0</td>\n",
       "      <td>6190.0</td>\n",
       "      <td>5.168520</td>\n",
       "      <td>1.647904</td>\n",
       "      <td>3.295695</td>\n",
       "    </tr>\n",
       "  </tbody>\n",
       "</table>\n",
       "</div>"
      ],
      "text/plain": [
       "                max      min     score                    \n",
       "               mean     mean      amax      amin      mean\n",
       "brand name                                                \n",
       "BMW   3시리즈   6510.0   5320.0  5.952371  1.017317  3.450947\n",
       "      5시리즈  12220.0   6330.0  4.710015  2.009827  3.100927\n",
       "      7시리즈  23220.0  13700.0  5.215054  2.619893  3.656277\n",
       "      M5    15430.0  14510.0  6.512284  0.263867  2.564591\n",
       "      X2     6190.0   6190.0  5.168520  1.647904  3.295695"
      ]
     },
     "execution_count": 21,
     "metadata": {},
     "output_type": "execute_result"
    }
   ],
   "source": [
    "df = df_.copy()\n",
    "# df.head()"
   ]
  },
  {
   "cell_type": "code",
   "execution_count": 4,
   "metadata": {
    "ExecuteTime": {
     "end_time": "2019-10-17T03:50:20.695727Z",
     "start_time": "2019-10-17T03:50:20.691722Z"
    }
   },
   "outputs": [],
   "source": [
    "df = df.droplevel(level=0, axis=1)\n",
    "# df.head()"
   ]
  },
  {
   "cell_type": "code",
   "execution_count": 5,
   "metadata": {
    "ExecuteTime": {
     "end_time": "2019-10-17T03:50:25.521840Z",
     "start_time": "2019-10-17T03:50:25.517542Z"
    }
   },
   "outputs": [],
   "source": [
    "df.columns = ['max', 'min', 'score_max', 'score_min', 'score_mean']"
   ]
  },
  {
   "cell_type": "code",
   "execution_count": 6,
   "metadata": {
    "ExecuteTime": {
     "end_time": "2019-10-17T03:50:26.226802Z",
     "start_time": "2019-10-17T03:50:26.222542Z"
    }
   },
   "outputs": [],
   "source": [
    "df.index.names = (None,None)"
   ]
  },
  {
   "cell_type": "code",
   "execution_count": 7,
   "metadata": {
    "ExecuteTime": {
     "end_time": "2019-10-17T03:50:28.119850Z",
     "start_time": "2019-10-17T03:50:28.113959Z"
    }
   },
   "outputs": [],
   "source": [
    "df = df[['min','max', 'score_min', 'score_mean', 'score_max']]\n",
    "# df.head()"
   ]
  },
  {
   "cell_type": "code",
   "execution_count": 9,
   "metadata": {
    "ExecuteTime": {
     "end_time": "2019-10-17T03:50:37.391732Z",
     "start_time": "2019-10-17T03:50:37.386765Z"
    }
   },
   "outputs": [],
   "source": [
    "def search(min_price, max_price):\n",
    "    return pd.DataFrame(df.loc[(df['max'] < max_price) & (df['min'] > min_price)]).sort_values('score_mean', ascending=False)"
   ]
  },
  {
   "cell_type": "code",
   "execution_count": 10,
   "metadata": {
    "ExecuteTime": {
     "end_time": "2019-10-17T03:50:37.857734Z",
     "start_time": "2019-10-17T03:50:37.838743Z"
    }
   },
   "outputs": [
    {
     "data": {
      "text/html": [
       "<div>\n",
       "<style scoped>\n",
       "    .dataframe tbody tr th:only-of-type {\n",
       "        vertical-align: middle;\n",
       "    }\n",
       "\n",
       "    .dataframe tbody tr th {\n",
       "        vertical-align: top;\n",
       "    }\n",
       "\n",
       "    .dataframe thead th {\n",
       "        text-align: right;\n",
       "    }\n",
       "</style>\n",
       "<table border=\"1\" class=\"dataframe\">\n",
       "  <thead>\n",
       "    <tr style=\"text-align: right;\">\n",
       "      <th></th>\n",
       "      <th></th>\n",
       "      <th>min</th>\n",
       "      <th>max</th>\n",
       "      <th>score_min</th>\n",
       "      <th>score_mean</th>\n",
       "      <th>score_max</th>\n",
       "    </tr>\n",
       "  </thead>\n",
       "  <tbody>\n",
       "    <tr>\n",
       "      <td>토요타</td>\n",
       "      <td>아발론</td>\n",
       "      <td>4730.0</td>\n",
       "      <td>4730.0</td>\n",
       "      <td>2.284694</td>\n",
       "      <td>4.522907</td>\n",
       "      <td>7.013987</td>\n",
       "    </tr>\n",
       "    <tr>\n",
       "      <td rowspan=\"2\" valign=\"top\">푸조</td>\n",
       "      <td>3008</td>\n",
       "      <td>4070.0</td>\n",
       "      <td>4430.0</td>\n",
       "      <td>2.905732</td>\n",
       "      <td>3.965322</td>\n",
       "      <td>5.845908</td>\n",
       "    </tr>\n",
       "    <tr>\n",
       "      <td>3008 GT</td>\n",
       "      <td>4990.0</td>\n",
       "      <td>4990.0</td>\n",
       "      <td>2.961718</td>\n",
       "      <td>3.837951</td>\n",
       "      <td>5.460997</td>\n",
       "    </tr>\n",
       "    <tr>\n",
       "      <td>토요타</td>\n",
       "      <td>아발론 하이브리드</td>\n",
       "      <td>4660.0</td>\n",
       "      <td>4660.0</td>\n",
       "      <td>1.796205</td>\n",
       "      <td>3.462499</td>\n",
       "      <td>6.576324</td>\n",
       "    </tr>\n",
       "    <tr>\n",
       "      <td>혼다</td>\n",
       "      <td>어코드 하이브리드</td>\n",
       "      <td>4470.0</td>\n",
       "      <td>4470.0</td>\n",
       "      <td>2.308983</td>\n",
       "      <td>3.396033</td>\n",
       "      <td>4.852317</td>\n",
       "    </tr>\n",
       "    <tr>\n",
       "      <td>폭스바겐</td>\n",
       "      <td>티구안</td>\n",
       "      <td>4133.0</td>\n",
       "      <td>4439.0</td>\n",
       "      <td>1.761789</td>\n",
       "      <td>3.346707</td>\n",
       "      <td>4.512766</td>\n",
       "    </tr>\n",
       "    <tr>\n",
       "      <td>닛산</td>\n",
       "      <td>리프</td>\n",
       "      <td>4190.0</td>\n",
       "      <td>4830.0</td>\n",
       "      <td>1.051346</td>\n",
       "      <td>3.314156</td>\n",
       "      <td>4.714711</td>\n",
       "    </tr>\n",
       "    <tr>\n",
       "      <td>인피니티</td>\n",
       "      <td>QX30</td>\n",
       "      <td>4360.0</td>\n",
       "      <td>4810.0</td>\n",
       "      <td>1.674169</td>\n",
       "      <td>3.301118</td>\n",
       "      <td>5.223488</td>\n",
       "    </tr>\n",
       "    <tr>\n",
       "      <td>벤츠</td>\n",
       "      <td>어코드 하이브리드</td>\n",
       "      <td>4470.0</td>\n",
       "      <td>4470.0</td>\n",
       "      <td>3.069157</td>\n",
       "      <td>3.069157</td>\n",
       "      <td>3.069157</td>\n",
       "    </tr>\n",
       "    <tr>\n",
       "      <td>현대</td>\n",
       "      <td>코나 일렉트릭</td>\n",
       "      <td>4650.0</td>\n",
       "      <td>4850.0</td>\n",
       "      <td>1.017534</td>\n",
       "      <td>2.952336</td>\n",
       "      <td>5.340934</td>\n",
       "    </tr>\n",
       "    <tr>\n",
       "      <td>쉐보레</td>\n",
       "      <td>볼트 EV</td>\n",
       "      <td>4593.0</td>\n",
       "      <td>4814.0</td>\n",
       "      <td>2.213639</td>\n",
       "      <td>2.852448</td>\n",
       "      <td>3.733054</td>\n",
       "    </tr>\n",
       "    <tr>\n",
       "      <td>기아</td>\n",
       "      <td>쏘울 부스터 EV</td>\n",
       "      <td>4630.0</td>\n",
       "      <td>4830.0</td>\n",
       "      <td>1.878815</td>\n",
       "      <td>2.762015</td>\n",
       "      <td>3.888397</td>\n",
       "    </tr>\n",
       "    <tr>\n",
       "      <td>현대</td>\n",
       "      <td>아이오닉 일렉트릭</td>\n",
       "      <td>4140.0</td>\n",
       "      <td>4440.0</td>\n",
       "      <td>1.430258</td>\n",
       "      <td>2.712239</td>\n",
       "      <td>3.439353</td>\n",
       "    </tr>\n",
       "    <tr>\n",
       "      <td>푸조</td>\n",
       "      <td>5008</td>\n",
       "      <td>4490.0</td>\n",
       "      <td>4790.0</td>\n",
       "      <td>0.442297</td>\n",
       "      <td>2.581649</td>\n",
       "      <td>3.899710</td>\n",
       "    </tr>\n",
       "    <tr>\n",
       "      <td>기아</td>\n",
       "      <td>니로 EV</td>\n",
       "      <td>4780.0</td>\n",
       "      <td>4980.0</td>\n",
       "      <td>0.327115</td>\n",
       "      <td>2.519667</td>\n",
       "      <td>5.175939</td>\n",
       "    </tr>\n",
       "  </tbody>\n",
       "</table>\n",
       "</div>"
      ],
      "text/plain": [
       "                   min     max  score_min  score_mean  score_max\n",
       "토요타  아발론        4730.0  4730.0   2.284694    4.522907   7.013987\n",
       "푸조   3008       4070.0  4430.0   2.905732    3.965322   5.845908\n",
       "     3008 GT    4990.0  4990.0   2.961718    3.837951   5.460997\n",
       "토요타  아발론 하이브리드  4660.0  4660.0   1.796205    3.462499   6.576324\n",
       "혼다   어코드 하이브리드  4470.0  4470.0   2.308983    3.396033   4.852317\n",
       "폭스바겐 티구안        4133.0  4439.0   1.761789    3.346707   4.512766\n",
       "닛산   리프         4190.0  4830.0   1.051346    3.314156   4.714711\n",
       "인피니티 QX30       4360.0  4810.0   1.674169    3.301118   5.223488\n",
       "벤츠   어코드 하이브리드  4470.0  4470.0   3.069157    3.069157   3.069157\n",
       "현대   코나 일렉트릭    4650.0  4850.0   1.017534    2.952336   5.340934\n",
       "쉐보레  볼트 EV      4593.0  4814.0   2.213639    2.852448   3.733054\n",
       "기아   쏘울 부스터 EV  4630.0  4830.0   1.878815    2.762015   3.888397\n",
       "현대   아이오닉 일렉트릭  4140.0  4440.0   1.430258    2.712239   3.439353\n",
       "푸조   5008       4490.0  4790.0   0.442297    2.581649   3.899710\n",
       "기아   니로 EV      4780.0  4980.0   0.327115    2.519667   5.175939"
      ]
     },
     "execution_count": 10,
     "metadata": {},
     "output_type": "execute_result"
    }
   ],
   "source": [
    "search(4000, 5000)"
   ]
  },
  {
   "cell_type": "code",
   "execution_count": null,
   "metadata": {},
   "outputs": [],
   "source": []
  }
 ],
 "metadata": {
  "kernelspec": {
   "display_name": "Python 3",
   "language": "python",
   "name": "python3"
  },
  "language_info": {
   "codemirror_mode": {
    "name": "ipython",
    "version": 3
   },
   "file_extension": ".py",
   "mimetype": "text/x-python",
   "name": "python",
   "nbconvert_exporter": "python",
   "pygments_lexer": "ipython3",
   "version": "3.6.9"
  },
  "toc": {
   "base_numbering": 1,
   "nav_menu": {},
   "number_sections": true,
   "sideBar": true,
   "skip_h1_title": false,
   "title_cell": "Table of Contents",
   "title_sidebar": "Contents",
   "toc_cell": false,
   "toc_position": {},
   "toc_section_display": true,
   "toc_window_display": false
  },
  "varInspector": {
   "cols": {
    "lenName": 16,
    "lenType": 16,
    "lenVar": 40
   },
   "kernels_config": {
    "python": {
     "delete_cmd_postfix": "",
     "delete_cmd_prefix": "del ",
     "library": "var_list.py",
     "varRefreshCmd": "print(var_dic_list())"
    },
    "r": {
     "delete_cmd_postfix": ") ",
     "delete_cmd_prefix": "rm(",
     "library": "var_list.r",
     "varRefreshCmd": "cat(var_dic_list()) "
    }
   },
   "types_to_exclude": [
    "module",
    "function",
    "builtin_function_or_method",
    "instance",
    "_Feature"
   ],
   "window_display": false
  }
 },
 "nbformat": 4,
 "nbformat_minor": 4
}
