{
 "cells": [
  {
   "cell_type": "code",
   "execution_count": 1,
   "metadata": {
    "ExecuteTime": {
     "end_time": "2019-10-17T04:39:25.496434Z",
     "start_time": "2019-10-17T04:39:25.493431Z"
    }
   },
   "outputs": [],
   "source": [
    "import numpy as np"
   ]
  },
  {
   "cell_type": "code",
   "execution_count": 2,
   "metadata": {
    "ExecuteTime": {
     "end_time": "2019-10-17T04:39:26.414429Z",
     "start_time": "2019-10-17T04:39:25.768430Z"
    }
   },
   "outputs": [],
   "source": [
    "import pandas as pd\n",
    "df_org = pd.read_csv('last.csv')\n",
    "# df = df_org.copy()"
   ]
  },
  {
   "cell_type": "code",
   "execution_count": 3,
   "metadata": {
    "ExecuteTime": {
     "end_time": "2019-10-17T04:39:26.440431Z",
     "start_time": "2019-10-17T04:39:26.436430Z"
    }
   },
   "outputs": [],
   "source": [
    "df = df_org.copy()"
   ]
  },
  {
   "cell_type": "code",
   "execution_count": 4,
   "metadata": {
    "ExecuteTime": {
     "end_time": "2019-10-17T04:39:26.489434Z",
     "start_time": "2019-10-17T04:39:26.467438Z"
    }
   },
   "outputs": [],
   "source": [
    "df_ = df_org.pivot_table(index=['brand','name'], aggfunc={'min':np.mean, 'max':np.mean, 'score':[np.min, np.mean, np.max]} )\n",
    "df = df_.copy()"
   ]
  },
  {
   "cell_type": "code",
   "execution_count": 45,
   "metadata": {},
   "outputs": [],
   "source": [
    "# df = df_.copy()\n",
    "# df.head()"
   ]
  },
  {
   "cell_type": "code",
   "execution_count": 5,
   "metadata": {
    "ExecuteTime": {
     "end_time": "2019-10-17T04:39:29.282036Z",
     "start_time": "2019-10-17T04:39:29.279053Z"
    }
   },
   "outputs": [],
   "source": [
    "df = df.droplevel(level=0, axis=1)\n",
    "# df.head()"
   ]
  },
  {
   "cell_type": "code",
   "execution_count": 6,
   "metadata": {
    "ExecuteTime": {
     "end_time": "2019-10-17T04:39:29.500010Z",
     "start_time": "2019-10-17T04:39:29.497039Z"
    }
   },
   "outputs": [],
   "source": [
    "df.columns = ['max', 'min', 'score_max', 'score_min', 'score_mean']"
   ]
  },
  {
   "cell_type": "code",
   "execution_count": 7,
   "metadata": {
    "ExecuteTime": {
     "end_time": "2019-10-17T04:39:29.711011Z",
     "start_time": "2019-10-17T04:39:29.707010Z"
    }
   },
   "outputs": [],
   "source": [
    "df.index.names = (None,None)"
   ]
  },
  {
   "cell_type": "code",
   "execution_count": 8,
   "metadata": {
    "ExecuteTime": {
     "end_time": "2019-10-17T04:39:29.941016Z",
     "start_time": "2019-10-17T04:39:29.936024Z"
    }
   },
   "outputs": [],
   "source": [
    "df = df[['min','max', 'score_min', 'score_mean', 'score_max']]\n",
    "# df.head()"
   ]
  },
  {
   "cell_type": "code",
   "execution_count": 9,
   "metadata": {
    "ExecuteTime": {
     "end_time": "2019-10-17T04:39:30.593290Z",
     "start_time": "2019-10-17T04:39:30.586320Z"
    }
   },
   "outputs": [],
   "source": [
    "df2 = df.reset_index().rename(columns = {'level_0':'brand', 'level_1':'name'})"
   ]
  },
  {
   "cell_type": "code",
   "execution_count": 69,
   "metadata": {},
   "outputs": [
    {
     "data": {
      "text/html": [
       "<div>\n",
       "<style scoped>\n",
       "    .dataframe tbody tr th:only-of-type {\n",
       "        vertical-align: middle;\n",
       "    }\n",
       "\n",
       "    .dataframe tbody tr th {\n",
       "        vertical-align: top;\n",
       "    }\n",
       "\n",
       "    .dataframe thead th {\n",
       "        text-align: right;\n",
       "    }\n",
       "</style>\n",
       "<table border=\"1\" class=\"dataframe\">\n",
       "  <thead>\n",
       "    <tr style=\"text-align: right;\">\n",
       "      <th></th>\n",
       "      <th>brand</th>\n",
       "      <th>name</th>\n",
       "      <th>min</th>\n",
       "      <th>max</th>\n",
       "      <th>score_min</th>\n",
       "      <th>score_mean</th>\n",
       "      <th>score_max</th>\n",
       "    </tr>\n",
       "  </thead>\n",
       "  <tbody>\n",
       "    <tr>\n",
       "      <th>0</th>\n",
       "      <td>BMW</td>\n",
       "      <td>3시리즈</td>\n",
       "      <td>5320.0</td>\n",
       "      <td>6510.0</td>\n",
       "      <td>1.017317</td>\n",
       "      <td>3.450947</td>\n",
       "      <td>5.952371</td>\n",
       "    </tr>\n",
       "    <tr>\n",
       "      <th>1</th>\n",
       "      <td>BMW</td>\n",
       "      <td>5시리즈</td>\n",
       "      <td>6330.0</td>\n",
       "      <td>12220.0</td>\n",
       "      <td>2.009827</td>\n",
       "      <td>3.100927</td>\n",
       "      <td>4.710015</td>\n",
       "    </tr>\n",
       "    <tr>\n",
       "      <th>2</th>\n",
       "      <td>BMW</td>\n",
       "      <td>7시리즈</td>\n",
       "      <td>13700.0</td>\n",
       "      <td>23220.0</td>\n",
       "      <td>2.619893</td>\n",
       "      <td>3.656277</td>\n",
       "      <td>5.215054</td>\n",
       "    </tr>\n",
       "    <tr>\n",
       "      <th>3</th>\n",
       "      <td>BMW</td>\n",
       "      <td>M5</td>\n",
       "      <td>14510.0</td>\n",
       "      <td>15430.0</td>\n",
       "      <td>0.263867</td>\n",
       "      <td>2.564591</td>\n",
       "      <td>6.512284</td>\n",
       "    </tr>\n",
       "    <tr>\n",
       "      <th>4</th>\n",
       "      <td>BMW</td>\n",
       "      <td>X2</td>\n",
       "      <td>6190.0</td>\n",
       "      <td>6190.0</td>\n",
       "      <td>1.647904</td>\n",
       "      <td>3.295695</td>\n",
       "      <td>5.168520</td>\n",
       "    </tr>\n",
       "  </tbody>\n",
       "</table>\n",
       "</div>"
      ],
      "text/plain": [
       "  brand  name      min      max  score_min  score_mean  score_max\n",
       "0   BMW  3시리즈   5320.0   6510.0   1.017317    3.450947   5.952371\n",
       "1   BMW  5시리즈   6330.0  12220.0   2.009827    3.100927   4.710015\n",
       "2   BMW  7시리즈  13700.0  23220.0   2.619893    3.656277   5.215054\n",
       "3   BMW    M5  14510.0  15430.0   0.263867    2.564591   6.512284\n",
       "4   BMW    X2   6190.0   6190.0   1.647904    3.295695   5.168520"
      ]
     },
     "execution_count": 69,
     "metadata": {},
     "output_type": "execute_result"
    }
   ],
   "source": [
    "# df2.rename(columns = {'level_0':'brand', 'level_1':'name'})\n",
    "df2.head()"
   ]
  },
  {
   "cell_type": "code",
   "execution_count": 10,
   "metadata": {
    "ExecuteTime": {
     "end_time": "2019-10-17T04:39:35.847843Z",
     "start_time": "2019-10-17T04:39:35.844843Z"
    }
   },
   "outputs": [],
   "source": [
    "df = df2"
   ]
  },
  {
   "cell_type": "code",
   "execution_count": 73,
   "metadata": {},
   "outputs": [],
   "source": [
    "def search_price(min_price, max_price):\n",
    "    return pd.DataFrame(df.loc[(df['max'] < max_price) & (df['min'] > min_price)]).sort_values('score_mean', ascending=False)"
   ]
  },
  {
   "cell_type": "code",
   "execution_count": 74,
   "metadata": {
    "collapsed": true,
    "jupyter": {
     "outputs_hidden": true
    }
   },
   "outputs": [
    {
     "data": {
      "text/html": [
       "<div>\n",
       "<style scoped>\n",
       "    .dataframe tbody tr th:only-of-type {\n",
       "        vertical-align: middle;\n",
       "    }\n",
       "\n",
       "    .dataframe tbody tr th {\n",
       "        vertical-align: top;\n",
       "    }\n",
       "\n",
       "    .dataframe thead th {\n",
       "        text-align: right;\n",
       "    }\n",
       "</style>\n",
       "<table border=\"1\" class=\"dataframe\">\n",
       "  <thead>\n",
       "    <tr style=\"text-align: right;\">\n",
       "      <th></th>\n",
       "      <th>brand</th>\n",
       "      <th>name</th>\n",
       "      <th>min</th>\n",
       "      <th>max</th>\n",
       "      <th>score_min</th>\n",
       "      <th>score_mean</th>\n",
       "      <th>score_max</th>\n",
       "    </tr>\n",
       "  </thead>\n",
       "  <tbody>\n",
       "    <tr>\n",
       "      <th>114</th>\n",
       "      <td>토요타</td>\n",
       "      <td>아발론</td>\n",
       "      <td>4730.0</td>\n",
       "      <td>4730.0</td>\n",
       "      <td>2.284694</td>\n",
       "      <td>4.522907</td>\n",
       "      <td>7.013987</td>\n",
       "    </tr>\n",
       "    <tr>\n",
       "      <th>133</th>\n",
       "      <td>푸조</td>\n",
       "      <td>3008</td>\n",
       "      <td>4070.0</td>\n",
       "      <td>4430.0</td>\n",
       "      <td>2.905732</td>\n",
       "      <td>3.965322</td>\n",
       "      <td>5.845908</td>\n",
       "    </tr>\n",
       "    <tr>\n",
       "      <th>134</th>\n",
       "      <td>푸조</td>\n",
       "      <td>3008 GT</td>\n",
       "      <td>4990.0</td>\n",
       "      <td>4990.0</td>\n",
       "      <td>2.961718</td>\n",
       "      <td>3.837951</td>\n",
       "      <td>5.460997</td>\n",
       "    </tr>\n",
       "    <tr>\n",
       "      <th>115</th>\n",
       "      <td>토요타</td>\n",
       "      <td>아발론 하이브리드</td>\n",
       "      <td>4660.0</td>\n",
       "      <td>4660.0</td>\n",
       "      <td>1.796205</td>\n",
       "      <td>3.462499</td>\n",
       "      <td>6.576324</td>\n",
       "    </tr>\n",
       "    <tr>\n",
       "      <th>158</th>\n",
       "      <td>혼다</td>\n",
       "      <td>어코드 하이브리드</td>\n",
       "      <td>4470.0</td>\n",
       "      <td>4470.0</td>\n",
       "      <td>2.308983</td>\n",
       "      <td>3.396033</td>\n",
       "      <td>4.852317</td>\n",
       "    </tr>\n",
       "    <tr>\n",
       "      <th>130</th>\n",
       "      <td>폭스바겐</td>\n",
       "      <td>티구안</td>\n",
       "      <td>4133.0</td>\n",
       "      <td>4439.0</td>\n",
       "      <td>1.761789</td>\n",
       "      <td>3.346707</td>\n",
       "      <td>4.512766</td>\n",
       "    </tr>\n",
       "    <tr>\n",
       "      <th>24</th>\n",
       "      <td>닛산</td>\n",
       "      <td>리프</td>\n",
       "      <td>4190.0</td>\n",
       "      <td>4830.0</td>\n",
       "      <td>1.051346</td>\n",
       "      <td>3.314156</td>\n",
       "      <td>4.714711</td>\n",
       "    </tr>\n",
       "    <tr>\n",
       "      <th>89</th>\n",
       "      <td>인피니티</td>\n",
       "      <td>QX30</td>\n",
       "      <td>4360.0</td>\n",
       "      <td>4810.0</td>\n",
       "      <td>1.674169</td>\n",
       "      <td>3.301118</td>\n",
       "      <td>5.223488</td>\n",
       "    </tr>\n",
       "    <tr>\n",
       "      <th>58</th>\n",
       "      <td>벤츠</td>\n",
       "      <td>어코드 하이브리드</td>\n",
       "      <td>4470.0</td>\n",
       "      <td>4470.0</td>\n",
       "      <td>3.069157</td>\n",
       "      <td>3.069157</td>\n",
       "      <td>3.069157</td>\n",
       "    </tr>\n",
       "    <tr>\n",
       "      <th>153</th>\n",
       "      <td>현대</td>\n",
       "      <td>코나 일렉트릭</td>\n",
       "      <td>4650.0</td>\n",
       "      <td>4850.0</td>\n",
       "      <td>1.017534</td>\n",
       "      <td>2.952336</td>\n",
       "      <td>5.340934</td>\n",
       "    </tr>\n",
       "    <tr>\n",
       "      <th>70</th>\n",
       "      <td>쉐보레</td>\n",
       "      <td>볼트 EV</td>\n",
       "      <td>4593.0</td>\n",
       "      <td>4814.0</td>\n",
       "      <td>2.213639</td>\n",
       "      <td>2.852448</td>\n",
       "      <td>3.733054</td>\n",
       "    </tr>\n",
       "    <tr>\n",
       "      <th>22</th>\n",
       "      <td>기아</td>\n",
       "      <td>쏘울 부스터 EV</td>\n",
       "      <td>4630.0</td>\n",
       "      <td>4830.0</td>\n",
       "      <td>1.878815</td>\n",
       "      <td>2.762015</td>\n",
       "      <td>3.888397</td>\n",
       "    </tr>\n",
       "    <tr>\n",
       "      <th>151</th>\n",
       "      <td>현대</td>\n",
       "      <td>아이오닉 일렉트릭</td>\n",
       "      <td>4140.0</td>\n",
       "      <td>4440.0</td>\n",
       "      <td>1.430258</td>\n",
       "      <td>2.712239</td>\n",
       "      <td>3.439353</td>\n",
       "    </tr>\n",
       "    <tr>\n",
       "      <th>136</th>\n",
       "      <td>푸조</td>\n",
       "      <td>5008</td>\n",
       "      <td>4490.0</td>\n",
       "      <td>4790.0</td>\n",
       "      <td>0.442297</td>\n",
       "      <td>2.581649</td>\n",
       "      <td>3.899710</td>\n",
       "    </tr>\n",
       "    <tr>\n",
       "      <th>14</th>\n",
       "      <td>기아</td>\n",
       "      <td>니로 EV</td>\n",
       "      <td>4780.0</td>\n",
       "      <td>4980.0</td>\n",
       "      <td>0.327115</td>\n",
       "      <td>2.519667</td>\n",
       "      <td>5.175939</td>\n",
       "    </tr>\n",
       "  </tbody>\n",
       "</table>\n",
       "</div>"
      ],
      "text/plain": [
       "    brand       name     min     max  score_min  score_mean  score_max\n",
       "114   토요타        아발론  4730.0  4730.0   2.284694    4.522907   7.013987\n",
       "133    푸조       3008  4070.0  4430.0   2.905732    3.965322   5.845908\n",
       "134    푸조    3008 GT  4990.0  4990.0   2.961718    3.837951   5.460997\n",
       "115   토요타  아발론 하이브리드  4660.0  4660.0   1.796205    3.462499   6.576324\n",
       "158    혼다  어코드 하이브리드  4470.0  4470.0   2.308983    3.396033   4.852317\n",
       "130  폭스바겐        티구안  4133.0  4439.0   1.761789    3.346707   4.512766\n",
       "24     닛산         리프  4190.0  4830.0   1.051346    3.314156   4.714711\n",
       "89   인피니티       QX30  4360.0  4810.0   1.674169    3.301118   5.223488\n",
       "58     벤츠  어코드 하이브리드  4470.0  4470.0   3.069157    3.069157   3.069157\n",
       "153    현대    코나 일렉트릭  4650.0  4850.0   1.017534    2.952336   5.340934\n",
       "70    쉐보레      볼트 EV  4593.0  4814.0   2.213639    2.852448   3.733054\n",
       "22     기아  쏘울 부스터 EV  4630.0  4830.0   1.878815    2.762015   3.888397\n",
       "151    현대  아이오닉 일렉트릭  4140.0  4440.0   1.430258    2.712239   3.439353\n",
       "136    푸조       5008  4490.0  4790.0   0.442297    2.581649   3.899710\n",
       "14     기아      니로 EV  4780.0  4980.0   0.327115    2.519667   5.175939"
      ]
     },
     "execution_count": 74,
     "metadata": {},
     "output_type": "execute_result"
    }
   ],
   "source": [
    "search_price(4000, 5000)"
   ]
  },
  {
   "cell_type": "code",
   "execution_count": 79,
   "metadata": {},
   "outputs": [],
   "source": [
    "def search_brand(brand_name):\n",
    "    return pd.DataFrame(df.loc[df['brand'] == brand_name]).sort_values('score_mean', ascending=False)"
   ]
  },
  {
   "cell_type": "code",
   "execution_count": 80,
   "metadata": {
    "collapsed": true,
    "jupyter": {
     "outputs_hidden": true
    }
   },
   "outputs": [
    {
     "data": {
      "text/html": [
       "<div>\n",
       "<style scoped>\n",
       "    .dataframe tbody tr th:only-of-type {\n",
       "        vertical-align: middle;\n",
       "    }\n",
       "\n",
       "    .dataframe tbody tr th {\n",
       "        vertical-align: top;\n",
       "    }\n",
       "\n",
       "    .dataframe thead th {\n",
       "        text-align: right;\n",
       "    }\n",
       "</style>\n",
       "<table border=\"1\" class=\"dataframe\">\n",
       "  <thead>\n",
       "    <tr style=\"text-align: right;\">\n",
       "      <th></th>\n",
       "      <th>brand</th>\n",
       "      <th>name</th>\n",
       "      <th>min</th>\n",
       "      <th>max</th>\n",
       "      <th>score_min</th>\n",
       "      <th>score_mean</th>\n",
       "      <th>score_max</th>\n",
       "    </tr>\n",
       "  </thead>\n",
       "  <tbody>\n",
       "    <tr>\n",
       "      <th>6</th>\n",
       "      <td>BMW</td>\n",
       "      <td>X4 M</td>\n",
       "      <td>10820.0</td>\n",
       "      <td>10820.0</td>\n",
       "      <td>2.441913</td>\n",
       "      <td>3.714737</td>\n",
       "      <td>4.604698</td>\n",
       "    </tr>\n",
       "    <tr>\n",
       "      <th>2</th>\n",
       "      <td>BMW</td>\n",
       "      <td>7시리즈</td>\n",
       "      <td>13700.0</td>\n",
       "      <td>23220.0</td>\n",
       "      <td>2.619893</td>\n",
       "      <td>3.656277</td>\n",
       "      <td>5.215054</td>\n",
       "    </tr>\n",
       "    <tr>\n",
       "      <th>5</th>\n",
       "      <td>BMW</td>\n",
       "      <td>X3</td>\n",
       "      <td>6640.0</td>\n",
       "      <td>8420.0</td>\n",
       "      <td>2.486721</td>\n",
       "      <td>3.536335</td>\n",
       "      <td>4.418815</td>\n",
       "    </tr>\n",
       "    <tr>\n",
       "      <th>0</th>\n",
       "      <td>BMW</td>\n",
       "      <td>3시리즈</td>\n",
       "      <td>5320.0</td>\n",
       "      <td>6510.0</td>\n",
       "      <td>1.017317</td>\n",
       "      <td>3.450947</td>\n",
       "      <td>5.952371</td>\n",
       "    </tr>\n",
       "    <tr>\n",
       "      <th>4</th>\n",
       "      <td>BMW</td>\n",
       "      <td>X2</td>\n",
       "      <td>6190.0</td>\n",
       "      <td>6190.0</td>\n",
       "      <td>1.647904</td>\n",
       "      <td>3.295695</td>\n",
       "      <td>5.168520</td>\n",
       "    </tr>\n",
       "    <tr>\n",
       "      <th>8</th>\n",
       "      <td>BMW</td>\n",
       "      <td>Z4</td>\n",
       "      <td>6520.0</td>\n",
       "      <td>9070.0</td>\n",
       "      <td>2.455787</td>\n",
       "      <td>3.295539</td>\n",
       "      <td>4.035342</td>\n",
       "    </tr>\n",
       "    <tr>\n",
       "      <th>7</th>\n",
       "      <td>BMW</td>\n",
       "      <td>X5</td>\n",
       "      <td>9790.0</td>\n",
       "      <td>13890.0</td>\n",
       "      <td>1.133526</td>\n",
       "      <td>3.214008</td>\n",
       "      <td>5.199843</td>\n",
       "    </tr>\n",
       "    <tr>\n",
       "      <th>1</th>\n",
       "      <td>BMW</td>\n",
       "      <td>5시리즈</td>\n",
       "      <td>6330.0</td>\n",
       "      <td>12220.0</td>\n",
       "      <td>2.009827</td>\n",
       "      <td>3.100927</td>\n",
       "      <td>4.710015</td>\n",
       "    </tr>\n",
       "    <tr>\n",
       "      <th>3</th>\n",
       "      <td>BMW</td>\n",
       "      <td>M5</td>\n",
       "      <td>14510.0</td>\n",
       "      <td>15430.0</td>\n",
       "      <td>0.263867</td>\n",
       "      <td>2.564591</td>\n",
       "      <td>6.512284</td>\n",
       "    </tr>\n",
       "  </tbody>\n",
       "</table>\n",
       "</div>"
      ],
      "text/plain": [
       "  brand  name      min      max  score_min  score_mean  score_max\n",
       "6   BMW  X4 M  10820.0  10820.0   2.441913    3.714737   4.604698\n",
       "2   BMW  7시리즈  13700.0  23220.0   2.619893    3.656277   5.215054\n",
       "5   BMW    X3   6640.0   8420.0   2.486721    3.536335   4.418815\n",
       "0   BMW  3시리즈   5320.0   6510.0   1.017317    3.450947   5.952371\n",
       "4   BMW    X2   6190.0   6190.0   1.647904    3.295695   5.168520\n",
       "8   BMW    Z4   6520.0   9070.0   2.455787    3.295539   4.035342\n",
       "7   BMW    X5   9790.0  13890.0   1.133526    3.214008   5.199843\n",
       "1   BMW  5시리즈   6330.0  12220.0   2.009827    3.100927   4.710015\n",
       "3   BMW    M5  14510.0  15430.0   0.263867    2.564591   6.512284"
      ]
     },
     "execution_count": 80,
     "metadata": {},
     "output_type": "execute_result"
    }
   ],
   "source": [
    "search_brand('BMW')"
   ]
  },
  {
   "cell_type": "code",
   "execution_count": 16,
   "metadata": {
    "ExecuteTime": {
     "end_time": "2019-10-17T04:40:31.971815Z",
     "start_time": "2019-10-17T04:40:31.964820Z"
    }
   },
   "outputs": [],
   "source": [
    "def search(*user_input):\n",
    "    cnt = 0\n",
    "    for i in user_input:\n",
    "        cnt += 1    \n",
    "    \n",
    "    if cnt == 1:\n",
    "        brand_name = user_input[0].upper()\n",
    "        return pd.DataFrame(df.loc[df['brand'] == brand_name]).sort_values('score_mean', ascending=False)    \n",
    "    else:\n",
    "        min_price = user_input[0]\n",
    "        max_price = user_input[1]        \n",
    "        return pd.DataFrame(df.loc[(df['max'] < max_price) & (df['min'] > min_price)]).sort_values('score_mean', ascending=False)"
   ]
  },
  {
   "cell_type": "code",
   "execution_count": 26,
   "metadata": {
    "ExecuteTime": {
     "end_time": "2019-10-17T04:42:48.436046Z",
     "start_time": "2019-10-17T04:42:48.423077Z"
    }
   },
   "outputs": [
    {
     "data": {
      "text/html": [
       "<div>\n",
       "<style scoped>\n",
       "    .dataframe tbody tr th:only-of-type {\n",
       "        vertical-align: middle;\n",
       "    }\n",
       "\n",
       "    .dataframe tbody tr th {\n",
       "        vertical-align: top;\n",
       "    }\n",
       "\n",
       "    .dataframe thead th {\n",
       "        text-align: right;\n",
       "    }\n",
       "</style>\n",
       "<table border=\"1\" class=\"dataframe\">\n",
       "  <thead>\n",
       "    <tr style=\"text-align: right;\">\n",
       "      <th></th>\n",
       "      <th>brand</th>\n",
       "      <th>name</th>\n",
       "      <th>min</th>\n",
       "      <th>max</th>\n",
       "      <th>score_min</th>\n",
       "      <th>score_mean</th>\n",
       "      <th>score_max</th>\n",
       "    </tr>\n",
       "  </thead>\n",
       "  <tbody>\n",
       "    <tr>\n",
       "      <td>12</td>\n",
       "      <td>기아</td>\n",
       "      <td>K7</td>\n",
       "      <td>3094.0</td>\n",
       "      <td>3799.0</td>\n",
       "      <td>2.797225</td>\n",
       "      <td>3.833467</td>\n",
       "      <td>5.979294</td>\n",
       "    </tr>\n",
       "    <tr>\n",
       "      <td>135</td>\n",
       "      <td>푸조</td>\n",
       "      <td>308 GT</td>\n",
       "      <td>3990.0</td>\n",
       "      <td>3990.0</td>\n",
       "      <td>2.536707</td>\n",
       "      <td>3.429400</td>\n",
       "      <td>4.917750</td>\n",
       "    </tr>\n",
       "    <tr>\n",
       "      <td>132</td>\n",
       "      <td>푸조</td>\n",
       "      <td>2008</td>\n",
       "      <td>3150.0</td>\n",
       "      <td>3350.0</td>\n",
       "      <td>1.939840</td>\n",
       "      <td>3.080391</td>\n",
       "      <td>4.186681</td>\n",
       "    </tr>\n",
       "    <tr>\n",
       "      <td>110</td>\n",
       "      <td>토요타</td>\n",
       "      <td>라브4</td>\n",
       "      <td>3540.0</td>\n",
       "      <td>3540.0</td>\n",
       "      <td>1.466852</td>\n",
       "      <td>3.046328</td>\n",
       "      <td>4.281342</td>\n",
       "    </tr>\n",
       "    <tr>\n",
       "      <td>51</td>\n",
       "      <td>미니</td>\n",
       "      <td>쿠퍼</td>\n",
       "      <td>3990.0</td>\n",
       "      <td>3990.0</td>\n",
       "      <td>-0.866414</td>\n",
       "      <td>1.688065</td>\n",
       "      <td>4.237287</td>\n",
       "    </tr>\n",
       "  </tbody>\n",
       "</table>\n",
       "</div>"
      ],
      "text/plain": [
       "    brand    name     min     max  score_min  score_mean  score_max\n",
       "12     기아      K7  3094.0  3799.0   2.797225    3.833467   5.979294\n",
       "135    푸조  308 GT  3990.0  3990.0   2.536707    3.429400   4.917750\n",
       "132    푸조    2008  3150.0  3350.0   1.939840    3.080391   4.186681\n",
       "110   토요타     라브4  3540.0  3540.0   1.466852    3.046328   4.281342\n",
       "51     미니      쿠퍼  3990.0  3990.0  -0.866414    1.688065   4.237287"
      ]
     },
     "execution_count": 26,
     "metadata": {},
     "output_type": "execute_result"
    }
   ],
   "source": [
    "search(3000, 4000)"
   ]
  },
  {
   "cell_type": "code",
   "execution_count": 25,
   "metadata": {
    "ExecuteTime": {
     "end_time": "2019-10-17T04:41:18.563995Z",
     "start_time": "2019-10-17T04:41:18.550982Z"
    }
   },
   "outputs": [
    {
     "data": {
      "text/html": [
       "<div>\n",
       "<style scoped>\n",
       "    .dataframe tbody tr th:only-of-type {\n",
       "        vertical-align: middle;\n",
       "    }\n",
       "\n",
       "    .dataframe tbody tr th {\n",
       "        vertical-align: top;\n",
       "    }\n",
       "\n",
       "    .dataframe thead th {\n",
       "        text-align: right;\n",
       "    }\n",
       "</style>\n",
       "<table border=\"1\" class=\"dataframe\">\n",
       "  <thead>\n",
       "    <tr style=\"text-align: right;\">\n",
       "      <th></th>\n",
       "      <th>brand</th>\n",
       "      <th>name</th>\n",
       "      <th>min</th>\n",
       "      <th>max</th>\n",
       "      <th>score_min</th>\n",
       "      <th>score_mean</th>\n",
       "      <th>score_max</th>\n",
       "    </tr>\n",
       "  </thead>\n",
       "  <tbody>\n",
       "    <tr>\n",
       "      <td>6</td>\n",
       "      <td>BMW</td>\n",
       "      <td>X4 M</td>\n",
       "      <td>10820.0</td>\n",
       "      <td>10820.0</td>\n",
       "      <td>2.441913</td>\n",
       "      <td>3.714737</td>\n",
       "      <td>4.604698</td>\n",
       "    </tr>\n",
       "    <tr>\n",
       "      <td>2</td>\n",
       "      <td>BMW</td>\n",
       "      <td>7시리즈</td>\n",
       "      <td>13700.0</td>\n",
       "      <td>23220.0</td>\n",
       "      <td>2.619893</td>\n",
       "      <td>3.656277</td>\n",
       "      <td>5.215054</td>\n",
       "    </tr>\n",
       "    <tr>\n",
       "      <td>5</td>\n",
       "      <td>BMW</td>\n",
       "      <td>X3</td>\n",
       "      <td>6640.0</td>\n",
       "      <td>8420.0</td>\n",
       "      <td>2.486721</td>\n",
       "      <td>3.536335</td>\n",
       "      <td>4.418815</td>\n",
       "    </tr>\n",
       "    <tr>\n",
       "      <td>0</td>\n",
       "      <td>BMW</td>\n",
       "      <td>3시리즈</td>\n",
       "      <td>5320.0</td>\n",
       "      <td>6510.0</td>\n",
       "      <td>1.017317</td>\n",
       "      <td>3.450947</td>\n",
       "      <td>5.952371</td>\n",
       "    </tr>\n",
       "    <tr>\n",
       "      <td>4</td>\n",
       "      <td>BMW</td>\n",
       "      <td>X2</td>\n",
       "      <td>6190.0</td>\n",
       "      <td>6190.0</td>\n",
       "      <td>1.647904</td>\n",
       "      <td>3.295695</td>\n",
       "      <td>5.168520</td>\n",
       "    </tr>\n",
       "    <tr>\n",
       "      <td>8</td>\n",
       "      <td>BMW</td>\n",
       "      <td>Z4</td>\n",
       "      <td>6520.0</td>\n",
       "      <td>9070.0</td>\n",
       "      <td>2.455787</td>\n",
       "      <td>3.295539</td>\n",
       "      <td>4.035342</td>\n",
       "    </tr>\n",
       "    <tr>\n",
       "      <td>7</td>\n",
       "      <td>BMW</td>\n",
       "      <td>X5</td>\n",
       "      <td>9790.0</td>\n",
       "      <td>13890.0</td>\n",
       "      <td>1.133526</td>\n",
       "      <td>3.214008</td>\n",
       "      <td>5.199843</td>\n",
       "    </tr>\n",
       "    <tr>\n",
       "      <td>1</td>\n",
       "      <td>BMW</td>\n",
       "      <td>5시리즈</td>\n",
       "      <td>6330.0</td>\n",
       "      <td>12220.0</td>\n",
       "      <td>2.009827</td>\n",
       "      <td>3.100927</td>\n",
       "      <td>4.710015</td>\n",
       "    </tr>\n",
       "    <tr>\n",
       "      <td>3</td>\n",
       "      <td>BMW</td>\n",
       "      <td>M5</td>\n",
       "      <td>14510.0</td>\n",
       "      <td>15430.0</td>\n",
       "      <td>0.263867</td>\n",
       "      <td>2.564591</td>\n",
       "      <td>6.512284</td>\n",
       "    </tr>\n",
       "  </tbody>\n",
       "</table>\n",
       "</div>"
      ],
      "text/plain": [
       "  brand  name      min      max  score_min  score_mean  score_max\n",
       "6   BMW  X4 M  10820.0  10820.0   2.441913    3.714737   4.604698\n",
       "2   BMW  7시리즈  13700.0  23220.0   2.619893    3.656277   5.215054\n",
       "5   BMW    X3   6640.0   8420.0   2.486721    3.536335   4.418815\n",
       "0   BMW  3시리즈   5320.0   6510.0   1.017317    3.450947   5.952371\n",
       "4   BMW    X2   6190.0   6190.0   1.647904    3.295695   5.168520\n",
       "8   BMW    Z4   6520.0   9070.0   2.455787    3.295539   4.035342\n",
       "7   BMW    X5   9790.0  13890.0   1.133526    3.214008   5.199843\n",
       "1   BMW  5시리즈   6330.0  12220.0   2.009827    3.100927   4.710015\n",
       "3   BMW    M5  14510.0  15430.0   0.263867    2.564591   6.512284"
      ]
     },
     "execution_count": 25,
     "metadata": {},
     "output_type": "execute_result"
    }
   ],
   "source": [
    "search('bmw')"
   ]
  },
  {
   "cell_type": "code",
   "execution_count": null,
   "metadata": {},
   "outputs": [],
   "source": []
  }
 ],
 "metadata": {
  "kernelspec": {
   "display_name": "Python 3",
   "language": "python",
   "name": "python3"
  },
  "language_info": {
   "codemirror_mode": {
    "name": "ipython",
    "version": 3
   },
   "file_extension": ".py",
   "mimetype": "text/x-python",
   "name": "python",
   "nbconvert_exporter": "python",
   "pygments_lexer": "ipython3",
   "version": "3.6.9"
  },
  "toc": {
   "base_numbering": 1,
   "nav_menu": {},
   "number_sections": true,
   "sideBar": true,
   "skip_h1_title": false,
   "title_cell": "Table of Contents",
   "title_sidebar": "Contents",
   "toc_cell": false,
   "toc_position": {},
   "toc_section_display": true,
   "toc_window_display": false
  },
  "varInspector": {
   "cols": {
    "lenName": 16,
    "lenType": 16,
    "lenVar": 40
   },
   "kernels_config": {
    "python": {
     "delete_cmd_postfix": "",
     "delete_cmd_prefix": "del ",
     "library": "var_list.py",
     "varRefreshCmd": "print(var_dic_list())"
    },
    "r": {
     "delete_cmd_postfix": ") ",
     "delete_cmd_prefix": "rm(",
     "library": "var_list.r",
     "varRefreshCmd": "cat(var_dic_list()) "
    }
   },
   "types_to_exclude": [
    "module",
    "function",
    "builtin_function_or_method",
    "instance",
    "_Feature"
   ],
   "window_display": false
  }
 },
 "nbformat": 4,
 "nbformat_minor": 4
}
