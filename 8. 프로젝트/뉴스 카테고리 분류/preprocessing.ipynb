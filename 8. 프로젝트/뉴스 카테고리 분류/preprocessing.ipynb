{
 "cells": [
  {
   "cell_type": "code",
   "execution_count": 15,
   "metadata": {},
   "outputs": [],
   "source": [
    "import pandas as pd\n",
    "\n",
    "land = pd.read_csv('부동산.csv')\n",
    "enter = pd.read_csv('연예.csv')\n",
    "eco = pd.read_csv('경제.csv')"
   ]
  },
  {
   "cell_type": "code",
   "execution_count": 16,
   "metadata": {},
   "outputs": [],
   "source": [
    "# 부동산 0, 연예 1, 경제 2\n",
    "land['label'] = 0\n",
    "enter['label'] = 1\n",
    "eco['label'] = 2"
   ]
  },
  {
   "cell_type": "code",
   "execution_count": 17,
   "metadata": {},
   "outputs": [
    {
     "data": {
      "text/plain": [
       "554"
      ]
     },
     "execution_count": 17,
     "metadata": {},
     "output_type": "execute_result"
    }
   ],
   "source": [
    "len(enter)"
   ]
  },
  {
   "cell_type": "code",
   "execution_count": 18,
   "metadata": {},
   "outputs": [
    {
     "data": {
      "text/plain": [
       "991"
      ]
     },
     "execution_count": 18,
     "metadata": {},
     "output_type": "execute_result"
    }
   ],
   "source": [
    "len(land)"
   ]
  },
  {
   "cell_type": "code",
   "execution_count": 19,
   "metadata": {},
   "outputs": [
    {
     "data": {
      "text/plain": [
       "82"
      ]
     },
     "execution_count": 19,
     "metadata": {},
     "output_type": "execute_result"
    }
   ],
   "source": [
    "len(eco)"
   ]
  },
  {
   "cell_type": "code",
   "execution_count": null,
   "metadata": {},
   "outputs": [],
   "source": [
    "join = land.append([enter, eco])\n",
    "join.reset_index(inplace=True)\n",
    "join.drop('index', axis=1, inplace=True)"
   ]
  },
  {
   "cell_type": "code",
   "execution_count": 49,
   "metadata": {},
   "outputs": [
    {
     "data": {
      "text/html": [
       "<div>\n",
       "<style scoped>\n",
       "    .dataframe tbody tr th:only-of-type {\n",
       "        vertical-align: middle;\n",
       "    }\n",
       "\n",
       "    .dataframe tbody tr th {\n",
       "        vertical-align: top;\n",
       "    }\n",
       "\n",
       "    .dataframe thead th {\n",
       "        text-align: right;\n",
       "    }\n",
       "</style>\n",
       "<table border=\"1\" class=\"dataframe\">\n",
       "  <thead>\n",
       "    <tr style=\"text-align: right;\">\n",
       "      <th></th>\n",
       "      <th>title</th>\n",
       "      <th>body</th>\n",
       "      <th>label</th>\n",
       "    </tr>\n",
       "  </thead>\n",
       "  <tbody>\n",
       "    <tr>\n",
       "      <th>0</th>\n",
       "      <td>\\n[인사] 신용보증기금\\n\\n조선비즈\\n|\\n2019.07.25 11:40\\n\\n\\n</td>\n",
       "      <td>\\n\\t\\t\\t\\n\\t\\t\\t&lt;승진&gt;◇본부장 ▲충청영업본부 류재현 ▲호남영업본부 ...</td>\n",
       "      <td>0</td>\n",
       "    </tr>\n",
       "    <tr>\n",
       "      <th>1</th>\n",
       "      <td>\\n상반기 성장률 금융위기 후 최저…올해 2.2% 성장 ‘빨간불’\\n\\n조선비즈\\n...</td>\n",
       "      <td>\\n상반기 1.9% 성장…재정확대에도 2% 못넘겨대외 악재 쌓여있는데 재정지출은 ...</td>\n",
       "      <td>0</td>\n",
       "    </tr>\n",
       "    <tr>\n",
       "      <th>2</th>\n",
       "      <td>\\n9월부터 MS인식 방식 카드대출 제한한다\\n\\n조선비즈\\n|\\n2019.07.2...</td>\n",
       "      <td>\\n\\t\\t\\t\\n\\t\\t\\t9월 1일부터 마그네틱(MS)인식 방식 카드대출이 제...</td>\n",
       "      <td>0</td>\n",
       "    </tr>\n",
       "    <tr>\n",
       "      <th>3</th>\n",
       "      <td>\\n한전 서평택지사 등 5개 공공기관 교육기부 협약\\n\\n조선비즈\\n|\\n2019....</td>\n",
       "      <td>\\n\\t\\t\\t\\n\\t\\t\\t한국전력 서평택지사는 25일 서부발전 평택발전본부에서...</td>\n",
       "      <td>0</td>\n",
       "    </tr>\n",
       "    <tr>\n",
       "      <th>4</th>\n",
       "      <td>\\n소비자원 \"아워홈 고려삼계탕서 플라스틱 조각 발견\"\\n\\n조선비즈\\n|\\n201...</td>\n",
       "      <td>\\n\\t\\t\\t\\n\\t\\t\\t한국소비자원은 여름철 소비자들이 많이 이용하는 가정간...</td>\n",
       "      <td>0</td>\n",
       "    </tr>\n",
       "  </tbody>\n",
       "</table>\n",
       "</div>"
      ],
      "text/plain": [
       "                                               title  \\\n",
       "0   \\n[인사] 신용보증기금\\n\\n조선비즈\\n|\\n2019.07.25 11:40\\n\\n\\n   \n",
       "1  \\n상반기 성장률 금융위기 후 최저…올해 2.2% 성장 ‘빨간불’\\n\\n조선비즈\\n...   \n",
       "2  \\n9월부터 MS인식 방식 카드대출 제한한다\\n\\n조선비즈\\n|\\n2019.07.2...   \n",
       "3  \\n한전 서평택지사 등 5개 공공기관 교육기부 협약\\n\\n조선비즈\\n|\\n2019....   \n",
       "4  \\n소비자원 \"아워홈 고려삼계탕서 플라스틱 조각 발견\"\\n\\n조선비즈\\n|\\n201...   \n",
       "\n",
       "                                                body  label  \n",
       "0   \\n\\t\\t\\t\\n\\t\\t\\t<승진>◇본부장 ▲충청영업본부 류재현 ▲호남영업본부 ...      0  \n",
       "1   \\n상반기 1.9% 성장…재정확대에도 2% 못넘겨대외 악재 쌓여있는데 재정지출은 ...      0  \n",
       "2   \\n\\t\\t\\t\\n\\t\\t\\t9월 1일부터 마그네틱(MS)인식 방식 카드대출이 제...      0  \n",
       "3   \\n\\t\\t\\t\\n\\t\\t\\t한국전력 서평택지사는 25일 서부발전 평택발전본부에서...      0  \n",
       "4   \\n\\t\\t\\t\\n\\t\\t\\t한국소비자원은 여름철 소비자들이 많이 이용하는 가정간...      0  "
      ]
     },
     "execution_count": 49,
     "metadata": {},
     "output_type": "execute_result"
    }
   ],
   "source": [
    "join.head()"
   ]
  },
  {
   "cell_type": "code",
   "execution_count": 53,
   "metadata": {},
   "outputs": [
    {
     "data": {
      "text/html": [
       "<div>\n",
       "<style scoped>\n",
       "    .dataframe tbody tr th:only-of-type {\n",
       "        vertical-align: middle;\n",
       "    }\n",
       "\n",
       "    .dataframe tbody tr th {\n",
       "        vertical-align: top;\n",
       "    }\n",
       "\n",
       "    .dataframe thead th {\n",
       "        text-align: right;\n",
       "    }\n",
       "</style>\n",
       "<table border=\"1\" class=\"dataframe\">\n",
       "  <thead>\n",
       "    <tr style=\"text-align: right;\">\n",
       "      <th></th>\n",
       "      <th>title</th>\n",
       "      <th>body</th>\n",
       "      <th>label</th>\n",
       "    </tr>\n",
       "  </thead>\n",
       "  <tbody>\n",
       "    <tr>\n",
       "      <th>0</th>\n",
       "      <td>[인사] 신용보증기금조선비즈|2019.07.25 11:40</td>\n",
       "      <td>&lt;승진&gt;◇본부장 ▲충청영업본부 류재현 ▲호남영업본부 이태용 ▲경영기획부 이성주 ▲...</td>\n",
       "      <td>0</td>\n",
       "    </tr>\n",
       "    <tr>\n",
       "      <th>1</th>\n",
       "      <td>상반기 성장률 금융위기 후 최저…올해 2.2% 성장 ‘빨간불’조선비즈|2019.07...</td>\n",
       "      <td>상반기 1.9% 성장…재정확대에도 2% 못넘겨대외 악재 쌓여있는데 재정지출은 한계...</td>\n",
       "      <td>0</td>\n",
       "    </tr>\n",
       "    <tr>\n",
       "      <th>2</th>\n",
       "      <td>9월부터 MS인식 방식 카드대출 제한한다조선비즈|2019.07.25 12:01</td>\n",
       "      <td>9월 1일부터 마그네틱(MS)인식 방식 카드대출이 제한된다. 위·변조 신용카드를 ...</td>\n",
       "      <td>0</td>\n",
       "    </tr>\n",
       "    <tr>\n",
       "      <th>3</th>\n",
       "      <td>한전 서평택지사 등 5개 공공기관 교육기부 협약조선비즈|2019.07.25 12:04</td>\n",
       "      <td>한국전력 서평택지사는 25일 서부발전 평택발전본부에서 경기평택항만공사, 평택해양경...</td>\n",
       "      <td>0</td>\n",
       "    </tr>\n",
       "    <tr>\n",
       "      <th>4</th>\n",
       "      <td>소비자원 \"아워홈 고려삼계탕서 플라스틱 조각 발견\"조선비즈|2019.07.25 12:07</td>\n",
       "      <td>한국소비자원은 여름철 소비자들이 많이 이용하는 가정간편식(HMR) 삼계탕 14개 ...</td>\n",
       "      <td>0</td>\n",
       "    </tr>\n",
       "  </tbody>\n",
       "</table>\n",
       "</div>"
      ],
      "text/plain": [
       "                                               title  \\\n",
       "0                   [인사] 신용보증기금조선비즈|2019.07.25 11:40   \n",
       "1  상반기 성장률 금융위기 후 최저…올해 2.2% 성장 ‘빨간불’조선비즈|2019.07...   \n",
       "2        9월부터 MS인식 방식 카드대출 제한한다조선비즈|2019.07.25 12:01   \n",
       "3    한전 서평택지사 등 5개 공공기관 교육기부 협약조선비즈|2019.07.25 12:04   \n",
       "4  소비자원 \"아워홈 고려삼계탕서 플라스틱 조각 발견\"조선비즈|2019.07.25 12:07   \n",
       "\n",
       "                                                body  label  \n",
       "0   <승진>◇본부장 ▲충청영업본부 류재현 ▲호남영업본부 이태용 ▲경영기획부 이성주 ▲...      0  \n",
       "1   상반기 1.9% 성장…재정확대에도 2% 못넘겨대외 악재 쌓여있는데 재정지출은 한계...      0  \n",
       "2   9월 1일부터 마그네틱(MS)인식 방식 카드대출이 제한된다. 위·변조 신용카드를 ...      0  \n",
       "3   한국전력 서평택지사는 25일 서부발전 평택발전본부에서 경기평택항만공사, 평택해양경...      0  \n",
       "4   한국소비자원은 여름철 소비자들이 많이 이용하는 가정간편식(HMR) 삼계탕 14개 ...      0  "
      ]
     },
     "execution_count": 53,
     "metadata": {},
     "output_type": "execute_result"
    }
   ],
   "source": [
    "join.replace('// flash 오류를 우회하기 위한 함수 추가\\nfunction _flash_removeCallback() {}', '', regex=True, inplace=True)\n",
    "join.tail()"
   ]
  },
  {
   "cell_type": "code",
   "execution_count": 30,
   "metadata": {},
   "outputs": [
    {
     "data": {
      "text/plain": [
       "['철구',\n",
       " ',',\n",
       " '군복',\n",
       " '무',\n",
       " '중',\n",
       " '원정',\n",
       " '도박',\n",
       " '혐의',\n",
       " '…',\n",
       " \"'\",\n",
       " '해외여행',\n",
       " \"'\",\n",
       " '어떻',\n",
       " '게',\n",
       " '?']"
      ]
     },
     "execution_count": 30,
     "metadata": {},
     "output_type": "execute_result"
    }
   ],
   "source": [
    "from konlpy.tag import Komoran\n",
    "\n",
    "komoran = Komoran()"
   ]
  },
  {
   "cell_type": "code",
   "execution_count": null,
   "metadata": {},
   "outputs": [],
   "source": []
  }
 ],
 "metadata": {
  "kernelspec": {
   "display_name": "Python 3",
   "language": "python",
   "name": "python3"
  },
  "language_info": {
   "codemirror_mode": {
    "name": "ipython",
    "version": 3
   },
   "file_extension": ".py",
   "mimetype": "text/x-python",
   "name": "python",
   "nbconvert_exporter": "python",
   "pygments_lexer": "ipython3",
   "version": "3.7.3"
  }
 },
 "nbformat": 4,
 "nbformat_minor": 4
}
