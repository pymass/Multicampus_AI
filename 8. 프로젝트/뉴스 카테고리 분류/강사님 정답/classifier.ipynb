{
 "cells": [
  {
   "cell_type": "code",
   "execution_count": 1,
   "metadata": {},
   "outputs": [
    {
     "name": "stderr",
     "output_type": "stream",
     "text": [
      "Using TensorFlow backend.\n"
     ]
    }
   ],
   "source": [
    "import option as opt\n",
    "import data\n",
    "from keras.models import load_model\n",
    "from konlpy.tag import Okt\n",
    "import os\n",
    "\n",
    "op = opt.Options()\n",
    "twitter = Okt()\n",
    "tokenizer = data.get_word_index()"
   ]
  },
  {
   "cell_type": "code",
   "execution_count": 2,
   "metadata": {},
   "outputs": [],
   "source": [
    "def predict_o(X_nouns):\n",
    "    # print(data.make_onehot(tokenizer, [X_nouns]))\n",
    "    if os.path.exists(op.model_o) :\n",
    "        model = load_model(op.model_o)\n",
    "    return model.predict(data.make_onehot(tokenizer,[X_nouns]))\n",
    "\n",
    "def predict_e(X_nouns):\n",
    "    if os.path.exists(op.model_e) :\n",
    "        model = load_model(op.model_e)\n",
    "    return model.predict(data.make_word_seq(tokenizer,[X_nouns]))\n",
    "\n",
    "def predict_r(X_nouns):\n",
    "    if os.path.exists(op.model_r) :\n",
    "        model = load_model(op.model_r)\n",
    "    return model.predict(data.make_word_seq(tokenizer,[X_nouns]))"
   ]
  },
  {
   "cell_type": "code",
   "execution_count": 3,
   "metadata": {},
   "outputs": [],
   "source": [
    "def main() :\n",
    "    X_test = input(\"신문기사를 입력하세요\")\n",
    "    X_nouns = twitter.nouns(X_test)\n",
    "\n",
    "\n",
    "    #원 핫 인코딩으로 예측\n",
    "    result = predict_o( X_nouns )\n",
    "    print(\"원 핫 인코딩으로 예측 ==>\",result)\n",
    "    if result < 0.5 :\n",
    "        print( \"증권\")\n",
    "    else :\n",
    "         print(\"부동산\")\n",
    "\n",
    "\n",
    "    #임배딩으로 예측\n",
    "    result = predict_e( X_nouns )\n",
    "    print(\"임배딩으로 예측  ==>\",result)\n",
    "    if result < 0.5 :\n",
    "        print( \"증권\")\n",
    "    else :\n",
    "         print(\"부동산\")\n",
    "\n",
    "    #임배딩+RNN 으로 예측\n",
    "    result = predict_r( X_nouns )\n",
    "    print(\"RNN으로 예측  ==>\",result)\n",
    "    if result < 0.5 :\n",
    "        print( \"증권\")\n",
    "    else :\n",
    "         print(\"부동산\")\n"
   ]
  },
  {
   "cell_type": "code",
   "execution_count": 5,
   "metadata": {},
   "outputs": [
    {
     "name": "stdin",
     "output_type": "stream",
     "text": [
      "신문기사를 입력하세요 코스피가 7거래일 만에 반등에 성공했다. 8일 코스피지수는 전 거래일보다 10.90포인트(0.57%) 오른 1920.61에 장을 마쳤다. 코스닥지수도 20.80포인트(3.68%) 급등한 585.44를 기록했다. 1% 안팎으로 오른 미국 중국 등 주요국 증시와 비교해 가장 높은 상승률이었다.   중국의 ‘7위안’ 환율 고시에도 금융시장의 반응은 비교적 차분했다. 이날 중국 인민은행은 위안화 중간 환율을 달러당 7.0039위안으로 고시했다. 그럼에도 서울 외환시장에서 원·달러 환율은 오히려 5.7원 내린(원화가치 상승) 1209.2원에 장을 마쳤다.   이에 ‘개미’(개인투자자)들이 ‘사자’에 나서며 주가를 끌어올렸다. 미·중 환율 전쟁이 극단으로 치닫지는 않을 것이라는 기대감과 일본의 수출 규제도 우려보다 빠르게 개선될 수 있다는 안도감이 투자 심리를 돌려세웠다는 분석이다.   그러나 외국인의 ‘셀 코리아(Sell Korea)’는 멈추지 않고 있다. 이날 외국인은 코스피 시장에서 1400억원어치를 팔아치웠다. 지난달 31일 이후 7거래일 연속 ‘팔자’ 행진이다. 지난 5월 ‘8거래일 연속 매도’ 이후 최장 기간을 기록했다.   코스닥 시장에서도 외국인은 470억원을 순매도했다. 미·중 환율 전쟁의 포성이 울리던 시기 외국인은 코스닥에서 몇 차례 순매수 움직임을 보였다. 하지만 공매도한 주식을 갚기 위한 ‘숏 커버링’에 따른 결과로, 단기간 급락에 따른 ‘저가 매수’는 아니라는 분석이 나온다.  외국인 자금이 썰물처럼 빠져나가는 원인은 뭘까. 노동길 NH투자증권 연구원은 “미·중 갈등의 장기화가 신흥국 자금 이탈을 자극하고 있는 게 가장 큰 이유”라고 말했다. 최근 유럽연합(EU) 등의 경기 둔화 우려가 커지는 시점에서 한국 등 신흥국 증시 자금을 빼 국채, 금 등 안전자산으로 옮기고 있다는 것이다. 원·달러 환율이 오른 점도 국내 증시의 투자 매력을 떨어트린다. 여기에 각국 투자자들이 추종하는 모건스탠리캐피털인터내셔널(MSCI) 지수의 신흥시장(EM) 국가별 비율에서 한국이 차지하는 비중은 이달 말까지 0.3% 포인트 줄어들 예정이다.   어두운 국내 거시경제 전망도 ‘외국인 이탈’을 부추기는 요인으로 거론된다. 현재 미·중 분쟁, 한·일 갈등 등의 여파가 수면 위로 드러나는 시점은 올해 4분기쯤으로 전망된다. 김상봉 한성대 경제학과 교수는 “4분기에 지표 악화가 본격화할 경우 주가가 더욱 하락할 가능성이 높다”며 “이보다 먼저 외국인들이 자금을 빼는 흐름이 당분간 이어질 수 있다”고 말했다. 산업 구조조정 불확실성 등도 외국인 매수세를 주춤하게 만든다. 노 연구원은 “과거 외국인은 화학, 조선 업종 등도 많이 샀다. 하지만 최근에는 반도체 위주의 매수 움직임을 보이고 있다”고 지적했다.   향후 외국인 수급을 좌우할 관건으로는 무엇보다 ‘경기 개선’이 꼽힌다. 경제협력개발기구(OECD)가 발표하는 우리나라 경기선행지수(CLI)는 지난 5월까지 24개월 연속 하락하며 역대 최장 기록을 갈아치웠다. 떠나간 외국인의 ‘투자 심리’를 돌아오게 하려면 선행 지표에 이어 실물 경기도 개선 흐름을 보여야 한다는 지적이다. 노 연구원은 “경기 회복세가 감지된다면 외국인 자금의 매수세가 돌아올 것”이라며 “코스피가 저점 수준까지 내려가고 원화가치가 달러당 1200원까지 떨어진 상황에서 ‘저가 매수’에 나설 가능성도 있다”고 전망했다.\n"
     ]
    },
    {
     "name": "stdout",
     "output_type": "stream",
     "text": [
      "원 핫 인코딩으로 예측 ==> [[3.5620468e-13]]\n",
      "증권\n",
      "임배딩으로 예측  ==> [[0.602169]]\n",
      "부동산\n",
      "RNN으로 예측  ==> [[0.32498148]]\n",
      "증권\n"
     ]
    }
   ],
   "source": [
    "if __name__ == '__main__':\n",
    "    main()"
   ]
  },
  {
   "cell_type": "code",
   "execution_count": null,
   "metadata": {},
   "outputs": [],
   "source": []
  }
 ],
 "metadata": {
  "kernelspec": {
   "display_name": "Python 3",
   "language": "python",
   "name": "python3"
  },
  "language_info": {
   "codemirror_mode": {
    "name": "ipython",
    "version": 3
   },
   "file_extension": ".py",
   "mimetype": "text/x-python",
   "name": "python",
   "nbconvert_exporter": "python",
   "pygments_lexer": "ipython3",
   "version": "3.6.7"
  }
 },
 "nbformat": 4,
 "nbformat_minor": 2
}
