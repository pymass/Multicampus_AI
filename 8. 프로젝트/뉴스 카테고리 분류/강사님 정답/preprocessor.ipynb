{
 "cells": [
  {
   "cell_type": "code",
   "execution_count": 1,
   "metadata": {},
   "outputs": [],
   "source": [
    "import option as opt\n",
    "import os\n",
    "from  konlpy.tag  import Okt \n",
    "twitter = Okt() \n",
    "\n",
    "def make_m(infile, outfile, label) :\n",
    "    m = open(outfile,\"w\", encoding=\"euc-kr\")   \n",
    "    with open(infile,\"r\", encoding=\"utf-8\") as news : \n",
    "        line = news.readline() \n",
    "        while len(line) > 2 :\n",
    "            result = twitter.nouns(line)  #명사 만  저장  \n",
    "            for r in result :\n",
    "                m.write(  r +\" \"   )\n",
    "                \n",
    "            m.write(\",\" + str(label) +  \"\\n\"  )\n",
    "            \n",
    "            line = news.readline()  \n",
    "            \n",
    "    m.close() \n"
   ]
  },
  {
   "cell_type": "code",
   "execution_count": 2,
   "metadata": {},
   "outputs": [],
   "source": [
    "def main () :\n",
    "    op = opt.Options()\n",
    "  \n",
    "    for idx, dirnames in enumerate ( op.raw_data_dir ) :\n",
    "        for filename in os.listdir(dirnames ): \n",
    "                infilename = dirnames+\"/\"+filename\n",
    "                outfilename=  op.clean_data_dir[idx]+\"/\"+ os.path.basename(filename)[0:-3]+\"csv\" \n",
    "\n",
    "                make_m ( infilename,  outfilename , idx )"
   ]
  },
  {
   "cell_type": "code",
   "execution_count": 3,
   "metadata": {},
   "outputs": [],
   "source": [
    "if __name__ == '__main__':\n",
    "    main()\n"
   ]
  }
 ],
 "metadata": {
  "kernelspec": {
   "display_name": "Python 3",
   "language": "python",
   "name": "python3"
  },
  "language_info": {
   "codemirror_mode": {
    "name": "ipython",
    "version": 3
   },
   "file_extension": ".py",
   "mimetype": "text/x-python",
   "name": "python",
   "nbconvert_exporter": "python",
   "pygments_lexer": "ipython3",
   "version": "3.6.7"
  }
 },
 "nbformat": 4,
 "nbformat_minor": 2
}
